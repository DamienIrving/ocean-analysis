{
 "metadata": {
  "name": "ARCCSSive"
 },
 "nbformat": 3,
 "nbformat_minor": 0,
 "worksheets": [
  {
   "cells": [
    {
     "cell_type": "markdown",
     "metadata": {},
     "source": [
      "# ARCCSSive\n",
      "\n",
      "## Searching what's on NCI\n",
      "\n",
      "The documentation for the ARCCSS CMIP5 data searching tools can be found [here](http://arccssive.readthedocs.io/en/latest/index.html).\n",
      "\n",
      "To use this on the CWS Virtual Desktops, I first had to comment out the miniconda command in my `.bashrc` file so that it used the default system python. Then I just typed the following before launching the notebook:\n",
      "```\n",
      "vdi $ pip install --user ARCCSSive\n",
      "vdi $ export CMIP5_DB=sqlite:////g/data1/ua6/unofficial-ESG-replica/tmp/tree/cmip5_raijin_latest.db\n",
      "```"
     ]
    },
    {
     "cell_type": "code",
     "collapsed": false,
     "input": [
      "from ARCCSSive import CMIP5\n",
      "import six\n",
      "import glob\n",
      "\n",
      "cmip5 = CMIP5.DB.connect()"
     ],
     "language": "python",
     "metadata": {},
     "outputs": [],
     "prompt_number": 1
    },
    {
     "cell_type": "code",
     "collapsed": false,
     "input": [
      "experiment = 'historicalMisc'\n",
      "variable = 'tauuo'\n",
      "mip = 'Omon'\n",
      "model = 'CCSM4'\n",
      "ensemble = 'r6i1p10'\n",
      "\n",
      "outputs = cmip5.outputs(experiment = experiment,\n",
      "                        variable = variable,\n",
      "                        mip = mip,\n",
      "                        model = model,\n",
      "                        ensemble = ensemble)\n",
      "\n",
      "path = '/g/data/ua6/DRSv2/CMIP5/%s/%s/mon/ocean/%s/%s/latest/*' %(model, experiment, ensemble, variable)\n",
      "print(glob.glob(path))\n",
      "\n",
      "for o in outputs:\n",
      "    var = o.variable\n",
      "    for v in o.versions:\n",
      "        print(v.path)\n",
      "\n",
      "for f in outputs.first().filenames():\n",
      "    six.print_(f)"
     ],
     "language": "python",
     "metadata": {},
     "outputs": [
      {
       "output_type": "stream",
       "stream": "stdout",
       "text": [
        "['/g/data/ua6/DRSv2/CMIP5/CCSM4/historicalMisc/mon/ocean/r6i1p10/tauuo/latest/tauuo_Omon_CCSM4_historicalMisc_r6i1p10_185001-200512.nc']\n",
        "/g/data/ua6/unofficial-ESG-replica/tmp/tree/esgf2.dkrz.de/thredds/fileServer/cmip5/output1/NCAR/CCSM4/historicalMisc/mon/ocean/Omon/r6i1p10/v20121128/tauuo"
       ]
      },
      {
       "output_type": "stream",
       "stream": "stdout",
       "text": [
        "\n",
        "tauuo_Omon_CCSM4_historicalMisc_r6i1p10_185001-200512.nc"
       ]
      },
      {
       "output_type": "stream",
       "stream": "stdout",
       "text": [
        "\n"
       ]
      }
     ],
     "prompt_number": 2
    },
    {
     "cell_type": "markdown",
     "metadata": {},
     "source": [
      "The local install of ARCCSSive can get dated, so you need occasionally need to remove the source files and re-install. e.g:\n",
      "```\n",
      "vdi $ rm -r /home/599/dbi599/.local/lib/python2.7/site-packages/ARCCSSive/\n",
      "vdi $ rm -r /home/599/dbi599/.local/lib/python2.7/site-packages/ARCCSSive-0.1.3.dev88+gba1abb-py2.7.egg-info/ \n",
      "vdi $ pip install --user ARCCSSive \n",
      "vdi $ pip freeze | grep -i arc \n",
      "ARCCSSive==0.2.2\n",
      "```"
     ]
    },
    {
     "cell_type": "code",
     "collapsed": false,
     "input": [
      "for o in outputs:\n",
      "    #print(o.drstree_path)\n",
      "    print(o.ensemble)\n",
      "    print(o.experiment)\n",
      "    #print(o.filenames)\n",
      "    #print(o.id)\n",
      "    #print(o.latest)\n",
      "    #print(o.metadata)\n",
      "    print(o.mip)\n",
      "    print(o.model)\n",
      "    print(o.realm)\n",
      "    for version in o.versions:\n",
      "        #print(version.checked_on)\n",
      "        #print(version.dataset_id)\n",
      "        #print(version.drstree_path)\n",
      "        print(version.files[0])\n",
      "        #print(version.glob)\n",
      "        #print(version.id)\n",
      "        #print(version.instance_id)\n",
      "        print(version.is_latest)\n",
      "        print(version.metadata)\n",
      "        print(version.path)\n",
      "        print(version.to_update)\n",
      "        print(version.tracking_ids())\n",
      "        print(dir(version.variable))\n",
      "        print(version.version)\n",
      "        print(version.warnings)\n",
      "        print(version.variable.variable)"
     ],
     "language": "python",
     "metadata": {},
     "outputs": [
      {
       "output_type": "stream",
       "stream": "stdout",
       "text": [
        "r6i1p10\n",
        "historicalMisc\n",
        "Omon\n",
        "CCSM4\n",
        "ocean\n",
        "[<ARCCSSive.CMIP5.Model.VersionFile object at 0x32e50d0>]\n",
        "None\n",
        "MetaData(bind=None)\n",
        "/g/data/ua6/unofficial-ESG-replica/tmp/tree/esgf2.dkrz.de/thredds/fileServer/cmip5/output1/NCAR/CCSM4/historicalMisc/mon/ocean/Omon/r6i1p10/v20121128/tauuo\n",
        "None\n",
        "[u'bfabed9b-257c-47f5-8326-a44ca52616db']\n",
        "['__class__', '__delattr__', '__dict__', '__doc__', '__format__', '__getattribute__', '__hash__', '__init__', '__mapper__', '__module__', '__new__', '__reduce__', '__reduce_ex__', '__repr__', '__setattr__', '__sizeof__', '__str__', '__subclasshook__', '__table__', '__table_args__', '__tablename__', '__weakref__', '_decl_class_registry', '_sa_class_manager', '_sa_instance_state', 'drstree_path', 'ensemble', 'experiment', 'filenames', 'id', 'latest', 'metadata', 'mip', 'model', 'realm', 'variable', 'versions']\n",
        "v20121128\n",
        "[]\n",
        "tauuo\n"
       ]
      }
     ],
     "prompt_number": 28
    },
    {
     "cell_type": "markdown",
     "metadata": {},
     "source": [
      "## Finding out what's on ESGF but not NCI\n",
      "\n",
      "There's a script within the ARCCSS repo called `compare_ESGF.py`:\n",
      "```\n",
      "$ git clone https://github.com/coecms/ARCCSSive.git\n",
      "$ cd ARCCSSive/examples\n",
      "$ module load python\n",
      "$ export CMIP5_DB=sqlite:////g/data1/ua6/unofficial-ESG-replica/tmp/tree/cmip5_raijin_latest.db\n",
      "$ python compare_ESGF.py -v thetao -e historicalMisc -t Omon\n",
      "```\n"
     ]
    },
    {
     "cell_type": "code",
     "collapsed": false,
     "input": [
      "outputs"
     ],
     "language": "python",
     "metadata": {},
     "outputs": [
      {
       "output_type": "pyout",
       "prompt_number": 21,
       "text": [
        "<sqlalchemy.orm.query.Query at 0x32d33d0>"
       ]
      }
     ],
     "prompt_number": 21
    },
    {
     "cell_type": "code",
     "collapsed": false,
     "input": [],
     "language": "python",
     "metadata": {},
     "outputs": []
    }
   ],
   "metadata": {}
  }
 ]
}