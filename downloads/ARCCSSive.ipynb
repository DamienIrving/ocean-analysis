{
 "metadata": {
  "name": "ARCCSSive"
 },
 "nbformat": 3,
 "nbformat_minor": 0,
 "worksheets": [
  {
   "cells": [
    {
     "cell_type": "markdown",
     "metadata": {},
     "source": [
      "# ARCCSSive\n",
      "\n",
      "## Searching what's on NCI\n",
      "\n",
      "The documentation for the ARCCSS CMIP5 data searching tools can be found [here](http://arccssive.readthedocs.io/en/latest/index.html).\n",
      "\n",
      "To use this on the CWS Virtual Desktops, I first had to comment out the miniconda command in my `.bashrc` file so that it used the default system python. Then I just typed the following before launching the notebook:\n",
      "```\n",
      "vdi $ pip install --user ARCCSSive\n",
      "vdi $ export CMIP5_DB=sqlite:////g/data1/ua6/unofficial-ESG-replica/tmp/tree/cmip5_raijin_latest.db\n",
      "```"
     ]
    },
    {
     "cell_type": "code",
     "collapsed": false,
     "input": [
      "from ARCCSSive import CMIP5\n",
      "import six\n",
      "import glob\n",
      "\n",
      "cmip5 = CMIP5.DB.connect()"
     ],
     "language": "python",
     "metadata": {},
     "outputs": [],
     "prompt_number": 33
    },
    {
     "cell_type": "code",
     "collapsed": false,
     "input": [
      "experiment = 'historicalMisc'\n",
      "variable = 'tauuo'\n",
      "mip = 'Omon'\n",
      "model = 'CCSM4'\n",
      "ensemble = 'r6i1p10'\n",
      "\n",
      "outputs = cmip5.outputs(experiment = experiment,\n",
      "                        variable = variable,\n",
      "                        mip = mip,\n",
      "                        model = model,\n",
      "                        ensemble = ensemble)\n",
      "\n",
      "path = '/g/data/ua6/DRSv2/CMIP5/%s/%s/mon/ocean/%s/%s/latest/*' %(model, experiment, ensemble, variable)\n",
      "print(glob.glob(path))\n",
      "\n",
      "for o in outputs:\n",
      "    var = o.variable\n",
      "    for v in o.versions:\n",
      "        print(v.path)\n",
      "\n",
      "for f in outputs.first().filenames():\n",
      "    six.print_(f)"
     ],
     "language": "python",
     "metadata": {},
     "outputs": [
      {
       "output_type": "stream",
       "stream": "stdout",
       "text": [
        "[]\n",
        "/g/data1/ua6/unofficial-ESG-replica/tmp/tree/esgf2.dkrz.de/thredds/fileServer/cmip5/output1/NCAR/CCSM4/historicalMisc/mon/ocean/Omon/r6i1p10/v20121128/tauuo"
       ]
      },
      {
       "output_type": "stream",
       "stream": "stdout",
       "text": [
        "\n",
        "tauuo_Omon_CCSM4_historicalMisc_r6i1p10_185001-200512.nc"
       ]
      },
      {
       "output_type": "stream",
       "stream": "stdout",
       "text": [
        "\n"
       ]
      }
     ],
     "prompt_number": 52
    },
    {
     "cell_type": "markdown",
     "metadata": {},
     "source": [
      "The local install of ARCCSSive can get dated, so you need occasionally need to remove the source files and re-install. e.g:\n",
      "```\n",
      "vdi $ rm -r /home/599/dbi599/.local/lib/python2.7/site-packages/ARCCSSive/\n",
      "vdi $ rm -r /home/599/dbi599/.local/lib/python2.7/site-packages/ARCCSSive-0.1.3.dev88+gba1abb-py2.7.egg-info/ \n",
      "vdi $ pip install --user ARCCSSive \n",
      "vdi $ pip freeze | grep -i arc \n",
      "ARCCSSive==0.2.2\n",
      "```"
     ]
    },
    {
     "cell_type": "markdown",
     "metadata": {},
     "source": [
      "## Finding out what's on ESGF but not NCI\n",
      "\n",
      "There's a script within the ARCCSS repo called `compare_ESGF.py`:\n",
      "```\n",
      "$ git clone https://github.com/coecms/ARCCSSive.git\n",
      "$ cd ARCCSSive/examples\n",
      "$ module load python\n",
      "$ export CMIP5_DB=sqlite:////g/data1/ua6/unofficial-ESG-replica/tmp/tree/cmip5_raijin_latest.db\n",
      "$ python compare_ESGF.py -v thetao -e historicalMisc -t Omon\n",
      "```\n"
     ]
    },
    {
     "cell_type": "code",
     "collapsed": false,
     "input": [],
     "language": "python",
     "metadata": {},
     "outputs": []
    }
   ],
   "metadata": {}
  }
 ]
}