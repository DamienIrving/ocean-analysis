{
 "cells": [
  {
   "cell_type": "code",
   "execution_count": 1,
   "metadata": {},
   "outputs": [],
   "source": [
    "import pandas as pd\n",
    "import matplotlib.pyplot as plt\n",
    "import seaborn as sns"
   ]
  },
  {
   "cell_type": "code",
   "execution_count": 2,
   "metadata": {},
   "outputs": [],
   "source": [
    "df = pd.read_csv('drifts_reformatted.csv')"
   ]
  },
  {
   "cell_type": "code",
   "execution_count": 3,
   "metadata": {},
   "outputs": [
    {
     "data": {
      "text/html": [
       "<div>\n",
       "<style scoped>\n",
       "    .dataframe tbody tr th:only-of-type {\n",
       "        vertical-align: middle;\n",
       "    }\n",
       "\n",
       "    .dataframe tbody tr th {\n",
       "        vertical-align: top;\n",
       "    }\n",
       "\n",
       "    .dataframe thead th {\n",
       "        text-align: right;\n",
       "    }\n",
       "</style>\n",
       "<table border=\"1\" class=\"dataframe\">\n",
       "  <thead>\n",
       "    <tr style=\"text-align: right;\">\n",
       "      <th></th>\n",
       "      <th>model</th>\n",
       "      <th>run</th>\n",
       "      <th>project</th>\n",
       "      <th>variable</th>\n",
       "      <th>drift</th>\n",
       "    </tr>\n",
       "  </thead>\n",
       "  <tbody>\n",
       "    <tr>\n",
       "      <th>0</th>\n",
       "      <td>ACCESS1-0</td>\n",
       "      <td>r1i1p1</td>\n",
       "      <td>CMIP5</td>\n",
       "      <td>thermal OHC (J yr-1)</td>\n",
       "      <td>1.730000e+21</td>\n",
       "    </tr>\n",
       "    <tr>\n",
       "      <th>1</th>\n",
       "      <td>ACCESS1-3</td>\n",
       "      <td>r1i1p1</td>\n",
       "      <td>CMIP5</td>\n",
       "      <td>thermal OHC (J yr-1)</td>\n",
       "      <td>-1.800000e+21</td>\n",
       "    </tr>\n",
       "    <tr>\n",
       "      <th>2</th>\n",
       "      <td>BCC-CSM1-1</td>\n",
       "      <td>r1i1p1</td>\n",
       "      <td>CMIP5</td>\n",
       "      <td>thermal OHC (J yr-1)</td>\n",
       "      <td>7.520000e+19</td>\n",
       "    </tr>\n",
       "    <tr>\n",
       "      <th>3</th>\n",
       "      <td>BCC-CSM1.1(m)</td>\n",
       "      <td>r1i1p1</td>\n",
       "      <td>CMIP5</td>\n",
       "      <td>thermal OHC (J yr-1)</td>\n",
       "      <td>1.950000e+20</td>\n",
       "    </tr>\n",
       "    <tr>\n",
       "      <th>4</th>\n",
       "      <td>BNU-ESM</td>\n",
       "      <td>r1i1p1</td>\n",
       "      <td>CMIP5</td>\n",
       "      <td>thermal OHC (J yr-1)</td>\n",
       "      <td>3.870000e+21</td>\n",
       "    </tr>\n",
       "    <tr>\n",
       "      <th>...</th>\n",
       "      <td>...</td>\n",
       "      <td>...</td>\n",
       "      <td>...</td>\n",
       "      <td>...</td>\n",
       "      <td>...</td>\n",
       "    </tr>\n",
       "    <tr>\n",
       "      <th>223</th>\n",
       "      <td>HadGEM3-GC31-LL</td>\n",
       "      <td>r1i1p1f1</td>\n",
       "      <td>CMIP6</td>\n",
       "      <td>soga (g/kg yr-1)</td>\n",
       "      <td>6.670000e-07</td>\n",
       "    </tr>\n",
       "    <tr>\n",
       "      <th>224</th>\n",
       "      <td>IPSL-CM6A-LR</td>\n",
       "      <td>r1i1p1f1</td>\n",
       "      <td>CMIP6</td>\n",
       "      <td>soga (g/kg yr-1)</td>\n",
       "      <td>-9.180000e-07</td>\n",
       "    </tr>\n",
       "    <tr>\n",
       "      <th>225</th>\n",
       "      <td>IPSL-CM6A-LR</td>\n",
       "      <td>r1i2p1f1</td>\n",
       "      <td>CMIP6</td>\n",
       "      <td>soga (g/kg yr-1)</td>\n",
       "      <td>-9.210000e-07</td>\n",
       "    </tr>\n",
       "    <tr>\n",
       "      <th>226</th>\n",
       "      <td>MPI-ESM1-2-HR</td>\n",
       "      <td>r1i1p1f1</td>\n",
       "      <td>CMIP6</td>\n",
       "      <td>soga (g/kg yr-1)</td>\n",
       "      <td>-2.540000e-07</td>\n",
       "    </tr>\n",
       "    <tr>\n",
       "      <th>227</th>\n",
       "      <td>UKESM1-0-LL</td>\n",
       "      <td>r1i1p1f2</td>\n",
       "      <td>CMIP6</td>\n",
       "      <td>soga (g/kg yr-1)</td>\n",
       "      <td>-2.830000e-06</td>\n",
       "    </tr>\n",
       "  </tbody>\n",
       "</table>\n",
       "<p>228 rows × 5 columns</p>\n",
       "</div>"
      ],
      "text/plain": [
       "               model       run project              variable         drift\n",
       "0          ACCESS1-0    r1i1p1   CMIP5  thermal OHC (J yr-1)  1.730000e+21\n",
       "1          ACCESS1-3    r1i1p1   CMIP5  thermal OHC (J yr-1) -1.800000e+21\n",
       "2         BCC-CSM1-1    r1i1p1   CMIP5  thermal OHC (J yr-1)  7.520000e+19\n",
       "3      BCC-CSM1.1(m)    r1i1p1   CMIP5  thermal OHC (J yr-1)  1.950000e+20\n",
       "4            BNU-ESM    r1i1p1   CMIP5  thermal OHC (J yr-1)  3.870000e+21\n",
       "..               ...       ...     ...                   ...           ...\n",
       "223  HadGEM3-GC31-LL  r1i1p1f1   CMIP6      soga (g/kg yr-1)  6.670000e-07\n",
       "224     IPSL-CM6A-LR  r1i1p1f1   CMIP6      soga (g/kg yr-1) -9.180000e-07\n",
       "225     IPSL-CM6A-LR  r1i2p1f1   CMIP6      soga (g/kg yr-1) -9.210000e-07\n",
       "226    MPI-ESM1-2-HR  r1i1p1f1   CMIP6      soga (g/kg yr-1) -2.540000e-07\n",
       "227      UKESM1-0-LL  r1i1p1f2   CMIP6      soga (g/kg yr-1) -2.830000e-06\n",
       "\n",
       "[228 rows x 5 columns]"
      ]
     },
     "execution_count": 3,
     "metadata": {},
     "output_type": "execute_result"
    }
   ],
   "source": [
    "df"
   ]
  },
  {
   "cell_type": "code",
   "execution_count": 18,
   "metadata": {},
   "outputs": [
    {
     "name": "stderr",
     "output_type": "stream",
     "text": [
      "<ipython-input-18-e801ff78880d>:2: SettingWithCopyWarning: \n",
      "A value is trying to be set on a copy of a slice from a DataFrame.\n",
      "Try using .loc[row_indexer,col_indexer] = value instead\n",
      "\n",
      "See the caveats in the documentation: http://pandas.pydata.org/pandas-docs/stable/user_guide/indexing.html#returning-a-view-versus-a-copy\n",
      "  df_subset['drift'] = df_subset['drift'].abs()\n"
     ]
    },
    {
     "data": {
      "image/png": "[encoded data removed]",
      "text/plain": [
       "<Figure size 432x288 with 1 Axes>"
      ]
     },
     "metadata": {
      "needs_background": "light"
     },
     "output_type": "display_data"
    }
   ],
   "source": [
    "df_subset = df[df['variable'] == 'thermal OHC (J yr-1)']\n",
    "df_subset['drift'] = df_subset['drift'].abs()\n",
    "\n",
    "sns.boxplot(x=\"project\", y=\"drift\", data=df_subset)\n",
    "plt.title('OHC temperature component')\n",
    "plt.show()"
   ]
  },
  {
   "cell_type": "code",
   "execution_count": 20,
   "metadata": {},
   "outputs": [
    {
     "name": "stderr",
     "output_type": "stream",
     "text": [
      "<ipython-input-20-8e70e82ddb49>:2: SettingWithCopyWarning: \n",
      "A value is trying to be set on a copy of a slice from a DataFrame.\n",
      "Try using .loc[row_indexer,col_indexer] = value instead\n",
      "\n",
      "See the caveats in the documentation: http://pandas.pydata.org/pandas-docs/stable/user_guide/indexing.html#returning-a-view-versus-a-copy\n",
      "  df_subset['drift'] = df_subset['drift'].abs()\n"
     ]
    },
    {
     "data": {
      "image/png": "[encoded data removed]",
      "text/plain": [
       "<Figure size 432x288 with 1 Axes>"
      ]
     },
     "metadata": {
      "needs_background": "light"
     },
     "output_type": "display_data"
    }
   ],
   "source": [
    "df_subset = df[df['variable'] == 'hfds (J yr-1)']\n",
    "df_subset['drift'] = df_subset['drift'].abs()\n",
    "\n",
    "sns.boxplot(x=\"project\", y=\"drift\", data=df_subset)\n",
    "plt.title('surface heat flux')\n",
    "plt.ylim(0, 1e22)\n",
    "plt.show()"
   ]
  },
  {
   "cell_type": "code",
   "execution_count": 16,
   "metadata": {},
   "outputs": [
    {
     "name": "stderr",
     "output_type": "stream",
     "text": [
      "<ipython-input-16-974c88bc26fb>:1: SettingWithCopyWarning: \n",
      "A value is trying to be set on a copy of a slice from a DataFrame.\n",
      "Try using .loc[row_indexer,col_indexer] = value instead\n",
      "\n",
      "See the caveats in the documentation: http://pandas.pydata.org/pandas-docs/stable/user_guide/indexing.html#returning-a-view-versus-a-copy\n",
      "  df_subset['drift'] = df_subset['drift'].abs()\n"
     ]
    }
   ],
   "source": [
    "df_subset['drift'] = df_subset['drift'].abs()"
   ]
  },
  {
   "cell_type": "code",
   "execution_count": 21,
   "metadata": {},
   "outputs": [
    {
     "name": "stderr",
     "output_type": "stream",
     "text": [
      "<ipython-input-21-fa3f1ca4b178>:2: SettingWithCopyWarning: \n",
      "A value is trying to be set on a copy of a slice from a DataFrame.\n",
      "Try using .loc[row_indexer,col_indexer] = value instead\n",
      "\n",
      "See the caveats in the documentation: http://pandas.pydata.org/pandas-docs/stable/user_guide/indexing.html#returning-a-view-versus-a-copy\n",
      "  df_subset['drift'] = df_subset['drift'].abs()\n"
     ]
    },
    {
     "data": {
      "image/png": "[encoded data removed]",
      "text/plain": [
       "<Figure size 432x288 with 1 Axes>"
      ]
     },
     "metadata": {
      "needs_background": "light"
     },
     "output_type": "display_data"
    }
   ],
   "source": [
    "df_subset = df[df['variable'] == 'netTOA (J yr-1)']\n",
    "df_subset['drift'] = df_subset['drift'].abs()\n",
    "\n",
    "sns.boxplot(x=\"project\", y=\"drift\", data=df_subset)\n",
    "plt.title('netTOA')\n",
    "plt.show()"
   ]
  },
  {
   "cell_type": "code",
   "execution_count": 24,
   "metadata": {},
   "outputs": [
    {
     "name": "stderr",
     "output_type": "stream",
     "text": [
      "<ipython-input-24-1dd1820ef2d1>:2: SettingWithCopyWarning: \n",
      "A value is trying to be set on a copy of a slice from a DataFrame.\n",
      "Try using .loc[row_indexer,col_indexer] = value instead\n",
      "\n",
      "See the caveats in the documentation: http://pandas.pydata.org/pandas-docs/stable/user_guide/indexing.html#returning-a-view-versus-a-copy\n",
      "  df_subset['drift'] = df_subset['drift'].abs()\n"
     ]
    },
    {
     "data": {
      "image/png": "[encoded data removed]",
      "text/plain": [
       "<Figure size 432x288 with 1 Axes>"
      ]
     },
     "metadata": {
      "needs_background": "light"
     },
     "output_type": "display_data"
    }
   ],
   "source": [
    "df_subset = df[df['variable'] == 'wfo (kg yr-1)']\n",
    "df_subset['drift'] = df_subset['drift'].abs()\n",
    "\n",
    "sns.boxplot(x=\"project\", y=\"drift\", data=df_subset)\n",
    "plt.title('wfo')\n",
    "plt.ylim(0, 0.6e16)\n",
    "plt.show()"
   ]
  },
  {
   "cell_type": "code",
   "execution_count": 27,
   "metadata": {},
   "outputs": [
    {
     "name": "stderr",
     "output_type": "stream",
     "text": [
      "<ipython-input-27-7d2838852f0f>:2: SettingWithCopyWarning: \n",
      "A value is trying to be set on a copy of a slice from a DataFrame.\n",
      "Try using .loc[row_indexer,col_indexer] = value instead\n",
      "\n",
      "See the caveats in the documentation: http://pandas.pydata.org/pandas-docs/stable/user_guide/indexing.html#returning-a-view-versus-a-copy\n",
      "  df_subset['drift'] = df_subset['drift'].abs()\n"
     ]
    },
    {
     "data": {
      "image/png": "[encoded data removed]",
      "text/plain": [
       "<Figure size 432x288 with 1 Axes>"
      ]
     },
     "metadata": {
      "needs_background": "light"
     },
     "output_type": "display_data"
    }
   ],
   "source": [
    "df_subset = df[df['variable'] == 'masso (kg yr-1)']\n",
    "df_subset['drift'] = df_subset['drift'].abs()\n",
    "\n",
    "sns.boxplot(x=\"project\", y=\"drift\", data=df_subset)\n",
    "plt.title('masso')\n",
    "plt.ylim(0, 2e14)\n",
    "plt.show()"
   ]
  },
  {
   "cell_type": "code",
   "execution_count": 30,
   "metadata": {},
   "outputs": [
    {
     "name": "stderr",
     "output_type": "stream",
     "text": [
      "<ipython-input-30-957d595b4203>:2: SettingWithCopyWarning: \n",
      "A value is trying to be set on a copy of a slice from a DataFrame.\n",
      "Try using .loc[row_indexer,col_indexer] = value instead\n",
      "\n",
      "See the caveats in the documentation: http://pandas.pydata.org/pandas-docs/stable/user_guide/indexing.html#returning-a-view-versus-a-copy\n",
      "  df_subset['drift'] = df_subset['drift'].abs()\n"
     ]
    },
    {
     "data": {
      "image/png": "[encoded data removed]",
      "text/plain": [
       "<Figure size 432x288 with 1 Axes>"
      ]
     },
     "metadata": {
      "needs_background": "light"
     },
     "output_type": "display_data"
    }
   ],
   "source": [
    "df_subset = df[df['variable'] == 'soga (g/kg yr-1)']\n",
    "df_subset['drift'] = df_subset['drift'].abs()\n",
    "\n",
    "sns.boxplot(x=\"project\", y=\"drift\", data=df_subset)\n",
    "plt.title('soga')\n",
    "plt.ylim(0, 1e-5)\n",
    "plt.show()"
   ]
  },
  {
   "cell_type": "code",
   "execution_count": null,
   "metadata": {},
   "outputs": [],
   "source": []
  }
 ],
 "metadata": {
  "kernelspec": {
   "display_name": "Python 3",
   "language": "python",
   "name": "python3"
  },
  "language_info": {
   "codemirror_mode": {
    "name": "ipython",
    "version": 3
   },
   "file_extension": ".py",
   "mimetype": "text/x-python",
   "name": "python",
   "nbconvert_exporter": "python",
   "pygments_lexer": "ipython3",
   "version": "3.8.1"
  }
 },
 "nbformat": 4,
 "nbformat_minor": 4
}
