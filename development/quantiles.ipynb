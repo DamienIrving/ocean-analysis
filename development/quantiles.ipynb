{
 "cells": [
  {
   "cell_type": "markdown",
   "metadata": {},
   "source": [
    "## Calculating percentiles / quantiles"
   ]
  },
  {
   "cell_type": "markdown",
   "metadata": {},
   "source": [
    "### Random examples from Stack Overflow\n",
    "\n",
    "https://stackoverflow.com/questions/21844024/weighted-percentile-using-numpy"
   ]
  },
  {
   "cell_type": "code",
   "execution_count": 1,
   "metadata": {},
   "outputs": [],
   "source": [
    "import numpy as np"
   ]
  },
  {
   "cell_type": "code",
   "execution_count": 24,
   "metadata": {},
   "outputs": [],
   "source": [
    "data = np.array([0, 1, 2, 3, 4, 5, 6, 7, 8, 9, 10])\n",
    "weights = np.array([1.5, 1.5, 1.5, 1.5, 1.5, 1.5, 1.5, 1.5, 1.5, 1.5, 1.5])"
   ]
  },
  {
   "cell_type": "code",
   "execution_count": 18,
   "metadata": {},
   "outputs": [
    {
     "data": {
      "text/plain": [
       "2.25"
      ]
     },
     "execution_count": 18,
     "metadata": {},
     "output_type": "execute_result"
    }
   ],
   "source": [
    "quantile = 0.25\n",
    "\n",
    "ind_sorted = np.argsort(data)\n",
    "sorted_data = data[ind_sorted]\n",
    "sorted_weights = weights[ind_sorted]\n",
    "\n",
    "Sn = np.cumsum(sorted_weights)\n",
    "Pn = (Sn-0.5*sorted_weights)/Sn[-1]\n",
    "np.interp(quantile, Pn, sorted_data)"
   ]
  },
  {
   "cell_type": "code",
   "execution_count": 19,
   "metadata": {},
   "outputs": [
    {
     "data": {
      "text/plain": [
       "2.5"
      ]
     },
     "execution_count": 19,
     "metadata": {},
     "output_type": "execute_result"
    }
   ],
   "source": [
    "np.quantile(data, 0.25)"
   ]
  },
  {
   "cell_type": "code",
   "execution_count": 20,
   "metadata": {},
   "outputs": [],
   "source": [
    "def weighted_percentile(a, q=np.array([75, 25]), w=None):\n",
    "    \"\"\"\n",
    "    Calculates percentiles associated with a (possibly weighted) array\n",
    "\n",
    "    Parameters\n",
    "    ----------\n",
    "    a : array-like\n",
    "        The input array from which to calculate percents\n",
    "    q : array-like\n",
    "        The percentiles to calculate (0.0 - 100.0)\n",
    "    w : array-like, optional\n",
    "        The weights to assign to values of a.  Equal weighting if None\n",
    "        is specified\n",
    "\n",
    "    Returns\n",
    "    -------\n",
    "    values : np.array\n",
    "        The values associated with the specified percentiles.  \n",
    "    \"\"\"\n",
    "    # Standardize and sort based on values in a\n",
    "    q = np.array(q) / 100.0\n",
    "    if w is None:\n",
    "        w = np.ones(a.size)\n",
    "    idx = np.argsort(a)\n",
    "    a_sort = a[idx]\n",
    "    w_sort = w[idx]\n",
    "\n",
    "    # Get the cumulative sum of weights\n",
    "    ecdf = np.cumsum(w_sort)\n",
    "\n",
    "    # Find the percentile index positions associated with the percentiles\n",
    "    p = q * (w.sum() - 1)\n",
    "\n",
    "    # Find the bounding indices (both low and high)\n",
    "    idx_low = np.searchsorted(ecdf, p, side='right')\n",
    "    idx_high = np.searchsorted(ecdf, p + 1, side='right')\n",
    "    idx_high[idx_high > ecdf.size - 1] = ecdf.size - 1\n",
    "\n",
    "    # Calculate the weights \n",
    "    weights_high = p - np.floor(p)\n",
    "    weights_low = 1.0 - weights_high\n",
    "\n",
    "    # Extract the low/high indexes and multiply by the corresponding weights\n",
    "    x1 = np.take(a_sort, idx_low) * weights_low\n",
    "    x2 = np.take(a_sort, idx_high) * weights_high\n",
    "\n",
    "    # Return the average\n",
    "    return np.add(x1, x2)"
   ]
  },
  {
   "cell_type": "code",
   "execution_count": 25,
   "metadata": {},
   "outputs": [
    {
     "data": {
      "text/plain": [
       "array([ 1.   ,  2.875,  5.   ,  7.625,  9.   , 10.   ])"
      ]
     },
     "execution_count": 25,
     "metadata": {},
     "output_type": "execute_result"
    }
   ],
   "source": [
    "weighted_percentile(data, q=np.array([10, 25, 50, 75, 90, 100]), w=weights)"
   ]
  },
  {
   "cell_type": "code",
   "execution_count": 26,
   "metadata": {},
   "outputs": [],
   "source": [
    "def weighted_percentile2(data, weights, perc):\n",
    "    \"\"\"\n",
    "    perc : percentile in [0-1]!\n",
    "    \"\"\"\n",
    "    ix = np.argsort(data)\n",
    "    data = data[ix] # sort data\n",
    "    weights = weights[ix] # sort weights\n",
    "    cdf = (np.cumsum(weights) - 0.5 * weights) / np.sum(weights) # 'like' a CDF function\n",
    "    return np.interp(perc, cdf, data)"
   ]
  },
  {
   "cell_type": "code",
   "execution_count": 29,
   "metadata": {},
   "outputs": [
    {
     "data": {
      "text/plain": [
       "0.6000000000000001"
      ]
     },
     "execution_count": 29,
     "metadata": {},
     "output_type": "execute_result"
    }
   ],
   "source": [
    "weighted_percentile2(data, weights, 0.1)"
   ]
  },
  {
   "cell_type": "markdown",
   "metadata": {},
   "source": [
    "### statsmodels"
   ]
  },
  {
   "cell_type": "code",
   "execution_count": 58,
   "metadata": {},
   "outputs": [],
   "source": [
    "from statsmodels.stats.weightstats import DescrStatsW"
   ]
  },
  {
   "cell_type": "code",
   "execution_count": 60,
   "metadata": {},
   "outputs": [
    {
     "data": {
      "text/plain": [
       "array([  0,   1,   2,   3,   4,   5,   6,   7,   8,   9,  10,  11,  12,\n",
       "        13,  14,  15,  16,  17,  18,  19,  20,  21,  22,  23,  24,  25,\n",
       "        26,  27,  28,  29,  30,  31,  32,  33,  34,  35,  36,  37,  38,\n",
       "        39,  40,  41,  42,  43,  44,  45,  46,  47,  48,  49,  50,  51,\n",
       "        52,  53,  54,  55,  56,  57,  58,  59,  60,  61,  62,  63,  64,\n",
       "        65,  66,  67,  68,  69,  70,  71,  72,  73,  74,  75,  76,  77,\n",
       "        78,  79,  80,  81,  82,  83,  84,  85,  86,  87,  88,  89,  90,\n",
       "        91,  92,  93,  94,  95,  96,  97,  98,  99, 100])"
      ]
     },
     "execution_count": 60,
     "metadata": {},
     "output_type": "execute_result"
    }
   ],
   "source": [
    "wq = DescrStatsW(data=np.arange(0, 101), weights=np.ones(101)* 1.5)\n",
    "wq.quantile(probs=np.arange(0, 1.01, 0.01), return_pandas=False)"
   ]
  },
  {
   "cell_type": "markdown",
   "metadata": {},
   "source": [
    "Source code with details of the calculation of weighted quantiles [here](https://github.com/statsmodels/statsmodels/blob/2d5df534aa1bd8396ffa147168094c975fcd832a/statsmodels/stats/weightstats.py#L228)."
   ]
  },
  {
   "cell_type": "code",
   "execution_count": null,
   "metadata": {},
   "outputs": [],
   "source": []
  }
 ],
 "metadata": {
  "kernelspec": {
   "display_name": "Python 3",
   "language": "python",
   "name": "python3"
  },
  "language_info": {
   "codemirror_mode": {
    "name": "ipython",
    "version": 3
   },
   "file_extension": ".py",
   "mimetype": "text/x-python",
   "name": "python",
   "nbconvert_exporter": "python",
   "pygments_lexer": "ipython3",
   "version": "3.8.3"
  }
 },
 "nbformat": 4,
 "nbformat_minor": 4
}
