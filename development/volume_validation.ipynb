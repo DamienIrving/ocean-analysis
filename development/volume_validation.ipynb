{
 "cells": [
  {
   "cell_type": "code",
   "execution_count": 45,
   "metadata": {
    "collapsed": true
   },
   "outputs": [],
   "source": [
    "import iris\n",
    "import glob\n",
    "import warnings\n",
    "warnings.filterwarnings('ignore')"
   ]
  },
  {
   "cell_type": "code",
   "execution_count": 49,
   "metadata": {
    "collapsed": false,
    "scrolled": true
   },
   "outputs": [
    {
     "name": "stdout",
     "output_type": "stream",
     "text": [
      "/g/data/ua6/DRSv2/CMIP5/ACCESS1-3/historical/fx/ocean/r0i0p0/volcello/latest/volcello_fx_ACCESS1-3_historical_r0i0p0.nc\n",
      "['depth', 'cell index along second dimension', 'cell index along first dimension']\n",
      "(50, 300, 360)\n",
      "1.29137e+18\n",
      "/g/data/ua6/DRSv2/CMIP5/CSIRO-Mk3-6-0/historical/fx/ocean/r0i0p0/volcello/latest/volcello_fx_CSIRO-Mk3-6-0_historical_r0i0p0.nc\n",
      "['depth', 'latitude', 'longitude']\n",
      "(31, 189, 192)\n",
      "1.33911e+18\n",
      "/g/data/ua6/DRSv2/CMIP5/IPSL-CM5A-LR/historical/fx/ocean/r0i0p0/volcello/latest/volcello_fx_IPSL-CM5A-LR_historical_r0i0p0.nc\n",
      "['depth', 'cell index along second dimension', 'cell index along first dimension']\n",
      "(31, 149, 182)\n",
      "2.62012e+18\n",
      "/g/data/ua6/DRSv2/CMIP5/MIROC5/historical/fx/ocean/r0i0p0/volcello/latest/volcello_fx_MIROC5_historical_r0i0p0.nc\n",
      "['depth', 'grid_latitude', 'grid_longitude']\n",
      "(50, 224, 256)\n",
      "1.36273e+18\n",
      "/g/data/ua6/DRSv2/CMIP5/MIROC-ESM/historical/fx/ocean/r0i0p0/volcello/latest/volcello_fx_MIROC-ESM_historical_r0i0p0.nc\n",
      "['ocean sigma over z coordinate', 'latitude', 'longitude']\n",
      "(44, 192, 256)\n",
      "1.32346e+18\n",
      "/g/data/ua6/DRSv2/CMIP5/MIROC4h/historical/fx/ocean/r0i0p0/volcello/latest/volcello_fx_MIROC4h_historical_r0i0p0.nc\n",
      "['depth', 'grid_latitude', 'grid_longitude']\n",
      "(48, 912, 1280)\n",
      "1.31548e+18\n",
      "/g/data/ua6/DRSv2/CMIP5/MIROC-ESM-CHEM/historical/fx/ocean/r0i0p0/volcello/latest/volcello_fx_MIROC-ESM-CHEM_historical_r0i0p0.nc\n",
      "['ocean sigma over z coordinate', 'latitude', 'longitude']\n",
      "(44, 192, 256)\n",
      "1.32346e+18\n",
      "/g/data/ua6/DRSv2/CMIP5/ACCESS1-0/historical/fx/ocean/r0i0p0/volcello/latest/volcello_fx_ACCESS1-0_historical_r0i0p0.nc\n",
      "['depth', 'cell index along second dimension', 'cell index along first dimension']\n",
      "(50, 300, 360)\n",
      "1.29168e+18\n",
      "/g/data/ua6/DRSv2/CMIP5/MPI-ESM-MR/historical/fx/ocean/r0i0p0/volcello/latest/volcello_fx_MPI-ESM-MR_historical_r0i0p0.nc\n",
      "['depth', 'cell index along second dimension', 'cell index along first dimension']\n",
      "(40, 404, 802)\n",
      "1.33422e+18\n",
      "/g/data/ua6/DRSv2/CMIP5/FGOALS-g2/historical/fx/ocean/r0i0p0/volcello/latest/volcello_fx_FGOALS-g2_historical_r0i0p0.nc\n",
      "['depth', 'latitude', 'longitude']\n",
      "(30, 196, 360)\n",
      "1.26011e+18\n",
      "/g/data/ua6/DRSv2/CMIP5/CSIRO-Mk3L-1-2/historical/fx/ocean/r0i0p0/volcello/latest/volcello_fx_CSIRO-Mk3L-1-2_historical_r0i0p0.nc\n",
      "['depth', 'latitude', 'longitude']\n",
      "(21, 112, 128)\n",
      "2.34627e+18\n",
      "/g/data/ua6/DRSv2/CMIP5/bcc-csm1-1/historical/fx/ocean/r0i0p0/volcello/latest/volcello_fx_bcc-csm1-1_historical_r0i0p0.nc\n",
      "['depth', 'grid_latitude', 'grid_longitude']\n",
      "(40, 232, 360)\n",
      "1.31278e+18\n",
      "/g/data/ua6/DRSv2/CMIP5/MPI-ESM-P/historical/fx/ocean/r0i0p0/volcello/latest/volcello_fx_MPI-ESM-P_historical_r0i0p0.nc\n",
      "['depth', 'cell index along second dimension', 'cell index along first dimension']\n",
      "(40, 220, 256)\n",
      "1.36211e+18\n",
      "/g/data/ua6/DRSv2/CMIP5/HadGEM2-CC/historical/fx/ocean/r0i0p0/volcello/latest/volcello_fx_HadGEM2-CC_historical_r0i0p0.nc\n",
      "['depth', 'latitude', 'longitude']\n",
      "(40, 216, 360)\n",
      "1.31862e+18\n",
      "/g/data/ua6/DRSv2/CMIP5/CanESM2/historical/fx/ocean/r0i0p0/volcello/latest/volcello_fx_CanESM2_historical_r0i0p0.nc\n",
      "['depth', 'latitude', 'longitude']\n",
      "(40, 192, 256)\n",
      "1.32367e+18\n",
      "/g/data/ua6/DRSv2/CMIP5/NorESM1-M/historical/fx/ocean/r0i0p0/volcello/latest/volcello_fx_NorESM1-M_historical_r0i0p0.nc\n",
      "['depth', 'cell index along second dimension', 'cell index along first dimension']\n",
      "(70, 384, 320)\n",
      "3.02474e+08\n",
      "/g/data/ua6/DRSv2/CMIP5/EC-EARTH/historical/fx/ocean/r0i0p0/volcello/latest/volcello_fx_EC-EARTH_historical_r0i0p0.nc\n",
      "['depth', 'cell index along second dimension', 'cell index along first dimension']\n",
      "(42, 292, 362)\n",
      "2.42424e+17\n",
      "/g/data/ua6/DRSv2/CMIP5/CCSM4/historical/fx/ocean/r0i0p0/volcello/latest/volcello_fx_CCSM4_historical_r0i0p0.nc\n",
      "['depth', 'cell index along second dimension', 'cell index along first dimension']\n",
      "(60, 384, 320)\n",
      "1.54973e+17\n",
      "/g/data/ua6/DRSv2/CMIP5/CanCM4/historical/fx/ocean/r0i0p0/volcello/latest/volcello_fx_CanCM4_historical_r0i0p0.nc\n",
      "['depth', 'latitude', 'longitude']\n",
      "(40, 192, 256)\n",
      "1.32367e+18\n",
      "/g/data/ua6/DRSv2/CMIP5/HadGEM2-ES/historical/fx/ocean/r0i0p0/volcello/latest/volcello_fx_HadGEM2-ES_historical_r0i0p0.nc\n",
      "['depth', 'latitude', 'longitude']\n",
      "(40, 216, 360)\n",
      "1.31862e+18\n",
      "/g/data/ua6/DRSv2/CMIP5/BNU-ESM/historical/fx/ocean/r0i0p0/volcello/latest/volcello_fx_BNU-ESM_historical_r0i0p0.nc\n",
      "['generic ocean level', 'latitude', 'longitude']\n",
      "(50, 200, 360)\n",
      "1.33222e+18\n"
     ]
    }
   ],
   "source": [
    "vol_files = glob.glob('/g/data/ua6/DRSv2/CMIP5/*/historical/fx/ocean/r0i0p0/volcello/latest/*.nc')\n",
    "for vol_file in vol_files:        \n",
    "    vol_cube = iris.load_cube(vol_file, 'ocean_volume')\n",
    "    print(vol_file)\n",
    "    \n",
    "    coord_names = [coord.name() for coord in vol_cube.dim_coords]\n",
    "    print(coord_names)\n",
    "    print(vol_cube.data.shape)\n",
    "    print(vol_cube.data.sum())"
   ]
  },
  {
   "cell_type": "markdown",
   "metadata": {},
   "source": [
    "For most models, the volume of the global ocean is approximately $1.3 \\times 10^{18} m^{-3}$. It is an order of magnitude less for the EC-EARTH and CCSM4 models. Why?"
   ]
  },
  {
   "cell_type": "code",
   "execution_count": null,
   "metadata": {
    "collapsed": true
   },
   "outputs": [],
   "source": []
  }
 ],
 "metadata": {
  "kernelspec": {
   "display_name": "Python 3",
   "language": "python",
   "name": "python3"
  },
  "language_info": {
   "codemirror_mode": {
    "name": "ipython",
    "version": 3
   },
   "file_extension": ".py",
   "mimetype": "text/x-python",
   "name": "python",
   "nbconvert_exporter": "python",
   "pygments_lexer": "ipython3",
   "version": "3.6.0"
  }
 },
 "nbformat": 4,
 "nbformat_minor": 2
}
