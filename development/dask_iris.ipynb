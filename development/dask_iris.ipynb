{
 "cells": [
  {
   "cell_type": "markdown",
   "metadata": {},
   "source": [
    "# Using dask with iris\n",
    "\n",
    "Below I'm attempting to calculate the annual mean timeseries for data sufficiently large that without using dask I get a memory error."
   ]
  },
  {
   "cell_type": "markdown",
   "metadata": {},
   "source": [
    "## Prepare cube"
   ]
  },
  {
   "cell_type": "code",
   "execution_count": 1,
   "metadata": {},
   "outputs": [],
   "source": [
    "import warnings\n",
    "warnings.filterwarnings('ignore')\n",
    "\n",
    "import glob\n",
    "import iris\n",
    "from iris.experimental.equalise_cubes import equalise_attributes\n",
    "import iris.coord_categorisation"
   ]
  },
  {
   "cell_type": "code",
   "execution_count": 2,
   "metadata": {},
   "outputs": [],
   "source": [
    "infiles = glob.glob('/g/data/ua6/DRSv3/CMIP5/CCSM4/historical/mon/ocean/r1i1p1/thetao/latest/thetao_Omon_CCSM4_historical_r1i1p1_??????-??????.nc')\n",
    "infiles.sort()"
   ]
  },
  {
   "cell_type": "code",
   "execution_count": 3,
   "metadata": {},
   "outputs": [],
   "source": [
    "cube_list = iris.load(infiles)"
   ]
  },
  {
   "cell_type": "code",
   "execution_count": 4,
   "metadata": {},
   "outputs": [
    {
     "data": {
      "text/plain": [
       "[<iris 'Cube' of sea_water_potential_temperature / (K) (time: 120; depth: 60; cell index along second dimension: 384; cell index along first dimension: 320)>,\n",
       "<iris 'Cube' of sea_water_potential_temperature / (K) (time: 120; depth: 60; cell index along second dimension: 384; cell index along first dimension: 320)>,\n",
       "<iris 'Cube' of sea_water_potential_temperature / (K) (time: 120; depth: 60; cell index along second dimension: 384; cell index along first dimension: 320)>,\n",
       "<iris 'Cube' of sea_water_potential_temperature / (K) (time: 120; depth: 60; cell index along second dimension: 384; cell index along first dimension: 320)>,\n",
       "<iris 'Cube' of sea_water_potential_temperature / (K) (time: 120; depth: 60; cell index along second dimension: 384; cell index along first dimension: 320)>,\n",
       "<iris 'Cube' of sea_water_potential_temperature / (K) (time: 120; depth: 60; cell index along second dimension: 384; cell index along first dimension: 320)>,\n",
       "<iris 'Cube' of sea_water_potential_temperature / (K) (time: 120; depth: 60; cell index along second dimension: 384; cell index along first dimension: 320)>,\n",
       "<iris 'Cube' of sea_water_potential_temperature / (K) (time: 120; depth: 60; cell index along second dimension: 384; cell index along first dimension: 320)>,\n",
       "<iris 'Cube' of sea_water_potential_temperature / (K) (time: 120; depth: 60; cell index along second dimension: 384; cell index along first dimension: 320)>,\n",
       "<iris 'Cube' of sea_water_potential_temperature / (K) (time: 120; depth: 60; cell index along second dimension: 384; cell index along first dimension: 320)>,\n",
       "<iris 'Cube' of sea_water_potential_temperature / (K) (time: 120; depth: 60; cell index along second dimension: 384; cell index along first dimension: 320)>,\n",
       "<iris 'Cube' of sea_water_potential_temperature / (K) (time: 120; depth: 60; cell index along second dimension: 384; cell index along first dimension: 320)>,\n",
       "<iris 'Cube' of sea_water_potential_temperature / (K) (time: 120; depth: 60; cell index along second dimension: 384; cell index along first dimension: 320)>,\n",
       "<iris 'Cube' of sea_water_potential_temperature / (K) (time: 120; depth: 60; cell index along second dimension: 384; cell index along first dimension: 320)>,\n",
       "<iris 'Cube' of sea_water_potential_temperature / (K) (time: 120; depth: 60; cell index along second dimension: 384; cell index along first dimension: 320)>,\n",
       "<iris 'Cube' of sea_water_potential_temperature / (K) (time: 72; depth: 60; cell index along second dimension: 384; cell index along first dimension: 320)>]"
      ]
     },
     "execution_count": 4,
     "metadata": {},
     "output_type": "execute_result"
    }
   ],
   "source": [
    "cube_list"
   ]
  },
  {
   "cell_type": "code",
   "execution_count": 5,
   "metadata": {},
   "outputs": [],
   "source": [
    "equalise_attributes(cube_list)"
   ]
  },
  {
   "cell_type": "code",
   "execution_count": 6,
   "metadata": {},
   "outputs": [],
   "source": [
    "cube = cube_list.concatenate_cube()"
   ]
  },
  {
   "cell_type": "code",
   "execution_count": 7,
   "metadata": {},
   "outputs": [],
   "source": [
    "iris.coord_categorisation.add_year(cube, 'time')"
   ]
  },
  {
   "cell_type": "markdown",
   "metadata": {},
   "source": [
    "## Using dask for the memory intensive calculation"
   ]
  },
  {
   "cell_type": "code",
   "execution_count": 8,
   "metadata": {},
   "outputs": [],
   "source": [
    "from dask.distributed import LocalCluster\n",
    "from dask.distributed import Client"
   ]
  },
  {
   "cell_type": "code",
   "execution_count": 9,
   "metadata": {},
   "outputs": [
    {
     "data": {
      "application/vnd.jupyter.widget-view+json": {
       "model_id": "bcf0cb914dcf4ac9ae742b760f1be7ff",
       "version_major": 2,
       "version_minor": 0
      },
      "text/plain": [
       "VBox(children=(HTML(value='<h2>LocalCluster</h2>'), HBox(children=(HTML(value='\\n<div>\\n  <style scoped>\\n    …"
      ]
     },
     "metadata": {},
     "output_type": "display_data"
    }
   ],
   "source": [
    "cluster = LocalCluster(n_workers=4)\n",
    "cluster"
   ]
  },
  {
   "cell_type": "code",
   "execution_count": 10,
   "metadata": {},
   "outputs": [
    {
     "data": {
      "text/html": [
       "<table style=\"border: 2px solid white;\">\n",
       "<tr>\n",
       "<td style=\"vertical-align: top; border: 0px solid white\">\n",
       "<h3>Client</h3>\n",
       "<ul>\n",
       "  <li><b>Scheduler: </b>tcp://127.0.0.1:40042\n",
       "  <li><b>Dashboard: </b><a href='http://127.0.0.1:8787/status' target='_blank'>http://127.0.0.1:8787/status</a>\n",
       "</ul>\n",
       "</td>\n",
       "<td style=\"vertical-align: top; border: 0px solid white\">\n",
       "<h3>Cluster</h3>\n",
       "<ul>\n",
       "  <li><b>Workers: </b>4</li>\n",
       "  <li><b>Cores: </b>8</li>\n",
       "  <li><b>Memory: </b>33.67 GB</li>\n",
       "</ul>\n",
       "</td>\n",
       "</tr>\n",
       "</table>"
      ],
      "text/plain": [
       "<Client: scheduler='tcp://127.0.0.1:40042' processes=4 cores=8>"
      ]
     },
     "execution_count": 10,
     "metadata": {},
     "output_type": "execute_result"
    }
   ],
   "source": [
    "client = Client(cluster)\n",
    "client"
   ]
  },
  {
   "cell_type": "code",
   "execution_count": null,
   "metadata": {},
   "outputs": [],
   "source": [
    "test = cube.aggregated_by(['year'], iris.analysis.MEAN)"
   ]
  },
  {
   "cell_type": "markdown",
   "metadata": {},
   "source": [
    "Whn I try this `test = ...` calculation without using dask, the kernel always dies, which I'm assuming is due to insufficient RAM to do the calculation.\n",
    "\n",
    "Whn I try it with dask, it just never finishes."
   ]
  },
  {
   "cell_type": "code",
   "execution_count": null,
   "metadata": {},
   "outputs": [],
   "source": []
  }
 ],
 "metadata": {
  "kernelspec": {
   "display_name": "Python 3",
   "language": "python",
   "name": "python3"
  },
  "language_info": {
   "codemirror_mode": {
    "name": "ipython",
    "version": 3
   },
   "file_extension": ".py",
   "mimetype": "text/x-python",
   "name": "python",
   "nbconvert_exporter": "python",
   "pygments_lexer": "ipython3",
   "version": "3.6.6"
  }
 },
 "nbformat": 4,
 "nbformat_minor": 2
}
