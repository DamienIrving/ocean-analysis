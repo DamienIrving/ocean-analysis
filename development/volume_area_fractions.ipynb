{
 "cells": [
  {
   "cell_type": "code",
   "execution_count": 6,
   "metadata": {
    "collapsed": false
   },
   "outputs": [],
   "source": [
    "import iris"
   ]
  },
  {
   "cell_type": "code",
   "execution_count": 7,
   "metadata": {
    "collapsed": false
   },
   "outputs": [],
   "source": [
    "volume_file = '/g/data/ua6/DRSv2/CMIP5/CSIRO-Mk3-6-0/historical/fx/ocean/r0i0p0/volcello/latest/volcello_fx_CSIRO-Mk3-6-0_historical_r0i0p0.nc'"
   ]
  },
  {
   "cell_type": "code",
   "execution_count": 18,
   "metadata": {
    "collapsed": true
   },
   "outputs": [],
   "source": [
    "nh_subset = lambda cell: cell >= 0.0    \n",
    "nh_constraint = iris.Constraint(latitude=nh_subset)\n",
    "\n",
    "sh_subset = lambda cell: cell < 0.0    \n",
    "sh_constraint = iris.Constraint(latitude=sh_subset)"
   ]
  },
  {
   "cell_type": "code",
   "execution_count": 19,
   "metadata": {
    "collapsed": false
   },
   "outputs": [
    {
     "data": {
      "text/plain": [
       "<iris 'Cube' of ocean_volume / (m3) (depth: 31; latitude: 189; longitude: 192)>"
      ]
     },
     "execution_count": 19,
     "metadata": {},
     "output_type": "execute_result"
    }
   ],
   "source": [
    "volume_cube = iris.load_cube(volume_file, 'ocean_volume')\n",
    "volume_cube"
   ]
  },
  {
   "cell_type": "code",
   "execution_count": 20,
   "metadata": {
    "collapsed": false
   },
   "outputs": [
    {
     "data": {
      "text/plain": [
       "<iris 'Cube' of ocean_volume / (m3) (depth: 31; latitude: 95; longitude: 192)>"
      ]
     },
     "execution_count": 20,
     "metadata": {},
     "output_type": "execute_result"
    }
   ],
   "source": [
    "nh_volume_cube = iris.load_cube(volume_file, 'ocean_volume' & nh_constraint)\n",
    "nh_volume_cube"
   ]
  },
  {
   "cell_type": "code",
   "execution_count": 21,
   "metadata": {
    "collapsed": false
   },
   "outputs": [
    {
     "data": {
      "text/plain": [
       "<iris 'Cube' of ocean_volume / (m3) (depth: 31; latitude: 94; longitude: 192)>"
      ]
     },
     "execution_count": 21,
     "metadata": {},
     "output_type": "execute_result"
    }
   ],
   "source": [
    "sh_volume_cube = iris.load_cube(volume_file, 'ocean_volume' & sh_constraint)\n",
    "sh_volume_cube"
   ]
  },
  {
   "cell_type": "code",
   "execution_count": 23,
   "metadata": {
    "collapsed": false
   },
   "outputs": [],
   "source": [
    "total_volume = volume_cube.data.sum()\n",
    "nh_volume = nh_volume_cube.data.sum()\n",
    "sh_volume = sh_volume_cube.data.sum()"
   ]
  },
  {
   "cell_type": "code",
   "execution_count": 25,
   "metadata": {
    "collapsed": false
   },
   "outputs": [
    {
     "name": "stdout",
     "output_type": "stream",
     "text": [
      "1.33911e+18 5.45417e+17 7.93698e+17 1.33911e+18\n"
     ]
    }
   ],
   "source": [
    "print(total_volume, nh_volume, sh_volume, nh_volume + sh_volume)"
   ]
  },
  {
   "cell_type": "code",
   "execution_count": 26,
   "metadata": {
    "collapsed": false
   },
   "outputs": [
    {
     "data": {
      "text/plain": [
       "0.40729639"
      ]
     },
     "execution_count": 26,
     "metadata": {},
     "output_type": "execute_result"
    }
   ],
   "source": [
    "nh_volume / total_volume"
   ]
  },
  {
   "cell_type": "code",
   "execution_count": null,
   "metadata": {
    "collapsed": true
   },
   "outputs": [],
   "source": [
    "def hemispheric_comparison(variable, model):\n",
    "    \"\"\"Compare the hemispheres\"\"\"\n",
    "    \n",
    "    assert variable in ['areacello', 'volcello']\n",
    "    if variable == 'volcello':\n",
    "        \n",
    "    \n",
    "    nh_subset = lambda cell: cell >= 0.0    \n",
    "    nh_constraint = iris.Constraint(latitude=nh_subset)\n",
    "\n",
    "    sh_subset = lambda cell: cell < 0.0    \n",
    "    sh_constraint = iris.Constraint(latitude=sh_subset)\n",
    "    \n",
    "    infile = '/g/data/ua6/DRSv2/CMIP5/%s/historical/fx/ocean/r0i0p0/%s/latest/%s_fx_%s_historical_r0i0p0.nc' %(model, variable, variable, model)\n",
    "    globe_cube = iris.load_cube(infile)\n",
    "    "
   ]
  }
 ],
 "metadata": {
  "kernelspec": {
   "display_name": "Python 3",
   "language": "python",
   "name": "python3"
  },
  "language_info": {
   "codemirror_mode": {
    "name": "ipython",
    "version": 3
   },
   "file_extension": ".py",
   "mimetype": "text/x-python",
   "name": "python",
   "nbconvert_exporter": "python",
   "pygments_lexer": "ipython3",
   "version": "3.6.0"
  }
 },
 "nbformat": 4,
 "nbformat_minor": 2
}
