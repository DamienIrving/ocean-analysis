{
 "cells": [
  {
   "cell_type": "code",
   "execution_count": 15,
   "metadata": {
    "collapsed": true
   },
   "outputs": [],
   "source": [
    "import iris\n",
    "import numpy"
   ]
  },
  {
   "cell_type": "code",
   "execution_count": 3,
   "metadata": {
    "collapsed": false
   },
   "outputs": [],
   "source": [
    "areacello_file = '/g/data/ua6/DRSv2/CMIP5/CSIRO-Mk3-6-0/historical/fx/ocean/r0i0p0/areacello/latest/areacello_fx_CSIRO-Mk3-6-0_historical_r0i0p0.nc'\n",
    "data_file = '/g/data/ua6/DRSv2/CMIP5/CSIRO-Mk3-6-0/historical/mon/ocean/r1i1p1/hfds/latest/hfds_Omon_CSIRO-Mk3-6-0_historical_r1i1p1_185001-200512.nc'"
   ]
  },
  {
   "cell_type": "code",
   "execution_count": 4,
   "metadata": {
    "collapsed": false
   },
   "outputs": [
    {
     "name": "stderr",
     "output_type": "stream",
     "text": [
      "/g/data/r87/dbi599/miniconda3/envs/ocean/lib/python3.6/site-packages/iris/fileformats/cf.py:1143: IrisDeprecation: NetCDF default loading behaviour currently does not expose variables which define reference surfaces for dimensionless vertical coordinates as independent Cubes. This behaviour is deprecated in favour of automatic promotion to Cubes. To switch to the new behaviour, set iris.FUTURE.netcdf_promote to True.\n",
      "  warn_deprecated(msg)\n"
     ]
    }
   ],
   "source": [
    "area_cube = iris.load_cube(areacello_file)"
   ]
  },
  {
   "cell_type": "code",
   "execution_count": 6,
   "metadata": {
    "collapsed": false
   },
   "outputs": [
    {
     "name": "stdout",
     "output_type": "stream",
     "text": [
      "cell_area / (m2)                    (latitude: 189; longitude: 192)\n",
      "     Dimension coordinates:\n",
      "          latitude                           x               -\n",
      "          longitude                          -               x\n",
      "     Attributes:\n",
      "          Conventions: CF-1.4\n",
      "          associated_files: baseURL: http://cmip-pcmdi.llnl.gov/CMIP5/dataLocation gridspecFile: g...\n",
      "          branch_time: 0.0\n",
      "          cmor_version: 2.6.0\n",
      "          comment: Data is stored on the native ocean T-grid on which the data was generated....\n",
      "          contact: Project leaders: Stephen Jeffrey (Stephen.Jeffrey@qld.gov.au) & Leon Rotstayn...\n",
      "          creation_date: 2011-08-02T01:11:26Z\n",
      "          experiment: historical\n",
      "          experiment_id: historical\n",
      "          forcing: N/A\n",
      "          frequency: fx\n",
      "          history: 2011-08-02T01:11:26Z CMOR rewrote data to comply with CF standards and...\n",
      "          initialization_method: 0\n",
      "          institute_id: CSIRO-QCCCE\n",
      "          institution: Australian Commonwealth Scientific and Industrial Research Organization...\n",
      "          model_id: CSIRO-Mk3-6-0\n",
      "          modeling_realm: ocean\n",
      "          original_name: areacello\n",
      "          parent_experiment: N/A\n",
      "          parent_experiment_id: N/A\n",
      "          parent_experiment_rip: N/A\n",
      "          physics_version: 0\n",
      "          product: output\n",
      "          project_id: CMIP5\n",
      "          realization: 0\n",
      "          references: a) Rotstayn, L., Collier, M., Dix, M., Feng, Y., Gordon, H., O\\'Farrell,...\n",
      "          source: CSIRO-Mk3-6-0 2010 atmosphere: AGCM v7.3.n (T63 spectral, 1.875 degrees...\n",
      "          table_id: Table fx (27 April 2011) f984543f4b43fbadc314e59cafbac627\n",
      "          title: CSIRO-Mk3-6-0 model output prepared for CMIP5 historical\n",
      "          tracking_id: 39caddbf-1bfc-4d36-8498-7b656251d2c7\n",
      "          version_number: v20110518\n"
     ]
    }
   ],
   "source": [
    "print(area_cube)"
   ]
  },
  {
   "cell_type": "code",
   "execution_count": 7,
   "metadata": {
    "collapsed": false
   },
   "outputs": [
    {
     "name": "stderr",
     "output_type": "stream",
     "text": [
      "/g/data/r87/dbi599/miniconda3/envs/ocean/lib/python3.6/site-packages/iris/fileformats/cf.py:798: UserWarning: Missing CF-netCDF measure variable 'areacello', referenced by netCDF variable 'hfds'\n",
      "  warnings.warn(message % (variable_name, nc_var_name))\n",
      "/g/data/r87/dbi599/miniconda3/envs/ocean/lib/python3.6/site-packages/iris/fileformats/cf.py:1143: IrisDeprecation: NetCDF default loading behaviour currently does not expose variables which define reference surfaces for dimensionless vertical coordinates as independent Cubes. This behaviour is deprecated in favour of automatic promotion to Cubes. To switch to the new behaviour, set iris.FUTURE.netcdf_promote to True.\n",
      "  warn_deprecated(msg)\n"
     ]
    }
   ],
   "source": [
    "data_cube = iris.load_cube(data_file)"
   ]
  },
  {
   "cell_type": "code",
   "execution_count": 8,
   "metadata": {
    "collapsed": false
   },
   "outputs": [
    {
     "name": "stdout",
     "output_type": "stream",
     "text": [
      "surface_downward_heat_flux_in_sea_water / (W m-2) (time: 1872; latitude: 189; longitude: 192)\n",
      "     Dimension coordinates:\n",
      "          time                                         x               -               -\n",
      "          latitude                                     -               x               -\n",
      "          longitude                                    -               -               x\n",
      "     Attributes:\n",
      "          Conventions: CF-1.4\n",
      "          associated_files: baseURL: http://cmip-pcmdi.llnl.gov/CMIP5/dataLocation gridspecFile: gridspec_ocean_fx_CSIRO-Mk3-6-0_historical_r0i0p0.nc...\n",
      "          branch_time: 29200.0\n",
      "          cmor_version: 2.6.0\n",
      "          comment: Data is stored on the native ocean T-grid on which the data was generated....\n",
      "          contact: Project leaders: Stephen Jeffrey (Stephen.Jeffrey@qld.gov.au) & Leon Rotstayn...\n",
      "          creation_date: 2011-07-27T01:48:46Z\n",
      "          experiment: historical\n",
      "          experiment_id: historical\n",
      "          forcing: Ant,Nat (all forcings)\n",
      "          frequency: mon\n",
      "          history: 2011-07-27T01:48:46Z altered by CMOR: replaced missing value flag (-7.77778e+06)...\n",
      "          initialization_method: 1\n",
      "          institute_id: CSIRO-QCCCE\n",
      "          institution: Australian Commonwealth Scientific and Industrial Research Organization...\n",
      "          model_id: CSIRO-Mk3-6-0\n",
      "          modeling_realm: ocean\n",
      "          original_name: hflx\n",
      "          parent_experiment: piControl\n",
      "          parent_experiment_id: piControl\n",
      "          parent_experiment_rip: r1i1p1\n",
      "          physics_version: 1\n",
      "          product: output\n",
      "          project_id: CMIP5\n",
      "          realization: 1\n",
      "          references: a) Rotstayn, L., Collier, M., Dix, M., Feng, Y., Gordon, H., O\\'Farrell,...\n",
      "          source: CSIRO-Mk3-6-0 2010 atmosphere: AGCM v7.3.8 (T63 spectral, 1.875 degrees...\n",
      "          table_id: Table Omon (27 April 2011) 9e1a53e4873bf6f26879903e165fe4a0\n",
      "          title: CSIRO-Mk3-6-0 model output prepared for CMIP5 historical\n",
      "          tracking_id: 6167d9ac-7434-4be1-867b-de6714f6ba82\n",
      "          version_number: v20110518\n",
      "     Cell methods:\n",
      "          mean: time\n",
      "          mean where sea: area\n"
     ]
    }
   ],
   "source": [
    "print(data_cube)"
   ]
  },
  {
   "cell_type": "code",
   "execution_count": 12,
   "metadata": {
    "collapsed": false
   },
   "outputs": [
    {
     "name": "stdout",
     "output_type": "stream",
     "text": [
      "(1872, 189, 192)\n",
      "<class 'numpy.ndarray'>\n"
     ]
    },
    {
     "name": "stderr",
     "output_type": "stream",
     "text": [
      "/g/data/r87/dbi599/miniconda3/envs/ocean/lib/python3.6/site-packages/iris/analysis/cartography.py:376: UserWarning: Using DEFAULT_SPHERICAL_EARTH_RADIUS.\n",
      "  warnings.warn(\"Using DEFAULT_SPHERICAL_EARTH_RADIUS.\")\n"
     ]
    }
   ],
   "source": [
    "if not data_cube.coord('latitude').has_bounds():\n",
    "    data_cube.coord('latitude').guess_bounds()\n",
    "\n",
    "if not data_cube.coord('longitude').has_bounds():\n",
    "    data_cube.coord('longitude').guess_bounds()\n",
    "\n",
    "area_weights = iris.analysis.cartography.area_weights(data_cube)\n",
    "\n",
    "print(area_weights.shape)\n",
    "print(type(area_weights))"
   ]
  },
  {
   "cell_type": "code",
   "execution_count": 16,
   "metadata": {
    "collapsed": false
   },
   "outputs": [],
   "source": [
    "area_weights = numpy.ma.masked_where(numpy.ma.getmask(data_cube.data), area_weights)"
   ]
  },
  {
   "cell_type": "code",
   "execution_count": 17,
   "metadata": {
    "collapsed": false
   },
   "outputs": [
    {
     "name": "stdout",
     "output_type": "stream",
     "text": [
      "[16175296506.375238 16175296506.37524 16175296506.37524 16175296506.37524\n",
      " 16175296506.375235 16175296506.375235 16175296506.375248\n",
      " 16175296506.375235 16175296506.375248 16175296506.375221\n",
      " 16175296506.375248 16175296506.375248 16175296506.375221\n",
      " 16175296506.375248 16175296506.375248 16175296506.375221\n",
      " 16175296506.375277 16175296506.375221 16175296506.375221\n",
      " 16175296506.375277 16175296506.375221 16175296506.375221\n",
      " 16175296506.375277 16175296506.375221 16175296506.375221\n",
      " 16175296506.375277 16175296506.375221 16175296506.375221\n",
      " 16175296506.375277 16175296506.375221 16175296506.375221\n",
      " 16175296506.375277 16175296506.375221 16175296506.375221\n",
      " 16175296506.375221 16175296506.375332 16175296506.375221\n",
      " 16175296506.375221 16175296506.375221 16175296506.375221\n",
      " 16175296506.375221 16175296506.375332 16175296506.375221\n",
      " 16175296506.375221 16175296506.375221 16175296506.375221\n",
      " 16175296506.375221 16175296506.375332 16175296506.375221\n",
      " 16175296506.375221]\n"
     ]
    }
   ],
   "source": [
    "print(area_weights[0,50, 0:50])"
   ]
  },
  {
   "cell_type": "code",
   "execution_count": 18,
   "metadata": {
    "collapsed": false
   },
   "outputs": [
    {
     "name": "stdout",
     "output_type": "stream",
     "text": [
      "[16194533376.0 16194533376.0 16194533376.0 16194533376.0 16194533376.0\n",
      " 16194533376.0 16194533376.0 16194533376.0 16194533376.0 16194533376.0\n",
      " 16194533376.0 16194533376.0 16194533376.0 16194533376.0 16194533376.0\n",
      " 16194533376.0 16194533376.0 16194533376.0 16194533376.0 16194533376.0\n",
      " 16194533376.0 16194533376.0 16194533376.0 16194533376.0 16194533376.0\n",
      " 16194533376.0 16194533376.0 16194533376.0 16194533376.0 16194533376.0\n",
      " 16194533376.0 16194533376.0 16194533376.0 16194533376.0 16194533376.0\n",
      " 16194533376.0 16194533376.0 16194533376.0 16194533376.0 16194533376.0\n",
      " 16194533376.0 16194533376.0 16194533376.0 16194533376.0 16194533376.0\n",
      " 16194533376.0 16194533376.0 16194533376.0 16194533376.0 16194533376.0]\n"
     ]
    }
   ],
   "source": [
    "print(area_cube.data[50, 0:50])"
   ]
  },
  {
   "cell_type": "code",
   "execution_count": 22,
   "metadata": {
    "collapsed": false
   },
   "outputs": [
    {
     "name": "stdout",
     "output_type": "stream",
     "text": [
      "16175296506.4\n",
      "16194534113.3\n",
      "2.96007926067e+12\n",
      "2.9636e+12\n"
     ]
    }
   ],
   "source": [
    "print(area_weights[0, 50, :].mean())\n",
    "print(area_cube.data[50, 0:50].mean())\n",
    "\n",
    "print(area_weights[0, 50, :].sum())\n",
    "print(area_cube.data[50, :].sum())"
   ]
  },
  {
   "cell_type": "code",
   "execution_count": 23,
   "metadata": {
    "collapsed": true
   },
   "outputs": [],
   "source": [
    "def create_areacello_cube(cube):\n",
    "    \"\"\"Create an area cube.\"\"\"\n",
    "\n",
    "    dim_coord_names = [coord.name() for coord in cube.dim_coords]\n",
    "    assert 'latitude' in dim_coord_names\n",
    "    assert 'longitude' in dim_coord_names\n",
    "\n",
    "    if not cube.coord('latitude').has_bounds():\n",
    "        cube.coord('latitude').guess_bounds()\n",
    "\n",
    "    if not cube.coord('longitude').has_bounds():\n",
    "        cube.coord('longitude').guess_bounds()\n",
    "\n",
    "    area_weights = iris.analysis.cartography.area_weights(cube)\n",
    "\n",
    "    out_dims = []\n",
    "    for index, name in enumerate(dim_coord_names):\n",
    "        out_dims.append((cube.coord(name), index))\n",
    "\n",
    "    area_cube = iris.cube.Cube(area_weights,\n",
    "                               standard_name='cell_area',\n",
    "                               long_name='Ocean Grid-Cell Area',\n",
    "                               var_name='areacello',\n",
    "                               units='m2',\n",
    "                               dim_coords_and_dims=out_dims)\n",
    "\n",
    "    area_cube.data = numpy.ma.masked_where(numpy.ma.getmask(cube.data), area_cube.data)\n",
    "\n",
    "    if 'time' in dim_coord_names:\n",
    "        first_time = area_cube.coord('time').points[0]\n",
    "        area_cube = area_cube.extract(iris.Constraint(time=first_time))\n",
    "\n",
    "    return area_cube"
   ]
  },
  {
   "cell_type": "code",
   "execution_count": 24,
   "metadata": {
    "collapsed": false
   },
   "outputs": [
    {
     "name": "stderr",
     "output_type": "stream",
     "text": [
      "/g/data/r87/dbi599/miniconda3/envs/ocean/lib/python3.6/site-packages/iris/analysis/cartography.py:376: UserWarning: Using DEFAULT_SPHERICAL_EARTH_RADIUS.\n",
      "  warnings.warn(\"Using DEFAULT_SPHERICAL_EARTH_RADIUS.\")\n"
     ]
    }
   ],
   "source": [
    "new_area_cube = create_areacello_cube(data_cube)"
   ]
  },
  {
   "cell_type": "code",
   "execution_count": 25,
   "metadata": {
    "collapsed": false
   },
   "outputs": [
    {
     "name": "stdout",
     "output_type": "stream",
     "text": [
      "16175296506.4\n",
      "16194534113.3\n",
      "2.96007926067e+12\n",
      "2.9636e+12\n"
     ]
    }
   ],
   "source": [
    "print(new_area_cube.data[0, 50, :].mean())\n",
    "print(area_cube.data[50, 0:50].mean())\n",
    "\n",
    "print(new_area_cube.data[0, 50, :].sum())\n",
    "print(area_cube.data[50, :].sum())"
   ]
  },
  {
   "cell_type": "code",
   "execution_count": 31,
   "metadata": {
    "collapsed": false
   },
   "outputs": [
    {
     "name": "stdout",
     "output_type": "stream",
     "text": [
      "[-- -- -- -- -- -- -- 41036279808.0 45557096448.0 61619191808.0]\n",
      "[-- -- -- -- -- -- -- 40986528376.58848 45501844701.91126 61545718673.75773]\n"
     ]
    }
   ],
   "source": [
    "total_zonal_area = area_cube.collapsed('longitude', iris.analysis.SUM)\n",
    "new_total_zonal_area = new_area_cube.collapsed('longitude', iris.analysis.SUM)\n",
    "\n",
    "print(total_zonal_area.data[0:10])\n",
    "print(new_total_zonal_area.data[0, 0:10])"
   ]
  },
  {
   "cell_type": "code",
   "execution_count": null,
   "metadata": {
    "collapsed": true
   },
   "outputs": [],
   "source": []
  }
 ],
 "metadata": {
  "kernelspec": {
   "display_name": "Python 3",
   "language": "python",
   "name": "python3"
  },
  "language_info": {
   "codemirror_mode": {
    "name": "ipython",
    "version": 3
   },
   "file_extension": ".py",
   "mimetype": "text/x-python",
   "name": "python",
   "nbconvert_exporter": "python",
   "pygments_lexer": "ipython3",
   "version": "3.6.0"
  }
 },
 "nbformat": 4,
 "nbformat_minor": 2
}
