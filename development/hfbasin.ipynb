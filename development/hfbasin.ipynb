{
 "cells": [
  {
   "cell_type": "markdown",
   "metadata": {
    "deletable": true,
    "editable": true
   },
   "source": [
    "# Ocean heat transport in CMIP5 models\n",
    "\n"
   ]
  },
  {
   "cell_type": "markdown",
   "metadata": {
    "deletable": true,
    "editable": true
   },
   "source": [
    "## Read data"
   ]
  },
  {
   "cell_type": "code",
   "execution_count": 2,
   "metadata": {
    "collapsed": true,
    "deletable": true,
    "editable": true
   },
   "outputs": [],
   "source": [
    "import matplotlib.pyplot as plt\n",
    "import iris\n",
    "import iris.plot as iplt\n",
    "import iris.coord_categorisation\n",
    "import cf_units\n",
    "import numpy"
   ]
  },
  {
   "cell_type": "code",
   "execution_count": 3,
   "metadata": {
    "collapsed": true,
    "deletable": true,
    "editable": true
   },
   "outputs": [],
   "source": [
    "%matplotlib inline "
   ]
  },
  {
   "cell_type": "code",
   "execution_count": 4,
   "metadata": {
    "collapsed": true,
    "deletable": true,
    "editable": true
   },
   "outputs": [],
   "source": [
    "infile = '/g/data/ua6/DRSv2/CMIP5/NorESM1-M/rcp85/mon/ocean/r1i1p1/hfbasin/latest/hfbasin_Omon_NorESM1-M_rcp85_r1i1p1_200601-210012.nc'"
   ]
  },
  {
   "cell_type": "code",
   "execution_count": 5,
   "metadata": {
    "collapsed": false,
    "deletable": true,
    "editable": true
   },
   "outputs": [
    {
     "name": "stderr",
     "output_type": "stream",
     "text": [
      "/g/data/r87/dbi599/miniconda3/envs/ocean/lib/python3.6/site-packages/iris/fileformats/cf.py:1143: IrisDeprecation: NetCDF default loading behaviour currently does not expose variables which define reference surfaces for dimensionless vertical coordinates as independent Cubes. This behaviour is deprecated in favour of automatic promotion to Cubes. To switch to the new behaviour, set iris.FUTURE.netcdf_promote to True.\n",
      "  warn_deprecated(msg)\n"
     ]
    }
   ],
   "source": [
    "cube = iris.load_cube(infile)"
   ]
  },
  {
   "cell_type": "code",
   "execution_count": 6,
   "metadata": {
    "collapsed": false,
    "deletable": true,
    "editable": true
   },
   "outputs": [
    {
     "name": "stdout",
     "output_type": "stream",
     "text": [
      "northward_ocean_heat_transport / (W) (time: 1140; -- : 3; latitude: 166)\n",
      "     Dimension coordinates:\n",
      "          time                            x          -            -\n",
      "          latitude                        -          -            x\n",
      "     Auxiliary coordinates:\n",
      "          region                          -          x            -\n",
      "     Attributes:\n",
      "          Conventions: CF-1.4\n",
      "          associated_files: baseURL: http://cmip-pcmdi.llnl.gov/CMIP5/dataLocation gridspecFile: g...\n",
      "          branch_time: 56940.0\n",
      "          cmor_version: 2.6.0\n",
      "          contact: Please send any requests or bug reports to noresm-ncc@met.no.\n",
      "          creation_date: 2011-05-28T20:59:53Z\n",
      "          experiment: RCP8.5\n",
      "          experiment_id: rcp85\n",
      "          forcing: GHG, SA, Oz, Sl, BC, OC\n",
      "          frequency: mon\n",
      "          history: 2011-05-28T20:59:53Z altered by CMOR: replaced missing value flag (1e+20)...\n",
      "          initialization_method: 1\n",
      "          institute_id: NCC\n",
      "          institution: Norwegian Climate Centre\n",
      "          model_id: NorESM1-M\n",
      "          modeling_realm: ocean\n",
      "          original_name: mhflx\n",
      "          parent_experiment: historical\n",
      "          parent_experiment_id: historical\n",
      "          parent_experiment_rip: r1i1p1\n",
      "          physics_version: 1\n",
      "          product: output\n",
      "          project_id: CMIP5\n",
      "          realization: 1\n",
      "          source: NorESM1-M 2011  atmosphere: CAM-Oslo (CAM4-Oslo-noresm-ver1_cmip5-r112,...\n",
      "          table_id: Table Omon (27 April 2011) 340eddd4fd838d90fa9ffe1345ecbd73\n",
      "          title: NorESM1-M model output prepared for CMIP5 RCP8.5\n",
      "          tracking_id: 8896324a-8d1f-4890-af1d-fd9041f99694\n",
      "     Cell methods:\n",
      "          mean: time\n",
      "          mean: longitude\n"
     ]
    }
   ],
   "source": [
    "print(cube)"
   ]
  },
  {
   "cell_type": "code",
   "execution_count": 7,
   "metadata": {
    "collapsed": false,
    "deletable": true,
    "editable": true
   },
   "outputs": [
    {
     "name": "stdout",
     "output_type": "stream",
     "text": [
      "['time', 'latitude']\n"
     ]
    }
   ],
   "source": [
    "dim_coord_names = [coord.name() for coord in cube.dim_coords]\n",
    "print(dim_coord_names)"
   ]
  },
  {
   "cell_type": "code",
   "execution_count": 33,
   "metadata": {
    "collapsed": false,
    "deletable": true,
    "editable": true
   },
   "outputs": [
    {
     "data": {
      "text/plain": [
       "array([-80., -79., -78., -77., -76., -75., -74., -73., -72., -71., -70.,\n",
       "       -69., -68., -67., -66., -65., -64., -63., -62., -61., -60., -59.,\n",
       "       -58., -57., -56., -55., -54., -53., -52., -51., -50., -49., -48.,\n",
       "       -47., -46., -45., -44., -43., -42., -41., -40., -39., -38., -37.,\n",
       "       -36., -35., -34., -33., -32., -31., -30., -29., -28., -27., -26.,\n",
       "       -25., -24., -23., -22., -21., -20., -19., -18., -17., -16., -15.,\n",
       "       -14., -13., -12., -11., -10.,  -9.,  -8.,  -7.,  -6.,  -5.,  -4.,\n",
       "        -3.,  -2.,  -1.,   0.,   1.,   2.,   3.,   4.,   5.,   6.,   7.,\n",
       "         8.,   9.,  10.,  11.,  12.,  13.,  14.,  15.,  16.,  17.,  18.,\n",
       "        19.,  20.,  21.,  22.,  23.,  24.,  25.,  26.,  27.,  28.,  29.,\n",
       "        30.,  31.,  32.,  33.,  34.,  35.,  36.,  37.,  38.,  39.,  40.,\n",
       "        41.,  42.,  43.,  44.,  45.,  46.,  47.,  48.,  49.,  50.,  51.,\n",
       "        52.,  53.,  54.,  55.,  56.,  57.,  58.,  59.,  60.,  61.,  62.,\n",
       "        63.,  64.,  65.,  66.,  67.,  68.,  69.,  70.,  71.,  72.,  73.,\n",
       "        74.,  75.,  76.,  77.,  78.,  79.,  80.,  81.,  82.,  83.,  84.,\n",
       "        85.])"
      ]
     },
     "execution_count": 33,
     "metadata": {},
     "output_type": "execute_result"
    }
   ],
   "source": [
    "cube.coord('latitude').points"
   ]
  },
  {
   "cell_type": "code",
   "execution_count": 8,
   "metadata": {
    "collapsed": false,
    "deletable": true,
    "editable": true
   },
   "outputs": [
    {
     "name": "stdout",
     "output_type": "stream",
     "text": [
      "['region']\n"
     ]
    }
   ],
   "source": [
    "aux_coord_names = [coord.name() for coord in cube.aux_coords]\n",
    "print(aux_coord_names)"
   ]
  },
  {
   "cell_type": "code",
   "execution_count": 9,
   "metadata": {
    "collapsed": false,
    "deletable": true,
    "editable": true
   },
   "outputs": [
    {
     "data": {
      "text/plain": [
       "AuxCoord(array(['atlantic_arctic_ocean', 'indian_pacific_ocean', 'global_ocean'], \n",
       "      dtype='<U200'), standard_name='region', units=Unit('1'), long_name='ocean basin', var_name='region')"
      ]
     },
     "execution_count": 9,
     "metadata": {},
     "output_type": "execute_result"
    }
   ],
   "source": [
    "cube.coord('region')"
   ]
  },
  {
   "cell_type": "code",
   "execution_count": 10,
   "metadata": {
    "collapsed": false,
    "deletable": true,
    "editable": true
   },
   "outputs": [],
   "source": [
    "global_cube = cube.extract(iris.Constraint(region='global_ocean'))"
   ]
  },
  {
   "cell_type": "code",
   "execution_count": 12,
   "metadata": {
    "collapsed": true,
    "deletable": true,
    "editable": true
   },
   "outputs": [],
   "source": [
    "def convert_to_annual(cube):\n",
    "    \"\"\"Convert data to annual timescale.\n",
    "    Args:\n",
    "      cube (iris.cube.Cube)\n",
    "      full_months(bool): only include years with data for all 12 months\n",
    "    \"\"\"\n",
    "\n",
    "    iris.coord_categorisation.add_year(cube, 'time')\n",
    "    iris.coord_categorisation.add_month(cube, 'time')\n",
    "\n",
    "    cube = cube.aggregated_by(['year'], iris.analysis.MEAN)\n",
    "    cube.remove_coord('year')\n",
    "    cube.remove_coord('month')\n",
    "\n",
    "    return cube"
   ]
  },
  {
   "cell_type": "code",
   "execution_count": 13,
   "metadata": {
    "collapsed": false,
    "deletable": true,
    "editable": true
   },
   "outputs": [
    {
     "name": "stderr",
     "output_type": "stream",
     "text": [
      "/g/data/r87/dbi599/miniconda3/envs/ocean/lib/python3.6/site-packages/iris/coords.py:495: VisibleDeprecationWarning: an index can only have a single Ellipsis (`...`); replace all but one with slices (`:`).\n",
      "  bounds = bounds[keys + (Ellipsis, )]\n"
     ]
    }
   ],
   "source": [
    "global_cube_annual = convert_to_annual(global_cube)"
   ]
  },
  {
   "cell_type": "code",
   "execution_count": 14,
   "metadata": {
    "collapsed": false,
    "deletable": true,
    "editable": true
   },
   "outputs": [
    {
     "name": "stdout",
     "output_type": "stream",
     "text": [
      "northward_ocean_heat_transport / (W) (time: 95; latitude: 166)\n",
      "     Dimension coordinates:\n",
      "          time                            x             -\n",
      "          latitude                        -             x\n",
      "     Scalar coordinates:\n",
      "          region: global_ocean\n",
      "     Attributes:\n",
      "          Conventions: CF-1.4\n",
      "          associated_files: baseURL: http://cmip-pcmdi.llnl.gov/CMIP5/dataLocation gridspecFile: g...\n",
      "          branch_time: 56940.0\n",
      "          cmor_version: 2.6.0\n",
      "          contact: Please send any requests or bug reports to noresm-ncc@met.no.\n",
      "          creation_date: 2011-05-28T20:59:53Z\n",
      "          experiment: RCP8.5\n",
      "          experiment_id: rcp85\n",
      "          forcing: GHG, SA, Oz, Sl, BC, OC\n",
      "          frequency: mon\n",
      "          history: 2011-05-28T20:59:53Z altered by CMOR: replaced missing value flag (1e+20)...\n",
      "          initialization_method: 1\n",
      "          institute_id: NCC\n",
      "          institution: Norwegian Climate Centre\n",
      "          model_id: NorESM1-M\n",
      "          modeling_realm: ocean\n",
      "          original_name: mhflx\n",
      "          parent_experiment: historical\n",
      "          parent_experiment_id: historical\n",
      "          parent_experiment_rip: r1i1p1\n",
      "          physics_version: 1\n",
      "          product: output\n",
      "          project_id: CMIP5\n",
      "          realization: 1\n",
      "          source: NorESM1-M 2011  atmosphere: CAM-Oslo (CAM4-Oslo-noresm-ver1_cmip5-r112,...\n",
      "          table_id: Table Omon (27 April 2011) 340eddd4fd838d90fa9ffe1345ecbd73\n",
      "          title: NorESM1-M model output prepared for CMIP5 RCP8.5\n",
      "          tracking_id: 8896324a-8d1f-4890-af1d-fd9041f99694\n",
      "     Cell methods:\n",
      "          mean: time\n",
      "          mean: longitude\n",
      "          mean: year\n"
     ]
    }
   ],
   "source": [
    "print(global_cube_annual)"
   ]
  },
  {
   "cell_type": "code",
   "execution_count": 15,
   "metadata": {
    "collapsed": false,
    "deletable": true,
    "editable": true
   },
   "outputs": [
    {
     "data": {
      "image/png": "[encoded data removed]",
      "text/plain": [
       "<matplotlib.figure.Figure at 0x7f3bd8327630>"
      ]
     },
     "metadata": {},
     "output_type": "display_data"
    }
   ],
   "source": [
    "iplt.plot(global_cube_annual[5, ::])\n",
    "iplt.plot(global_cube_annual[20, ::])\n",
    "plt.show()"
   ]
  },
  {
   "cell_type": "markdown",
   "metadata": {
    "deletable": true,
    "editable": true
   },
   "source": [
    "So for any given year, the annual mean shows ocean heat transport away from the tropics."
   ]
  },
  {
   "cell_type": "markdown",
   "metadata": {
    "deletable": true,
    "editable": true
   },
   "source": [
    "## Trends"
   ]
  },
  {
   "cell_type": "code",
   "execution_count": 17,
   "metadata": {
    "collapsed": true,
    "deletable": true,
    "editable": true
   },
   "outputs": [],
   "source": [
    "def convert_to_seconds(time_axis):\n",
    "    \"\"\"Convert time axis units to seconds.\n",
    "    \n",
    "    Args:\n",
    "      time_axis(iris.DimCoord)\n",
    "    \n",
    "    \"\"\"\n",
    "\n",
    "    old_units = str(time_axis.units)\n",
    "    old_timestep = old_units.split(' ')[0]\n",
    "    new_units = old_units.replace(old_timestep, 'seconds') \n",
    "\n",
    "    new_unit = cf_units.Unit(new_units, calendar=time_axis.units.calendar)  \n",
    "    time_axis.convert_units(new_unit)\n",
    "\n",
    "    return time_axis\n",
    "\n",
    "\n",
    "def linear_trend(data, time_axis):\n",
    "    \"\"\"Calculate the linear trend.\n",
    "    \n",
    "    polyfit returns [a, b] corresponding to y = a + bx\n",
    "\n",
    "    \"\"\"    \n",
    "\n",
    "    masked_flag = False\n",
    "\n",
    "    if type(data) == numpy.ma.core.MaskedArray:\n",
    "        if type(data.mask) == numpy.bool_:\n",
    "            if data.mask:\n",
    "                masked_flag = True\n",
    "        elif data.mask[0]:\n",
    "            masked_flag = True\n",
    "            \n",
    "    if masked_flag:\n",
    "        return data.fill_value\n",
    "    else:\n",
    "        return numpy.polynomial.polynomial.polyfit(time_axis, data, 1)[-1]\n",
    "\n",
    "\n",
    "def calc_trend(cube):\n",
    "    \"\"\"Calculate linear trend.\n",
    "    Args:\n",
    "      cube (iris.cube.Cube)\n",
    "      running_mean(bool, optional): \n",
    "        A 12-month running mean can first be applied to the data\n",
    "      yr (bool, optional):\n",
    "        Change units from per second to per year\n",
    "    \"\"\"\n",
    "\n",
    "    time_axis = cube.coord('time')\n",
    "    time_axis = convert_to_seconds(time_axis)\n",
    "\n",
    "    trend = numpy.ma.apply_along_axis(linear_trend, 0, cube.data, time_axis.points)\n",
    "    trend = numpy.ma.masked_values(trend, cube.data.fill_value)\n",
    "\n",
    "    return trend"
   ]
  },
  {
   "cell_type": "code",
   "execution_count": 18,
   "metadata": {
    "collapsed": false,
    "deletable": true,
    "editable": true
   },
   "outputs": [],
   "source": [
    "trend_data = calc_trend(global_cube_annual)\n",
    "\n",
    "trend_cube = global_cube_annual[0, ::].copy()\n",
    "trend_cube.data = trend_data\n",
    "trend_cube.remove_coord('time')\n",
    "\n",
    "#trend_unit = ' yr-1'\n",
    "#trend_cube.units = str(global_cube_annual.units) + trend_unit"
   ]
  },
  {
   "cell_type": "code",
   "execution_count": 19,
   "metadata": {
    "collapsed": false,
    "deletable": true,
    "editable": true
   },
   "outputs": [
    {
     "data": {
      "image/png": "[encoded data removed]",
      "text/plain": [
       "<matplotlib.figure.Figure at 0x7f3b81bdd7f0>"
      ]
     },
     "metadata": {},
     "output_type": "display_data"
    }
   ],
   "source": [
    "iplt.plot(trend_cube)\n",
    "plt.show()"
   ]
  },
  {
   "cell_type": "markdown",
   "metadata": {
    "deletable": true,
    "editable": true
   },
   "source": [
    "So the trends in ocean heat transport suggest reduced transport in the RCP 8.5 simulation (i.e. the trend plot is almost the inverse of the climatology plot)."
   ]
  },
  {
   "cell_type": "markdown",
   "metadata": {
    "collapsed": true,
    "deletable": true,
    "editable": true
   },
   "source": [
    "## Convergence"
   ]
  },
  {
   "cell_type": "code",
   "execution_count": 20,
   "metadata": {
    "collapsed": false,
    "deletable": true,
    "editable": true
   },
   "outputs": [
    {
     "name": "stdout",
     "output_type": "stream",
     "text": [
      "northward_ocean_heat_transport / (W) (time: 95; latitude: 166)\n",
      "     Dimension coordinates:\n",
      "          time                            x             -\n",
      "          latitude                        -             x\n",
      "     Scalar coordinates:\n",
      "          region: global_ocean\n",
      "     Attributes:\n",
      "          Conventions: CF-1.4\n",
      "          associated_files: baseURL: http://cmip-pcmdi.llnl.gov/CMIP5/dataLocation gridspecFile: g...\n",
      "          branch_time: 56940.0\n",
      "          cmor_version: 2.6.0\n",
      "          contact: Please send any requests or bug reports to noresm-ncc@met.no.\n",
      "          creation_date: 2011-05-28T20:59:53Z\n",
      "          experiment: RCP8.5\n",
      "          experiment_id: rcp85\n",
      "          forcing: GHG, SA, Oz, Sl, BC, OC\n",
      "          frequency: mon\n",
      "          history: 2011-05-28T20:59:53Z altered by CMOR: replaced missing value flag (1e+20)...\n",
      "          initialization_method: 1\n",
      "          institute_id: NCC\n",
      "          institution: Norwegian Climate Centre\n",
      "          model_id: NorESM1-M\n",
      "          modeling_realm: ocean\n",
      "          original_name: mhflx\n",
      "          parent_experiment: historical\n",
      "          parent_experiment_id: historical\n",
      "          parent_experiment_rip: r1i1p1\n",
      "          physics_version: 1\n",
      "          product: output\n",
      "          project_id: CMIP5\n",
      "          realization: 1\n",
      "          source: NorESM1-M 2011  atmosphere: CAM-Oslo (CAM4-Oslo-noresm-ver1_cmip5-r112,...\n",
      "          table_id: Table Omon (27 April 2011) 340eddd4fd838d90fa9ffe1345ecbd73\n",
      "          title: NorESM1-M model output prepared for CMIP5 RCP8.5\n",
      "          tracking_id: 8896324a-8d1f-4890-af1d-fd9041f99694\n",
      "     Cell methods:\n",
      "          mean: time\n",
      "          mean: longitude\n",
      "          mean: year\n"
     ]
    }
   ],
   "source": [
    "print(global_cube_annual)"
   ]
  },
  {
   "cell_type": "code",
   "execution_count": 21,
   "metadata": {
    "collapsed": false,
    "deletable": true,
    "editable": true
   },
   "outputs": [],
   "source": [
    "diffs_data = numpy.diff(global_cube_annual.data, axis=1)\n",
    "lats = global_cube_annual.coord('latitude').points\n",
    "diffs_lats = (lats[1:] + lats[:-1]) / 2."
   ]
  },
  {
   "cell_type": "code",
   "execution_count": 22,
   "metadata": {
    "collapsed": false,
    "deletable": true,
    "editable": true
   },
   "outputs": [
    {
     "name": "stdout",
     "output_type": "stream",
     "text": [
      "(95, 165)\n",
      "165\n"
     ]
    }
   ],
   "source": [
    "print(diffs_data.shape)\n",
    "print(len(diffs_lats))"
   ]
  },
  {
   "cell_type": "code",
   "execution_count": 24,
   "metadata": {
    "collapsed": false,
    "deletable": true,
    "editable": true
   },
   "outputs": [
    {
     "data": {
      "image/png": "[encoded data removed]",
      "text/plain": [
       "<matplotlib.figure.Figure at 0x7f3b81b87ba8>"
      ]
     },
     "metadata": {},
     "output_type": "display_data"
    }
   ],
   "source": [
    "plt.plot(diffs_lats, diffs_data[0, :])\n",
    "plt.plot(lats, global_cube_annual[0, ::].data / 10.0)\n",
    "plt.show()"
   ]
  },
  {
   "cell_type": "markdown",
   "metadata": {
    "deletable": true,
    "editable": true
   },
   "source": [
    "## Convergence trend"
   ]
  },
  {
   "cell_type": "code",
   "execution_count": 26,
   "metadata": {
    "collapsed": false,
    "deletable": true,
    "editable": true
   },
   "outputs": [],
   "source": [
    "time_axis = global_cube_annual.coord('time')\n",
    "time_axis = convert_to_seconds(time_axis)\n",
    "\n",
    "diffs_trend = numpy.ma.apply_along_axis(linear_trend, 0, diffs_data, time_axis.points)\n",
    "diffs_trend = numpy.ma.masked_values(diffs_trend, global_cube_annual.data.fill_value)"
   ]
  },
  {
   "cell_type": "code",
   "execution_count": 27,
   "metadata": {
    "collapsed": false,
    "deletable": true,
    "editable": true
   },
   "outputs": [
    {
     "name": "stdout",
     "output_type": "stream",
     "text": [
      "(165,)\n"
     ]
    }
   ],
   "source": [
    "print(diffs_trend.shape)"
   ]
  },
  {
   "cell_type": "code",
   "execution_count": 28,
   "metadata": {
    "collapsed": false,
    "deletable": true,
    "editable": true
   },
   "outputs": [
    {
     "data": {
      "image/png": "[encoded data removed]",
      "text/plain": [
       "<matplotlib.figure.Figure at 0x7f3b81b0f6d8>"
      ]
     },
     "metadata": {},
     "output_type": "display_data"
    }
   ],
   "source": [
    "plt.plot(diffs_lats, diffs_trend * -1)\n",
    "plt.axhline(y=0)\n",
    "plt.show()"
   ]
  },
  {
   "cell_type": "code",
   "execution_count": 32,
   "metadata": {
    "collapsed": false,
    "deletable": true,
    "editable": true
   },
   "outputs": [
    {
     "data": {
      "image/png": "[encoded data removed]",
      "text/plain": [
       "<matplotlib.figure.Figure at 0x7f3b6d60a518>"
      ]
     },
     "metadata": {},
     "output_type": "display_data"
    }
   ],
   "source": [
    "plt.plot(diffs_lats, diffs_trend * -1, color='black')\n",
    "plt.axhline(y=0)\n",
    "plt.axvline(x=30)\n",
    "plt.axvline(x=50)\n",
    "plt.axvline(x=77)\n",
    "plt.xlim(20, 90)\n",
    "plt.show()"
   ]
  },
  {
   "cell_type": "markdown",
   "metadata": {
    "deletable": true,
    "editable": true
   },
   "source": [
    "When I try and replicate the HTC curve in Figure 1 of [Nummelin et al (2016)](http://onlinelibrary.wiley.com/doi/10.1002/2016GL071333/abstract;jsessionid=7BC4C1DF16F35341AE3D3689F363955B.f02t01) (above) it looks different because I've plotted $W s^{-1}$, whereas they plot $W m^{-2}$. So I need to divide by area and mutliply by their delta $\\delta t/2$ (i.e. ($60 \\times 60 \\times 24 \\times 365.25 \\times 95) / 2$). \n",
    "\n",
    "FIXME: Probably easiest to re-do this NorESM1-M analysis with hfy.\n",
    "\n",
    "Once I've done that to confirm that I can reproduce their results, I may actually want to stick with $W s^{-1}$. Dividing by area inflates the high latitude regions, whereas I'm more interested in where the big heat transports are taking place."
   ]
  },
  {
   "cell_type": "code",
   "execution_count": null,
   "metadata": {
    "collapsed": true,
    "deletable": true,
    "editable": true
   },
   "outputs": [],
   "source": []
  }
 ],
 "metadata": {
  "kernelspec": {
   "display_name": "Python 3",
   "language": "python",
   "name": "python3"
  },
  "language_info": {
   "codemirror_mode": {
    "name": "ipython",
    "version": 3
   },
   "file_extension": ".py",
   "mimetype": "text/x-python",
   "name": "python",
   "nbconvert_exporter": "python",
   "pygments_lexer": "ipython3",
   "version": "3.6.0"
  }
 },
 "nbformat": 4,
 "nbformat_minor": 2
}
