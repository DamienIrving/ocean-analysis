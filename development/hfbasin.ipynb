{
 "cells": [
  {
   "cell_type": "code",
   "execution_count": 23,
   "metadata": {
    "collapsed": true
   },
   "outputs": [],
   "source": [
    "import matplotlib.pyplot as plt\n",
    "import iris\n",
    "import iris.plot as iplt\n",
    "import iris.coord_categorisation"
   ]
  },
  {
   "cell_type": "code",
   "execution_count": 16,
   "metadata": {
    "collapsed": true
   },
   "outputs": [],
   "source": [
    "%matplotlib inline "
   ]
  },
  {
   "cell_type": "code",
   "execution_count": 2,
   "metadata": {
    "collapsed": true
   },
   "outputs": [],
   "source": [
    "infile = '/g/data/ua6/DRSv2/CMIP5/NorESM1-M/rcp85/mon/ocean/r1i1p1/hfbasin/latest/hfbasin_Omon_NorESM1-M_rcp85_r1i1p1_200601-210012.nc'"
   ]
  },
  {
   "cell_type": "code",
   "execution_count": 3,
   "metadata": {
    "collapsed": false
   },
   "outputs": [
    {
     "name": "stderr",
     "output_type": "stream",
     "text": [
      "/g/data/r87/dbi599/miniconda3/envs/ocean/lib/python3.6/site-packages/iris/fileformats/cf.py:1143: IrisDeprecation: NetCDF default loading behaviour currently does not expose variables which define reference surfaces for dimensionless vertical coordinates as independent Cubes. This behaviour is deprecated in favour of automatic promotion to Cubes. To switch to the new behaviour, set iris.FUTURE.netcdf_promote to True.\n",
      "  warn_deprecated(msg)\n"
     ]
    }
   ],
   "source": [
    "cube = iris.load_cube(infile)"
   ]
  },
  {
   "cell_type": "code",
   "execution_count": 4,
   "metadata": {
    "collapsed": false
   },
   "outputs": [
    {
     "name": "stdout",
     "output_type": "stream",
     "text": [
      "northward_ocean_heat_transport / (W) (time: 1140; -- : 3; latitude: 166)\n",
      "     Dimension coordinates:\n",
      "          time                            x          -            -\n",
      "          latitude                        -          -            x\n",
      "     Auxiliary coordinates:\n",
      "          region                          -          x            -\n",
      "     Attributes:\n",
      "          Conventions: CF-1.4\n",
      "          associated_files: baseURL: http://cmip-pcmdi.llnl.gov/CMIP5/dataLocation gridspecFile: g...\n",
      "          branch_time: 56940.0\n",
      "          cmor_version: 2.6.0\n",
      "          contact: Please send any requests or bug reports to noresm-ncc@met.no.\n",
      "          creation_date: 2011-05-28T20:59:53Z\n",
      "          experiment: RCP8.5\n",
      "          experiment_id: rcp85\n",
      "          forcing: GHG, SA, Oz, Sl, BC, OC\n",
      "          frequency: mon\n",
      "          history: 2011-05-28T20:59:53Z altered by CMOR: replaced missing value flag (1e+20)...\n",
      "          initialization_method: 1\n",
      "          institute_id: NCC\n",
      "          institution: Norwegian Climate Centre\n",
      "          model_id: NorESM1-M\n",
      "          modeling_realm: ocean\n",
      "          original_name: mhflx\n",
      "          parent_experiment: historical\n",
      "          parent_experiment_id: historical\n",
      "          parent_experiment_rip: r1i1p1\n",
      "          physics_version: 1\n",
      "          product: output\n",
      "          project_id: CMIP5\n",
      "          realization: 1\n",
      "          source: NorESM1-M 2011  atmosphere: CAM-Oslo (CAM4-Oslo-noresm-ver1_cmip5-r112,...\n",
      "          table_id: Table Omon (27 April 2011) 340eddd4fd838d90fa9ffe1345ecbd73\n",
      "          title: NorESM1-M model output prepared for CMIP5 RCP8.5\n",
      "          tracking_id: 8896324a-8d1f-4890-af1d-fd9041f99694\n",
      "     Cell methods:\n",
      "          mean: time\n",
      "          mean: longitude\n"
     ]
    }
   ],
   "source": [
    "print(cube)"
   ]
  },
  {
   "cell_type": "code",
   "execution_count": 7,
   "metadata": {
    "collapsed": false
   },
   "outputs": [
    {
     "name": "stdout",
     "output_type": "stream",
     "text": [
      "['time', 'latitude']\n"
     ]
    }
   ],
   "source": [
    "dim_coord_names = [coord.name() for coord in cube.dim_coords]\n",
    "print(dim_coord_names)"
   ]
  },
  {
   "cell_type": "code",
   "execution_count": 9,
   "metadata": {
    "collapsed": false
   },
   "outputs": [
    {
     "name": "stdout",
     "output_type": "stream",
     "text": [
      "['region']\n"
     ]
    }
   ],
   "source": [
    "aux_coord_names = [coord.name() for coord in cube.aux_coords]\n",
    "print(aux_coord_names)"
   ]
  },
  {
   "cell_type": "code",
   "execution_count": 10,
   "metadata": {
    "collapsed": false
   },
   "outputs": [
    {
     "data": {
      "text/plain": [
       "AuxCoord(array(['atlantic_arctic_ocean', 'indian_pacific_ocean', 'global_ocean'], \n",
       "      dtype='<U200'), standard_name='region', units=Unit('1'), long_name='ocean basin', var_name='region')"
      ]
     },
     "execution_count": 10,
     "metadata": {},
     "output_type": "execute_result"
    }
   ],
   "source": [
    "cube.coord('region')"
   ]
  },
  {
   "cell_type": "code",
   "execution_count": 13,
   "metadata": {
    "collapsed": false
   },
   "outputs": [],
   "source": [
    "global_cube = cube.extract(iris.Constraint(region='global_ocean'))"
   ]
  },
  {
   "cell_type": "code",
   "execution_count": 21,
   "metadata": {
    "collapsed": true
   },
   "outputs": [],
   "source": [
    "def convert_to_annual(cube, full_months=False):\n",
    "    \"\"\"Convert data to annual timescale.\n",
    "    Args:\n",
    "      cube (iris.cube.Cube)\n",
    "      full_months(bool): only include years with data for all 12 months\n",
    "    \"\"\"\n",
    "\n",
    "    iris.coord_categorisation.add_year(cube, 'time')\n",
    "    iris.coord_categorisation.add_month(cube, 'time')\n",
    "\n",
    "    cube = cube.aggregated_by(['year'], iris.analysis.MEAN)\n",
    "\n",
    "    if full_months:\n",
    "        cube = cube.extract(iris.Constraint(month='Jan|Feb|Mar|Apr|May|Jun|Jul|Aug|Sep|Oct|Nov|Dec'))\n",
    "  \n",
    "    cube.remove_coord('year')\n",
    "    cube.remove_coord('month')\n",
    "\n",
    "    return cube\n",
    "\n",
    "\n",
    "def _convert_to_seconds(time_axis):\n",
    "    \"\"\"Convert time axis units to seconds.\n",
    "    Args:\n",
    "      time_axis(iris.DimCoord)\n",
    "    \"\"\"\n",
    "\n",
    "    old_units = str(time_axis.units)\n",
    "    old_timestep = old_units.split(' ')[0]\n",
    "    new_units = old_units.replace(old_timestep, 'seconds') \n",
    "\n",
    "    new_unit = cf_units.Unit(new_units, calendar=time_axis.units.calendar)  \n",
    "    time_axis.convert_units(new_unit)\n",
    "\n",
    "    return time_axis\n",
    "\n",
    "\n",
    "def calc_trend(cube, running_mean=True, per_yr=True, remove_scaling=False):\n",
    "    \"\"\"Calculate linear trend.\n",
    "    Args:\n",
    "      cube (iris.cube.Cube)\n",
    "      running_mean(bool, optional): \n",
    "        A 12-month running mean can first be applied to the data\n",
    "      yr (bool, optional):\n",
    "        Change units from per second to per year\n",
    "    \"\"\"\n",
    "\n",
    "    time_axis = cube.coord('time')\n",
    "    time_axis = _convert_to_seconds(time_axis)\n",
    "\n",
    "    trend = numpy.ma.apply_along_axis(_linear_trend, 0, cube.data, time_axis.points)\n",
    "    trend = numpy.ma.masked_values(trend, cube.data.fill_value)\n",
    "\n",
    "    if per_yr:\n",
    "        trend = trend * 60 * 60 * 24 * 365.25\n",
    "\n",
    "    return trend"
   ]
  },
  {
   "cell_type": "code",
   "execution_count": 24,
   "metadata": {
    "collapsed": false
   },
   "outputs": [
    {
     "name": "stderr",
     "output_type": "stream",
     "text": [
      "/g/data/r87/dbi599/miniconda3/envs/ocean/lib/python3.6/site-packages/iris/coords.py:495: VisibleDeprecationWarning: an index can only have a single Ellipsis (`...`); replace all but one with slices (`:`).\n",
      "  bounds = bounds[keys + (Ellipsis, )]\n"
     ]
    }
   ],
   "source": [
    "global_cube_annual = convert_to_annual(global_cube)"
   ]
  },
  {
   "cell_type": "code",
   "execution_count": 25,
   "metadata": {
    "collapsed": false
   },
   "outputs": [
    {
     "name": "stdout",
     "output_type": "stream",
     "text": [
      "northward_ocean_heat_transport / (W) (time: 95; latitude: 166)\n",
      "     Dimension coordinates:\n",
      "          time                            x             -\n",
      "          latitude                        -             x\n",
      "     Scalar coordinates:\n",
      "          region: global_ocean\n",
      "     Attributes:\n",
      "          Conventions: CF-1.4\n",
      "          associated_files: baseURL: http://cmip-pcmdi.llnl.gov/CMIP5/dataLocation gridspecFile: g...\n",
      "          branch_time: 56940.0\n",
      "          cmor_version: 2.6.0\n",
      "          contact: Please send any requests or bug reports to noresm-ncc@met.no.\n",
      "          creation_date: 2011-05-28T20:59:53Z\n",
      "          experiment: RCP8.5\n",
      "          experiment_id: rcp85\n",
      "          forcing: GHG, SA, Oz, Sl, BC, OC\n",
      "          frequency: mon\n",
      "          history: 2011-05-28T20:59:53Z altered by CMOR: replaced missing value flag (1e+20)...\n",
      "          initialization_method: 1\n",
      "          institute_id: NCC\n",
      "          institution: Norwegian Climate Centre\n",
      "          model_id: NorESM1-M\n",
      "          modeling_realm: ocean\n",
      "          original_name: mhflx\n",
      "          parent_experiment: historical\n",
      "          parent_experiment_id: historical\n",
      "          parent_experiment_rip: r1i1p1\n",
      "          physics_version: 1\n",
      "          product: output\n",
      "          project_id: CMIP5\n",
      "          realization: 1\n",
      "          source: NorESM1-M 2011  atmosphere: CAM-Oslo (CAM4-Oslo-noresm-ver1_cmip5-r112,...\n",
      "          table_id: Table Omon (27 April 2011) 340eddd4fd838d90fa9ffe1345ecbd73\n",
      "          title: NorESM1-M model output prepared for CMIP5 RCP8.5\n",
      "          tracking_id: 8896324a-8d1f-4890-af1d-fd9041f99694\n",
      "     Cell methods:\n",
      "          mean: time\n",
      "          mean: longitude\n",
      "          mean: year\n"
     ]
    }
   ],
   "source": [
    "print(global_cube_annual)"
   ]
  },
  {
   "cell_type": "code",
   "execution_count": 27,
   "metadata": {
    "collapsed": false
   },
   "outputs": [
    {
     "data": {
      "image/png": "[encoded data removed]",
      "text/plain": [
       "<matplotlib.figure.Figure at 0x7f770798ba90>"
      ]
     },
     "metadata": {},
     "output_type": "display_data"
    }
   ],
   "source": [
    "iplt.plot(global_cube_annual[5, ::])\n",
    "iplt.plot(global_cube_annual[20, ::])\n",
    "plt.show()"
   ]
  },
  {
   "cell_type": "code",
   "execution_count": null,
   "metadata": {
    "collapsed": true
   },
   "outputs": [],
   "source": [
    "trend_data = timeseries.calc_trend(cube, per_yr=True)"
   ]
  }
 ],
 "metadata": {
  "kernelspec": {
   "display_name": "Python 3",
   "language": "python",
   "name": "python3"
  },
  "language_info": {
   "codemirror_mode": {
    "name": "ipython",
    "version": 3
   },
   "file_extension": ".py",
   "mimetype": "text/x-python",
   "name": "python",
   "nbconvert_exporter": "python",
   "pygments_lexer": "ipython3",
   "version": "3.6.0"
  }
 },
 "nbformat": 4,
 "nbformat_minor": 2
}
