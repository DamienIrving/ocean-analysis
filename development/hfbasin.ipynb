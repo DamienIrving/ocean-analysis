{
 "cells": [
  {
   "cell_type": "markdown",
   "metadata": {},
   "source": [
    "## Read data"
   ]
  },
  {
   "cell_type": "code",
   "execution_count": 1,
   "metadata": {
    "collapsed": true,
    "deletable": true,
    "editable": true
   },
   "outputs": [],
   "source": [
    "import matplotlib.pyplot as plt\n",
    "import iris\n",
    "import iris.plot as iplt\n",
    "import iris.coord_categorisation\n",
    "import cf_units\n",
    "import numpy"
   ]
  },
  {
   "cell_type": "code",
   "execution_count": 2,
   "metadata": {
    "collapsed": true,
    "deletable": true,
    "editable": true
   },
   "outputs": [],
   "source": [
    "%matplotlib inline "
   ]
  },
  {
   "cell_type": "code",
   "execution_count": 3,
   "metadata": {
    "collapsed": true,
    "deletable": true,
    "editable": true
   },
   "outputs": [],
   "source": [
    "infile = '/g/data/ua6/DRSv2/CMIP5/NorESM1-M/rcp85/mon/ocean/r1i1p1/hfbasin/latest/hfbasin_Omon_NorESM1-M_rcp85_r1i1p1_200601-210012.nc'"
   ]
  },
  {
   "cell_type": "code",
   "execution_count": 4,
   "metadata": {
    "collapsed": false,
    "deletable": true,
    "editable": true
   },
   "outputs": [
    {
     "name": "stderr",
     "output_type": "stream",
     "text": [
      "/g/data/r87/dbi599/miniconda3/envs/ocean/lib/python3.6/site-packages/iris/fileformats/cf.py:1143: IrisDeprecation: NetCDF default loading behaviour currently does not expose variables which define reference surfaces for dimensionless vertical coordinates as independent Cubes. This behaviour is deprecated in favour of automatic promotion to Cubes. To switch to the new behaviour, set iris.FUTURE.netcdf_promote to True.\n",
      "  warn_deprecated(msg)\n"
     ]
    }
   ],
   "source": [
    "cube = iris.load_cube(infile)"
   ]
  },
  {
   "cell_type": "code",
   "execution_count": 5,
   "metadata": {
    "collapsed": false,
    "deletable": true,
    "editable": true
   },
   "outputs": [
    {
     "name": "stdout",
     "output_type": "stream",
     "text": [
      "northward_ocean_heat_transport / (W) (time: 1140; -- : 3; latitude: 166)\n",
      "     Dimension coordinates:\n",
      "          time                            x          -            -\n",
      "          latitude                        -          -            x\n",
      "     Auxiliary coordinates:\n",
      "          region                          -          x            -\n",
      "     Attributes:\n",
      "          Conventions: CF-1.4\n",
      "          associated_files: baseURL: http://cmip-pcmdi.llnl.gov/CMIP5/dataLocation gridspecFile: g...\n",
      "          branch_time: 56940.0\n",
      "          cmor_version: 2.6.0\n",
      "          contact: Please send any requests or bug reports to noresm-ncc@met.no.\n",
      "          creation_date: 2011-05-28T20:59:53Z\n",
      "          experiment: RCP8.5\n",
      "          experiment_id: rcp85\n",
      "          forcing: GHG, SA, Oz, Sl, BC, OC\n",
      "          frequency: mon\n",
      "          history: 2011-05-28T20:59:53Z altered by CMOR: replaced missing value flag (1e+20)...\n",
      "          initialization_method: 1\n",
      "          institute_id: NCC\n",
      "          institution: Norwegian Climate Centre\n",
      "          model_id: NorESM1-M\n",
      "          modeling_realm: ocean\n",
      "          original_name: mhflx\n",
      "          parent_experiment: historical\n",
      "          parent_experiment_id: historical\n",
      "          parent_experiment_rip: r1i1p1\n",
      "          physics_version: 1\n",
      "          product: output\n",
      "          project_id: CMIP5\n",
      "          realization: 1\n",
      "          source: NorESM1-M 2011  atmosphere: CAM-Oslo (CAM4-Oslo-noresm-ver1_cmip5-r112,...\n",
      "          table_id: Table Omon (27 April 2011) 340eddd4fd838d90fa9ffe1345ecbd73\n",
      "          title: NorESM1-M model output prepared for CMIP5 RCP8.5\n",
      "          tracking_id: 8896324a-8d1f-4890-af1d-fd9041f99694\n",
      "     Cell methods:\n",
      "          mean: time\n",
      "          mean: longitude\n"
     ]
    }
   ],
   "source": [
    "print(cube)"
   ]
  },
  {
   "cell_type": "code",
   "execution_count": 6,
   "metadata": {
    "collapsed": false,
    "deletable": true,
    "editable": true
   },
   "outputs": [
    {
     "name": "stdout",
     "output_type": "stream",
     "text": [
      "['time', 'latitude']\n"
     ]
    }
   ],
   "source": [
    "dim_coord_names = [coord.name() for coord in cube.dim_coords]\n",
    "print(dim_coord_names)"
   ]
  },
  {
   "cell_type": "code",
   "execution_count": 7,
   "metadata": {
    "collapsed": false,
    "deletable": true,
    "editable": true
   },
   "outputs": [
    {
     "name": "stdout",
     "output_type": "stream",
     "text": [
      "['region']\n"
     ]
    }
   ],
   "source": [
    "aux_coord_names = [coord.name() for coord in cube.aux_coords]\n",
    "print(aux_coord_names)"
   ]
  },
  {
   "cell_type": "code",
   "execution_count": 8,
   "metadata": {
    "collapsed": false,
    "deletable": true,
    "editable": true
   },
   "outputs": [
    {
     "data": {
      "text/plain": [
       "AuxCoord(array(['atlantic_arctic_ocean', 'indian_pacific_ocean', 'global_ocean'], \n",
       "      dtype='<U200'), standard_name='region', units=Unit('1'), long_name='ocean basin', var_name='region')"
      ]
     },
     "execution_count": 8,
     "metadata": {},
     "output_type": "execute_result"
    }
   ],
   "source": [
    "cube.coord('region')"
   ]
  },
  {
   "cell_type": "code",
   "execution_count": 9,
   "metadata": {
    "collapsed": false,
    "deletable": true,
    "editable": true
   },
   "outputs": [],
   "source": [
    "global_cube = cube.extract(iris.Constraint(region='global_ocean'))"
   ]
  },
  {
   "cell_type": "code",
   "execution_count": 10,
   "metadata": {
    "collapsed": true,
    "deletable": true,
    "editable": true
   },
   "outputs": [],
   "source": [
    "def convert_to_annual(cube, full_months=False):\n",
    "    \"\"\"Convert data to annual timescale.\n",
    "    Args:\n",
    "      cube (iris.cube.Cube)\n",
    "      full_months(bool): only include years with data for all 12 months\n",
    "    \"\"\"\n",
    "\n",
    "    iris.coord_categorisation.add_year(cube, 'time')\n",
    "    iris.coord_categorisation.add_month(cube, 'time')\n",
    "\n",
    "    cube = cube.aggregated_by(['year'], iris.analysis.MEAN)\n",
    "\n",
    "    if full_months:\n",
    "        cube = cube.extract(iris.Constraint(month='Jan|Feb|Mar|Apr|May|Jun|Jul|Aug|Sep|Oct|Nov|Dec'))\n",
    "  \n",
    "    cube.remove_coord('year')\n",
    "    cube.remove_coord('month')\n",
    "\n",
    "    return cube"
   ]
  },
  {
   "cell_type": "code",
   "execution_count": 11,
   "metadata": {
    "collapsed": false,
    "deletable": true,
    "editable": true
   },
   "outputs": [
    {
     "name": "stderr",
     "output_type": "stream",
     "text": [
      "/g/data/r87/dbi599/miniconda3/envs/ocean/lib/python3.6/site-packages/iris/coords.py:495: VisibleDeprecationWarning: an index can only have a single Ellipsis (`...`); replace all but one with slices (`:`).\n",
      "  bounds = bounds[keys + (Ellipsis, )]\n"
     ]
    }
   ],
   "source": [
    "global_cube_annual = convert_to_annual(global_cube)"
   ]
  },
  {
   "cell_type": "code",
   "execution_count": 12,
   "metadata": {
    "collapsed": false,
    "deletable": true,
    "editable": true
   },
   "outputs": [
    {
     "name": "stdout",
     "output_type": "stream",
     "text": [
      "northward_ocean_heat_transport / (W) (time: 95; latitude: 166)\n",
      "     Dimension coordinates:\n",
      "          time                            x             -\n",
      "          latitude                        -             x\n",
      "     Scalar coordinates:\n",
      "          region: global_ocean\n",
      "     Attributes:\n",
      "          Conventions: CF-1.4\n",
      "          associated_files: baseURL: http://cmip-pcmdi.llnl.gov/CMIP5/dataLocation gridspecFile: g...\n",
      "          branch_time: 56940.0\n",
      "          cmor_version: 2.6.0\n",
      "          contact: Please send any requests or bug reports to noresm-ncc@met.no.\n",
      "          creation_date: 2011-05-28T20:59:53Z\n",
      "          experiment: RCP8.5\n",
      "          experiment_id: rcp85\n",
      "          forcing: GHG, SA, Oz, Sl, BC, OC\n",
      "          frequency: mon\n",
      "          history: 2011-05-28T20:59:53Z altered by CMOR: replaced missing value flag (1e+20)...\n",
      "          initialization_method: 1\n",
      "          institute_id: NCC\n",
      "          institution: Norwegian Climate Centre\n",
      "          model_id: NorESM1-M\n",
      "          modeling_realm: ocean\n",
      "          original_name: mhflx\n",
      "          parent_experiment: historical\n",
      "          parent_experiment_id: historical\n",
      "          parent_experiment_rip: r1i1p1\n",
      "          physics_version: 1\n",
      "          product: output\n",
      "          project_id: CMIP5\n",
      "          realization: 1\n",
      "          source: NorESM1-M 2011  atmosphere: CAM-Oslo (CAM4-Oslo-noresm-ver1_cmip5-r112,...\n",
      "          table_id: Table Omon (27 April 2011) 340eddd4fd838d90fa9ffe1345ecbd73\n",
      "          title: NorESM1-M model output prepared for CMIP5 RCP8.5\n",
      "          tracking_id: 8896324a-8d1f-4890-af1d-fd9041f99694\n",
      "     Cell methods:\n",
      "          mean: time\n",
      "          mean: longitude\n",
      "          mean: year\n"
     ]
    }
   ],
   "source": [
    "print(global_cube_annual)"
   ]
  },
  {
   "cell_type": "code",
   "execution_count": 13,
   "metadata": {
    "collapsed": false,
    "deletable": true,
    "editable": true
   },
   "outputs": [
    {
     "data": {
      "image/png": "[encoded data removed]",
      "text/plain": [
       "<matplotlib.figure.Figure at 0x7f7991ddeba8>"
      ]
     },
     "metadata": {},
     "output_type": "display_data"
    }
   ],
   "source": [
    "iplt.plot(global_cube_annual[5, ::])\n",
    "iplt.plot(global_cube_annual[20, ::])\n",
    "plt.show()"
   ]
  },
  {
   "cell_type": "markdown",
   "metadata": {},
   "source": [
    "## Trends"
   ]
  },
  {
   "cell_type": "code",
   "execution_count": null,
   "metadata": {
    "collapsed": true
   },
   "outputs": [],
   "source": [
    "def _convert_to_seconds(time_axis):\n",
    "    \"\"\"Convert time axis units to seconds.\n",
    "    Args:\n",
    "      time_axis(iris.DimCoord)\n",
    "    \"\"\"\n",
    "\n",
    "    old_units = str(time_axis.units)\n",
    "    old_timestep = old_units.split(' ')[0]\n",
    "    new_units = old_units.replace(old_timestep, 'seconds') \n",
    "\n",
    "    new_unit = cf_units.Unit(new_units, calendar=time_axis.units.calendar)  \n",
    "    time_axis.convert_units(new_unit)\n",
    "\n",
    "    return time_axis\n",
    "\n",
    "\n",
    "def linear_trend(data, time_axis):\n",
    "    \"\"\"Calculate the linear trend.\n",
    "    polyfit returns [a, b] corresponding to y = a + bx\n",
    "    \"\"\"    \n",
    "\n",
    "    masked_flag = False\n",
    "\n",
    "    if type(data) == numpy.ma.core.MaskedArray:\n",
    "        if type(data.mask) == numpy.bool_:\n",
    "            if data.mask:\n",
    "                masked_flag = True\n",
    "        elif data.mask[0]:\n",
    "            masked_flag = True\n",
    "            \n",
    "    if masked_flag:\n",
    "        return data.fill_value\n",
    "    else:\n",
    "        return numpy.polynomial.polynomial.polyfit(time_axis, data, 1)[-1]\n",
    "\n",
    "\n",
    "def calc_trend(cube, running_mean=True, per_yr=True, remove_scaling=False):\n",
    "    \"\"\"Calculate linear trend.\n",
    "    Args:\n",
    "      cube (iris.cube.Cube)\n",
    "      running_mean(bool, optional): \n",
    "        A 12-month running mean can first be applied to the data\n",
    "      yr (bool, optional):\n",
    "        Change units from per second to per year\n",
    "    \"\"\"\n",
    "\n",
    "    time_axis = cube.coord('time')\n",
    "    time_axis = _convert_to_seconds(time_axis)\n",
    "\n",
    "    trend = numpy.ma.apply_along_axis(linear_trend, 0, cube.data, time_axis.points)\n",
    "    trend = numpy.ma.masked_values(trend, cube.data.fill_value)\n",
    "\n",
    "    if per_yr:\n",
    "        trend = trend * 60 * 60 * 24 * 365.25\n",
    "\n",
    "    return trend"
   ]
  },
  {
   "cell_type": "code",
   "execution_count": 14,
   "metadata": {
    "collapsed": false,
    "deletable": true,
    "editable": true
   },
   "outputs": [],
   "source": [
    "trend_data = calc_trend(global_cube_annual, per_yr=True)\n",
    "trend_unit = ' yr-1'\n",
    "\n",
    "trend_cube = global_cube_annual[0, ::].copy()\n",
    "trend_cube.data = trend_data\n",
    "trend_cube.remove_coord('time')\n",
    "trend_cube.units = str(global_cube_annual.units) + trend_unit"
   ]
  },
  {
   "cell_type": "code",
   "execution_count": 15,
   "metadata": {
    "collapsed": false,
    "deletable": true,
    "editable": true
   },
   "outputs": [
    {
     "data": {
      "image/png": "[encoded data removed]",
      "text/plain": [
       "<matplotlib.figure.Figure at 0x7f7991d9b240>"
      ]
     },
     "metadata": {},
     "output_type": "display_data"
    }
   ],
   "source": [
    "iplt.plot(trend_cube)\n",
    "plt.show()"
   ]
  },
  {
   "cell_type": "markdown",
   "metadata": {
    "collapsed": true,
    "deletable": true,
    "editable": true
   },
   "source": [
    "## Convergence"
   ]
  },
  {
   "cell_type": "code",
   "execution_count": 16,
   "metadata": {
    "collapsed": false
   },
   "outputs": [
    {
     "name": "stdout",
     "output_type": "stream",
     "text": [
      "northward_ocean_heat_transport / (W) (time: 95; latitude: 166)\n",
      "     Dimension coordinates:\n",
      "          time                            x             -\n",
      "          latitude                        -             x\n",
      "     Scalar coordinates:\n",
      "          region: global_ocean\n",
      "     Attributes:\n",
      "          Conventions: CF-1.4\n",
      "          associated_files: baseURL: http://cmip-pcmdi.llnl.gov/CMIP5/dataLocation gridspecFile: g...\n",
      "          branch_time: 56940.0\n",
      "          cmor_version: 2.6.0\n",
      "          contact: Please send any requests or bug reports to noresm-ncc@met.no.\n",
      "          creation_date: 2011-05-28T20:59:53Z\n",
      "          experiment: RCP8.5\n",
      "          experiment_id: rcp85\n",
      "          forcing: GHG, SA, Oz, Sl, BC, OC\n",
      "          frequency: mon\n",
      "          history: 2011-05-28T20:59:53Z altered by CMOR: replaced missing value flag (1e+20)...\n",
      "          initialization_method: 1\n",
      "          institute_id: NCC\n",
      "          institution: Norwegian Climate Centre\n",
      "          model_id: NorESM1-M\n",
      "          modeling_realm: ocean\n",
      "          original_name: mhflx\n",
      "          parent_experiment: historical\n",
      "          parent_experiment_id: historical\n",
      "          parent_experiment_rip: r1i1p1\n",
      "          physics_version: 1\n",
      "          product: output\n",
      "          project_id: CMIP5\n",
      "          realization: 1\n",
      "          source: NorESM1-M 2011  atmosphere: CAM-Oslo (CAM4-Oslo-noresm-ver1_cmip5-r112,...\n",
      "          table_id: Table Omon (27 April 2011) 340eddd4fd838d90fa9ffe1345ecbd73\n",
      "          title: NorESM1-M model output prepared for CMIP5 RCP8.5\n",
      "          tracking_id: 8896324a-8d1f-4890-af1d-fd9041f99694\n",
      "     Cell methods:\n",
      "          mean: time\n",
      "          mean: longitude\n",
      "          mean: year\n"
     ]
    }
   ],
   "source": [
    "print(global_cube_annual)"
   ]
  },
  {
   "cell_type": "code",
   "execution_count": 20,
   "metadata": {
    "collapsed": false
   },
   "outputs": [
    {
     "data": {
      "text/plain": [
       "masked_array(data = [-- -- -57354851669.333336 -1004496311637.3334 -3004642798250.6665\n",
       " -4470458023936.0 -8482549224789.333 -15212479163050.666\n",
       " -25273544911530.668 -34242697712981.332 -44638456337749.336\n",
       " -60629967350442.664 -83761352583850.67 -99921910824960.0\n",
       " -143290600346965.34 -195075177622186.66 -260622977597440.0\n",
       " -328486212337664.0 -392616874431829.3 -462723222951253.3\n",
       " -496041342271488.0 -566151762061994.6 -634153845041834.6\n",
       " -698225988206592.0 -750100558468437.4 -799492324458496.0\n",
       " -820098682759850.6 -830306567323648.0 -827656125109589.4\n",
       " -829765043530410.6 -809290039645525.4 -794645543343445.4\n",
       " -764408436708693.4 -731273658804906.6 -690722859297450.6\n",
       " -655077986183850.6 -643967174224554.6 -631453071179776.0\n",
       " -631796265910272.0 -643712250019840.0 -678498979719850.6\n",
       " -718448439066624.0 -781486300419413.4 -826443423197866.6\n",
       " -853591553561941.4 -885938204966912.0 -913235406487552.0\n",
       " -912426342023168.0 -909591305693866.6 -889732808572928.0\n",
       " -865856101111125.4 -842156740007253.4 -821082498706090.6\n",
       " -812245156102144.0 -802776363827200.0 -800185156370432.0\n",
       " -790896931678890.6 -783497776769706.6 -764318600309418.6\n",
       " -748425208048298.6 -714266706793813.4 -684044095673685.4\n",
       " -646427161482581.4 -618492917885610.6 -581097398206464.0\n",
       " -566843251796650.6 -552353240099498.7 -552849666736128.0\n",
       " -549398705253034.7 -531129256553130.7 -483573052211200.0\n",
       " -431478857007104.0 -346998371429034.7 -255049653551104.0\n",
       " -151543133940394.66 -67504034545664.0 60056180970837.336 216439239737344.0\n",
       " 391718734135296.0 543066670759936.0 768014867060053.4 1001340307592533.4\n",
       " 1169230668671658.8 1297615920562176.0 1398018386777429.2\n",
       " 1448590195032064.0 1472296982850218.8 1468039775475029.2\n",
       " 1487689161375744.0 1510481300116821.2 1527733110003029.2\n",
       " 1555143770243072.0 1571901479933269.2 1597970499764224.0\n",
       " 1633338123791018.8 1673035790680064.0 1707251468686677.2\n",
       " 1747228129492992.0 1792877905226410.8 1838125922560682.8\n",
       " 1874330170425344.0 1913696945875626.8 1938586818226858.8\n",
       " 1961967904358400.0 1987192963115690.8 2003353672351744.0\n",
       " 2017393741485397.2 2018986995395242.8 2013980853097813.2\n",
       " 2000215840828074.8 1986473556093610.8 1943746326648149.2\n",
       " 1911673300451328.0 1858676446287189.2 1793106791191893.2\n",
       " 1731426765854037.2 1658894789814954.8 1566529549587797.2\n",
       " 1495631182255445.2 1397772499899733.2 1326048335626240.0\n",
       " 1255244278617429.2 1196118416643413.2 1157392486105088.0\n",
       " 1131880111931392.0 1118488224945493.4 1108683172522666.6\n",
       " 1099355219383637.4 1083707221868544.0 1067386883014656.0\n",
       " 1043956315280725.4 1020352159285248.0 991432444390058.6 960231386032810.6\n",
       " 924807927431168.0 884591822198101.4 833422476618410.6 780282456877738.6\n",
       " 720164815372288.0 658811073331200.0 595787036404394.6 539682370748416.0\n",
       " 484674353408682.7 434719678267392.0 385666319908864.0 345602395209728.0\n",
       " 309926629649066.7 281886264568490.7 264186122731520.0 249222836955818.66\n",
       " 230685310713856.0 207821231270570.66 178259620091221.34 147620934014293.34\n",
       " 121126063702016.0 98101672367445.33 78650498088960.0 59370719849130.664\n",
       " 41995180791125.336 29940871331840.0 19309004150101.332 9386271440896.0\n",
       " 5539068466517.333 3556396498944.0 3137196086613.3335 2079271157760.0],\n",
       "             mask = [ True  True False False False False False False False False False False\n",
       " False False False False False False False False False False False False\n",
       " False False False False False False False False False False False False\n",
       " False False False False False False False False False False False False\n",
       " False False False False False False False False False False False False\n",
       " False False False False False False False False False False False False\n",
       " False False False False False False False False False False False False\n",
       " False False False False False False False False False False False False\n",
       " False False False False False False False False False False False False\n",
       " False False False False False False False False False False False False\n",
       " False False False False False False False False False False False False\n",
       " False False False False False False False False False False False False\n",
       " False False False False False False False False False False False False\n",
       " False False False False False False False False False False],\n",
       "       fill_value = 1e+20)"
      ]
     },
     "execution_count": 20,
     "metadata": {},
     "output_type": "execute_result"
    }
   ],
   "source": [
    "global_cube_annual[0,:].data"
   ]
  },
  {
   "cell_type": "code",
   "execution_count": 49,
   "metadata": {
    "collapsed": false
   },
   "outputs": [],
   "source": [
    "diffs_data = numpy.diff(global_cube_annual.data, axis=1)\n",
    "lats = global_cube_annual.coord('latitude').points\n",
    "diffs_lats = (lats[1:] + lats[:-1]) / 2."
   ]
  },
  {
   "cell_type": "code",
   "execution_count": 50,
   "metadata": {
    "collapsed": false
   },
   "outputs": [
    {
     "name": "stdout",
     "output_type": "stream",
     "text": [
      "(95, 165)\n",
      "165\n"
     ]
    }
   ],
   "source": [
    "print(diffs_data.shape)\n",
    "print(len(diffs_lats))"
   ]
  },
  {
   "cell_type": "code",
   "execution_count": 51,
   "metadata": {
    "collapsed": false
   },
   "outputs": [
    {
     "data": {
      "image/png": "[encoded data removed]",
      "text/plain": [
       "<matplotlib.figure.Figure at 0x7f797d793da0>"
      ]
     },
     "metadata": {},
     "output_type": "display_data"
    }
   ],
   "source": [
    "plt.plot(diffs_lats, diffs_data[0, :])\n",
    "plt.plot(lats, global_cube_annual[0, ::].data / 10.0)\n",
    "plt.show()"
   ]
  },
  {
   "cell_type": "markdown",
   "metadata": {},
   "source": [
    "## Convergence trend"
   ]
  },
  {
   "cell_type": "code",
   "execution_count": 52,
   "metadata": {
    "collapsed": true
   },
   "outputs": [],
   "source": [
    "time_axis = global_cube_annual.coord('time')\n",
    "time_axis = _convert_to_seconds(time_axis)\n",
    "\n",
    "diffs_trend = numpy.ma.apply_along_axis(linear_trend, 0, diffs_data, time_axis.points)\n",
    "diffs_trend = numpy.ma.masked_values(diffs_trend, global_cube_annual.data.fill_value)"
   ]
  },
  {
   "cell_type": "code",
   "execution_count": 53,
   "metadata": {
    "collapsed": false
   },
   "outputs": [
    {
     "name": "stdout",
     "output_type": "stream",
     "text": [
      "(165,)\n"
     ]
    }
   ],
   "source": [
    "print(diffs_trend.shape)"
   ]
  },
  {
   "cell_type": "code",
   "execution_count": 57,
   "metadata": {
    "collapsed": false
   },
   "outputs": [
    {
     "data": {
      "image/png": "[encoded data removed]",
      "text/plain": [
       "<matplotlib.figure.Figure at 0x7f797d4e6550>"
      ]
     },
     "metadata": {},
     "output_type": "display_data"
    }
   ],
   "source": [
    "plt.plot(diffs_lats, diffs_trend * -1)\n",
    "plt.axhline(y=0)\n",
    "plt.show()"
   ]
  },
  {
   "cell_type": "code",
   "execution_count": null,
   "metadata": {
    "collapsed": true
   },
   "outputs": [],
   "source": []
  }
 ],
 "metadata": {
  "kernelspec": {
   "display_name": "Python 3",
   "language": "python",
   "name": "python3"
  },
  "language_info": {
   "codemirror_mode": {
    "name": "ipython",
    "version": 3
   },
   "file_extension": ".py",
   "mimetype": "text/x-python",
   "name": "python",
   "nbconvert_exporter": "python",
   "pygments_lexer": "ipython3",
   "version": "3.6.0"
  }
 },
 "nbformat": 4,
 "nbformat_minor": 2
}
