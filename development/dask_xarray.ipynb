{
 "cells": [
  {
   "cell_type": "code",
   "execution_count": 2,
   "metadata": {},
   "outputs": [],
   "source": [
    "import warnings\n",
    "warnings.filterwarnings('ignore')\n",
    "\n",
    "import glob\n",
    "import xarray as xr"
   ]
  },
  {
   "cell_type": "code",
   "execution_count": 3,
   "metadata": {},
   "outputs": [],
   "source": [
    "infiles = glob.glob('/g/data/ua6/DRSv3/CMIP5/CCSM4/historical/mon/ocean/r1i1p1/thetao/latest/thetao_Omon_CCSM4_historical_r1i1p1_??????-??????.nc')\n",
    "infiles.sort()"
   ]
  },
  {
   "cell_type": "code",
   "execution_count": 4,
   "metadata": {},
   "outputs": [],
   "source": [
    "df = xr.open_mfdataset(infiles)"
   ]
  },
  {
   "cell_type": "code",
   "execution_count": 5,
   "metadata": {},
   "outputs": [
    {
     "data": {
      "text/plain": [
       "<xarray.DataArray 'thetao' (time: 1872, lev: 60, j: 384, i: 320)>\n",
       "dask.array<shape=(1872, 60, 384, 320), dtype=float32, chunksize=(120, 60, 384, 320)>\n",
       "Coordinates:\n",
       "  * lev      (lev) float64 5.0 15.0 25.0 35.0 ... 4.875e+03 5.125e+03 5.375e+03\n",
       "  * j        (j) int32 1 2 3 4 5 6 7 8 9 ... 376 377 378 379 380 381 382 383 384\n",
       "  * i        (i) int32 1 2 3 4 5 6 7 8 9 ... 312 313 314 315 316 317 318 319 320\n",
       "    lat      (j, i) float32 -79.22052 -79.22052 -79.22052 ... 72.18933 72.185974\n",
       "    lon      (j, i) float32 320.5625 321.6875 322.8125 ... 319.35068 319.7835\n",
       "  * time     (time) datetime64[ns] 1850-01-16T12:00:00 ... 2005-12-16T12:00:00\n",
       "Attributes:\n",
       "    standard_name:     sea_water_potential_temperature\n",
       "    long_name:         Sea Water Potential Temperature\n",
       "    units:             K\n",
       "    original_name:     TEMP\n",
       "    comment:           TEMP no change, units from C to K\n",
       "    original_units:    degC\n",
       "    history:           2012-02-06T00:12:02Z altered by CMOR: Converted units ...\n",
       "    cell_methods:      time: mean (interval: 30 days)\n",
       "    cell_measures:     area: areacello volume: volcello\n",
       "    associated_files:  baseURL: http://cmip-pcmdi.llnl.gov/CMIP5/dataLocation..."
      ]
     },
     "execution_count": 5,
     "metadata": {},
     "output_type": "execute_result"
    }
   ],
   "source": [
    "df.thetao"
   ]
  },
  {
   "cell_type": "code",
   "execution_count": 6,
   "metadata": {},
   "outputs": [],
   "source": [
    "thetao_annual = df.thetao.groupby('time.year').mean(dim='time')"
   ]
  },
  {
   "cell_type": "code",
   "execution_count": 7,
   "metadata": {
    "scrolled": true
   },
   "outputs": [
    {
     "data": {
      "text/plain": [
       "<xarray.DataArray 'thetao' (year: 156, lev: 60, j: 384, i: 320)>\n",
       "dask.array<shape=(156, 60, 384, 320), dtype=float32, chunksize=(1, 60, 384, 320)>\n",
       "Coordinates:\n",
       "  * lev      (lev) float64 5.0 15.0 25.0 35.0 ... 4.875e+03 5.125e+03 5.375e+03\n",
       "  * j        (j) int32 1 2 3 4 5 6 7 8 9 ... 376 377 378 379 380 381 382 383 384\n",
       "  * i        (i) int32 1 2 3 4 5 6 7 8 9 ... 312 313 314 315 316 317 318 319 320\n",
       "    lat      (j, i) float32 -79.22052 -79.22052 -79.22052 ... 72.18933 72.185974\n",
       "    lon      (j, i) float32 320.5625 321.6875 322.8125 ... 319.35068 319.7835\n",
       "  * year     (year) int64 1850 1851 1852 1853 1854 ... 2001 2002 2003 2004 2005"
      ]
     },
     "execution_count": 7,
     "metadata": {},
     "output_type": "execute_result"
    }
   ],
   "source": [
    "thetao_annual"
   ]
  },
  {
   "cell_type": "code",
   "execution_count": 8,
   "metadata": {},
   "outputs": [],
   "source": [
    "test = thetao_annual.values"
   ]
  },
  {
   "cell_type": "code",
   "execution_count": 9,
   "metadata": {},
   "outputs": [
    {
     "data": {
      "text/plain": [
       "(156, 60, 384, 320)"
      ]
     },
     "execution_count": 9,
     "metadata": {},
     "output_type": "execute_result"
    }
   ],
   "source": [
    "test.shape"
   ]
  },
  {
   "cell_type": "markdown",
   "metadata": {},
   "source": [
    "I think xarray is automatically using dask under the hood here, which is why it's able to perform this task."
   ]
  },
  {
   "cell_type": "code",
   "execution_count": null,
   "metadata": {},
   "outputs": [],
   "source": []
  }
 ],
 "metadata": {
  "kernelspec": {
   "display_name": "Python 3",
   "language": "python",
   "name": "python3"
  },
  "language_info": {
   "codemirror_mode": {
    "name": "ipython",
    "version": 3
   },
   "file_extension": ".py",
   "mimetype": "text/x-python",
   "name": "python",
   "nbconvert_exporter": "python",
   "pygments_lexer": "ipython3",
   "version": "3.6.6"
  }
 },
 "nbformat": 4,
 "nbformat_minor": 2
}
