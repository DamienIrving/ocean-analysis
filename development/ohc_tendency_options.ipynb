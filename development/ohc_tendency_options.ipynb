{
 "cells": [
  {
   "cell_type": "code",
   "execution_count": 60,
   "metadata": {
    "collapsed": true,
    "deletable": true,
    "editable": true
   },
   "outputs": [],
   "source": [
    "import matplotlib.pyplot as plt\n",
    "import iris\n",
    "import iris.plot as iplt\n",
    "import iris.quickplot as qplt\n",
    "\n",
    "import numpy\n",
    "import cf_units\n",
    "from decimal import Decimal"
   ]
  },
  {
   "cell_type": "code",
   "execution_count": 2,
   "metadata": {
    "collapsed": true,
    "deletable": true,
    "editable": true
   },
   "outputs": [],
   "source": [
    "%matplotlib inline"
   ]
  },
  {
   "cell_type": "markdown",
   "metadata": {
    "deletable": true,
    "editable": true
   },
   "source": [
    "## Ocean heat content"
   ]
  },
  {
   "cell_type": "code",
   "execution_count": 3,
   "metadata": {
    "collapsed": false,
    "deletable": true,
    "editable": true
   },
   "outputs": [
    {
     "name": "stderr",
     "output_type": "stream",
     "text": [
      "/g/data/r87/dbi599/miniconda3/envs/ocean/lib/python3.6/site-packages/iris/fileformats/cf.py:1143: IrisDeprecation: NetCDF default loading behaviour currently does not expose variables which define reference surfaces for dimensionless vertical coordinates as independent Cubes. This behaviour is deprecated in favour of automatic promotion to Cubes. To switch to the new behaviour, set iris.FUTURE.netcdf_promote to True.\n",
      "  warn_deprecated(msg)\n"
     ]
    }
   ],
   "source": [
    "infile = '/g/data/r87/dbi599/DRSv2/CMIP5/CSIRO-Mk3-6-0/historicalMisc/yr/all/r1i1p4/energy-budget/latest/energy-budget_yr_CSIRO-Mk3-6-0_historicalMisc_r1i1p4_all.nc'\n",
    "ohc_cube = iris.load_cube(infile, 'ocean heat content nh sum')"
   ]
  },
  {
   "cell_type": "code",
   "execution_count": 4,
   "metadata": {
    "collapsed": false,
    "deletable": true,
    "editable": true
   },
   "outputs": [
    {
     "data": {
      "text/plain": [
       "<iris 'Cube' of ocean heat content nh sum / (J) (time: 163)>"
      ]
     },
     "execution_count": 4,
     "metadata": {},
     "output_type": "execute_result"
    }
   ],
   "source": [
    "ohc_cube"
   ]
  },
  {
   "cell_type": "code",
   "execution_count": 5,
   "metadata": {
    "collapsed": true,
    "deletable": true,
    "editable": true
   },
   "outputs": [],
   "source": [
    "def convert_to_seconds(time_axis):\n",
    "    \"\"\"Convert time axis units to seconds.\n",
    "    Args:\n",
    "      time_axis(iris.DimCoord)\n",
    "    \"\"\"\n",
    "\n",
    "    old_units = str(time_axis.units)\n",
    "    old_timestep = old_units.split(' ')[0]\n",
    "    new_units = old_units.replace(old_timestep, 'seconds') \n",
    "\n",
    "    new_unit = cf_units.Unit(new_units, calendar=time_axis.units.calendar)  \n",
    "    time_axis.convert_units(new_unit)\n",
    "\n",
    "    return time_axis\n",
    "\n",
    "\n",
    "def estimate_ohc_tendency_polyfit(ohc_cube):\n",
    "    \"\"\"Estimate the OHC tendency by taking derivative of fitted polynomial.\n",
    "\n",
    "    polyfit returns [c, b, a] corresponding to y = a + bx + cx^2\n",
    "\n",
    "    \"\"\"\n",
    "\n",
    "    time_axis = convert_to_seconds(ohc_cube.coord('time')).points\n",
    "    \n",
    "    coef_c, coef_b, coef_a = numpy.ma.polyfit(time_axis, ohc_cube.data, 2)\n",
    "    ohc_polyfit_data = coef_a + (coef_b * time_axis) + (coef_c * time_axis**2)\n",
    "    ohc_tendency_data = coef_b + 2 * coef_c * time_axis\n",
    "    \n",
    "    ohc_polyfit_cube = ohc_cube.copy()\n",
    "    ohc_polyfit_cube.data = ohc_polyfit_data\n",
    "    \n",
    "    ohc_tendency_cube = ohc_cube.copy()\n",
    "    ohc_tendency_cube.data = ohc_tendency_data\n",
    "    ohc_tendency_cube.units = 'W'\n",
    "\n",
    "    return ohc_polyfit_cube, ohc_tendency_cube"
   ]
  },
  {
   "cell_type": "code",
   "execution_count": 6,
   "metadata": {
    "collapsed": false,
    "deletable": true,
    "editable": true
   },
   "outputs": [],
   "source": [
    "ohc_polyfit_cube, ohc_polyfit_tendency_cube = estimate_ohc_tendency_polyfit(ohc_cube)"
   ]
  },
  {
   "cell_type": "code",
   "execution_count": 7,
   "metadata": {
    "collapsed": false,
    "deletable": true,
    "editable": true
   },
   "outputs": [
    {
     "name": "stderr",
     "output_type": "stream",
     "text": [
      "/g/data/r87/dbi599/miniconda3/envs/ocean/lib/python3.6/site-packages/matplotlib/ticker.py:1693: UserWarning: Steps argument should be a sequence of numbers\n",
      "increasing from 1 to 10, inclusive. Behavior with\n",
      "values outside this range is undefined, and will\n",
      "raise a ValueError in future versions of mpl.\n",
      "  warnings.warn('Steps argument should be a sequence of numbers\\n'\n"
     ]
    },
    {
     "data": {
      "image/png": "[encoded data removed]",
      "text/plain": [
       "<matplotlib.figure.Figure at 0x7f789c4d2400>"
      ]
     },
     "metadata": {},
     "output_type": "display_data"
    }
   ],
   "source": [
    "qplt.plot(ohc_cube, color='blue')\n",
    "qplt.plot(ohc_polyfit_cube, color='orange')\n",
    "plt.show()"
   ]
  },
  {
   "cell_type": "markdown",
   "metadata": {
    "deletable": true,
    "editable": true
   },
   "source": [
    "## OHC tendency"
   ]
  },
  {
   "cell_type": "markdown",
   "metadata": {
    "deletable": true,
    "editable": true
   },
   "source": [
    "#### dOHC/dt"
   ]
  },
  {
   "cell_type": "code",
   "execution_count": 52,
   "metadata": {
    "collapsed": true,
    "deletable": true,
    "editable": true
   },
   "outputs": [],
   "source": [
    "def estimate_ohc_tendency_diff(ohc_cube):\n",
    "    \"\"\"Estimate the OHC tendency by calculating dOHC/dt\"\"\"\n",
    "    \n",
    "    #dohc = numpy.cumsum(ohc_cube.data - ohc_cube.data[0])\n",
    "    dohc = ohc_cube.data - ohc_cube.data[0]\n",
    "    \n",
    "    #dt = numpy.arange(0, 365.25 * len(dohc), 365.25) * 60 * 60 * 24\n",
    "    dt = len(dohc) * 365.25 * 60 * 60 * 24\n",
    "    \n",
    "    dohc_dt = dohc[1:] / dt   # dt[1:]\n",
    "    \n",
    "    dohc_dt_cube = ohc_cube[1:].copy()\n",
    "    dohc_dt_cube.data = dohc_dt   \n",
    "        \n",
    "    units = str(dohc_dt_cube.units)\n",
    "    dohc_dt_cube.units = units.replace('J', 'W')\n",
    "    \n",
    "    return dohc_dt_cube"
   ]
  },
  {
   "cell_type": "code",
   "execution_count": 53,
   "metadata": {
    "collapsed": false,
    "deletable": true,
    "editable": true
   },
   "outputs": [],
   "source": [
    "ohc_diff_tendency_cube = estimate_ohc_tendency_diff(ohc_cube)"
   ]
  },
  {
   "cell_type": "markdown",
   "metadata": {
    "deletable": true,
    "editable": true
   },
   "source": [
    "#### Fluxes"
   ]
  },
  {
   "cell_type": "code",
   "execution_count": 54,
   "metadata": {
    "collapsed": false,
    "deletable": true,
    "editable": true
   },
   "outputs": [
    {
     "name": "stderr",
     "output_type": "stream",
     "text": [
      "/g/data/r87/dbi599/miniconda3/envs/ocean/lib/python3.6/site-packages/iris/fileformats/cf.py:1143: IrisDeprecation: NetCDF default loading behaviour currently does not expose variables which define reference surfaces for dimensionless vertical coordinates as independent Cubes. This behaviour is deprecated in favour of automatic promotion to Cubes. To switch to the new behaviour, set iris.FUTURE.netcdf_promote to True.\n",
      "  warn_deprecated(msg)\n",
      "/g/data/r87/dbi599/miniconda3/envs/ocean/lib/python3.6/site-packages/iris/fileformats/cf.py:1143: IrisDeprecation: NetCDF default loading behaviour currently does not expose variables which define reference surfaces for dimensionless vertical coordinates as independent Cubes. This behaviour is deprecated in favour of automatic promotion to Cubes. To switch to the new behaviour, set iris.FUTURE.netcdf_promote to True.\n",
      "  warn_deprecated(msg)\n"
     ]
    }
   ],
   "source": [
    "hfds_cube = iris.load_cube(infile, 'Downward Heat Flux at Sea Water Surface nh ocean sum')\n",
    "hfbasin_cube = iris.load_cube(infile, 'Northward Ocean Heat Transport nh ocean sum')"
   ]
  },
  {
   "cell_type": "code",
   "execution_count": 55,
   "metadata": {
    "collapsed": false,
    "deletable": true,
    "editable": true
   },
   "outputs": [],
   "source": [
    "fluxes = hfds_cube + hfbasin_cube"
   ]
  },
  {
   "cell_type": "code",
   "execution_count": 56,
   "metadata": {
    "collapsed": false,
    "deletable": true,
    "editable": true,
    "scrolled": true
   },
   "outputs": [
    {
     "name": "stderr",
     "output_type": "stream",
     "text": [
      "/g/data/r87/dbi599/miniconda3/envs/ocean/lib/python3.6/site-packages/matplotlib/ticker.py:1693: UserWarning: Steps argument should be a sequence of numbers\n",
      "increasing from 1 to 10, inclusive. Behavior with\n",
      "values outside this range is undefined, and will\n",
      "raise a ValueError in future versions of mpl.\n",
      "  warnings.warn('Steps argument should be a sequence of numbers\\n'\n"
     ]
    },
    {
     "data": {
      "image/png": "[encoded data removed]",
      "text/plain": [
       "<matplotlib.figure.Figure at 0x7f78497131d0>"
      ]
     },
     "metadata": {},
     "output_type": "display_data"
    }
   ],
   "source": [
    "qplt.plot(ohc_diff_tendency_cube, color='blue')\n",
    "qplt.plot(ohc_polyfit_tendency_cube, color='orange')\n",
    "#qplt.plot(fluxes, 'green')  # .rolling_window('time', iris.analysis.MEAN, 20)\n",
    "plt.show()"
   ]
  },
  {
   "cell_type": "markdown",
   "metadata": {
    "deletable": true,
    "editable": true
   },
   "source": [
    "## Trends"
   ]
  },
  {
   "cell_type": "code",
   "execution_count": 57,
   "metadata": {
    "collapsed": false,
    "deletable": true,
    "editable": true
   },
   "outputs": [],
   "source": [
    "def _linear_trend(data, time_axis):\n",
    "    \"\"\"Calculate the linear trend.\n",
    "    polyfit returns [a, b] corresponding to y = a + bx\n",
    "    \"\"\"    \n",
    "\n",
    "    masked_flag = False\n",
    "\n",
    "    if type(data) == numpy.ma.core.MaskedArray:\n",
    "        if type(data.mask) == numpy.bool_:\n",
    "            if data.mask:\n",
    "                masked_flag = True\n",
    "        elif data.mask[0]:\n",
    "            masked_flag = True\n",
    "            \n",
    "    if masked_flag:\n",
    "        return data.fill_value\n",
    "    else:\n",
    "        return numpy.polynomial.polynomial.polyfit(time_axis, data, 1)[-1]\n",
    "\n",
    "\n",
    "def calc_trend(cube, per_yr=False):\n",
    "    \"\"\"Calculate linear trend.\n",
    "    Args:\n",
    "      cube (iris.cube.Cube)\n",
    "      running_mean(bool, optional): \n",
    "        A 12-month running mean can first be applied to the data\n",
    "      yr (bool, optional):\n",
    "        Change units from per second to per year\n",
    "    \"\"\"\n",
    "\n",
    "    coord_names = [coord.name() for coord in cube.dim_coords]\n",
    "    assert coord_names[0] == 'time'\n",
    "\n",
    "    time_axis = cube.coord('time')\n",
    "    time_axis = convert_to_seconds(time_axis)\n",
    "\n",
    "    trend = numpy.ma.apply_along_axis(_linear_trend, 0, cube.data, time_axis.points)\n",
    "    if type(cube.data) == numpy.ma.core.MaskedArray:\n",
    "        trend = numpy.ma.masked_values(trend, cube.data.fill_value)\n",
    "\n",
    "    if per_yr:\n",
    "        trend = trend * 60 * 60 * 24 * 365.25\n",
    "\n",
    "    return trend"
   ]
  },
  {
   "cell_type": "code",
   "execution_count": 58,
   "metadata": {
    "collapsed": false,
    "deletable": true,
    "editable": true
   },
   "outputs": [],
   "source": [
    "polyfit_trend = calc_trend(ohc_polyfit_tendency_cube, per_yr=True)\n",
    "diff_trend = calc_trend(ohc_diff_tendency_cube, per_yr=True)\n",
    "fluxes_trend = calc_trend(fluxes, per_yr=True)"
   ]
  },
  {
   "cell_type": "code",
   "execution_count": 62,
   "metadata": {
    "collapsed": false,
    "deletable": true,
    "editable": true
   },
   "outputs": [
    {
     "name": "stdout",
     "output_type": "stream",
     "text": [
      "polyfit trend: -5.03E+11\n",
      "diff trend: -2.38E+11\n",
      "fluxes trend: -5.43E+11\n"
     ]
    }
   ],
   "source": [
    "print('polyfit trend:', '%.2E' % Decimal(polyfit_trend) )\n",
    "print('diff trend:', '%.2E' % Decimal(diff_trend) )\n",
    "print('fluxes trend:', '%.2E' % Decimal(fluxes_trend) )"
   ]
  },
  {
   "cell_type": "code",
   "execution_count": null,
   "metadata": {
    "collapsed": true
   },
   "outputs": [],
   "source": []
  }
 ],
 "metadata": {
  "kernelspec": {
   "display_name": "Python 3",
   "language": "python",
   "name": "python3"
  },
  "language_info": {
   "codemirror_mode": {
    "name": "ipython",
    "version": 3
   },
   "file_extension": ".py",
   "mimetype": "text/x-python",
   "name": "python",
   "nbconvert_exporter": "python",
   "pygments_lexer": "ipython3",
   "version": "3.6.0"
  }
 },
 "nbformat": 4,
 "nbformat_minor": 2
}
