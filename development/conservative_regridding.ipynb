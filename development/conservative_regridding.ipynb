{
 "cells": [
  {
   "cell_type": "code",
   "execution_count": 14,
   "metadata": {
    "collapsed": true
   },
   "outputs": [],
   "source": [
    "import numpy\n",
    "import iris\n",
    "from iris.experimental.regrid import regrid_weighted_curvilinear_to_rectilinear"
   ]
  },
  {
   "cell_type": "code",
   "execution_count": 8,
   "metadata": {
    "collapsed": true
   },
   "outputs": [],
   "source": [
    "data_file = '/g/data/r87/dbi599/DRSv2/CMIP5/NorESM1-M/historical/yr/ocean/r1i1p1/ohc/latest/ohc_Oyr_NorESM1-M_historical_r1i1p1_185001-185312.nc'\n",
    "area_file = '/g/data/ua6/DRSv2/CMIP5/NorESM1-M/historical/fx/ocean/r0i0p0/areacello/latest/areacello_fx_NorESM1-M_historical_r0i0p0.nc'"
   ]
  },
  {
   "cell_type": "markdown",
   "metadata": {},
   "source": [
    "## Iris"
   ]
  },
  {
   "cell_type": "code",
   "execution_count": 20,
   "metadata": {
    "collapsed": false
   },
   "outputs": [
    {
     "name": "stdout",
     "output_type": "stream",
     "text": [
      "ocean heat content / (J)            (cell index along second dimension: 384; cell index along first dimension: 320)\n",
      "     Dimension coordinates:\n",
      "          cell index along second dimension                           x                                      -\n",
      "          cell index along first dimension                            -                                      x\n",
      "     Auxiliary coordinates:\n",
      "          latitude                                                    x                                      x\n",
      "          longitude                                                   x                                      x\n",
      "     Scalar coordinates:\n",
      "          time: 1850-07-02 12:00:00, bound=(1850-01-01 00:00:00, 1851-01-01 00:00:00)\n",
      "     Attributes:\n",
      "          Conventions: CF-1.5\n",
      "          associated_files: baseURL: http://cmip-pcmdi.llnl.gov/CMIP5/dataLocation gridspecFile: gridspec_ocean_fx_NorESM1-M_historical_r0i0p0.nc...\n",
      "          branch_time: 255135.0\n",
      "          cmor_version: 2.5.9\n",
      "          contact: Please send any requests or bug reports to noresm-ncc@met.no.\n",
      "          creation_date: 2011-05-17T00:00:06Z\n",
      "          depth_bounds: OHC integrated over full depth of input data (0.000000 down to 6750.00...\n",
      "          experiment: historical\n",
      "          experiment_id: historical\n",
      "          forcing: GHG, SA, Oz, Sl, Vl, BC, OC\n",
      "          frequency: mon\n",
      "          history: Thu May 31 11:50:38 2018: /g/data/r87/dbi599/miniconda3/envs/ocean/bin/python...\n",
      "          initialization_method: 1\n",
      "          institute_id: NCC\n",
      "          institution: Norwegian Climate Centre\n",
      "          invalid_standard_name: ocean_heat_content\n",
      "          model_id: NorESM1-M\n",
      "          modeling_realm: ocean\n",
      "          original_name: templvl\n",
      "          original_units: degC\n",
      "          parent_experiment: pre-industrial control\n",
      "          parent_experiment_id: piControl\n",
      "          parent_experiment_rip: r1i1p1\n",
      "          physics_version: 1\n",
      "          product: output\n",
      "          project_id: CMIP5\n",
      "          realization: 1\n",
      "          source: NorESM1-M 2011  atmosphere: CAM-Oslo (CAM4-Oslo-noresm-ver1_cmip5-r112,...\n",
      "          table_id: Table Omon (27 April 2011) 340eddd4fd838d90fa9ffe1345ecbd73\n",
      "          title: NorESM1-M model output prepared for CMIP5 historical\n",
      "          tracking_id: 3ab31f5b-be54-4335-831d-3cf93ec3c89d\n"
     ]
    }
   ],
   "source": [
    "data_cube = iris.load_cube(data_file, 'ocean heat content')[0]\n",
    "print(data_cube)"
   ]
  },
  {
   "cell_type": "code",
   "execution_count": 10,
   "metadata": {
    "collapsed": false
   },
   "outputs": [
    {
     "data": {
      "text/plain": [
       "<iris 'Cube' of cell_area / (m2) (cell index along second dimension: 384; cell index along first dimension: 320)>"
      ]
     },
     "execution_count": 10,
     "metadata": {},
     "output_type": "execute_result"
    }
   ],
   "source": [
    "area_cube = iris.load_cube(area_file)\n",
    "area_cube"
   ]
  },
  {
   "cell_type": "code",
   "execution_count": 12,
   "metadata": {
    "collapsed": true
   },
   "outputs": [],
   "source": [
    "def make_grid(lat_values, lon_values):\n",
    "    \"\"\"Make a dummy cube with desired grid.\"\"\"\n",
    "       \n",
    "    latitude = iris.coords.DimCoord(lat_values,\n",
    "                                    standard_name='latitude',\n",
    "                                    units='degrees_north',\n",
    "                                    coord_system=iris.coord_systems.GeogCS(iris.fileformats.pp.EARTH_RADIUS))\n",
    "    longitude = iris.coords.DimCoord(lon_values,                    \n",
    "                                     standard_name='longitude',\n",
    "                                     units='degrees_east',\n",
    "                                     coord_system=iris.coord_systems.GeogCS(iris.fileformats.pp.EARTH_RADIUS))\n",
    "\n",
    "    dummy_data = numpy.zeros((len(lat_values), len(lon_values)))\n",
    "    new_cube = iris.cube.Cube(dummy_data, dim_coords_and_dims=[(latitude, 0), (longitude, 1)])\n",
    "\n",
    "    new_cube.coord('longitude').guess_bounds()\n",
    "    new_cube.coord('latitude').guess_bounds()\n",
    "\n",
    "    return new_cube"
   ]
  },
  {
   "cell_type": "code",
   "execution_count": 24,
   "metadata": {
    "collapsed": false
   },
   "outputs": [
    {
     "data": {
      "text/plain": [
       "<iris 'Cube' of unknown / (unknown) (latitude: 121; longitude: 240)>"
      ]
     },
     "execution_count": 24,
     "metadata": {},
     "output_type": "execute_result"
    }
   ],
   "source": [
    "grid_res = 1.5\n",
    "lats = numpy.arange(-90, 90.01, grid_res)\n",
    "lons = numpy.arange(0, 360, grid_res)\n",
    "target_grid_cube = make_grid(lats, lons)\n",
    "target_grid_cube"
   ]
  },
  {
   "cell_type": "code",
   "execution_count": 25,
   "metadata": {
    "collapsed": false
   },
   "outputs": [],
   "source": [
    "data_cube.coord(axis='x').coord_system = iris.coord_systems.GeogCS(iris.fileformats.pp.EARTH_RADIUS)\n",
    "data_cube.coord(axis='y').coord_system = iris.coord_systems.GeogCS(iris.fileformats.pp.EARTH_RADIUS)\n",
    "regridded_cube = regrid_weighted_curvilinear_to_rectilinear(data_cube, area_cube.data, target_grid_cube)"
   ]
  },
  {
   "cell_type": "code",
   "execution_count": 26,
   "metadata": {
    "collapsed": false
   },
   "outputs": [
    {
     "data": {
      "text/plain": [
       "1.5558972140441873e+27"
      ]
     },
     "execution_count": 26,
     "metadata": {},
     "output_type": "execute_result"
    }
   ],
   "source": [
    "data_cube.data.sum()"
   ]
  },
  {
   "cell_type": "code",
   "execution_count": 27,
   "metadata": {
    "collapsed": false
   },
   "outputs": [
    {
     "data": {
      "text/plain": [
       "3.3695111439001594e+26"
      ]
     },
     "execution_count": 27,
     "metadata": {},
     "output_type": "execute_result"
    }
   ],
   "source": [
    "regridded_cube.data.sum()"
   ]
  },
  {
   "cell_type": "code",
   "execution_count": null,
   "metadata": {
    "collapsed": true
   },
   "outputs": [],
   "source": []
  }
 ],
 "metadata": {
  "kernelspec": {
   "display_name": "Python 3",
   "language": "python",
   "name": "python3"
  },
  "language_info": {
   "codemirror_mode": {
    "name": "ipython",
    "version": 3
   },
   "file_extension": ".py",
   "mimetype": "text/x-python",
   "name": "python",
   "nbconvert_exporter": "python",
   "pygments_lexer": "ipython3",
   "version": "3.6.0"
  }
 },
 "nbformat": 4,
 "nbformat_minor": 2
}
