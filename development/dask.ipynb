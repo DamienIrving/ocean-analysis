{
 "cells": [
  {
   "cell_type": "code",
   "execution_count": 17,
   "metadata": {},
   "outputs": [],
   "source": [
    "import glob\n",
    "\n",
    "import iris\n",
    "from iris.experimental.equalise_cubes import equalise_attributes\n",
    "\n",
    "import xarray as xr\n",
    "\n",
    "from dask.distributed import Client, progress, LocalCluster"
   ]
  },
  {
   "cell_type": "code",
   "execution_count": 9,
   "metadata": {},
   "outputs": [
    {
     "data": {
      "application/vnd.jupyter.widget-view+json": {
       "model_id": "202811d62c354220b6269c5772631e8d",
       "version_major": 2,
       "version_minor": 0
      },
      "text/plain": [
       "VBox(children=(HTML(value='<h2>LocalCluster</h2>'), HBox(children=(HTML(value='\\n<div>\\n  <style scoped>\\n    …"
      ]
     },
     "metadata": {},
     "output_type": "display_data"
    }
   ],
   "source": [
    "client = LocalCluster() \n",
    "client"
   ]
  },
  {
   "cell_type": "code",
   "execution_count": 18,
   "metadata": {},
   "outputs": [],
   "source": [
    "thetao_files = '/g/data/ua6/DRSv2/CMIP5/CSIRO-Mk3-6-0/piControl/mon/ocean/r1i1p1/thetao/latest/thetao_Omon_CSIRO-Mk3-6-0_piControl_r1i1p1_*.nc'\n",
    "thetao_file_list = glob.glob(thetao_files)"
   ]
  },
  {
   "cell_type": "markdown",
   "metadata": {},
   "source": [
    "## xarray"
   ]
  },
  {
   "cell_type": "code",
   "execution_count": 5,
   "metadata": {},
   "outputs": [],
   "source": [
    "ds = xr.open_dataset(thetao_files)\n",
    "thetao = ds['thetao']"
   ]
  },
  {
   "cell_type": "code",
   "execution_count": 6,
   "metadata": {},
   "outputs": [
    {
     "data": {
      "text/plain": [
       "<xarray.DataArray 'pr' (time: 60, lat: 145, lon: 192)>\n",
       "[1670400 values with dtype=float32]\n",
       "Coordinates:\n",
       "  * lon      (lon) float64 0.0 1.875 3.75 5.625 7.5 9.375 11.25 13.12 15.0 ...\n",
       "  * lat      (lat) float64 -90.0 -88.75 -87.5 -86.25 -85.0 -83.75 -82.5 ...\n",
       "  * time     (time) datetime64[ns] 2001-01-16T12:00:00 2001-02-15 ...\n",
       "Attributes:\n",
       "    standard_name:     precipitation_flux\n",
       "    long_name:         Precipitation\n",
       "    units:             kg m-2 s-1\n",
       "    comment:           at surface; includes both liquid and solid phases from...\n",
       "    cell_methods:      time: mean\n",
       "    associated_files:  baseURL: http://cmip-pcmdi.llnl.gov/CMIP5/dataLocation..."
      ]
     },
     "execution_count": 6,
     "metadata": {},
     "output_type": "execute_result"
    }
   ],
   "source": [
    "theato"
   ]
  },
  {
   "cell_type": "code",
   "execution_count": 12,
   "metadata": {},
   "outputs": [
    {
     "data": {
      "text/plain": [
       "0.0066816"
      ]
     },
     "execution_count": 12,
     "metadata": {},
     "output_type": "execute_result"
    }
   ],
   "source": [
    "# the number of GB involved in the reduction\n",
    "ds.thetao.nbytes/1e9"
   ]
  },
  {
   "cell_type": "code",
   "execution_count": 13,
   "metadata": {},
   "outputs": [
    {
     "data": {
      "text/plain": [
       "<xarray.DataArray 'pr' (time: 60)>\n",
       "array([2.885244e-05, 2.942032e-05, 2.969076e-05, 2.937850e-05, 3.015959e-05,\n",
       "       3.114218e-05, 3.141754e-05, 3.092697e-05, 3.025265e-05, 2.942208e-05,\n",
       "       2.924221e-05, 2.898165e-05, 2.910258e-05, 2.900095e-05, 2.942142e-05,\n",
       "       2.960631e-05, 3.091742e-05, 3.144607e-05, 3.122549e-05, 3.111620e-05,\n",
       "       2.981876e-05, 2.996457e-05, 2.953239e-05, 2.911846e-05, 2.879192e-05,\n",
       "       2.927267e-05, 2.956123e-05, 2.982080e-05, 3.015628e-05, 3.125701e-05,\n",
       "       3.152196e-05, 3.092750e-05, 3.048339e-05, 2.977637e-05, 2.970339e-05,\n",
       "       2.866807e-05, 2.915586e-05, 2.913593e-05, 2.950430e-05, 2.984615e-05,\n",
       "       3.086244e-05, 3.166430e-05, 3.135809e-05, 3.135390e-05, 3.010619e-05,\n",
       "       3.029122e-05, 2.919210e-05, 2.944928e-05, 2.907020e-05, 2.928065e-05,\n",
       "       2.951659e-05, 2.971284e-05, 3.066567e-05, 3.119685e-05, 3.111589e-05,\n",
       "       3.100750e-05, 3.098288e-05, 2.968451e-05, 2.997896e-05, 2.931432e-05],\n",
       "      dtype=float32)\n",
       "Coordinates:\n",
       "  * time     (time) datetime64[ns] 2001-01-16T12:00:00 2001-02-15 ..."
      ]
     },
     "execution_count": 13,
     "metadata": {},
     "output_type": "execute_result"
    }
   ],
   "source": [
    "thetao.mean(dim=('lat','lon'))    #.load()"
   ]
  },
  {
   "cell_type": "markdown",
   "metadata": {},
   "source": [
    "## iris"
   ]
  },
  {
   "cell_type": "code",
   "execution_count": null,
   "metadata": {},
   "outputs": [],
   "source": [
    "cube = iris.load(thetao_files, 'sea_water_potential_temperature')\n",
    "equalise_attributes(cube)\n",
    "cube = cube.concatenate_cube()"
   ]
  },
  {
   "cell_type": "code",
   "execution_count": null,
   "metadata": {},
   "outputs": [],
   "source": [
    "cube = cube.collapsed(['longitude', 'latitude'], iris.analysis.MEAN)"
   ]
  }
 ],
 "metadata": {
  "kernelspec": {
   "display_name": "Python 3",
   "language": "python",
   "name": "python3"
  },
  "language_info": {
   "codemirror_mode": {
    "name": "ipython",
    "version": 3
   },
   "file_extension": ".py",
   "mimetype": "text/x-python",
   "name": "python",
   "nbconvert_exporter": "python",
   "pygments_lexer": "ipython3",
   "version": "3.6.6"
  }
 },
 "nbformat": 4,
 "nbformat_minor": 2
}
