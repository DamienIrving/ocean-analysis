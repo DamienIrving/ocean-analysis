{
 "cells": [
  {
   "cell_type": "code",
   "execution_count": 4,
   "metadata": {},
   "outputs": [],
   "source": [
    "import warnings\n",
    "warnings.filterwarnings('ignore')\n",
    "\n",
    "import numpy\n",
    "import matplotlib.pyplot as plt\n",
    "import glob\n",
    "\n",
    "import pandas as pd\n",
    "#from bokeh.charts import TimeSeries, show, output_file\n",
    "\n",
    "import iris\n",
    "from iris.experimental.equalise_cubes import equalise_attributes"
   ]
  },
  {
   "cell_type": "markdown",
   "metadata": {},
   "source": [
    "## Read data"
   ]
  },
  {
   "cell_type": "code",
   "execution_count": 35,
   "metadata": {},
   "outputs": [],
   "source": [
    "# Configuration\n",
    "model = 'NorESM1-M'\n",
    "experiment = 'historical'\n",
    "rip = 'r1i1p1'\n",
    "ua6_dir = '/g/data/ua6/DRSv3/CMIP5'  # /g/data/r87/dbi599\n",
    "r87_dir = '/g/data/r87/dbi599/DRSv2/CMIP5'\n",
    "\n",
    "depth_index = 0\n",
    "i_index = 34\n",
    "j_index = 50\n",
    "\n",
    "#lev_constraint = iris.Constraint(lev=depth)\n",
    "#lat_constraint = iris.Constraint(lat=latitude)\n",
    "#lon_constraint = iris.Constraint(lon=longitude)"
   ]
  },
  {
   "cell_type": "code",
   "execution_count": 56,
   "metadata": {},
   "outputs": [],
   "source": [
    "control_files = glob.glob('%s/%s/piControl/mon/ocean/r1i1p1/thetao/latest/thetao_Omon_%s_piControl_r1i1p1_*.nc' %(ua6_dir, model, model) )\n",
    "experiment_files = glob.glob('%s/%s/%s/mon/ocean/%s/thetao/latest/thetao_Omon_%s_%s_%s_*.nc' %(ua6_dir, model, experiment, rip, model, experiment, rip) )\n",
    "dedrifted_files = glob.glob('%s/%s/%s/yr/ocean/%s/thetao/latest/dedrifted/thetao_Oyr_%s_%s_%s_??????-??????.nc' %(r87_dir, model, experiment, rip, model, experiment, rip) )\n",
    "coefficient_file = '%s/%s/piControl/yr/ocean/r1i1p1/thetao/latest/thetao-coefficients_Oyr_%s_piControl_r1i1p1_all.nc' %(r87_dir, model, model)"
   ]
  },
  {
   "cell_type": "code",
   "execution_count": 43,
   "metadata": {},
   "outputs": [],
   "source": [
    "def read_files(file_list, depth_index, i_index, j_index):\n",
    "    \"\"\"Read a list of files into an iris Cube\"\"\"\n",
    "    \n",
    "    cube = iris.load(file_list, 'sea_water_potential_temperature')\n",
    "    iris.util.unify_time_units(cube)\n",
    "    equalise_attributes(cube)\n",
    "    cube = cube.concatenate_cube()[:, depth_index, i_index, j_index]\n",
    "    \n",
    "    return cube"
   ]
  },
  {
   "cell_type": "code",
   "execution_count": 44,
   "metadata": {},
   "outputs": [],
   "source": [
    "control_cube = read_files(control_files, depth_index, i_index, j_index)"
   ]
  },
  {
   "cell_type": "code",
   "execution_count": 46,
   "metadata": {},
   "outputs": [],
   "source": [
    "historical_cube = read_files(experiment_files, depth_index, i_index, j_index)"
   ]
  },
  {
   "cell_type": "code",
   "execution_count": 52,
   "metadata": {},
   "outputs": [],
   "source": [
    "dedrifted_cube = read_files(dedrifted_files, depth_index, i_index, j_index)"
   ]
  },
  {
   "cell_type": "code",
   "execution_count": 65,
   "metadata": {},
   "outputs": [],
   "source": [
    "a_cube = iris.load_cube(coefficient_file, 'coefficient a')[depth_index, i_index, j_index]\n",
    "b_cube = iris.load_cube(coefficient_file, 'coefficient b')[depth_index, i_index, j_index]\n",
    "c_cube = iris.load_cube(coefficient_file, 'coefficient c')[depth_index, i_index, j_index]\n",
    "d_cube = iris.load_cube(coefficient_file, 'coefficient d')[depth_index, i_index, j_index]"
   ]
  },
  {
   "cell_type": "code",
   "execution_count": 79,
   "metadata": {},
   "outputs": [],
   "source": [
    "numpy_poly = numpy.poly1d([float(d_cube.data), \n",
    "                           float(c_cube.data),\n",
    "                           float(b_cube.data),\n",
    "                           float(a_cube.data)])\n",
    "cubic_fit = numpy_poly(control_cube.coord('time').points)"
   ]
  },
  {
   "cell_type": "markdown",
   "metadata": {},
   "source": [
    "Do some annual smoothing..."
   ]
  },
  {
   "cell_type": "markdown",
   "metadata": {},
   "source": [
    "## Plot"
   ]
  },
  {
   "cell_type": "code",
   "execution_count": 77,
   "metadata": {},
   "outputs": [],
   "source": [
    "%matplotlib inline"
   ]
  },
  {
   "cell_type": "code",
   "execution_count": null,
   "metadata": {
    "collapsed": true
   },
   "outputs": [],
   "source": [
    "#control_times = control_cube.coord('time').points\n",
    "#df = pd.DataFrame(control_cube.data, index=control_times, columns=['control'])"
   ]
  },
  {
   "cell_type": "code",
   "execution_count": 83,
   "metadata": {},
   "outputs": [
    {
     "data": {
      "image/png": "[encoded data removed]",
      "text/plain": [
       "<Figure size 432x288 with 1 Axes>"
      ]
     },
     "metadata": {
      "needs_background": "light"
     },
     "output_type": "display_data"
    }
   ],
   "source": [
    "#plt.plot(control_cube.coord('time').points, control_cube.data)\n",
    "plt.plot(control_cube.coord('time').points, cubic_fit)\n",
    "\n",
    "plt.ylabel('y')\n",
    "plt.xlabel('x')\n",
    "plt.show()"
   ]
  },
  {
   "cell_type": "code",
   "execution_count": null,
   "metadata": {},
   "outputs": [],
   "source": []
  }
 ],
 "metadata": {
  "kernelspec": {
   "display_name": "Python 3",
   "language": "python",
   "name": "python3"
  },
  "language_info": {
   "codemirror_mode": {
    "name": "ipython",
    "version": 3
   },
   "file_extension": ".py",
   "mimetype": "text/x-python",
   "name": "python",
   "nbconvert_exporter": "python",
   "pygments_lexer": "ipython3",
   "version": "3.6.6"
  }
 },
 "nbformat": 4,
 "nbformat_minor": 2
}
