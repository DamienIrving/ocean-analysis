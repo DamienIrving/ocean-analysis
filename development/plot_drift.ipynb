{
 "cells": [
  {
   "cell_type": "code",
   "execution_count": 1,
   "metadata": {
    "collapsed": true
   },
   "outputs": [],
   "source": [
    "import iris\n",
    "import numpy\n",
    "import matplotlib.pyplot as plt\n",
    "import glob\n",
    "\n",
    "import pandas as pd\n",
    "#from bokeh.charts import TimeSeries, show, output_file\n",
    "\n",
    "from iris.experimental.equalise_cubes import equalise_attributes"
   ]
  },
  {
   "cell_type": "markdown",
   "metadata": {},
   "source": [
    "## Read data"
   ]
  },
  {
   "cell_type": "code",
   "execution_count": 2,
   "metadata": {
    "collapsed": true
   },
   "outputs": [],
   "source": [
    "# Configuration\n",
    "\n",
    "model = 'NorESM1-M'\n",
    "control_location = '/g/data/ua6/DRSv3/CMIP5'  # /g/data/r87/dbi599\n",
    "historical_location = '/g/data/ua6/DRSv3/CMIP5'\n",
    "\n",
    "depth = 15\n",
    "latitude = 56\n",
    "longitude = 30"
   ]
  },
  {
   "cell_type": "code",
   "execution_count": null,
   "metadata": {
    "collapsed": true
   },
   "outputs": [],
   "source": [
    "control_files = glob.glob('%s/piControl/mon/ocean/thetao/r1i1p1/thetao_Omon_%s_piControl_r1i1p1_*.nc' %(control_location, institution, model, model) )\n",
    "historical_files = glob.glob('%s/historical/mon/ocean/thetao/r1i1p1/thetao_Omon_%s_historical_r1i1p1_*.nc' %(historical_location, institution, model, model) )\n",
    "dedrifted_historical_files = glob.glob('%s/historical/mon/ocean/thetao/r1i1p1/dedrifted/thetao_Omon_%s_historical_r1i1p1_*.nc' %(institution, model, model) )\n",
    "coefficient_file = '/g/data/r87/dbi599/DRSv2/CMIP5/%s/piControl/mon/ocean/thetao/r1i1p1/thetao-coefficients_Omon_%s_piControl_r1i1p1_all.nc' %(institution, model, model)"
   ]
  },
  {
   "cell_type": "code",
   "execution_count": null,
   "metadata": {
    "collapsed": true
   },
   "outputs": [],
   "source": [
    "lev_constraint = iris.Constraint(depth=depth)\n",
    "lat_constraint = iris.Constraint(grid_latitude=latitude)\n",
    "lon_constraint = iris.Constraint(grid_longitude=longitude)"
   ]
  },
  {
   "cell_type": "code",
   "execution_count": null,
   "metadata": {
    "collapsed": true
   },
   "outputs": [],
   "source": [
    "def read_files(file_list):\n",
    "    \"\"\"Read a list of files into an iris Cube\"\"\"\n",
    "    \n",
    "    cube = iris.load(file_list, 'sea_water_potential_temperature' & lev_constraint & lat_constraint & lon_constraint)\n",
    "    equalise_attributes(cube)\n",
    "    cube = cube.concatenate_cube()\n",
    "    \n",
    "    return cube"
   ]
  },
  {
   "cell_type": "code",
   "execution_count": null,
   "metadata": {
    "collapsed": true
   },
   "outputs": [],
   "source": [
    "control_cube = read_files(control_files)\n",
    "historical_cube = read_files(historical_files)\n",
    "dedrifted_historical_cube = read_files(dedrifted_historical_files)\n",
    "coefficient_cube = iris.load_cube(coefficient_file, 'Sea Water Potential Temperature' & lev_constraint & lat_constraint & lon_constraint)"
   ]
  },
  {
   "cell_type": "code",
   "execution_count": null,
   "metadata": {
    "collapsed": true
   },
   "outputs": [],
   "source": [
    "def apply_polynomial(x, a, b, c, d):\n",
    "    \"\"\"Evaluate cubic polynomial.\n",
    "\n",
    "    The axis argument is not used but is required for the function to be \n",
    "      used with numpy.apply_over_axes \n",
    "\n",
    "    \"\"\"\n",
    "\n",
    "    result = a + b * x + c * x**2 + d * x**3 \n",
    "    \n",
    "    return result"
   ]
  },
  {
   "cell_type": "code",
   "execution_count": null,
   "metadata": {
    "collapsed": true
   },
   "outputs": [],
   "source": [
    "coeff_a, coeff_b, coeff_c, coeff_d = coefficient_cube.data\n",
    "my_poly = apply_polynomial(control_cube.coord('time').points,\n",
    "                           coeff_a, coeff_b, coeff_c, coeff_d)"
   ]
  },
  {
   "cell_type": "code",
   "execution_count": null,
   "metadata": {
    "collapsed": true
   },
   "outputs": [],
   "source": [
    "numpy_poly = numpy.poly1d([float(coeff_d), \n",
    "                           float(coeff_c),\n",
    "                           float(coeff_b),\n",
    "                           float(coeff_a)])"
   ]
  },
  {
   "cell_type": "markdown",
   "metadata": {},
   "source": [
    "## Plot"
   ]
  },
  {
   "cell_type": "code",
   "execution_count": null,
   "metadata": {
    "collapsed": true
   },
   "outputs": [],
   "source": [
    "control_times = control_cube.coord('time').points\n",
    "df = pd.DataFrame(control_cube.data, index=control_times, columns=['control'])"
   ]
  },
  {
   "cell_type": "code",
   "execution_count": null,
   "metadata": {
    "collapsed": true
   },
   "outputs": [],
   "source": [
    "plt.plot(full_control_cube.coord('time').points[0:50], my_poly[0:50], 'o')\n",
    "plt.plot(control_cube.coord('time').points[0:50], control_cube.data[0:50])\n",
    "plt.ylabel('y')\n",
    "plt.xlabel('x')\n",
    "plt.show()"
   ]
  }
 ],
 "metadata": {
  "kernelspec": {
   "display_name": "Python 3",
   "language": "python",
   "name": "python3"
  },
  "language_info": {
   "codemirror_mode": {
    "name": "ipython",
    "version": 3
   },
   "file_extension": ".py",
   "mimetype": "text/x-python",
   "name": "python",
   "nbconvert_exporter": "python",
   "pygments_lexer": "ipython3",
   "version": "3.6.2"
  }
 },
 "nbformat": 4,
 "nbformat_minor": 2
}
