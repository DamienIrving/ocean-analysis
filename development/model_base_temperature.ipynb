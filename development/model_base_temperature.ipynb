{
 "cells": [
  {
   "cell_type": "code",
   "execution_count": 31,
   "metadata": {
    "collapsed": true
   },
   "outputs": [],
   "source": [
    "import os, sys\n",
    "import glob\n",
    "import iris\n",
    "from iris.experimental.equalise_cubes import equalise_attributes\n",
    "import iris.plot as iplt\n",
    "import matplotlib.pyplot as plt\n",
    "\n",
    "import warnings\n",
    "warnings.filterwarnings('ignore')\n",
    "\n",
    "cwd = os.getcwd()\n",
    "repo_dir = '/'\n",
    "for directory in cwd.split('/')[1:]:\n",
    "    repo_dir = os.path.join(repo_dir, directory)\n",
    "    if directory == 'ocean-analysis':\n",
    "        break\n",
    "modules_dir = os.path.join(repo_dir, 'modules')\n",
    "sys.path.append(modules_dir)\n",
    "import general_io as gio\n",
    "import spatial_weights\n",
    "import convenient_universal as uconv\n",
    "import timeseries"
   ]
  },
  {
   "cell_type": "markdown",
   "metadata": {},
   "source": [
    "## Find files"
   ]
  },
  {
   "cell_type": "code",
   "execution_count": 19,
   "metadata": {
    "collapsed": true
   },
   "outputs": [],
   "source": [
    "def find_thetao_files(model, experiment, rip):\n",
    "    \"\"\"Find thetao files for given model, experiment and rip\"\"\"\n",
    "\n",
    "    search_pattern = '/g/data/ua6/DRSv2/CMIP5/%s/%s/mon/ocean/%s/thetao/latest/thetao_Omon_*.nc' %(model, experiment, rip)\n",
    "    file_list = glob.glob(search_pattern)\n",
    "    \n",
    "    return file_list\n",
    "\n",
    "\n",
    "def find_volume_file(model, experiment, rip='r0i0p0'):\n",
    "    \"\"\"Find files for given model, experiment and rip\"\"\"\n",
    "\n",
    "    search_pattern = '/g/data/ua6/DRSv2/CMIP5/%s/%s/fx/ocean/%s/volcello/latest/*.nc' %(model, experiment, rip)\n",
    "    volume_file = glob.glob(search_pattern)\n",
    "    \n",
    "    return volume_file[0]"
   ]
  },
  {
   "cell_type": "code",
   "execution_count": 20,
   "metadata": {
    "collapsed": true
   },
   "outputs": [],
   "source": [
    "files = {}\n",
    "files['historical'] = find_thetao_files('CanESM2', 'historical', 'r1i1p1')\n",
    "files['historicalGHG'] = find_thetao_files('CanESM2', 'historicalGHG', 'r1i1p1')\n",
    "files['historicalMisc'] = find_thetao_files('CanESM2', 'historicalMisc', 'r1i1p4')\n",
    "files['piControl'] = find_thetao_files('CanESM2', 'piControl', 'r1i1p1')\n",
    "\n",
    "volume_file = find_volume_file('CanESM2', 'historical')"
   ]
  },
  {
   "cell_type": "markdown",
   "metadata": {},
   "source": [
    "## Load data"
   ]
  },
  {
   "cell_type": "code",
   "execution_count": 15,
   "metadata": {
    "collapsed": false
   },
   "outputs": [],
   "source": [
    "def load_thetao_data(infiles):\n",
    "    \"\"\"Load the first 10 years of monthly data.\"\"\"\n",
    "    \n",
    "    cube = iris.load(infiles, 'sea_water_potential_temperature')\n",
    "    equalise_attributes(cube)\n",
    "    iris.util.unify_time_units(cube)\n",
    "    cube = cube.concatenate_cube()\n",
    "\n",
    "    return cube[0:120, ::]"
   ]
  },
  {
   "cell_type": "code",
   "execution_count": 25,
   "metadata": {
    "collapsed": false
   },
   "outputs": [],
   "source": [
    "data = {}\n",
    "for experiment in files.keys():\n",
    "    data[experiment] = load_thetao_data(files[experiment])\n",
    "\n",
    "volume_cube = iris.load_cube(volume_file)"
   ]
  },
  {
   "cell_type": "markdown",
   "metadata": {},
   "source": [
    "## Calculate the average ocean temperature"
   ]
  },
  {
   "cell_type": "code",
   "execution_count": 23,
   "metadata": {
    "collapsed": false
   },
   "outputs": [],
   "source": [
    "def spatial_average(data_cube, volume_cube):\n",
    "    \"\"\"Calculate the weighted average ocean temperature\"\"\"\n",
    "    \n",
    "    coord_names = [coord.name() for coord in data_cube.dim_coords]\n",
    "    assert coord_names[0] == 'time'\n",
    "    \n",
    "    volume_data = uconv.broadcast_array(volume_cube.data, [1, 3], data_cube.shape)\n",
    "    average = data_cube.collapsed(coord_names[1:], iris.analysis.SUM, weights=volume_data)\n",
    "    \n",
    "    return average"
   ]
  },
  {
   "cell_type": "code",
   "execution_count": 29,
   "metadata": {
    "collapsed": false
   },
   "outputs": [],
   "source": [
    "average_temp = {}\n",
    "for experiment in files.keys():\n",
    "    average_temp[experiment] = spatial_average(data[experiment], volume_cube)"
   ]
  },
  {
   "cell_type": "code",
   "execution_count": 30,
   "metadata": {
    "collapsed": false
   },
   "outputs": [
    {
     "name": "stdout",
     "output_type": "stream",
     "text": [
      "historical 3.75416236878e+20 9.59774173853e+17\n",
      "historicalGHG 3.75558925926e+20 1.02453438189e+17\n",
      "historicalMisc 3.75560314536e+20 1.0365663082e+17\n",
      "piControl 3.74694234798e+20 9.51092064676e+18\n"
     ]
    }
   ],
   "source": [
    "for experiment, cube in average_temp.items():\n",
    "    ave = cube.data.mean()\n",
    "    std = cube.data.std()\n",
    "    print(experiment, ave, std)"
   ]
  },
  {
   "cell_type": "code",
   "execution_count": 36,
   "metadata": {
    "collapsed": false
   },
   "outputs": [
    {
     "data": {
      "image/png": "[encoded data removed]",
      "text/plain": [
       "<matplotlib.figure.Figure at 0x7ff78083ce80>"
      ]
     },
     "metadata": {},
     "output_type": "display_data"
    }
   ],
   "source": [
    "plt.plot(average_temp['historical'].data, color='black')\n",
    "plt.plot(average_temp['historicalGHG'].data, color='red')\n",
    "plt.plot(average_temp['historicalMisc'].data, color='blue')\n",
    "plt.plot(average_temp['piControl'].data, color='green')\n",
    "\n",
    "plt.show()"
   ]
  },
  {
   "cell_type": "code",
   "execution_count": null,
   "metadata": {
    "collapsed": true
   },
   "outputs": [],
   "source": []
  }
 ],
 "metadata": {
  "kernelspec": {
   "display_name": "Python 3",
   "language": "python",
   "name": "python3"
  },
  "language_info": {
   "codemirror_mode": {
    "name": "ipython",
    "version": 3
   },
   "file_extension": ".py",
   "mimetype": "text/x-python",
   "name": "python",
   "nbconvert_exporter": "python",
   "pygments_lexer": "ipython3",
   "version": "3.6.0"
  }
 },
 "nbformat": 4,
 "nbformat_minor": 2
}
