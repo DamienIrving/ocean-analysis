{
 "cells": [
  {
   "cell_type": "code",
   "execution_count": 1,
   "metadata": {},
   "outputs": [],
   "source": [
    "import warnings\n",
    "warnings.filterwarnings('ignore')\n",
    "\n",
    "import numpy\n",
    "import iris\n",
    "import matplotlib.pyplot as plt\n",
    "\n",
    "import glob"
   ]
  },
  {
   "cell_type": "code",
   "execution_count": 2,
   "metadata": {},
   "outputs": [],
   "source": [
    "%matplotlib inline"
   ]
  },
  {
   "cell_type": "code",
   "execution_count": 57,
   "metadata": {},
   "outputs": [
    {
     "name": "stdout",
     "output_type": "stream",
     "text": [
      "6\n"
     ]
    }
   ],
   "source": [
    "#/g/data/r87/dbi599/DRSv2/CMIP5/CCSM4/historicalGHG/yr/ocean/r1i1p1/thetao/latest/dedrifted/thetao_Oyr_CCSM4_historicalGHG_r1i1p1_??????-??????.nc\n",
    "#/g/data/r87/dbi599/DRSv2/CMIP5/NorESM1-M/historical/mon/ocean/r1i1p1/thetao/latest/dedrifted/thetao_Omon_NorESM1-M_historical_r1i1p1_*.nc\n",
    "#/g/data/ua6/DRSv3/CMIP5/NorESM1-M/historical/mon/ocean/r1i1p1/thetao/latest/thetao_Omon_NorESM1-M_historical_r1i1p1_*.nc\n",
    "\n",
    "#/g/data/r87/dbi599/DRSv2/CMIP5/NorESM1-M/historicalMisc/mon/ocean/r1i1p1/thetao/latest/thetao_Omon_NorESM1-M_historicalMisc_r1i1p1_??????-??????.nc\n",
    "#/g/data/r87/dbi599/DRSv2/CMIP5/NorESM1-M/historicalMisc/yr/ocean/r1i1p1/thetao/latest/dedrifted/thetao_Oyr_NorESM1-M_historicalMisc_r1i1p1_??????-??????.nc\n",
    "\n",
    "infiles = glob.glob('/g/data/r87/dbi599/DRSv2/CMIP5/NorESM1-M/historicalMisc/yr/ocean/r1i1p1/thetao/latest/dedrifted/thetao_Oyr_NorESM1-M_historicalMisc_r1i1p1_??????-??????_fixed.nc')\n",
    "infiles.sort()\n",
    "print(len(infiles))"
   ]
  },
  {
   "cell_type": "code",
   "execution_count": 58,
   "metadata": {},
   "outputs": [],
   "source": [
    "def min_max_bytime(infiles):\n",
    "    \"\"\"Print min and max for each timestep\"\"\"\n",
    "    \n",
    "    for filenum, infile in enumerate(infiles):\n",
    "        print(filenum, infile)\n",
    "        cube = iris.load_cube(infile)\n",
    "    \n",
    "        for index, time_slice in enumerate(cube.slices_over('time')):\n",
    "            print('time: %i, max: %f, mean: %f, min: %f' %(index, time_slice.data.max(), time_slice.data.mean(), time_slice.data.min()))"
   ]
  },
  {
   "cell_type": "code",
   "execution_count": 59,
   "metadata": {
    "scrolled": true
   },
   "outputs": [
    {
     "name": "stdout",
     "output_type": "stream",
     "text": [
      "0 /g/data/r87/dbi599/DRSv2/CMIP5/NorESM1-M/historicalMisc/yr/ocean/r1i1p1/thetao/latest/dedrifted/thetao_Oyr_NorESM1-M_historicalMisc_r1i1p1_185401-185712_fixed.nc\n",
      "time: 0, max: 302.379435, mean: 281.241639, min: 271.348195\n",
      "time: 1, max: 302.545807, mean: 281.244832, min: 271.349345\n",
      "time: 2, max: 302.639374, mean: 281.261332, min: 271.349355\n",
      "time: 3, max: 302.945028, mean: 281.258882, min: 271.337413\n",
      "1 /g/data/r87/dbi599/DRSv2/CMIP5/NorESM1-M/historicalMisc/yr/ocean/r1i1p1/thetao/latest/dedrifted/thetao_Oyr_NorESM1-M_historicalMisc_r1i1p1_189801-190112_fixed.nc\n",
      "time: 0, max: 302.498138, mean: 281.231961, min: 271.020945\n",
      "time: 1, max: 302.516713, mean: 281.253290, min: 270.999858\n",
      "time: 2, max: 302.463470, mean: 281.241171, min: 270.997548\n",
      "time: 3, max: 302.483236, mean: 281.233337, min: 270.949453\n",
      "2 /g/data/r87/dbi599/DRSv2/CMIP5/NorESM1-M/historicalMisc/yr/ocean/r1i1p1/thetao/latest/dedrifted/thetao_Oyr_NorESM1-M_historicalMisc_r1i1p1_191801-192112_fixed.nc\n",
      "time: 0, max: 302.361013, mean: 281.214262, min: 270.889384\n",
      "time: 1, max: 302.417633, mean: 281.230701, min: 270.878398\n",
      "time: 2, max: 302.170268, mean: 281.218228, min: 270.837463\n",
      "time: 3, max: 302.086019, mean: 281.197698, min: 270.892924\n",
      "3 /g/data/r87/dbi599/DRSv2/CMIP5/NorESM1-M/historicalMisc/yr/ocean/r1i1p1/thetao/latest/dedrifted/thetao_Oyr_NorESM1-M_historicalMisc_r1i1p1_193001-193312_fixed.nc\n",
      "time: 0, max: 302.435506, mean: 281.196375, min: 270.855774\n",
      "time: 1, max: 302.333374, mean: 281.210532, min: 270.848267\n",
      "time: 2, max: 302.498169, mean: 281.212088, min: 270.755452\n",
      "time: 3, max: 302.658620, mean: 280.448751, min: 248.772054\n",
      "4 /g/data/r87/dbi599/DRSv2/CMIP5/NorESM1-M/historicalMisc/yr/ocean/r1i1p1/thetao/latest/dedrifted/thetao_Oyr_NorESM1-M_historicalMisc_r1i1p1_195401-195712_fixed.nc\n",
      "time: 0, max: 302.431417, mean: 281.201695, min: 270.737284\n",
      "time: 1, max: 302.443115, mean: 281.193172, min: 270.680776\n",
      "time: 2, max: 302.220713, mean: 281.169954, min: 270.743032\n",
      "time: 3, max: 302.073873, mean: 281.175544, min: 270.554749\n",
      "5 /g/data/r87/dbi599/DRSv2/CMIP5/NorESM1-M/historicalMisc/yr/ocean/r1i1p1/thetao/latest/dedrifted/thetao_Oyr_NorESM1-M_historicalMisc_r1i1p1_198601-198912_fixed.nc\n",
      "time: 0, max: 302.576976, mean: 281.142345, min: 270.663605\n",
      "time: 1, max: 302.126363, mean: 281.128597, min: 249.404439\n",
      "time: 2, max: 302.300374, mean: 281.131426, min: 270.680888\n",
      "time: 3, max: 302.168823, mean: 281.130047, min: 270.623047\n"
     ]
    }
   ],
   "source": [
    "min_max_bytime(infiles)"
   ]
  },
  {
   "cell_type": "code",
   "execution_count": 60,
   "metadata": {},
   "outputs": [],
   "source": [
    "def min_max_bydepth(infile, tstep):\n",
    "    \"\"\"Print min and max for each timestep\"\"\"\n",
    "    print(infile)\n",
    "    cube = iris.load_cube(infile)\n",
    "    for index, depth_slice in enumerate(cube[tstep, ::].slices_over('depth')):\n",
    "        print('depth: %i, max: %f, min: %f' %(index, depth_slice.data.max(), depth_slice.data.min()))"
   ]
  },
  {
   "cell_type": "code",
   "execution_count": 61,
   "metadata": {
    "scrolled": true
   },
   "outputs": [
    {
     "name": "stdout",
     "output_type": "stream",
     "text": [
      "/g/data/r87/dbi599/DRSv2/CMIP5/NorESM1-M/historicalMisc/yr/ocean/r1i1p1/thetao/latest/dedrifted/thetao_Oyr_NorESM1-M_historicalMisc_r1i1p1_193001-193312_fixed.nc\n",
      "depth: 0, max: 302.549011, min: 271.347392\n",
      "depth: 1, max: 302.549011, min: 271.347392\n",
      "depth: 2, max: 302.609497, min: 271.348551\n",
      "depth: 3, max: 302.655253, min: 271.349589\n",
      "depth: 4, max: 302.652974, min: 271.348022\n",
      "depth: 5, max: 302.656321, min: 271.339884\n",
      "depth: 6, max: 302.658620, min: 271.339284\n",
      "depth: 7, max: 302.656494, min: 271.337646\n",
      "depth: 8, max: 302.606181, min: 271.331451\n",
      "depth: 9, max: 302.297272, min: 271.344920\n",
      "depth: 10, max: 302.072703, min: 270.832672\n",
      "depth: 11, max: 301.675598, min: 271.307556\n",
      "depth: 12, max: 301.363129, min: 271.277985\n",
      "depth: 13, max: 301.213114, min: 271.250366\n",
      "depth: 14, max: 301.030294, min: 271.235372\n",
      "depth: 15, max: 300.443573, min: 271.250071\n",
      "depth: 16, max: 299.643483, min: 271.291321\n",
      "depth: 17, max: 297.990662, min: 271.389496\n",
      "depth: 18, max: 297.381561, min: 271.411204\n",
      "depth: 19, max: 297.213847, min: 271.415548\n",
      "depth: 20, max: 296.990753, min: 271.396606\n",
      "depth: 21, max: 296.903402, min: 271.418264\n",
      "depth: 22, max: 296.722219, min: 271.375112\n",
      "depth: 23, max: 295.490346, min: 271.352336\n",
      "depth: 24, max: 293.993591, min: 271.365743\n",
      "depth: 25, max: 294.000305, min: 271.355794\n",
      "depth: 26, max: 294.013173, min: 271.397105\n",
      "depth: 27, max: 294.184143, min: 271.426910\n",
      "depth: 28, max: 294.046692, min: 271.412750\n",
      "depth: 29, max: 294.093547, min: 271.336853\n",
      "depth: 30, max: 294.091695, min: 271.383006\n",
      "depth: 31, max: 294.036214, min: 271.418488\n",
      "depth: 32, max: 294.043996, min: 271.418610\n",
      "depth: 33, max: 294.139425, min: 271.418365\n",
      "depth: 34, max: 294.174489, min: 271.438090\n",
      "depth: 35, max: 294.116079, min: 271.436951\n",
      "depth: 36, max: 294.075582, min: 271.435883\n",
      "depth: 37, max: 293.986745, min: 271.435303\n",
      "depth: 38, max: 293.986460, min: 271.434733\n",
      "depth: 39, max: 288.516062, min: 271.888570\n",
      "depth: 40, max: 288.516062, min: 271.866414\n",
      "depth: 41, max: 288.214030, min: 271.959432\n",
      "depth: 42, max: 288.516062, min: 271.954183\n",
      "depth: 43, max: 288.516062, min: 271.936188\n",
      "depth: 44, max: 288.418376, min: 271.834300\n",
      "depth: 45, max: 288.378672, min: 271.702443\n",
      "depth: 46, max: 288.515584, min: 272.131521\n",
      "depth: 47, max: 288.515584, min: 272.151123\n",
      "depth: 48, max: 288.515218, min: 271.249268\n",
      "depth: 49, max: 288.515218, min: 271.040792\n",
      "depth: 50, max: 281.017273, min: 248.772054\n",
      "depth: 51, max: 288.515218, min: 249.731995\n",
      "depth: 52, max: 288.661296, min: 271.598582\n",
      "depth: 53, max: 288.510630, min: 248.965546\n",
      "depth: 54, max: 264.673594, min: 249.159271\n",
      "depth: 55, max: 288.493754, min: 249.619649\n",
      "depth: 56, max: 288.169240, min: 271.598755\n",
      "depth: 57, max: 288.169240, min: 271.598755\n",
      "depth: 58, max: 288.169057, min: 271.598857\n",
      "depth: 59, max: 280.940308, min: 271.593455\n",
      "depth: 60, max: 280.746633, min: 271.739512\n",
      "depth: 61, max: 280.588898, min: 271.068522\n",
      "depth: 62, max: 278.236165, min: 271.528473\n",
      "depth: 63, max: 278.363302, min: 271.897786\n",
      "depth: 64, max: 278.236165, min: 272.295085\n",
      "depth: 65, max: 278.236165, min: 271.989166\n",
      "depth: 66, max: 278.236165, min: 272.131195\n",
      "depth: 67, max: 276.123088, min: 272.193522\n",
      "depth: 68, max: 274.576202, min: 271.990224\n",
      "depth: 69, max: 274.670308, min: 272.540293\n"
     ]
    }
   ],
   "source": [
    "min_max_bydepth(infiles[3], 3)"
   ]
  },
  {
   "cell_type": "code",
   "execution_count": 44,
   "metadata": {},
   "outputs": [
    {
     "data": {
      "image/png": "[encoded data removed]",
      "text/plain": [
       "<Figure size 432x288 with 2 Axes>"
      ]
     },
     "metadata": {
      "needs_background": "light"
     },
     "output_type": "display_data"
    }
   ],
   "source": [
    "cube = iris.load_cube(infiles[26])\n",
    "plt.imshow(cube.data[0, 56, ::])\n",
    "cb = plt.colorbar()\n",
    "plt.show()"
   ]
  },
  {
   "cell_type": "code",
   "execution_count": 38,
   "metadata": {},
   "outputs": [
    {
     "data": {
      "text/plain": [
       "-65.60850016276044"
      ]
     },
     "execution_count": 38,
     "metadata": {},
     "output_type": "execute_result"
    }
   ],
   "source": [
    "cube.data[0, 0, 49, 12]"
   ]
  },
  {
   "cell_type": "code",
   "execution_count": 19,
   "metadata": {},
   "outputs": [
    {
     "data": {
      "text/plain": [
       "111923"
      ]
     },
     "execution_count": 19,
     "metadata": {},
     "output_type": "execute_result"
    }
   ],
   "source": [
    "cube.data[84, 38, ::].mask.sum()"
   ]
  },
  {
   "cell_type": "code",
   "execution_count": 34,
   "metadata": {},
   "outputs": [
    {
     "data": {
      "image/png": "[encoded data removed]",
      "text/plain": [
       "<Figure size 432x288 with 2 Axes>"
      ]
     },
     "metadata": {
      "needs_background": "light"
     },
     "output_type": "display_data"
    }
   ],
   "source": [
    "cube = iris.load_cube(infiles[1])\n",
    "plt.imshow(cube.data[7, 58, ::])\n",
    "cb = plt.colorbar()\n",
    "plt.show()"
   ]
  },
  {
   "cell_type": "code",
   "execution_count": 35,
   "metadata": {},
   "outputs": [
    {
     "data": {
      "text/plain": [
       "87476"
      ]
     },
     "execution_count": 35,
     "metadata": {},
     "output_type": "execute_result"
    }
   ],
   "source": [
    "cube.data[7, 58, ::].mask.sum()"
   ]
  },
  {
   "cell_type": "code",
   "execution_count": 36,
   "metadata": {},
   "outputs": [
    {
     "data": {
      "text/plain": [
       "111923"
      ]
     },
     "execution_count": 36,
     "metadata": {},
     "output_type": "execute_result"
    }
   ],
   "source": [
    "cube.data[8, 58, ::].mask.sum()"
   ]
  },
  {
   "cell_type": "code",
   "execution_count": 37,
   "metadata": {},
   "outputs": [
    {
     "data": {
      "text/plain": [
       "111923"
      ]
     },
     "execution_count": 37,
     "metadata": {},
     "output_type": "execute_result"
    }
   ],
   "source": [
    "cube.data[-1, 58, ::].mask.sum()"
   ]
  },
  {
   "cell_type": "code",
   "execution_count": 38,
   "metadata": {},
   "outputs": [],
   "source": [
    "cube.data[7, 58, ::] = numpy.ma.masked_where(cube.data[7, 58, ::] == 0, cube.data[7, 58, ::])"
   ]
  },
  {
   "cell_type": "code",
   "execution_count": 39,
   "metadata": {},
   "outputs": [
    {
     "data": {
      "text/plain": [
       "111941"
      ]
     },
     "execution_count": 39,
     "metadata": {},
     "output_type": "execute_result"
    }
   ],
   "source": [
    "cube.data[7, 58, ::].mask.sum()"
   ]
  },
  {
   "cell_type": "code",
   "execution_count": 40,
   "metadata": {},
   "outputs": [
    {
     "data": {
      "image/png": "[encoded data removed]",
      "text/plain": [
       "<Figure size 432x288 with 2 Axes>"
      ]
     },
     "metadata": {
      "needs_background": "light"
     },
     "output_type": "display_data"
    }
   ],
   "source": [
    "plt.imshow(cube.data[7, 58, ::])\n",
    "cb = plt.colorbar()\n",
    "plt.show()"
   ]
  },
  {
   "cell_type": "code",
   "execution_count": 41,
   "metadata": {},
   "outputs": [
    {
     "data": {
      "text/plain": [
       "272.4764"
      ]
     },
     "execution_count": 41,
     "metadata": {},
     "output_type": "execute_result"
    }
   ],
   "source": [
    "cube.data[7, 58, ::].min()"
   ]
  },
  {
   "cell_type": "code",
   "execution_count": null,
   "metadata": {},
   "outputs": [],
   "source": []
  }
 ],
 "metadata": {
  "kernelspec": {
   "display_name": "Python 3",
   "language": "python",
   "name": "python3"
  },
  "language_info": {
   "codemirror_mode": {
    "name": "ipython",
    "version": 3
   },
   "file_extension": ".py",
   "mimetype": "text/x-python",
   "name": "python",
   "nbconvert_exporter": "python",
   "pygments_lexer": "ipython3",
   "version": "3.6.6"
  }
 },
 "nbformat": 4,
 "nbformat_minor": 2
}
