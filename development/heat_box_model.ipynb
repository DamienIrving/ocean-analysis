{
 "cells": [
  {
   "cell_type": "code",
   "execution_count": 39,
   "metadata": {
    "collapsed": false
   },
   "outputs": [],
   "source": [
    "import os, sys\n",
    "import iris\n",
    "import iris.plot as iplt\n",
    "import matplotlib.pyplot as plt\n",
    "\n",
    "cwd = os.getcwd()\n",
    "repo_dir = '/'\n",
    "for directory in cwd.split('/')[1:]:\n",
    "    repo_dir = os.path.join(repo_dir, directory)\n",
    "    if directory == 'ocean-analysis':\n",
    "        break\n",
    "\n",
    "modules_dir = os.path.join(repo_dir, 'modules')\n",
    "sys.path.append(modules_dir)\n",
    "import general_io as gio\n",
    "import convenient_universal as uconv"
   ]
  },
  {
   "cell_type": "code",
   "execution_count": 40,
   "metadata": {
    "collapsed": true
   },
   "outputs": [],
   "source": [
    "% matplotlib inline"
   ]
  },
  {
   "cell_type": "markdown",
   "metadata": {},
   "source": [
    "## Read data"
   ]
  },
  {
   "cell_type": "code",
   "execution_count": 58,
   "metadata": {
    "collapsed": false
   },
   "outputs": [],
   "source": [
    "def get_data(model, experiment, mip, inferred=False):\n",
    "    \"\"\"Get the data files\"\"\"\n",
    "\n",
    "    if inferred:\n",
    "        insert = '-inferred-'\n",
    "    else:\n",
    "        insert = '-'\n",
    "        \n",
    "    \n",
    "    ohc_globe_file = '/g/data/r87/dbi599/DRSv2/CMIP5/%s/%s/yr/ocean/%s/ohc/latest/dedrifted/ohc-globe-sum_Oyr_%s_%s_%s_all.nc' %(model, experiment, mip, model, experiment, mip)\n",
    "    hfds_file = '/g/data/r87/dbi599/DRSv2/CMIP5/%s/%s/yr/ocean/%s/hfds/latest/hfds%ssum-hemispheric-metrics_Oyr_%s_%s_%s_all.nc' %(model, experiment, mip, insert, model, experiment, mip)\n",
    "    \n",
    "    print(ohc_globe_file)\n",
    "    print(hfds_file)\n",
    "    \n",
    "    ohc_globe_cube = iris.load_cube(ohc_globe_file, 'ocean heat content globe sum')\n",
    "    hfds_globe_cube_W = iris.load_cube(hfds_file, 'Downward Heat Flux at Sea Water Surface globe sum')\n",
    "    \n",
    "    return ohc_globe_cube, hfds_globe_cube_W"
   ]
  },
  {
   "cell_type": "code",
   "execution_count": 56,
   "metadata": {
    "collapsed": true
   },
   "outputs": [],
   "source": [
    "def convert_to_joules(cube):\n",
    "    \"\"\"Convert units to Joules\"\"\"\n",
    "\n",
    "    assert 'W' in str(cube.units)\n",
    "    assert 'days' in str(cube.coord('time').units)\n",
    "    \n",
    "    time_span_days = cube.coord('time').bounds[:, 1] - cube.coord('time').bounds[:, 0]\n",
    "    time_span_seconds = time_span_days * 60 * 60 * 24\n",
    "    \n",
    "    cube.data = cube.data * uconv.broadcast_array(time_span_seconds, 0, cube.shape)\n",
    "    cube.units = str(cube.units).replace('W', 'J')\n",
    "    \n",
    "    return cube"
   ]
  },
  {
   "cell_type": "code",
   "execution_count": 59,
   "metadata": {
    "collapsed": false
   },
   "outputs": [
    {
     "name": "stdout",
     "output_type": "stream",
     "text": [
      "/g/data/r87/dbi599/DRSv2/CMIP5/CanESM2/historical/yr/ocean/r1i1p1/ohc/latest/dedrifted/ohc-globe-sum_Oyr_CanESM2_historical_r1i1p1_all.nc\n",
      "/g/data/r87/dbi599/DRSv2/CMIP5/CanESM2/historical/yr/ocean/r1i1p1/hfds/latest/hfds-inferred-sum-hemispheric-metrics_Oyr_CanESM2_historical_r1i1p1_all.nc\n"
     ]
    }
   ],
   "source": [
    "ohc_globe_cube, hfds_globe_cube_W = get_data('CanESM2', 'historical', 'r1i1p1', inferred=True)"
   ]
  },
  {
   "cell_type": "code",
   "execution_count": 60,
   "metadata": {
    "collapsed": false
   },
   "outputs": [],
   "source": [
    "hfds_globe_cube_J = convert_to_joules(hfds_globe_cube_W)"
   ]
  },
  {
   "cell_type": "markdown",
   "metadata": {},
   "source": [
    "## Change in OHC"
   ]
  },
  {
   "cell_type": "code",
   "execution_count": 28,
   "metadata": {
    "collapsed": true
   },
   "outputs": [],
   "source": [
    "start_time_constraint = gio.get_time_constraint(['1861-01-01', '1880-12-31'])\n",
    "end_time_constraint = gio.get_time_constraint(['1986-01-01', '2005-12-31'])"
   ]
  },
  {
   "cell_type": "code",
   "execution_count": 29,
   "metadata": {
    "collapsed": true
   },
   "outputs": [],
   "source": [
    "start_ohc = ohc_globe_cube.extract(start_time_constraint)"
   ]
  },
  {
   "cell_type": "code",
   "execution_count": 30,
   "metadata": {
    "collapsed": false
   },
   "outputs": [
    {
     "data": {
      "text/plain": [
       "<iris 'Cube' of ocean heat content globe sum / (J) (time: 20)>"
      ]
     },
     "execution_count": 30,
     "metadata": {},
     "output_type": "execute_result"
    }
   ],
   "source": [
    "start_ohc"
   ]
  },
  {
   "cell_type": "code",
   "execution_count": 32,
   "metadata": {
    "collapsed": false
   },
   "outputs": [],
   "source": [
    "end_ohc = ohc_globe_cube.extract(end_time_constraint)"
   ]
  },
  {
   "cell_type": "code",
   "execution_count": 33,
   "metadata": {
    "collapsed": false
   },
   "outputs": [
    {
     "data": {
      "text/plain": [
       "<iris 'Cube' of ocean heat content globe sum / (J) (time: 20)>"
      ]
     },
     "execution_count": 33,
     "metadata": {},
     "output_type": "execute_result"
    }
   ],
   "source": [
    "end_ohc"
   ]
  },
  {
   "cell_type": "code",
   "execution_count": 35,
   "metadata": {
    "collapsed": false
   },
   "outputs": [
    {
     "name": "stdout",
     "output_type": "stream",
     "text": [
      "2.03924261912e+23\n"
     ]
    }
   ],
   "source": [
    "ohc_change = end_ohc.data.mean() - start_ohc.data.mean()\n",
    "print(ohc_change)"
   ]
  },
  {
   "cell_type": "markdown",
   "metadata": {},
   "source": [
    "## Heat added"
   ]
  },
  {
   "cell_type": "code",
   "execution_count": 43,
   "metadata": {
    "collapsed": false
   },
   "outputs": [
    {
     "data": {
      "image/png": "[encoded data removed]",
      "text/plain": [
       "<matplotlib.figure.Figure at 0x7fb654c78d30>"
      ]
     },
     "metadata": {},
     "output_type": "display_data"
    }
   ],
   "source": [
    "iplt.plot(hfds_globe_cube_J)\n",
    "plt.show()"
   ]
  },
  {
   "cell_type": "code",
   "execution_count": 37,
   "metadata": {
    "collapsed": true
   },
   "outputs": [],
   "source": [
    "hfds_globe_cube_J_anomaly = hfds_globe_cube_J.data - hfds_globe_cube_J.data[0:20].mean()"
   ]
  },
  {
   "cell_type": "code",
   "execution_count": 44,
   "metadata": {
    "collapsed": false
   },
   "outputs": [
    {
     "data": {
      "image/png": "[encoded data removed]",
      "text/plain": [
       "<matplotlib.figure.Figure at 0x7fb654c08cc0>"
      ]
     },
     "metadata": {},
     "output_type": "display_data"
    }
   ],
   "source": [
    "plt.plot(hfds_globe_cube_J_anomaly)\n",
    "plt.show()"
   ]
  },
  {
   "cell_type": "code",
   "execution_count": 51,
   "metadata": {
    "collapsed": false
   },
   "outputs": [
    {
     "data": {
      "text/plain": [
       "3.6214573211086181e+23"
      ]
     },
     "execution_count": 51,
     "metadata": {},
     "output_type": "execute_result"
    }
   ],
   "source": [
    "hfds_globe_cube_J_anomaly.sum()"
   ]
  },
  {
   "cell_type": "code",
   "execution_count": null,
   "metadata": {
    "collapsed": true
   },
   "outputs": [],
   "source": []
  }
 ],
 "metadata": {
  "kernelspec": {
   "display_name": "Python 3",
   "language": "python",
   "name": "python3"
  },
  "language_info": {
   "codemirror_mode": {
    "name": "ipython",
    "version": 3
   },
   "file_extension": ".py",
   "mimetype": "text/x-python",
   "name": "python",
   "nbconvert_exporter": "python",
   "pygments_lexer": "ipython3",
   "version": "3.6.0"
  }
 },
 "nbformat": 4,
 "nbformat_minor": 2
}
