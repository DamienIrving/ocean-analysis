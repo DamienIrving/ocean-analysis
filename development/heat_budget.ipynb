{
 "cells": [
  {
   "cell_type": "code",
   "execution_count": 24,
   "metadata": {
    "collapsed": true
   },
   "outputs": [],
   "source": [
    "import pandas"
   ]
  },
  {
   "cell_type": "code",
   "execution_count": 25,
   "metadata": {
    "collapsed": true
   },
   "outputs": [],
   "source": [
    "df = pandas.read_csv('test_budget_NorESM1-M.csv')"
   ]
  },
  {
   "cell_type": "code",
   "execution_count": 26,
   "metadata": {
    "collapsed": false
   },
   "outputs": [],
   "source": [
    "del df['Unnamed: 0']"
   ]
  },
  {
   "cell_type": "code",
   "execution_count": 27,
   "metadata": {
    "collapsed": false
   },
   "outputs": [
    {
     "data": {
      "text/html": [
       "<div>\n",
       "<style>\n",
       "    .dataframe thead tr:only-child th {\n",
       "        text-align: right;\n",
       "    }\n",
       "\n",
       "    .dataframe thead th {\n",
       "        text-align: left;\n",
       "    }\n",
       "\n",
       "    .dataframe tbody tr th {\n",
       "        vertical-align: top;\n",
       "    }\n",
       "</style>\n",
       "<table border=\"1\" class=\"dataframe\">\n",
       "  <thead>\n",
       "    <tr style=\"text-align: right;\">\n",
       "      <th></th>\n",
       "      <th>model</th>\n",
       "      <th>experiment</th>\n",
       "      <th>rip</th>\n",
       "      <th>period</th>\n",
       "      <th>hfds-globe-sum</th>\n",
       "      <th>hfds-nh-sum</th>\n",
       "      <th>hfds-sh-sum</th>\n",
       "      <th>hfds-nhext-sum</th>\n",
       "      <th>hfds-tropics-sum</th>\n",
       "      <th>hfds-shext-sum</th>\n",
       "      <th>ohc-globe-sum</th>\n",
       "      <th>ohc-nh-sum</th>\n",
       "      <th>ohc-sh-sum</th>\n",
       "      <th>ohc-nhext-sum</th>\n",
       "      <th>ohc-tropics-sum</th>\n",
       "      <th>ohc-shext-sum</th>\n",
       "    </tr>\n",
       "  </thead>\n",
       "  <tbody>\n",
       "    <tr>\n",
       "      <th>0</th>\n",
       "      <td>NorESM1-M</td>\n",
       "      <td>historical</td>\n",
       "      <td>r1i1p1</td>\n",
       "      <td>1861-1880</td>\n",
       "      <td>3.561830e+21</td>\n",
       "      <td>-1.954521e+22</td>\n",
       "      <td>2.310704e+22</td>\n",
       "      <td>-6.500843e+22</td>\n",
       "      <td>9.793123e+22</td>\n",
       "      <td>-2.936097e+22</td>\n",
       "      <td>1.555940e+27</td>\n",
       "      <td>6.342363e+26</td>\n",
       "      <td>9.217036e+26</td>\n",
       "      <td>2.156555e+26</td>\n",
       "      <td>8.562622e+26</td>\n",
       "      <td>4.840222e+26</td>\n",
       "    </tr>\n",
       "    <tr>\n",
       "      <th>1</th>\n",
       "      <td>NorESM1-M</td>\n",
       "      <td>historical</td>\n",
       "      <td>r1i1p1</td>\n",
       "      <td>1986-2005</td>\n",
       "      <td>1.103798e+22</td>\n",
       "      <td>-1.767522e+22</td>\n",
       "      <td>2.871319e+22</td>\n",
       "      <td>-6.321271e+22</td>\n",
       "      <td>9.764590e+22</td>\n",
       "      <td>-2.339521e+22</td>\n",
       "      <td>1.556388e+27</td>\n",
       "      <td>6.343447e+26</td>\n",
       "      <td>9.220438e+26</td>\n",
       "      <td>2.157058e+26</td>\n",
       "      <td>8.563725e+26</td>\n",
       "      <td>4.843102e+26</td>\n",
       "    </tr>\n",
       "    <tr>\n",
       "      <th>2</th>\n",
       "      <td>NorESM1-M</td>\n",
       "      <td>piControl</td>\n",
       "      <td>r1i1p1</td>\n",
       "      <td>1861-1880</td>\n",
       "      <td>1.992815e+21</td>\n",
       "      <td>-1.972097e+22</td>\n",
       "      <td>2.171379e+22</td>\n",
       "      <td>-6.453689e+22</td>\n",
       "      <td>9.662831e+22</td>\n",
       "      <td>-3.009861e+22</td>\n",
       "      <td>1.555912e+27</td>\n",
       "      <td>6.342244e+26</td>\n",
       "      <td>9.216879e+26</td>\n",
       "      <td>2.156488e+26</td>\n",
       "      <td>8.562512e+26</td>\n",
       "      <td>4.840123e+26</td>\n",
       "    </tr>\n",
       "    <tr>\n",
       "      <th>3</th>\n",
       "      <td>NorESM1-M</td>\n",
       "      <td>piControl</td>\n",
       "      <td>r1i1p1</td>\n",
       "      <td>1986-2005</td>\n",
       "      <td>2.900667e+21</td>\n",
       "      <td>-1.890677e+22</td>\n",
       "      <td>2.180744e+22</td>\n",
       "      <td>-6.365293e+22</td>\n",
       "      <td>9.638996e+22</td>\n",
       "      <td>-2.983637e+22</td>\n",
       "      <td>1.555856e+27</td>\n",
       "      <td>6.341628e+26</td>\n",
       "      <td>9.216935e+26</td>\n",
       "      <td>2.156197e+26</td>\n",
       "      <td>8.561945e+26</td>\n",
       "      <td>4.840421e+26</td>\n",
       "    </tr>\n",
       "  </tbody>\n",
       "</table>\n",
       "</div>"
      ],
      "text/plain": [
       "       model  experiment     rip     period  hfds-globe-sum   hfds-nh-sum  \\\n",
       "0  NorESM1-M  historical  r1i1p1  1861-1880    3.561830e+21 -1.954521e+22   \n",
       "1  NorESM1-M  historical  r1i1p1  1986-2005    1.103798e+22 -1.767522e+22   \n",
       "2  NorESM1-M   piControl  r1i1p1  1861-1880    1.992815e+21 -1.972097e+22   \n",
       "3  NorESM1-M   piControl  r1i1p1  1986-2005    2.900667e+21 -1.890677e+22   \n",
       "\n",
       "    hfds-sh-sum  hfds-nhext-sum  hfds-tropics-sum  hfds-shext-sum  \\\n",
       "0  2.310704e+22   -6.500843e+22      9.793123e+22   -2.936097e+22   \n",
       "1  2.871319e+22   -6.321271e+22      9.764590e+22   -2.339521e+22   \n",
       "2  2.171379e+22   -6.453689e+22      9.662831e+22   -3.009861e+22   \n",
       "3  2.180744e+22   -6.365293e+22      9.638996e+22   -2.983637e+22   \n",
       "\n",
       "   ohc-globe-sum    ohc-nh-sum    ohc-sh-sum  ohc-nhext-sum  ohc-tropics-sum  \\\n",
       "0   1.555940e+27  6.342363e+26  9.217036e+26   2.156555e+26     8.562622e+26   \n",
       "1   1.556388e+27  6.343447e+26  9.220438e+26   2.157058e+26     8.563725e+26   \n",
       "2   1.555912e+27  6.342244e+26  9.216879e+26   2.156488e+26     8.562512e+26   \n",
       "3   1.555856e+27  6.341628e+26  9.216935e+26   2.156197e+26     8.561945e+26   \n",
       "\n",
       "   ohc-shext-sum  \n",
       "0   4.840222e+26  \n",
       "1   4.843102e+26  \n",
       "2   4.840123e+26  \n",
       "3   4.840421e+26  "
      ]
     },
     "execution_count": 27,
     "metadata": {},
     "output_type": "execute_result"
    }
   ],
   "source": [
    "df"
   ]
  },
  {
   "cell_type": "code",
   "execution_count": 36,
   "metadata": {
    "collapsed": false
   },
   "outputs": [],
   "source": [
    "def calc_change(variable):\n",
    "    \"\"\"Calculate the change variable.\"\"\"\n",
    "    \n",
    "    control_start = float(df.loc[(df['experiment'] == 'piControl') & (df['period'] == '1861-1880')][variable])\n",
    "    control_end = float(df.loc[(df['experiment'] == 'piControl') & (df['period'] == '1986-2005')][variable])\n",
    "    hist_start = float(df.loc[(df['experiment'] == 'historical') & (df['period'] == '1861-1880')][variable])\n",
    "    hist_end = float(df.loc[(df['experiment'] == 'historical') & (df['period'] == '1986-2005')][variable])\n",
    "    \n",
    "    change = (hist_end - hist_start) - (control_end - control_start)\n",
    "    \n",
    "    return change"
   ]
  },
  {
   "cell_type": "code",
   "execution_count": 37,
   "metadata": {
    "collapsed": false
   },
   "outputs": [
    {
     "data": {
      "text/plain": [
       "5.04607487222979e+23"
      ]
     },
     "execution_count": 37,
     "metadata": {},
     "output_type": "execute_result"
    }
   ],
   "source": [
    "calc_change('ohc-globe-sum')"
   ]
  },
  {
   "cell_type": "code",
   "execution_count": 42,
   "metadata": {
    "collapsed": false
   },
   "outputs": [
    {
     "data": {
      "text/plain": [
       "2.5817912759430257e+23"
      ]
     },
     "execution_count": 42,
     "metadata": {},
     "output_type": "execute_result"
    }
   ],
   "source": [
    "calc_change('ohc-shext-sum')"
   ]
  },
  {
   "cell_type": "code",
   "execution_count": 41,
   "metadata": {
    "collapsed": false
   },
   "outputs": [
    {
     "data": {
      "text/plain": [
       "5.703517285192135e+21"
      ]
     },
     "execution_count": 41,
     "metadata": {},
     "output_type": "execute_result"
    }
   ],
   "source": [
    "calc_change('hfds-shext-sum')"
   ]
  },
  {
   "cell_type": "code",
   "execution_count": null,
   "metadata": {
    "collapsed": true
   },
   "outputs": [],
   "source": []
  }
 ],
 "metadata": {
  "kernelspec": {
   "display_name": "Python 3",
   "language": "python",
   "name": "python3"
  },
  "language_info": {
   "codemirror_mode": {
    "name": "ipython",
    "version": 3
   },
   "file_extension": ".py",
   "mimetype": "text/x-python",
   "name": "python",
   "nbconvert_exporter": "python",
   "pygments_lexer": "ipython3",
   "version": "3.6.0"
  }
 },
 "nbformat": 4,
 "nbformat_minor": 2
}
