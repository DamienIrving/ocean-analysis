{
 "cells": [
  {
   "cell_type": "code",
   "execution_count": 1,
   "metadata": {
    "collapsed": true
   },
   "outputs": [],
   "source": [
    "import iris"
   ]
  },
  {
   "cell_type": "code",
   "execution_count": 2,
   "metadata": {
    "collapsed": true
   },
   "outputs": [],
   "source": [
    "ohc_file = '/g/data/r87/dbi599/DRSv2/CMIP5/NorESM1-M/rcp85/yr/ocean/r1i1p1/ohc-maps/latest/ohc-by-areacello-maps_Oyr_NorESM1-M_rcp85_r1i1p1_all.nc'"
   ]
  },
  {
   "cell_type": "code",
   "execution_count": 3,
   "metadata": {
    "collapsed": false
   },
   "outputs": [
    {
     "name": "stderr",
     "output_type": "stream",
     "text": [
      "/g/data/r87/dbi599/miniconda3/envs/ocean/lib/python3.6/site-packages/iris/fileformats/cf.py:1143: IrisDeprecation: NetCDF default loading behaviour currently does not expose variables which define reference surfaces for dimensionless vertical coordinates as independent Cubes. This behaviour is deprecated in favour of automatic promotion to Cubes. To switch to the new behaviour, set iris.FUTURE.netcdf_promote to True.\n",
      "  warn_deprecated(msg)\n"
     ]
    }
   ],
   "source": [
    "cube = iris.load_cube(ohc_file, 'ocean heat content')"
   ]
  },
  {
   "cell_type": "code",
   "execution_count": 4,
   "metadata": {
    "collapsed": false
   },
   "outputs": [
    {
     "name": "stdout",
     "output_type": "stream",
     "text": [
      "ocean heat content / (J)            (time: 95; latitude: 121; longitude: 240)\n",
      "     Dimension coordinates:\n",
      "          time                           x             -               -\n",
      "          latitude                       -             x               -\n",
      "          longitude                      -             -               x\n",
      "     Attributes:\n",
      "          Conventions: CF-1.5\n",
      "          associated_files: baseURL: http://cmip-pcmdi.llnl.gov/CMIP5/dataLocation gridspecFile: gridspec_ocean_fx_NorESM1-M_rcp85_r0i0p0.nc...\n",
      "          branch_time: 56940.0\n",
      "          cmor_version: 2.6.0\n",
      "          contact: Please send any requests or bug reports to noresm-ncc@met.no.\n",
      "          depth_bounds: OHC integrated over full depth of input data (0.000000 down to 6750.00...\n",
      "          experiment: RCP8.5\n",
      "          experiment_id: rcp85\n",
      "          forcing: GHG, SA, Oz, Sl, BC, OC\n",
      "          frequency: mon\n",
      "          history: Mon May 29 10:51:58 2017: /g/data/r87/dbi599/miniconda3/envs/ocean/bin/python...\n",
      "          initialization_method: 1\n",
      "          institute_id: NCC\n",
      "          institution: Norwegian Climate Centre\n",
      "          invalid_standard_name: ocean_heat_content\n",
      "          model_id: NorESM1-M\n",
      "          modeling_realm: ocean\n",
      "          original_name: templvl\n",
      "          original_units: degC\n",
      "          parent_experiment: historical\n",
      "          parent_experiment_id: historical\n",
      "          parent_experiment_rip: r1i1p1\n",
      "          physics_version: 1\n",
      "          product: output\n",
      "          project_id: CMIP5\n",
      "          realization: 1\n",
      "          source: NorESM1-M 2011  atmosphere: CAM-Oslo (CAM4-Oslo-noresm-ver1_cmip5-r112,...\n",
      "          table_id: Table Omon (27 April 2011) 340eddd4fd838d90fa9ffe1345ecbd73\n",
      "          title: NorESM1-M model output prepared for CMIP5 RCP8.5\n"
     ]
    }
   ],
   "source": [
    "print(cube)"
   ]
  },
  {
   "cell_type": "code",
   "execution_count": 5,
   "metadata": {
    "collapsed": false
   },
   "outputs": [
    {
     "name": "stderr",
     "output_type": "stream",
     "text": [
      "/g/data/r87/dbi599/miniconda3/envs/ocean/lib/python3.6/site-packages/iris/cube.py:3263: UserWarning: Collapsing spatial coordinate 'latitude' without weighting\n",
      "  warnings.warn(msg.format(coord.name()))\n"
     ]
    }
   ],
   "source": [
    "global_mean = cube.collapsed(['latitude', 'longitude'], iris.analysis.SUM)"
   ]
  },
  {
   "cell_type": "code",
   "execution_count": 6,
   "metadata": {
    "collapsed": false
   },
   "outputs": [
    {
     "name": "stdout",
     "output_type": "stream",
     "text": [
      "ocean heat content / (J)            (time: 95)\n",
      "     Dimension coordinates:\n",
      "          time                           x\n",
      "     Scalar coordinates:\n",
      "          latitude: 0.0 degrees, bound=(-90.75, 90.75) degrees\n",
      "          longitude: 179.25 degrees, bound=(-0.75, 359.25) degrees\n",
      "     Attributes:\n",
      "          Conventions: CF-1.5\n",
      "          associated_files: baseURL: http://cmip-pcmdi.llnl.gov/CMIP5/dataLocation gridspecFile: gridspec_ocean_fx_NorESM1-M_rcp85_r0i0p0.nc...\n",
      "          branch_time: 56940.0\n",
      "          cmor_version: 2.6.0\n",
      "          contact: Please send any requests or bug reports to noresm-ncc@met.no.\n",
      "          depth_bounds: OHC integrated over full depth of input data (0.000000 down to 6750.00...\n",
      "          experiment: RCP8.5\n",
      "          experiment_id: rcp85\n",
      "          forcing: GHG, SA, Oz, Sl, BC, OC\n",
      "          frequency: mon\n",
      "          history: Mon May 29 10:51:58 2017: /g/data/r87/dbi599/miniconda3/envs/ocean/bin/python...\n",
      "          initialization_method: 1\n",
      "          institute_id: NCC\n",
      "          institution: Norwegian Climate Centre\n",
      "          invalid_standard_name: ocean_heat_content\n",
      "          model_id: NorESM1-M\n",
      "          modeling_realm: ocean\n",
      "          original_name: templvl\n",
      "          original_units: degC\n",
      "          parent_experiment: historical\n",
      "          parent_experiment_id: historical\n",
      "          parent_experiment_rip: r1i1p1\n",
      "          physics_version: 1\n",
      "          product: output\n",
      "          project_id: CMIP5\n",
      "          realization: 1\n",
      "          source: NorESM1-M 2011  atmosphere: CAM-Oslo (CAM4-Oslo-noresm-ver1_cmip5-r112,...\n",
      "          table_id: Table Omon (27 April 2011) 340eddd4fd838d90fa9ffe1345ecbd73\n",
      "          title: NorESM1-M model output prepared for CMIP5 RCP8.5\n",
      "     Cell methods:\n",
      "          sum: latitude, longitude\n"
     ]
    }
   ],
   "source": [
    "print(global_mean)"
   ]
  },
  {
   "cell_type": "code",
   "execution_count": 7,
   "metadata": {
    "collapsed": false
   },
   "outputs": [
    {
     "data": {
      "text/plain": [
       "3.3705323e+26"
      ]
     },
     "execution_count": 7,
     "metadata": {},
     "output_type": "execute_result"
    }
   ],
   "source": [
    "global_mean.data[0]"
   ]
  },
  {
   "cell_type": "code",
   "execution_count": 9,
   "metadata": {
    "collapsed": false
   },
   "outputs": [
    {
     "name": "stdout",
     "output_type": "stream",
     "text": [
      "3.37315406779e+26\n"
     ]
    }
   ],
   "source": [
    "ave_ohc = global_mean.data.mean()\n",
    "print(ave_ohc)"
   ]
  },
  {
   "cell_type": "code",
   "execution_count": 10,
   "metadata": {
    "collapsed": true
   },
   "outputs": [],
   "source": [
    "global_mean_anomaly = global_mean - ave_ohc"
   ]
  },
  {
   "cell_type": "code",
   "execution_count": 11,
   "metadata": {
    "collapsed": false
   },
   "outputs": [
    {
     "name": "stdout",
     "output_type": "stream",
     "text": [
      "unknown / (J)                       (time: 95)\n",
      "     Dimension coordinates:\n",
      "          time                           x\n",
      "     Scalar coordinates:\n",
      "          latitude: 0.0 degrees, bound=(-90.75, 90.75) degrees\n",
      "          longitude: 179.25 degrees, bound=(-0.75, 359.25) degrees\n"
     ]
    }
   ],
   "source": [
    "print(global_mean_anomaly)"
   ]
  },
  {
   "cell_type": "code",
   "execution_count": 12,
   "metadata": {
    "collapsed": false
   },
   "outputs": [
    {
     "data": {
      "text/plain": [
       "masked_array(data = [-2.6216512677556015e+23 -2.5998841097486242e+23 -2.5751654726898534e+23\n",
       " -2.5404855938312794e+23 -2.4976891475802733e+23 -2.4630092687216993e+23\n",
       " -2.4073001016190965e+23 -2.3715134181161e+23 -2.339047148546371e+23\n",
       " -2.2958817674138908e+23 -2.251978516518462e+23 -2.1966382842973334e+23\n",
       " -2.1597447961499143e+23 -2.13207468003935e+23 -2.0907539733142406e+23\n",
       " -2.0420545689596474e+23 -2.006636820338125e+23 -1.9730637461239736e+23\n",
       " -1.927315820821174e+23 -1.8741891978888904e+23 -1.8439365376080068e+23\n",
       " -1.7967128727793103e+23 -1.7657223427354783e+23 -1.712964654684669e+23\n",
       " -1.6661099247374467e+23 -1.624051348249389e+23 -1.5631770928061474e+23\n",
       " -1.500458162955535e+23 -1.446593670260303e+23 -1.4115448565202549e+23\n",
       " -1.3698552149136713e+23 -1.3204179407961297e+23 -1.255485401656672e+23\n",
       " -1.2067859973020789e+23 -1.1496010906735793e+23 -1.0938919235709764e+23\n",
       " -1.0411342355201671e+23 -9.898522869952545e+22 -9.334052501297033e+22\n",
       " -8.72899929567936e+22 -7.99481888154572e+22 -7.231123676894144e+22\n",
       " -6.5596621926111166e+22 -5.891890057142831e+22 -5.2462540145629965e+22\n",
       " -4.703919738795936e+22 -4.032458254512908e+22 -3.4458517929689442e+22\n",
       " -2.7338074717237555e+22 -1.9922483599606316e+22 -1.1252513884962826e+22\n",
       " -3.8000292791841676e+21 4.0951771843635205e+21 1.2396212017532819e+22\n",
       " 1.9627335694426963e+22 2.5235145892834667e+22 3.2244908640844296e+22\n",
       " 4.006632812809715e+22 4.892076528347773e+22 5.75538415099738e+22\n",
       " 6.460049774613085e+22 7.256949118597338e+22 7.946857346954075e+22\n",
       " 8.821233016047908e+22 9.795221103139772e+22 1.0651150028159895e+23\n",
       " 1.1496010906735793e+23 1.2315046343608497e+23 1.3104566989963265e+23\n",
       " 1.3857194148170615e+23 1.46393360968959e+23 1.558380939346983e+23\n",
       " 1.660575901515334e+23 1.7675670171428492e+23 1.8749270676518388e+23\n",
       " 1.956461676457635e+23 2.0398409596708022e+23 2.1221134382395468e+23\n",
       " 2.2143471586080946e+23 2.325396557931826e+23 2.4261157805742802e+23\n",
       " 2.5190873707057764e+23 2.593981151645037e+23 2.6987586579837074e+23\n",
       " 2.8050119038482744e+23 2.9053621916092544e+23 3.0138290467626665e+23\n",
       " 3.11713081357544e+23 3.214160687403152e+23 3.299015710142216e+23\n",
       " 3.3809192538294866e+23 3.472046169553612e+23 3.5735032619590143e+23\n",
       " 3.6934070984381264e+23 3.821796437191145e+23],\n",
       "             mask = [False False False False False False False False False False False False\n",
       " False False False False False False False False False False False False\n",
       " False False False False False False False False False False False False\n",
       " False False False False False False False False False False False False\n",
       " False False False False False False False False False False False False\n",
       " False False False False False False False False False False False False\n",
       " False False False False False False False False False False False False\n",
       " False False False False False False False False False False False],\n",
       "       fill_value = 1e+20)"
      ]
     },
     "execution_count": 12,
     "metadata": {},
     "output_type": "execute_result"
    }
   ],
   "source": [
    "global_mean_anomaly.data"
   ]
  },
  {
   "cell_type": "code",
   "execution_count": 13,
   "metadata": {
    "collapsed": false
   },
   "outputs": [
    {
     "data": {
      "text/plain": [
       "86400"
      ]
     },
     "execution_count": 13,
     "metadata": {},
     "output_type": "execute_result"
    }
   ],
   "source": [
    "60 * 60 * 24"
   ]
  },
  {
   "cell_type": "code",
   "execution_count": null,
   "metadata": {
    "collapsed": true
   },
   "outputs": [],
   "source": []
  }
 ],
 "metadata": {
  "kernelspec": {
   "display_name": "Python 3",
   "language": "python",
   "name": "python3"
  },
  "language_info": {
   "codemirror_mode": {
    "name": "ipython",
    "version": 3
   },
   "file_extension": ".py",
   "mimetype": "text/x-python",
   "name": "python",
   "nbconvert_exporter": "python",
   "pygments_lexer": "ipython3",
   "version": "3.6.0"
  }
 },
 "nbformat": 4,
 "nbformat_minor": 2
}
