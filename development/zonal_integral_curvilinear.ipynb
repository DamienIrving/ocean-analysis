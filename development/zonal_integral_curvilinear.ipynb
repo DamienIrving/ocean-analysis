{
 "cells": [
  {
   "cell_type": "code",
   "execution_count": 63,
   "metadata": {
    "collapsed": false
   },
   "outputs": [],
   "source": [
    "import numpy\n",
    "import iris\n",
    "import os, sys\n",
    "import warnings\n",
    "warnings.filterwarnings('ignore')\n",
    "\n",
    "import iris.plot as iplt\n",
    "import matplotlib.pyplot as plt\n",
    "import seaborn\n",
    "seaborn.set_context('talk')\n",
    "\n",
    "cwd = os.getcwd()\n",
    "repo_dir = '/'\n",
    "for directory in cwd.split('/')[1:]:\n",
    "    repo_dir = os.path.join(repo_dir, directory)\n",
    "    if directory == 'ocean-analysis':\n",
    "        break\n",
    "\n",
    "modules_dir = os.path.join(repo_dir, 'modules')\n",
    "sys.path.append(modules_dir)\n",
    "\n",
    "import convenient_universal as uconv"
   ]
  },
  {
   "cell_type": "code",
   "execution_count": 64,
   "metadata": {
    "collapsed": true
   },
   "outputs": [],
   "source": [
    "%matplotlib inline"
   ]
  },
  {
   "cell_type": "code",
   "execution_count": 18,
   "metadata": {
    "collapsed": true
   },
   "outputs": [],
   "source": [
    "data_file = '/g/data/r87/dbi599/DRSv2/CMIP5/NorESM1-M/historical/yr/ocean/r1i1p1/ohc/latest/ohc_Oyr_NorESM1-M_historical_r1i1p1_185001-185312.nc'\n",
    "ref_file = '/g/data/ua6/DRSv2/CMIP5/NorESM1-M/historical/mon/atmos/r1i1p1/rsdt/latest/rsdt_Amon_NorESM1-M_historical_r1i1p1_185001-200512.nc'"
   ]
  },
  {
   "cell_type": "code",
   "execution_count": 19,
   "metadata": {
    "collapsed": false
   },
   "outputs": [
    {
     "name": "stdout",
     "output_type": "stream",
     "text": [
      "ocean heat content                         (time: 4; cell index along second dimension: 384; cell index along first dimension: 320)\n",
      "     Dimension coordinates:\n",
      "          time                                  x                                     -                                      -\n",
      "          cell index along second dimension     -                                     x                                      -\n",
      "          cell index along first dimension      -                                     -                                      x\n",
      "     Auxiliary coordinates:\n",
      "          latitude                              -                                     x                                      x\n",
      "          longitude                             -                                     x                                      x\n",
      "     Attributes:\n",
      "          Conventions: CF-1.5\n",
      "          associated_files: baseURL: http://cmip-pcmdi.llnl.gov/CMIP5/dataLocation gridspecFile: gridspec_ocean_fx_NorESM1-M_historical_r0i0p0.nc...\n",
      "          branch_time: 255135.0\n",
      "          cmor_version: 2.5.9\n",
      "          contact: Please send any requests or bug reports to noresm-ncc@met.no.\n",
      "          creation_date: 2011-05-17T00:00:06Z\n",
      "          depth_bounds: OHC integrated over full depth of input data (0.000000 down to 6750.00...\n",
      "          experiment: historical\n",
      "          experiment_id: historical\n",
      "          forcing: GHG, SA, Oz, Sl, Vl, BC, OC\n",
      "          frequency: mon\n",
      "          history: Thu May 31 11:50:38 2018: /g/data/r87/dbi599/miniconda3/envs/ocean/bin/python...\n",
      "          initialization_method: 1\n",
      "          institute_id: NCC\n",
      "          institution: Norwegian Climate Centre\n",
      "          invalid_standard_name: ocean_heat_content\n",
      "          model_id: NorESM1-M\n",
      "          modeling_realm: ocean\n",
      "          original_name: templvl\n",
      "          original_units: degC\n",
      "          parent_experiment: pre-industrial control\n",
      "          parent_experiment_id: piControl\n",
      "          parent_experiment_rip: r1i1p1\n",
      "          physics_version: 1\n",
      "          product: output\n",
      "          project_id: CMIP5\n",
      "          realization: 1\n",
      "          source: NorESM1-M 2011  atmosphere: CAM-Oslo (CAM4-Oslo-noresm-ver1_cmip5-r112,...\n",
      "          table_id: Table Omon (27 April 2011) 340eddd4fd838d90fa9ffe1345ecbd73\n",
      "          title: NorESM1-M model output prepared for CMIP5 historical\n",
      "          tracking_id: 3ab31f5b-be54-4335-831d-3cf93ec3c89d\n"
     ]
    }
   ],
   "source": [
    "data_cube = iris.load_cube(data_file, 'ocean heat content')\n",
    "print(data_cube)"
   ]
  },
  {
   "cell_type": "code",
   "execution_count": 20,
   "metadata": {
    "collapsed": false
   },
   "outputs": [
    {
     "name": "stdout",
     "output_type": "stream",
     "text": [
      "toa_incoming_shortwave_flux / (W m-2) (latitude: 96; longitude: 144)\n",
      "     Dimension coordinates:\n",
      "          latitude                             x              -\n",
      "          longitude                            -              x\n",
      "     Scalar coordinates:\n",
      "          time: 1850-01-16 12:00:00, bound=(1850-01-01 00:00:00, 1850-02-01 00:00:00)\n",
      "     Attributes:\n",
      "          Conventions: CF-1.4\n",
      "          associated_files: baseURL: http://cmip-pcmdi.llnl.gov/CMIP5/dataLocation gridspecFile: gridspec_atmos_fx_NorESM1-M_historical_r0i0p0.nc...\n",
      "          branch_time: 255135.0\n",
      "          cmor_version: 2.6.0\n",
      "          comment: at the top of the atmosphere\n",
      "          contact: Please send any requests or bug reports to noresm-ncc@met.no.\n",
      "          creation_date: 2011-06-01T09:30:41Z\n",
      "          experiment: historical\n",
      "          experiment_id: historical\n",
      "          forcing: GHG, SA, Oz, Sl, Vl, BC, OC\n",
      "          frequency: mon\n",
      "          history: 2011-06-01T09:30:40Z altered by CMOR: Converted units from 'W/m2' to 'W...\n",
      "          initialization_method: 1\n",
      "          institute_id: NCC\n",
      "          institution: Norwegian Climate Centre\n",
      "          model_id: NorESM1-M\n",
      "          modeling_realm: atmos\n",
      "          original_name: FSNTOA+FSUTOA\n",
      "          original_units: W/m2\n",
      "          parent_experiment: pre-industrial control\n",
      "          parent_experiment_id: piControl\n",
      "          parent_experiment_rip: r1i1p1\n",
      "          physics_version: 1\n",
      "          product: output\n",
      "          project_id: CMIP5\n",
      "          realization: 1\n",
      "          source: NorESM1-M 2011  atmosphere: CAM-Oslo (CAM4-Oslo-noresm-ver1_cmip5-r112,...\n",
      "          table_id: Table Amon (27 April 2011) a5a1c518f52ae340313ba0aada03f862\n",
      "          title: NorESM1-M model output prepared for CMIP5 historical\n",
      "          tracking_id: d2e70337-878e-4bea-97a3-d71c679b95a1\n",
      "     Cell methods:\n",
      "          mean: time\n"
     ]
    },
    {
     "name": "stderr",
     "output_type": "stream",
     "text": [
      "/g/data/r87/dbi599/miniconda3/envs/ocean/lib/python3.6/site-packages/iris/fileformats/cf.py:798: UserWarning: Missing CF-netCDF measure variable 'areacella', referenced by netCDF variable 'rsdt'\n",
      "  warnings.warn(message % (variable_name, nc_var_name))\n"
     ]
    }
   ],
   "source": [
    "ref_cube = iris.load_cube(ref_file, 'toa_incoming_shortwave_flux')[0]\n",
    "print(ref_cube)"
   ]
  },
  {
   "cell_type": "code",
   "execution_count": 22,
   "metadata": {
    "collapsed": true
   },
   "outputs": [],
   "source": [
    "def create_region_mask(latitude_array, target_shape, lat_bounds):\n",
    "    \"\"\"Create mask from the latitude auxillary coordinate\"\"\"\n",
    "\n",
    "    target_ndim = len(target_shape)\n",
    "\n",
    "    southern_lat, northern_lat = lat_bounds\n",
    "    mask_array = numpy.where((latitude_array >= southern_lat) & (latitude_array < northern_lat), False, True)\n",
    "\n",
    "    mask = uconv.broadcast_array(mask_array, [target_ndim - 2, target_ndim - 1], target_shape)\n",
    "    assert mask.shape == target_shape \n",
    "\n",
    "    return mask\n",
    "\n",
    "\n",
    "def extract_region_curvilinear(cube, lat_bounds):\n",
    "    \"\"\"Extract region of interest from a curvilinear grid.\"\"\"\n",
    "\n",
    "    cube = cube.copy() \n",
    " \n",
    "    region_mask = create_region_mask(cube.coord('latitude').points, cube.shape, lat_bounds)\n",
    "    land_ocean_mask = cube.data.mask\n",
    "    complete_mask = region_mask + land_ocean_mask\n",
    "\n",
    "    cube.data = numpy.ma.asarray(cube.data)\n",
    "    cube.data.mask = complete_mask\n",
    "\n",
    "    return cube"
   ]
  },
  {
   "cell_type": "code",
   "execution_count": 30,
   "metadata": {
    "collapsed": false
   },
   "outputs": [
    {
     "data": {
      "text/plain": [
       "['time',\n",
       " 'cell index along second dimension',\n",
       " 'cell index along first dimension']"
      ]
     },
     "execution_count": 30,
     "metadata": {},
     "output_type": "execute_result"
    }
   ],
   "source": [
    "coord_names = [coord.name() for coord in data_cube.dim_coords]\n",
    "coord_names"
   ]
  },
  {
   "cell_type": "code",
   "execution_count": 31,
   "metadata": {
    "collapsed": false
   },
   "outputs": [],
   "source": [
    "new_lat_bounds = ref_cube.coord('latitude').bounds"
   ]
  },
  {
   "cell_type": "code",
   "execution_count": 36,
   "metadata": {
    "collapsed": false
   },
   "outputs": [],
   "source": [
    "ntime = data_cube.shape[0]\n",
    "nlat = len(new_lat_bounds)\n",
    "new_data = numpy.ma.zeros((ntime, nlat))"
   ]
  },
  {
   "cell_type": "code",
   "execution_count": 57,
   "metadata": {
    "collapsed": false
   },
   "outputs": [],
   "source": [
    "for lat_index in range(0, nlat):\n",
    "    lat_cube = extract_region_curvilinear(data_cube, new_lat_bounds[lat_index])\n",
    "    lat_integral = lat_cube.collapsed(coord_names[1:], iris.analysis.SUM)\n",
    "    new_data[:, lat_index] = lat_integral.data"
   ]
  },
  {
   "cell_type": "code",
   "execution_count": 58,
   "metadata": {
    "collapsed": false
   },
   "outputs": [
    {
     "data": {
      "text/plain": [
       "masked_array(data =\n",
       " [[-- -- -- -- -- -- 8.073305014541207e+21 2.6356429350109498e+23\n",
       "  7.432417877482025e+23 2.4299478840677004e+24 4.839530604391019e+24\n",
       "  6.175549059908354e+24 1.121888939419925e+25 1.145684372645517e+25\n",
       "  1.9388942259184963e+25 1.6257673403972293e+25 2.346539734690777e+25\n",
       "  1.8707512632103093e+25 2.511331443318993e+25 1.7627224663489544e+25\n",
       "  2.388656544469627e+25 2.5214233564696226e+25 2.056802924628462e+25\n",
       "  2.90887140367325e+25 2.271479469729313e+25 3.11639381009069e+25\n",
       "  2.435846821579313e+25 3.3354245724356986e+25 2.533081899494789e+25\n",
       "  3.2057982072071042e+25 2.2254724656776546e+25 2.9124290172034813e+25\n",
       "  2.865724953951024e+25 2.1046467446981977e+25 3.2728773869354215e+25\n",
       "  2.4359440877004e+25 2.7428762475683406e+25 2.4806087911928193e+25\n",
       "  2.7494192778842716e+25 2.5565949939291993e+25 2.9395735581177016e+25\n",
       "  2.9322314934436207e+25 3.300512199470887e+25 2.8601842053260073e+25\n",
       "  2.8867012901681996e+25 2.7662009180584346e+25 2.7762413692038306e+25\n",
       "  2.813927993287311e+25 2.9090841678457024e+25 2.9404437302486024e+25\n",
       "  2.8660649594609837e+25 2.761299733796145e+25 2.726488270130516e+25\n",
       "  2.8778231304340278e+25 2.9535035004249813e+25 3.0128395291655894e+25\n",
       "  2.640999365652294e+25 2.670131136820686e+25 2.4069356631860673e+25\n",
       "  2.50208662700058e+25 2.430999550158776e+25 2.2353392946108383e+25\n",
       "  2.2574821943618025e+25 2.028573721181604e+25 2.012737981346646e+25\n",
       "  1.9748909939146316e+25 1.874396494294759e+25 1.8009212003709384e+25\n",
       "  1.7211936259283099e+25 1.583647991942314e+25 1.4277193198485957e+25\n",
       "  1.2578899992633744e+25 1.122155930934573e+25 9.834333400956396e+24\n",
       "  8.740582649729762e+24 6.805773860616773e+24 5.58075187134791e+24\n",
       "  4.531425891008408e+24 3.618954503575264e+24 2.357510739329139e+24\n",
       "  1.4686712610670987e+24 9.285542835824441e+23 6.282932976579383e+23\n",
       "  6.916896353772885e+23 9.83362513677405e+23 1.193462449462333e+24\n",
       "  1.6605543281945096e+24 1.6637517669131287e+24 1.3817630697314108e+24\n",
       "  1.6244917831643005e+24 2.1335199505480507e+24 2.655571797777247e+24\n",
       "  2.578523434604092e+24 1.979251358950095e+24 1.0993461938179746e+24\n",
       "  1.454280497852995e+23]\n",
       " [-- -- -- -- -- -- 8.07409701879315e+21 2.63569973838177e+23\n",
       "  7.432676548201342e+23 2.4299243658237997e+24 4.839578527848573e+24\n",
       "  6.17557013614225e+24 1.1218872519092755e+25 1.1456828515161814e+25\n",
       "  1.938910773795326e+25 1.6257584891382995e+25 2.3465005962258324e+25\n",
       "  1.8707051434970431e+25 2.511240632218894e+25 1.7626572087729603e+25\n",
       "  2.3886012719206083e+25 2.521415239874701e+25 2.056813569445548e+25\n",
       "  2.908906644351904e+25 2.27151711307003e+25 3.1164473678831137e+25\n",
       "  2.4358903147171346e+25 3.3354747613738788e+25 2.5331158322673845e+25\n",
       "  3.205880329350569e+25 2.2255547268083517e+25 2.912551589273268e+25\n",
       "  2.8658241764774103e+25 2.104680393773046e+25 3.2729034619511643e+25\n",
       "  2.4359917345106576e+25 2.7429743340306834e+25 2.480697197697049e+25\n",
       "  2.7494701760829564e+25 2.556594402641638e+25 2.9395058805170803e+25\n",
       "  2.9321056400081173e+25 3.3003398808924605e+25 2.8599650008316077e+25\n",
       "  2.886495465260052e+25 2.7660726556455423e+25 2.7761011652149475e+25\n",
       "  2.813698649329051e+25 2.9088059449614046e+25 2.940181578329154e+25\n",
       "  2.8660191286070878e+25 2.7614815263036215e+25 2.726736753703634e+25\n",
       "  2.8779323710989787e+25 2.9534955831035743e+25 3.012879951484605e+25\n",
       "  2.6410664978766387e+25 2.670244452466942e+25 2.407049710987893e+25\n",
       "  2.502223407367979e+25 2.431155151807752e+25 2.2355117455113306e+25\n",
       "  2.2576355003873043e+25 2.0286919296537465e+25 2.012833437488567e+25\n",
       "  1.9749287982123832e+25 1.8743912873362862e+25 1.80086388742896e+25\n",
       "  1.7211055368818337e+25 1.5835561134770806e+25 1.4276094158386412e+25\n",
       "  1.2577723045086458e+25 1.1220553009633711e+25 9.833535351574255e+24\n",
       "  8.74012249271843e+24 6.805653595071703e+24 5.580979466381869e+24\n",
       "  4.5319207822374513e+24 3.61948684257961e+24 2.3578275292015238e+24\n",
       "  1.4689743503403154e+24 9.288544149413741e+23 6.285853913127925e+23\n",
       "  6.918642535946333e+23 9.834667216290696e+23 1.19360563961006e+24\n",
       "  1.6606607434376003e+24 1.66384135523945e+24 1.3818628213493952e+24\n",
       "  1.6245478377515455e+24 2.1335562342815347e+24 2.655565111959873e+24\n",
       "  2.578508890884757e+24 1.979238508263498e+24 1.0993375519551644e+24\n",
       "  1.4542683726356406e+23]\n",
       " [-- -- -- -- -- -- 8.07401128790403e+21 2.635826160118178e+23\n",
       "  7.433067409695309e+23 2.429978555159476e+24 4.839676259706308e+24\n",
       "  6.175621075242166e+24 1.1219003553641839e+25 1.1456949816455332e+25\n",
       "  1.938930929668851e+25 1.625751132313327e+25 2.3464642374631727e+25\n",
       "  1.8706572136455675e+25 2.5111719101303936e+25 1.76261970686918e+25\n",
       "  2.3885906555626946e+25 2.521462338248632e+25 2.0568686392648517e+25\n",
       "  2.9089951807941466e+25 2.2715972779368708e+25 3.116510185297964e+25\n",
       "  2.4359061984130457e+25 3.335507950760383e+25 2.533141757791194e+25\n",
       "  3.205888026126749e+25 2.2255463709591835e+25 2.91251910904451e+25\n",
       "  2.8657880038618596e+25 2.1046697311720635e+25 3.2729373311717602e+25\n",
       "  2.436071962002008e+25 2.743073816919436e+25 2.480769260310612e+25\n",
       "  2.7495122049342074e+25 2.5565603285440415e+25 2.9393927676395986e+25\n",
       "  2.932013795773477e+25 3.300315323459841e+25 2.8600386125522933e+25\n",
       "  2.8865871972044964e+25 2.7661060344605855e+25 2.776193342264952e+25\n",
       "  2.8138809580980524e+25 2.909020070571473e+25 2.940345720854483e+25\n",
       "  2.8659978400149393e+25 2.761270808050521e+25 2.72640289680953e+25\n",
       "  2.8776449379870663e+25 2.9533127235445083e+25 3.0127591072725905e+25\n",
       "  2.6409980922152616e+25 2.670145429699283e+25 2.4069765273374916e+25\n",
       "  2.5021984647097e+25 2.431180325582856e+25 2.235542447931492e+25\n",
       "  2.257664814693545e+25 2.028723921719581e+25 2.0128771672392004e+25\n",
       "  1.9749760022412384e+25 1.874449607534439e+25 1.8009620141690221e+25\n",
       "  1.7212239393789562e+25 1.583652628374002e+25 1.4277029969676696e+25\n",
       "  1.2578189404326556e+25 1.122040907826418e+25 9.83297069839534e+24\n",
       "  8.739340804504391e+24 6.804876943370105e+24 5.580315186032909e+24\n",
       "  4.5314579415653024e+24 3.619122501432757e+24 2.35756982179601e+24\n",
       "  1.4688752053295982e+24 9.288434496751919e+23 6.286772035968957e+23\n",
       "  6.919883633394081e+23 9.83525504040146e+23 1.1935615870525994e+24\n",
       "  1.6606695101157326e+24 1.6638506638296713e+24 1.381915297235515e+24\n",
       "  1.6246155186530597e+24 2.1335980333341687e+24 2.65561511947763e+24\n",
       "  2.578537825812159e+24 1.9792379199830244e+24 1.0993322719272517e+24\n",
       "  1.4542633878606352e+23]\n",
       " [-- -- -- -- -- -- 8.074368567263048e+21 2.63594723534266e+23\n",
       "  7.433445381911825e+23 2.430003106008282e+24 4.839621630536275e+24\n",
       "  6.175702574973848e+24 1.1219144956980194e+25 1.1456979720099426e+25\n",
       "  1.938953080769659e+25 1.6257517565519192e+25 2.3464511959139624e+25\n",
       "  1.8706459332213103e+25 2.51116484532105e+25 1.7625850830015888e+25\n",
       "  2.3885227598479815e+25 2.521386219444593e+25 2.0568055590962372e+25\n",
       "  2.9089316111266616e+25 2.271566378850496e+25 3.1165395449430063e+25\n",
       "  2.4359861188379567e+25 3.3356239918647688e+25 2.533240784579407e+25\n",
       "  3.2060277448452016e+25 2.225632694545384e+25 2.912631471007734e+25\n",
       "  2.865870251672917e+25 2.1046885487305753e+25 3.272873477903687e+25\n",
       "  2.435950021169811e+25 2.7429124166426825e+25 2.480659674606186e+25\n",
       "  2.7494704295144007e+25 2.5566128513672623e+25 2.9395295933867377e+25\n",
       "  2.932088951379515e+25 3.3002451702045934e+25 2.8598593679153986e+25\n",
       "  2.88647704056785e+25 2.766104834425422e+25 2.7760416991301735e+25\n",
       "  2.8135647353273146e+25 2.90864958488133e+25 2.9401072678651884e+25\n",
       "  2.866066714697337e+25 2.761631755869768e+25 2.726752473267175e+25\n",
       "  2.877754428989771e+25 2.9532599667700815e+25 3.0126790670646353e+25\n",
       "  2.6409479730839313e+25 2.670173858035368e+25 2.407026065574708e+25\n",
       "  2.5022287257468366e+25 2.4311900983382687e+25 2.2354946674004797e+25\n",
       "  2.2576378743405985e+25 2.0287081828079706e+25 2.012851483656123e+25\n",
       "  1.974962890834869e+25 1.8744826777365465e+25 1.8010473653421783e+25\n",
       "  1.721367110914124e+25 1.5838404555185761e+25 1.4279006472819973e+25\n",
       "  1.2579718727963847e+25 1.1221288020376444e+25 9.83325153838521e+24\n",
       "  8.739111803627849e+24 6.80417731924821e+24 5.579408880724188e+24\n",
       "  4.5306307736256526e+24 3.6184117946898464e+24 2.3570874814546885e+24\n",
       "  1.4685160493305786e+24 9.28466204016549e+23 6.283432674047526e+23\n",
       "  6.917867028957038e+23 9.834600369848053e+23 1.1935987517587584e+24\n",
       "  1.6608224535894574e+24 1.6639912287327784e+24 1.3820280504242566e+24\n",
       "  1.624672780499301e+24 2.1336419416365728e+24 2.6556704596140917e+24\n",
       "  2.578561124435179e+24 1.979234299510805e+24 1.0993314404462064e+24\n",
       "  1.4542673211639728e+23]],\n",
       "             mask =\n",
       " [[ True  True  True  True  True  True False False False False False False\n",
       "  False False False False False False False False False False False False\n",
       "  False False False False False False False False False False False False\n",
       "  False False False False False False False False False False False False\n",
       "  False False False False False False False False False False False False\n",
       "  False False False False False False False False False False False False\n",
       "  False False False False False False False False False False False False\n",
       "  False False False False False False False False False False False False]\n",
       " [ True  True  True  True  True  True False False False False False False\n",
       "  False False False False False False False False False False False False\n",
       "  False False False False False False False False False False False False\n",
       "  False False False False False False False False False False False False\n",
       "  False False False False False False False False False False False False\n",
       "  False False False False False False False False False False False False\n",
       "  False False False False False False False False False False False False\n",
       "  False False False False False False False False False False False False]\n",
       " [ True  True  True  True  True  True False False False False False False\n",
       "  False False False False False False False False False False False False\n",
       "  False False False False False False False False False False False False\n",
       "  False False False False False False False False False False False False\n",
       "  False False False False False False False False False False False False\n",
       "  False False False False False False False False False False False False\n",
       "  False False False False False False False False False False False False\n",
       "  False False False False False False False False False False False False]\n",
       " [ True  True  True  True  True  True False False False False False False\n",
       "  False False False False False False False False False False False False\n",
       "  False False False False False False False False False False False False\n",
       "  False False False False False False False False False False False False\n",
       "  False False False False False False False False False False False False\n",
       "  False False False False False False False False False False False False\n",
       "  False False False False False False False False False False False False\n",
       "  False False False False False False False False False False False False]],\n",
       "       fill_value = 1e+20)"
      ]
     },
     "execution_count": 58,
     "metadata": {},
     "output_type": "execute_result"
    }
   ],
   "source": [
    "new_data"
   ]
  },
  {
   "cell_type": "code",
   "execution_count": 59,
   "metadata": {
    "collapsed": false
   },
   "outputs": [
    {
     "data": {
      "text/plain": [
       "1.5558972140441873e+27"
      ]
     },
     "execution_count": 59,
     "metadata": {},
     "output_type": "execute_result"
    }
   ],
   "source": [
    "new_data[0, :].sum()"
   ]
  },
  {
   "cell_type": "code",
   "execution_count": 60,
   "metadata": {
    "collapsed": false
   },
   "outputs": [
    {
     "data": {
      "text/plain": [
       "1.5558972140441873e+27"
      ]
     },
     "execution_count": 60,
     "metadata": {},
     "output_type": "execute_result"
    }
   ],
   "source": [
    "data_cube.data[0, ::].sum()"
   ]
  },
  {
   "cell_type": "code",
   "execution_count": 61,
   "metadata": {
    "collapsed": true
   },
   "outputs": [],
   "source": [
    "time_coord = data_cube.coord('time')\n",
    "lat_coord = ref_cube.coord('latitude')\n",
    "\n",
    "new_cube = iris.cube.Cube(new_data,\n",
    "                          standard_name=data_cube.standard_name,\n",
    "                          long_name=data_cube.long_name,\n",
    "                          var_name=data_cube.var_name,\n",
    "                          units=data_cube.units,\n",
    "                          attributes=data_cube.attributes,\n",
    "                          dim_coords_and_dims=[(time_coord, 0), (lat_coord, 1)],)"
   ]
  },
  {
   "cell_type": "code",
   "execution_count": 62,
   "metadata": {
    "collapsed": false
   },
   "outputs": [
    {
     "name": "stdout",
     "output_type": "stream",
     "text": [
      "ocean heat content / (J)            (time: 4; latitude: 96)\n",
      "     Dimension coordinates:\n",
      "          time                           x            -\n",
      "          latitude                       -            x\n",
      "     Attributes:\n",
      "          Conventions: CF-1.5\n",
      "          associated_files: baseURL: http://cmip-pcmdi.llnl.gov/CMIP5/dataLocation gridspecFile: gridspec_ocean_fx_NorESM1-M_historical_r0i0p0.nc...\n",
      "          branch_time: 255135.0\n",
      "          cmor_version: 2.5.9\n",
      "          contact: Please send any requests or bug reports to noresm-ncc@met.no.\n",
      "          creation_date: 2011-05-17T00:00:06Z\n",
      "          depth_bounds: OHC integrated over full depth of input data (0.000000 down to 6750.00...\n",
      "          experiment: historical\n",
      "          experiment_id: historical\n",
      "          forcing: GHG, SA, Oz, Sl, Vl, BC, OC\n",
      "          frequency: mon\n",
      "          history: Thu May 31 11:50:38 2018: /g/data/r87/dbi599/miniconda3/envs/ocean/bin/python...\n",
      "          initialization_method: 1\n",
      "          institute_id: NCC\n",
      "          institution: Norwegian Climate Centre\n",
      "          invalid_standard_name: ocean_heat_content\n",
      "          model_id: NorESM1-M\n",
      "          modeling_realm: ocean\n",
      "          original_name: templvl\n",
      "          original_units: degC\n",
      "          parent_experiment: pre-industrial control\n",
      "          parent_experiment_id: piControl\n",
      "          parent_experiment_rip: r1i1p1\n",
      "          physics_version: 1\n",
      "          product: output\n",
      "          project_id: CMIP5\n",
      "          realization: 1\n",
      "          source: NorESM1-M 2011  atmosphere: CAM-Oslo (CAM4-Oslo-noresm-ver1_cmip5-r112,...\n",
      "          table_id: Table Omon (27 April 2011) 340eddd4fd838d90fa9ffe1345ecbd73\n",
      "          title: NorESM1-M model output prepared for CMIP5 historical\n",
      "          tracking_id: 3ab31f5b-be54-4335-831d-3cf93ec3c89d\n"
     ]
    }
   ],
   "source": [
    "print(new_cube)"
   ]
  },
  {
   "cell_type": "code",
   "execution_count": 66,
   "metadata": {
    "collapsed": false
   },
   "outputs": [
    {
     "data": {
      "image/png": "[encoded data removed]",
      "text/plain": [
       "<matplotlib.figure.Figure at 0x7f8b3834f898>"
      ]
     },
     "metadata": {},
     "output_type": "display_data"
    }
   ],
   "source": [
    "fig, ax = plt.subplots(figsize=[12, 6])\n",
    "\n",
    "iplt.plot(new_cube[2, :])\n",
    "\n",
    "plt.xlabel('latitude')\n",
    "plt.ylabel('J')\n",
    "plt.xlim(-90, 90)\n",
    "\n",
    "plt.axhline(y=0, color='0.5', linestyle='--')\n",
    "plt.show()"
   ]
  },
  {
   "cell_type": "code",
   "execution_count": null,
   "metadata": {
    "collapsed": true
   },
   "outputs": [],
   "source": []
  }
 ],
 "metadata": {
  "kernelspec": {
   "display_name": "Python 3",
   "language": "python",
   "name": "python3"
  },
  "language_info": {
   "codemirror_mode": {
    "name": "ipython",
    "version": 3
   },
   "file_extension": ".py",
   "mimetype": "text/x-python",
   "name": "python",
   "nbconvert_exporter": "python",
   "pygments_lexer": "ipython3",
   "version": "3.6.0"
  }
 },
 "nbformat": 4,
 "nbformat_minor": 2
}
