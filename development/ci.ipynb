{
 "cells": [
  {
   "cell_type": "code",
   "execution_count": 19,
   "metadata": {},
   "outputs": [],
   "source": [
    "import numpy as np\n",
    "from scipy import stats\n",
    "import pandas as pd\n",
    "import numpy as np"
   ]
  },
  {
   "cell_type": "code",
   "execution_count": 3,
   "metadata": {},
   "outputs": [],
   "source": [
    "ghg_df = pd.read_csv('/home/599/dbi599/ocean-analysis/visualisation/water_cycle/GHG-only.csv')"
   ]
  },
  {
   "cell_type": "code",
   "execution_count": 4,
   "metadata": {},
   "outputs": [
    {
     "data": {
      "text/html": [
       "<div>\n",
       "<style scoped>\n",
       "    .dataframe tbody tr th:only-of-type {\n",
       "        vertical-align: middle;\n",
       "    }\n",
       "\n",
       "    .dataframe tbody tr th {\n",
       "        vertical-align: top;\n",
       "    }\n",
       "\n",
       "    .dataframe thead th {\n",
       "        text-align: right;\n",
       "    }\n",
       "</style>\n",
       "<table border=\"1\" class=\"dataframe\">\n",
       "  <thead>\n",
       "    <tr style=\"text-align: right;\">\n",
       "      <th></th>\n",
       "      <th>Unnamed: 0</th>\n",
       "      <th>model</th>\n",
       "      <th>component</th>\n",
       "      <th>P-E region</th>\n",
       "      <th>time integrated P-E anomaly, 1861-2005 (kg)</th>\n",
       "    </tr>\n",
       "  </thead>\n",
       "  <tbody>\n",
       "    <tr>\n",
       "      <th>0</th>\n",
       "      <td>0</td>\n",
       "      <td>CanESM2</td>\n",
       "      <td>total</td>\n",
       "      <td>SH-P</td>\n",
       "      <td>1.253944e+17</td>\n",
       "    </tr>\n",
       "    <tr>\n",
       "      <th>1</th>\n",
       "      <td>1</td>\n",
       "      <td>CanESM2</td>\n",
       "      <td>total</td>\n",
       "      <td>SH-E</td>\n",
       "      <td>-1.952247e+17</td>\n",
       "    </tr>\n",
       "    <tr>\n",
       "      <th>2</th>\n",
       "      <td>2</td>\n",
       "      <td>CanESM2</td>\n",
       "      <td>total</td>\n",
       "      <td>T-P</td>\n",
       "      <td>4.443918e+16</td>\n",
       "    </tr>\n",
       "    <tr>\n",
       "      <th>3</th>\n",
       "      <td>3</td>\n",
       "      <td>CanESM2</td>\n",
       "      <td>total</td>\n",
       "      <td>NH-E</td>\n",
       "      <td>-9.373015e+16</td>\n",
       "    </tr>\n",
       "    <tr>\n",
       "      <th>4</th>\n",
       "      <td>4</td>\n",
       "      <td>CanESM2</td>\n",
       "      <td>total</td>\n",
       "      <td>NH-P</td>\n",
       "      <td>1.175894e+17</td>\n",
       "    </tr>\n",
       "    <tr>\n",
       "      <th>...</th>\n",
       "      <td>...</td>\n",
       "      <td>...</td>\n",
       "      <td>...</td>\n",
       "      <td>...</td>\n",
       "      <td>...</td>\n",
       "    </tr>\n",
       "    <tr>\n",
       "      <th>265</th>\n",
       "      <td>265</td>\n",
       "      <td>GFDL-ESM4</td>\n",
       "      <td>area</td>\n",
       "      <td>SH-P</td>\n",
       "      <td>-2.900105e+16</td>\n",
       "    </tr>\n",
       "    <tr>\n",
       "      <th>266</th>\n",
       "      <td>266</td>\n",
       "      <td>GFDL-ESM4</td>\n",
       "      <td>area</td>\n",
       "      <td>SH-E</td>\n",
       "      <td>-7.284136e+16</td>\n",
       "    </tr>\n",
       "    <tr>\n",
       "      <th>267</th>\n",
       "      <td>267</td>\n",
       "      <td>GFDL-ESM4</td>\n",
       "      <td>area</td>\n",
       "      <td>T-P</td>\n",
       "      <td>1.024520e+16</td>\n",
       "    </tr>\n",
       "    <tr>\n",
       "      <th>268</th>\n",
       "      <td>268</td>\n",
       "      <td>GFDL-ESM4</td>\n",
       "      <td>area</td>\n",
       "      <td>NH-E</td>\n",
       "      <td>-3.132190e+15</td>\n",
       "    </tr>\n",
       "    <tr>\n",
       "      <th>269</th>\n",
       "      <td>269</td>\n",
       "      <td>GFDL-ESM4</td>\n",
       "      <td>area</td>\n",
       "      <td>NH-P</td>\n",
       "      <td>-9.601776e+15</td>\n",
       "    </tr>\n",
       "  </tbody>\n",
       "</table>\n",
       "<p>270 rows × 5 columns</p>\n",
       "</div>"
      ],
      "text/plain": [
       "     Unnamed: 0      model component P-E region  \\\n",
       "0             0    CanESM2     total       SH-P   \n",
       "1             1    CanESM2     total       SH-E   \n",
       "2             2    CanESM2     total        T-P   \n",
       "3             3    CanESM2     total       NH-E   \n",
       "4             4    CanESM2     total       NH-P   \n",
       "..          ...        ...       ...        ...   \n",
       "265         265  GFDL-ESM4      area       SH-P   \n",
       "266         266  GFDL-ESM4      area       SH-E   \n",
       "267         267  GFDL-ESM4      area        T-P   \n",
       "268         268  GFDL-ESM4      area       NH-E   \n",
       "269         269  GFDL-ESM4      area       NH-P   \n",
       "\n",
       "     time integrated P-E anomaly, 1861-2005 (kg)  \n",
       "0                                   1.253944e+17  \n",
       "1                                  -1.952247e+17  \n",
       "2                                   4.443918e+16  \n",
       "3                                  -9.373015e+16  \n",
       "4                                   1.175894e+17  \n",
       "..                                           ...  \n",
       "265                                -2.900105e+16  \n",
       "266                                -7.284136e+16  \n",
       "267                                 1.024520e+16  \n",
       "268                                -3.132190e+15  \n",
       "269                                -9.601776e+15  \n",
       "\n",
       "[270 rows x 5 columns]"
      ]
     },
     "execution_count": 4,
     "metadata": {},
     "output_type": "execute_result"
    }
   ],
   "source": [
    "ghg_df"
   ]
  },
  {
   "cell_type": "code",
   "execution_count": 11,
   "metadata": {},
   "outputs": [],
   "source": [
    "shp_total = ghg_df[(ghg_df['P-E region'] == 'SH-P') & (ghg_df['component'] == 'total')]['time integrated P-E anomaly, 1861-2005 (kg)'].values"
   ]
  },
  {
   "cell_type": "code",
   "execution_count": 17,
   "metadata": {},
   "outputs": [],
   "source": [
    "def mean_confidence_interval(data, confidence=0.95):\n",
    "    \"\"\"Calculate 95% CI on the mean.\n",
    "\n",
    "    The interval is the mean +/- h.\n",
    "\n",
    "    \"\"\"\n",
    "\n",
    "    n = len(data)\n",
    "    se = stats.sem(data)\n",
    "    h = se * scipy.stats.t.ppf((1 + confidence) / 2., n-1)\n",
    "\n",
    "    return h"
   ]
  },
  {
   "cell_type": "code",
   "execution_count": 18,
   "metadata": {},
   "outputs": [
    {
     "data": {
      "text/plain": [
       "2.589153811874242e+16"
      ]
     },
     "execution_count": 18,
     "metadata": {},
     "output_type": "execute_result"
    }
   ],
   "source": [
    "mean_confidence_interval(shp_total)"
   ]
  },
  {
   "cell_type": "code",
   "execution_count": 20,
   "metadata": {},
   "outputs": [],
   "source": [
    "lower = np.array([9.011262033699773e+16, -3.321220393544478e+17, 1.2242470655152462e+17, -1.859302540309282e+17, 8.462133035645846e+16, 1.1213825433056557e+17, -2.4441290521975392e+17, 1.2177713258388851e+17, -1.6360380662228675e+17, 9.913872721075598e+16, -3.0620867720081524e+16, -1.4097081522833664e+17, -6.377824095347973e+16, -7.019173487347237e+16, -1.7358645248886456e+16])\n",
    "upper = np.array([1.3810471948461789e+17, -2.079246228138969e+17, 2.487269082170289e+17, -8.719099157509086e+16, 1.2974817663673728e+17, 1.6707882110843424e+17, -1.4043007048788402e+17, 2.808198307819691e+17, -7.175461673613359e+16, 1.4215261108641176e+17, 1076643060136690.1, -6.257978055492699e+16, 6.421792834125952e+16, -7901254724873188.0, 1.270767930647456e+16])\n"
   ]
  },
  {
   "cell_type": "code",
   "execution_count": 22,
   "metadata": {},
   "outputs": [
    {
     "data": {
      "text/plain": [
       "array([4.79920991e+16, 1.24197417e+17, 1.26302202e+17, 9.87392625e+16,\n",
       "       4.51268463e+16, 5.49405668e+16, 1.03982835e+17, 1.59042698e+17,\n",
       "       9.18491899e+16, 4.30138839e+16, 3.16975108e+16, 7.83910347e+16,\n",
       "       1.27996169e+17, 6.22904801e+16, 3.00663246e+16])"
      ]
     },
     "execution_count": 22,
     "metadata": {},
     "output_type": "execute_result"
    }
   ],
   "source": [
    "upper - lower"
   ]
  },
  {
   "cell_type": "code",
   "execution_count": null,
   "metadata": {},
   "outputs": [],
   "source": [
    "def bootstrap(*args, **kwargs):\n",
    "    \"\"\"Resample one or more arrays with replacement and store aggregate values.\n",
    "    Positional arguments are a sequence of arrays to bootstrap along the first\n",
    "    axis and pass to a summary function.\n",
    "    Keyword arguments:\n",
    "        n_boot : int, default=10000\n",
    "            Number of iterations\n",
    "        axis : int, default=None\n",
    "            Will pass axis to ``func`` as a keyword argument.\n",
    "        units : array, default=None\n",
    "            Array of sampling unit IDs. When used the bootstrap resamples units\n",
    "            and then observations within units instead of individual\n",
    "            datapoints.\n",
    "        func : string or callable, default=\"mean\"\n",
    "            Function to call on the args that are passed in. If string, uses as\n",
    "            name of function in the numpy namespace. If nans are present in the\n",
    "            data, will try to use nan-aware version of named function.\n",
    "        seed : Generator | SeedSequence | RandomState | int | None\n",
    "            Seed for the random number generator; useful if you want\n",
    "            reproducible resamples.\n",
    "    Returns\n",
    "    -------\n",
    "    boot_dist: array\n",
    "        array of bootstrapped statistic values\n",
    "    \"\"\"\n",
    "    # Ensure list of arrays are same length\n",
    "    if len(np.unique(list(map(len, args)))) > 1:\n",
    "        raise ValueError(\"All input arrays must have the same length\")\n",
    "    n = len(args[0])\n",
    "\n",
    "    # Default keyword arguments\n",
    "    n_boot = kwargs.get(\"n_boot\", 10000)\n",
    "    func = kwargs.get(\"func\", \"mean\")\n",
    "    axis = kwargs.get(\"axis\", None)\n",
    "    units = kwargs.get(\"units\", None)\n",
    "    random_seed = kwargs.get(\"random_seed\", None)\n",
    "    if random_seed is not None:\n",
    "        msg = \"`random_seed` has been renamed to `seed` and will be removed\"\n",
    "        warnings.warn(msg)\n",
    "    seed = kwargs.get(\"seed\", random_seed)\n",
    "    if axis is None:\n",
    "        func_kwargs = dict()\n",
    "    else:\n",
    "        func_kwargs = dict(axis=axis)\n",
    "\n",
    "    # Initialize the resampler\n",
    "    rng = _handle_random_seed(seed)\n",
    "\n",
    "    # Coerce to arrays\n",
    "    args = list(map(np.asarray, args))\n",
    "    if units is not None:\n",
    "        units = np.asarray(units)\n",
    "\n",
    "    if isinstance(func, str):\n",
    "\n",
    "        # Allow named numpy functions\n",
    "        f = getattr(np, func)\n",
    "\n",
    "        # Try to use nan-aware version of function if necessary\n",
    "        missing_data = np.isnan(np.sum(np.column_stack(args)))\n",
    "\n",
    "        if missing_data and not func.startswith(\"nan\"):\n",
    "            nanf = getattr(np, f\"nan{func}\", None)\n",
    "            if nanf is None:\n",
    "                msg = f\"Data contain nans but no nan-aware version of `{func}` found\"\n",
    "                warnings.warn(msg, UserWarning)\n",
    "            else:\n",
    "                f = nanf\n",
    "\n",
    "    else:\n",
    "        f = func\n",
    "\n",
    "    # Handle numpy changes\n",
    "    try:\n",
    "        integers = rng.integers\n",
    "    except AttributeError:\n",
    "        integers = rng.randint\n",
    "\n",
    "    # Do the bootstrap\n",
    "    if units is not None:\n",
    "        return _structured_bootstrap(args, n_boot, units, f,\n",
    "                                     func_kwargs, integers)\n",
    "\n",
    "    boot_dist = []\n",
    "    for i in range(int(n_boot)):\n",
    "        resampler = integers(0, n, n, dtype=np.intp)  # intp is indexing dtype\n",
    "        sample = [a.take(resampler, axis=0) for a in args]\n",
    "        boot_dist.append(f(*sample, **func_kwargs))\n",
    "    return np.array(boot_dist)\n"
   ]
  },
  {
   "cell_type": "code",
   "execution_count": null,
   "metadata": {},
   "outputs": [],
   "source": [
    "boots = bootstrap(stat_data, func=estimator,\n",
    "                  n_boot=n_boot,\n",
    "                  units=unit_data)\n",
    "utils.ci(boots, ci)"
   ]
  },
  {
   "cell_type": "code",
   "execution_count": 26,
   "metadata": {},
   "outputs": [],
   "source": [
    "import seaborn"
   ]
  },
  {
   "cell_type": "code",
   "execution_count": 28,
   "metadata": {},
   "outputs": [
    {
     "data": {
      "text/plain": [
       "<function seaborn.algorithms.bootstrap(*args, **kwargs)>"
      ]
     },
     "execution_count": 28,
     "metadata": {},
     "output_type": "execute_result"
    }
   ],
   "source": [
    "seaborn.algorithms.bootstrap"
   ]
  },
  {
   "cell_type": "code",
   "execution_count": 42,
   "metadata": {},
   "outputs": [],
   "source": [
    "boots = seaborn.algorithms.bootstrap(shp_total)\n",
    "cis = seaborn.utils.ci(boots, 95)\n",
    "#seaborn.utils.ci_to_errsize(cis, np.mean(shp_total))"
   ]
  },
  {
   "cell_type": "code",
   "execution_count": 43,
   "metadata": {},
   "outputs": [
    {
     "data": {
      "text/plain": [
       "array([9.07422338e+16, 1.37617071e+17])"
      ]
     },
     "execution_count": 43,
     "metadata": {},
     "output_type": "execute_result"
    }
   ],
   "source": [
    "cis"
   ]
  },
  {
   "cell_type": "code",
   "execution_count": 39,
   "metadata": {},
   "outputs": [
    {
     "data": {
      "text/plain": [
       "1.1227081159113846e+17"
      ]
     },
     "execution_count": 39,
     "metadata": {},
     "output_type": "execute_result"
    }
   ],
   "source": [
    "np.mean(shp_total)"
   ]
  },
  {
   "cell_type": "code",
   "execution_count": 46,
   "metadata": {},
   "outputs": [],
   "source": [
    "diff = cis[1] - cis[0]"
   ]
  },
  {
   "cell_type": "code",
   "execution_count": 49,
   "metadata": {},
   "outputs": [
    {
     "data": {
      "text/plain": [
       "1.3570823004204166e+17"
      ]
     },
     "execution_count": 49,
     "metadata": {},
     "output_type": "execute_result"
    }
   ],
   "source": [
    "np.mean(shp_total) + (diff/2)"
   ]
  },
  {
   "cell_type": "code",
   "execution_count": 50,
   "metadata": {},
   "outputs": [
    {
     "data": {
      "text/plain": [
       "8.883339314023526e+16"
      ]
     },
     "execution_count": 50,
     "metadata": {},
     "output_type": "execute_result"
    }
   ],
   "source": [
    "np.mean(shp_total) - (diff/2)"
   ]
  },
  {
   "cell_type": "code",
   "execution_count": 51,
   "metadata": {},
   "outputs": [
    {
     "data": {
      "text/plain": [
       "4.687483690180642e+16"
      ]
     },
     "execution_count": 51,
     "metadata": {},
     "output_type": "execute_result"
    }
   ],
   "source": [
    "diff"
   ]
  },
  {
   "cell_type": "code",
   "execution_count": null,
   "metadata": {},
   "outputs": [],
   "source": []
  }
 ],
 "metadata": {
  "kernelspec": {
   "display_name": "Python 3",
   "language": "python",
   "name": "python3"
  },
  "language_info": {
   "codemirror_mode": {
    "name": "ipython",
    "version": 3
   },
   "file_extension": ".py",
   "mimetype": "text/x-python",
   "name": "python",
   "nbconvert_exporter": "python",
   "pygments_lexer": "ipython3",
   "version": "3.7.6"
  }
 },
 "nbformat": 4,
 "nbformat_minor": 4
}
