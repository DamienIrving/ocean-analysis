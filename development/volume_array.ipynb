{
 "cells": [
  {
   "cell_type": "code",
   "execution_count": 52,
   "metadata": {
    "collapsed": false,
    "deletable": true,
    "editable": true
   },
   "outputs": [],
   "source": [
    "import os, sys\n",
    "import numpy\n",
    "import iris\n",
    "\n",
    "import matplotlib.pyplot as plt\n",
    "\n",
    "import warnings\n",
    "warnings.filterwarnings('ignore')\n",
    "\n",
    "cwd = os.getcwd()\n",
    "repo_dir = '/'\n",
    "for directory in cwd.split('/')[1:]:\n",
    "    repo_dir = os.path.join(repo_dir, directory)\n",
    "    if directory == 'ocean-analysis':\n",
    "        break\n",
    "\n",
    "modules_dir = os.path.join(repo_dir, 'modules')\n",
    "sys.path.append(modules_dir)\n",
    "\n",
    "import general_io as gio\n",
    "import timeseries\n",
    "import grids\n",
    "import convenient_universal as uconv\n",
    "import spatial_weights"
   ]
  },
  {
   "cell_type": "code",
   "execution_count": 8,
   "metadata": {
    "collapsed": true,
    "deletable": true,
    "editable": true
   },
   "outputs": [],
   "source": [
    "%matplotlib inline"
   ]
  },
  {
   "cell_type": "code",
   "execution_count": 9,
   "metadata": {
    "collapsed": true,
    "deletable": true,
    "editable": true
   },
   "outputs": [],
   "source": [
    "volume_file = '/g/data/ua6/DRSv2/CMIP5/CanESM2/historical/fx/ocean/r0i0p0/volcello/latest/volcello_fx_CanESM2_historical_r0i0p0.nc'\n",
    "area_file = '/g/data/ua6/DRSv2/CMIP5/CanESM2/historical/fx/ocean/r0i0p0/areacello/latest/areacello_fx_CanESM2_historical_r0i0p0.nc'\n",
    "data_file = '/g/data/ua6/DRSv2/CMIP5/CanESM2/historical/mon/ocean/r1i1p1/thetao/latest/thetao_Omon_CanESM2_historical_r1i1p1_185001-186012.nc'"
   ]
  },
  {
   "cell_type": "code",
   "execution_count": 10,
   "metadata": {
    "collapsed": false,
    "deletable": true,
    "editable": true
   },
   "outputs": [
    {
     "data": {
      "text/plain": [
       "<iris 'Cube' of cell_area / (m2) (latitude: 192; longitude: 256)>"
      ]
     },
     "execution_count": 10,
     "metadata": {},
     "output_type": "execute_result"
    }
   ],
   "source": [
    "area_cube = iris.load_cube(area_file)\n",
    "area_cube"
   ]
  },
  {
   "cell_type": "code",
   "execution_count": 11,
   "metadata": {
    "collapsed": false,
    "deletable": true,
    "editable": true
   },
   "outputs": [
    {
     "data": {
      "text/plain": [
       "<iris 'Cube' of ocean_volume / (m3) (depth: 40; latitude: 192; longitude: 256)>"
      ]
     },
     "execution_count": 11,
     "metadata": {},
     "output_type": "execute_result"
    }
   ],
   "source": [
    "volume_cube = iris.load_cube(volume_file)\n",
    "volume_cube "
   ]
  },
  {
   "cell_type": "code",
   "execution_count": 12,
   "metadata": {
    "collapsed": false
   },
   "outputs": [
    {
     "data": {
      "text/plain": [
       "<iris 'Cube' of sea_water_potential_temperature / (K) (time: 132; depth: 40; latitude: 192; longitude: 256)>"
      ]
     },
     "execution_count": 12,
     "metadata": {},
     "output_type": "execute_result"
    }
   ],
   "source": [
    "data_cube = iris.load_cube(data_file, 'sea_water_potential_temperature')\n",
    "data_cube"
   ]
  },
  {
   "cell_type": "code",
   "execution_count": 13,
   "metadata": {
    "collapsed": false,
    "deletable": true,
    "editable": true
   },
   "outputs": [],
   "source": [
    "area_file_broadcast_data = uconv.broadcast_array(area_cube.data, [2, 3], data_cube.shape)"
   ]
  },
  {
   "cell_type": "code",
   "execution_count": 17,
   "metadata": {
    "collapsed": false,
    "deletable": true,
    "editable": true
   },
   "outputs": [],
   "source": [
    "area_calc_broadcast_data = spatial_weights.area_array(data_cube)"
   ]
  },
  {
   "cell_type": "code",
   "execution_count": 18,
   "metadata": {
    "collapsed": false,
    "deletable": true,
    "editable": true
   },
   "outputs": [
    {
     "name": "stdout",
     "output_type": "stream",
     "text": [
      "(132, 40, 192, 256)\n"
     ]
    }
   ],
   "source": [
    "print(area_file_broadcast_data.shape)"
   ]
  },
  {
   "cell_type": "code",
   "execution_count": 19,
   "metadata": {
    "collapsed": false,
    "deletable": true,
    "editable": true
   },
   "outputs": [
    {
     "data": {
      "text/plain": [
       "(132, 40, 192, 256)"
      ]
     },
     "execution_count": 19,
     "metadata": {},
     "output_type": "execute_result"
    }
   ],
   "source": [
    "area_calc_broadcast_data.shape"
   ]
  },
  {
   "cell_type": "code",
   "execution_count": 20,
   "metadata": {
    "collapsed": false,
    "deletable": true,
    "editable": true
   },
   "outputs": [
    {
     "data": {
      "image/png": "[encoded data removed]",
      "text/plain": [
       "<matplotlib.figure.Figure at 0x7f84585e80f0>"
      ]
     },
     "metadata": {},
     "output_type": "display_data"
    }
   ],
   "source": [
    "plt.imshow(area_file_broadcast_data[0, 10, ::])\n",
    "plt.colorbar()\n",
    "plt.show()"
   ]
  },
  {
   "cell_type": "code",
   "execution_count": 21,
   "metadata": {
    "collapsed": false,
    "deletable": true,
    "editable": true
   },
   "outputs": [
    {
     "data": {
      "image/png": "[encoded data removed]",
      "text/plain": [
       "<matplotlib.figure.Figure at 0x7f84544c7550>"
      ]
     },
     "metadata": {},
     "output_type": "display_data"
    }
   ],
   "source": [
    "plt.imshow(area_calc_broadcast_data[0, 10, ::])\n",
    "plt.colorbar()\n",
    "plt.show()"
   ]
  },
  {
   "cell_type": "code",
   "execution_count": 22,
   "metadata": {
    "collapsed": true,
    "deletable": true,
    "editable": true
   },
   "outputs": [],
   "source": [
    "def get_depth_data(target_cube):\n",
    "    \"\"\"Get the depth data array\"\"\"\n",
    "\n",
    "    depth_axis = target_cube.coord('depth')\n",
    "    coord_names = [coord.name() for coord in target_cube.dim_coords]\n",
    "    \n",
    "    assert depth_axis.units in ['m', 'dbar'], \"Unrecognised depth axis units\"\n",
    "    if depth_axis.units == 'm':\n",
    "        vertical_weights = spatial_weights.calc_vertical_weights_1D(depth_axis, coord_names, target_cube.shape)\n",
    "    elif depth_axis.units == 'dbar':\n",
    "        assert coord_names == ['depth', 'latitude', 'longitude'], \"2D weights will not work for curvilinear grid\"\n",
    "        vertical_weights = spatial_weights.calc_vertical_weights_2D(depth_axis, target_cube.coord('latitude'), coord_names, target_cube.shape)\n",
    "\n",
    "    return vertical_weights"
   ]
  },
  {
   "cell_type": "code",
   "execution_count": 23,
   "metadata": {
    "collapsed": true,
    "deletable": true,
    "editable": true
   },
   "outputs": [],
   "source": [
    "depth_data = get_depth_data(data_cube)"
   ]
  },
  {
   "cell_type": "code",
   "execution_count": 24,
   "metadata": {
    "collapsed": false,
    "deletable": true,
    "editable": true
   },
   "outputs": [
    {
     "name": "stdout",
     "output_type": "stream",
     "text": [
      "(132, 40, 192, 256)\n",
      "10.0\n",
      "390.599609375\n"
     ]
    }
   ],
   "source": [
    "print(depth_data.shape)\n",
    "print(depth_data.min())\n",
    "print(depth_data.max())"
   ]
  },
  {
   "cell_type": "code",
   "execution_count": 25,
   "metadata": {
    "collapsed": false,
    "deletable": true,
    "editable": true
   },
   "outputs": [],
   "source": [
    "calc_volume_data = depth_data * area_file_broadcast_data"
   ]
  },
  {
   "cell_type": "code",
   "execution_count": 26,
   "metadata": {
    "collapsed": false,
    "deletable": true,
    "editable": true
   },
   "outputs": [
    {
     "data": {
      "text/plain": [
       "(132, 40, 192, 256)"
      ]
     },
     "execution_count": 26,
     "metadata": {},
     "output_type": "execute_result"
    }
   ],
   "source": [
    "calc_volume_data.shape"
   ]
  },
  {
   "cell_type": "code",
   "execution_count": 27,
   "metadata": {
    "collapsed": false,
    "deletable": true,
    "editable": true
   },
   "outputs": [
    {
     "data": {
      "text/plain": [
       "(40, 192, 256)"
      ]
     },
     "execution_count": 27,
     "metadata": {},
     "output_type": "execute_result"
    }
   ],
   "source": [
    "volume_cube.data.shape"
   ]
  },
  {
   "cell_type": "code",
   "execution_count": 28,
   "metadata": {
    "collapsed": false,
    "deletable": true,
    "editable": true
   },
   "outputs": [
    {
     "data": {
      "image/png": "[encoded data removed]",
      "text/plain": [
       "<matplotlib.figure.Figure at 0x7f836d1c2828>"
      ]
     },
     "metadata": {},
     "output_type": "display_data"
    }
   ],
   "source": [
    "plt.imshow(volume_cube.data[-5, ::])\n",
    "plt.colorbar()\n",
    "plt.show()"
   ]
  },
  {
   "cell_type": "code",
   "execution_count": 29,
   "metadata": {
    "collapsed": false,
    "deletable": true,
    "editable": true
   },
   "outputs": [
    {
     "data": {
      "image/png": "[encoded data removed]",
      "text/plain": [
       "<matplotlib.figure.Figure at 0x7f8275008780>"
      ]
     },
     "metadata": {},
     "output_type": "display_data"
    }
   ],
   "source": [
    "plt.imshow(calc_volume_data[0, -5, ::])\n",
    "plt.colorbar()\n",
    "plt.show()"
   ]
  },
  {
   "cell_type": "code",
   "execution_count": 31,
   "metadata": {
    "collapsed": false,
    "deletable": true,
    "editable": true
   },
   "outputs": [
    {
     "data": {
      "text/plain": [
       "masked_array(data = [-- -- 3926397026304.0 3869017636864.0 3795244023808.0 3698928386048.0\n",
       " 3578021543936.0 3426375696384.0 3241941663744.0 3022670004224.0\n",
       " 2772659339264.0 2493958848512.0 2198864396288.0 1899671191552.0\n",
       " 1610724540416.0 1340221161472.0 1100456787968.0 891431485440.0\n",
       " 719292989440.0 577893498880.0 465183801344.0 377065275392.0 309439430656.0\n",
       " 258207744000.0 219271659520.0 188532637696.0 165990694912.0 149596553216.0\n",
       " 137300942848.0 127054602240.0 120906801152.0 116808261632.0 112709730304.0\n",
       " 110660460544.0 108611190784.0 106561929216.0 104512659456.0 104512659456.0\n",
       " 102463389696.0 102463389696.0],\n",
       "             mask = [ True  True False False False False False False False False False False\n",
       " False False False False False False False False False False False False\n",
       " False False False False False False False False False False False False\n",
       " False False False False],\n",
       "       fill_value = 1e+20)"
      ]
     },
     "execution_count": 31,
     "metadata": {},
     "output_type": "execute_result"
    }
   ],
   "source": [
    "volume_cube.data[:, 150, 150]"
   ]
  },
  {
   "cell_type": "code",
   "execution_count": 32,
   "metadata": {
    "collapsed": false
   },
   "outputs": [
    {
     "data": {
      "text/plain": [
       "<iris 'Cube' of ocean_volume / (m3) (depth: 40; latitude: 192; longitude: 256)>"
      ]
     },
     "execution_count": 32,
     "metadata": {},
     "output_type": "execute_result"
    }
   ],
   "source": [
    "volume_cube"
   ]
  },
  {
   "cell_type": "code",
   "execution_count": 33,
   "metadata": {
    "collapsed": false
   },
   "outputs": [
    {
     "data": {
      "text/plain": [
       "DimCoord(array([  5.23329980e+03,   4.84429980e+03,   4.45900000e+03,\n",
       "         4.07859985e+03,   3.70459985e+03,   3.33889990e+03,\n",
       "         2.98379980e+03,   2.64200000e+03,   2.31659985e+03,\n",
       "         2.01089990e+03,   1.72809998e+03,   1.47109998e+03,\n",
       "         1.24209998e+03,   1.04209998e+03,   8.70799988e+02,\n",
       "         7.26799988e+02,   6.07699951e+02,   5.10500000e+02,\n",
       "         4.31899994e+02,   3.68599976e+02,   3.17699982e+02,\n",
       "         2.76599976e+02,   2.43099991e+02,   2.15399994e+02,\n",
       "         1.92099991e+02,   1.72199997e+02,   1.54899994e+02,\n",
       "         1.39500000e+02,   1.25500000e+02,   1.12599998e+02,\n",
       "         1.00500000e+02,   8.88999939e+01,   7.76999969e+01,\n",
       "         6.67999954e+01,   5.60999985e+01,   4.55999985e+01,\n",
       "         3.52999992e+01,   2.50999985e+01,   1.50000000e+01,\n",
       "         5.00000000e+00]), bounds=array([[ 5428.59960938,  5038.        ],\n",
       "       [ 5038.        ,  4650.59960938],\n",
       "       [ 4650.59960938,  4267.39990234],\n",
       "       [ 4267.39990234,  3889.79980469],\n",
       "       [ 3889.79980469,  3519.39990234],\n",
       "       [ 3519.39990234,  3158.39990234],\n",
       "       [ 3158.39990234,  2809.19995117],\n",
       "       [ 2809.19995117,  2474.79980469],\n",
       "       [ 2474.79980469,  2158.39990234],\n",
       "       [ 2158.39990234,  1863.39990234],\n",
       "       [ 1863.39990234,  1592.79992676],\n",
       "       [ 1592.79992676,  1349.39990234],\n",
       "       [ 1349.39990234,  1134.79992676],\n",
       "       [ 1134.79992676,   949.39996338],\n",
       "       [  949.39996338,   792.19995117],\n",
       "       [  792.19995117,   661.39996338],\n",
       "       [  661.39996338,   554.        ],\n",
       "       [  554.        ,   466.99996948],\n",
       "       [  466.99996948,   396.79998779],\n",
       "       [  396.79998779,   340.3999939 ],\n",
       "       [  340.3999939 ,   295.        ],\n",
       "       [  295.        ,   258.19998169],\n",
       "       [  258.19998169,   228.        ],\n",
       "       [  228.        ,   202.79998779],\n",
       "       [  202.79998779,   181.3999939 ],\n",
       "       [  181.3999939 ,   163.        ],\n",
       "       [  163.        ,   146.79998779],\n",
       "       [  146.79998779,   132.19999695],\n",
       "       [  132.19999695,   118.79999542],\n",
       "       [  118.79999542,   106.3999939 ],\n",
       "       [  106.3999939 ,    94.59999847],\n",
       "       [   94.59999847,    83.19999695],\n",
       "       [   83.19999695,    72.19999695],\n",
       "       [   72.19999695,    61.39999771],\n",
       "       [   61.39999771,    50.79999924],\n",
       "       [   50.79999924,    40.39999771],\n",
       "       [   40.39999771,    30.19999886],\n",
       "       [   30.19999886,    20.        ],\n",
       "       [   20.        ,    10.        ],\n",
       "       [   10.        ,     0.        ]]), standard_name='depth', units=Unit('m'), long_name='ocean depth coordinate', var_name='lev', attributes={'positive': 'down'})"
      ]
     },
     "execution_count": 33,
     "metadata": {},
     "output_type": "execute_result"
    }
   ],
   "source": [
    "volume_cube.coord('depth')"
   ]
  },
  {
   "cell_type": "code",
   "execution_count": 34,
   "metadata": {
    "collapsed": false
   },
   "outputs": [
    {
     "data": {
      "text/plain": [
       "DimCoord(array([  5.00000000e+00,   1.50000000e+01,   2.50999985e+01,\n",
       "         3.52999992e+01,   4.55999985e+01,   5.60999985e+01,\n",
       "         6.67999954e+01,   7.76999969e+01,   8.88999939e+01,\n",
       "         1.00500000e+02,   1.12599998e+02,   1.25500000e+02,\n",
       "         1.39500000e+02,   1.54899994e+02,   1.72199997e+02,\n",
       "         1.92099991e+02,   2.15399994e+02,   2.43099991e+02,\n",
       "         2.76599976e+02,   3.17699982e+02,   3.68599976e+02,\n",
       "         4.31899994e+02,   5.10500000e+02,   6.07699951e+02,\n",
       "         7.26799988e+02,   8.70799988e+02,   1.04209998e+03,\n",
       "         1.24209998e+03,   1.47109998e+03,   1.72809998e+03,\n",
       "         2.01089990e+03,   2.31659985e+03,   2.64200000e+03,\n",
       "         2.98379980e+03,   3.33889990e+03,   3.70459985e+03,\n",
       "         4.07859985e+03,   4.45900000e+03,   4.84429980e+03,\n",
       "         5.23329980e+03]), bounds=array([[    0.        ,    10.        ],\n",
       "       [   10.        ,    20.        ],\n",
       "       [   20.        ,    30.19999886],\n",
       "       [   30.19999886,    40.39999771],\n",
       "       [   40.39999771,    50.79999924],\n",
       "       [   50.79999924,    61.39999771],\n",
       "       [   61.39999771,    72.19999695],\n",
       "       [   72.19999695,    83.19999695],\n",
       "       [   83.19999695,    94.59999847],\n",
       "       [   94.59999847,   106.3999939 ],\n",
       "       [  106.3999939 ,   118.79999542],\n",
       "       [  118.79999542,   132.19999695],\n",
       "       [  132.19999695,   146.79998779],\n",
       "       [  146.79998779,   163.        ],\n",
       "       [  163.        ,   181.3999939 ],\n",
       "       [  181.3999939 ,   202.79998779],\n",
       "       [  202.79998779,   228.        ],\n",
       "       [  228.        ,   258.19998169],\n",
       "       [  258.19998169,   295.        ],\n",
       "       [  295.        ,   340.3999939 ],\n",
       "       [  340.3999939 ,   396.79998779],\n",
       "       [  396.79998779,   466.99996948],\n",
       "       [  466.99996948,   554.        ],\n",
       "       [  554.        ,   661.39996338],\n",
       "       [  661.39996338,   792.19995117],\n",
       "       [  792.19995117,   949.39996338],\n",
       "       [  949.39996338,  1134.79992676],\n",
       "       [ 1134.79992676,  1349.39990234],\n",
       "       [ 1349.39990234,  1592.79992676],\n",
       "       [ 1592.79992676,  1863.39990234],\n",
       "       [ 1863.39990234,  2158.39990234],\n",
       "       [ 2158.39990234,  2474.79980469],\n",
       "       [ 2474.79980469,  2809.19995117],\n",
       "       [ 2809.19995117,  3158.39990234],\n",
       "       [ 3158.39990234,  3519.39990234],\n",
       "       [ 3519.39990234,  3889.79980469],\n",
       "       [ 3889.79980469,  4267.39990234],\n",
       "       [ 4267.39990234,  4650.59960938],\n",
       "       [ 4650.59960938,  5038.        ],\n",
       "       [ 5038.        ,  5428.59960938]]), standard_name='depth', units=Unit('m'), long_name='ocean depth coordinate', var_name='lev', attributes={'positive': 'down'})"
      ]
     },
     "execution_count": 34,
     "metadata": {},
     "output_type": "execute_result"
    }
   ],
   "source": [
    "data_cube.coord('depth')"
   ]
  },
  {
   "cell_type": "code",
   "execution_count": 43,
   "metadata": {
    "collapsed": false
   },
   "outputs": [
    {
     "ename": "ValueError",
     "evalue": "This operation cannot be performed as there are differing coordinates (depth) remaining which cannot be ignored.",
     "output_type": "error",
     "traceback": [
      "\u001b[0;31m---------------------------------------------------------------------------\u001b[0m",
      "\u001b[0;31mValueError\u001b[0m                                Traceback (most recent call last)",
      "\u001b[0;32m<ipython-input-43-2eae4b1053ab>\u001b[0m in \u001b[0;36m<module>\u001b[0;34m()\u001b[0m\n\u001b[0;32m----> 1\u001b[0;31m \u001b[0mdata_cube\u001b[0m\u001b[0;34m[\u001b[0m\u001b[0;36m0\u001b[0m\u001b[0;34m,\u001b[0m \u001b[0;34m:\u001b[0m\u001b[0;34m:\u001b[0m\u001b[0;34m]\u001b[0m \u001b[0;34m*\u001b[0m \u001b[0mvolume_cube\u001b[0m\u001b[0;34m[\u001b[0m\u001b[0;34m:\u001b[0m\u001b[0;34m:\u001b[0m\u001b[0;34m-\u001b[0m\u001b[0;36m1\u001b[0m\u001b[0;34m,\u001b[0m \u001b[0;34m:\u001b[0m\u001b[0;34m:\u001b[0m\u001b[0;34m]\u001b[0m\u001b[0;34m\u001b[0m\u001b[0m\n\u001b[0m",
      "\u001b[0;32m/g/data/r87/dbi599/miniconda3/envs/ocean/lib/python3.6/site-packages/iris/analysis/maths.py\u001b[0m in \u001b[0;36mmultiply\u001b[0;34m(cube, other, dim, in_place)\u001b[0m\n\u001b[1;32m    409\u001b[0m                              \u001b[0;34m'which cannot be ignored.'\u001b[0m\u001b[0;34m\u001b[0m\u001b[0m\n\u001b[1;32m    410\u001b[0m                              % ', '.join({coord_grp.name() for coord_grp\n\u001b[0;32m--> 411\u001b[0;31m                                           in bad_coord_grps}))\n\u001b[0m\u001b[1;32m    412\u001b[0m     \u001b[0;32melse\u001b[0m\u001b[0;34m:\u001b[0m\u001b[0;34m\u001b[0m\u001b[0m\n\u001b[1;32m    413\u001b[0m         \u001b[0mcoord_comp\u001b[0m \u001b[0;34m=\u001b[0m \u001b[0;32mNone\u001b[0m\u001b[0;34m\u001b[0m\u001b[0m\n",
      "\u001b[0;31mValueError\u001b[0m: This operation cannot be performed as there are differing coordinates (depth) remaining which cannot be ignored."
     ]
    }
   ],
   "source": [
    "data_cube[0, ::] * volume_cube[::-1, ::]"
   ]
  },
  {
   "cell_type": "code",
   "execution_count": 47,
   "metadata": {
    "collapsed": false
   },
   "outputs": [
    {
     "data": {
      "text/plain": [
       "array([[   10.        ,     0.        ],\n",
       "       [   20.        ,    10.        ],\n",
       "       [   30.19999886,    20.        ],\n",
       "       [   40.39999771,    30.19999886],\n",
       "       [   50.79999924,    40.39999771],\n",
       "       [   61.39999771,    50.79999924],\n",
       "       [   72.19999695,    61.39999771],\n",
       "       [   83.19999695,    72.19999695],\n",
       "       [   94.59999847,    83.19999695],\n",
       "       [  106.3999939 ,    94.59999847],\n",
       "       [  118.79999542,   106.3999939 ],\n",
       "       [  132.19999695,   118.79999542],\n",
       "       [  146.79998779,   132.19999695],\n",
       "       [  163.        ,   146.79998779],\n",
       "       [  181.3999939 ,   163.        ],\n",
       "       [  202.79998779,   181.3999939 ],\n",
       "       [  228.        ,   202.79998779],\n",
       "       [  258.19998169,   228.        ],\n",
       "       [  295.        ,   258.19998169],\n",
       "       [  340.3999939 ,   295.        ],\n",
       "       [  396.79998779,   340.3999939 ],\n",
       "       [  466.99996948,   396.79998779],\n",
       "       [  554.        ,   466.99996948],\n",
       "       [  661.39996338,   554.        ],\n",
       "       [  792.19995117,   661.39996338],\n",
       "       [  949.39996338,   792.19995117],\n",
       "       [ 1134.79992676,   949.39996338],\n",
       "       [ 1349.39990234,  1134.79992676],\n",
       "       [ 1592.79992676,  1349.39990234],\n",
       "       [ 1863.39990234,  1592.79992676],\n",
       "       [ 2158.39990234,  1863.39990234],\n",
       "       [ 2474.79980469,  2158.39990234],\n",
       "       [ 2809.19995117,  2474.79980469],\n",
       "       [ 3158.39990234,  2809.19995117],\n",
       "       [ 3519.39990234,  3158.39990234],\n",
       "       [ 3889.79980469,  3519.39990234],\n",
       "       [ 4267.39990234,  3889.79980469],\n",
       "       [ 4650.59960938,  4267.39990234],\n",
       "       [ 5038.        ,  4650.59960938],\n",
       "       [ 5428.59960938,  5038.        ]])"
      ]
     },
     "execution_count": 47,
     "metadata": {},
     "output_type": "execute_result"
    }
   ],
   "source": [
    "volume_cube[::-1, ::].coord('depth').bounds"
   ]
  },
  {
   "cell_type": "code",
   "execution_count": 48,
   "metadata": {
    "collapsed": false
   },
   "outputs": [
    {
     "data": {
      "text/plain": [
       "array([[    0.        ,    10.        ],\n",
       "       [   10.        ,    20.        ],\n",
       "       [   20.        ,    30.19999886],\n",
       "       [   30.19999886,    40.39999771],\n",
       "       [   40.39999771,    50.79999924],\n",
       "       [   50.79999924,    61.39999771],\n",
       "       [   61.39999771,    72.19999695],\n",
       "       [   72.19999695,    83.19999695],\n",
       "       [   83.19999695,    94.59999847],\n",
       "       [   94.59999847,   106.3999939 ],\n",
       "       [  106.3999939 ,   118.79999542],\n",
       "       [  118.79999542,   132.19999695],\n",
       "       [  132.19999695,   146.79998779],\n",
       "       [  146.79998779,   163.        ],\n",
       "       [  163.        ,   181.3999939 ],\n",
       "       [  181.3999939 ,   202.79998779],\n",
       "       [  202.79998779,   228.        ],\n",
       "       [  228.        ,   258.19998169],\n",
       "       [  258.19998169,   295.        ],\n",
       "       [  295.        ,   340.3999939 ],\n",
       "       [  340.3999939 ,   396.79998779],\n",
       "       [  396.79998779,   466.99996948],\n",
       "       [  466.99996948,   554.        ],\n",
       "       [  554.        ,   661.39996338],\n",
       "       [  661.39996338,   792.19995117],\n",
       "       [  792.19995117,   949.39996338],\n",
       "       [  949.39996338,  1134.79992676],\n",
       "       [ 1134.79992676,  1349.39990234],\n",
       "       [ 1349.39990234,  1592.79992676],\n",
       "       [ 1592.79992676,  1863.39990234],\n",
       "       [ 1863.39990234,  2158.39990234],\n",
       "       [ 2158.39990234,  2474.79980469],\n",
       "       [ 2474.79980469,  2809.19995117],\n",
       "       [ 2809.19995117,  3158.39990234],\n",
       "       [ 3158.39990234,  3519.39990234],\n",
       "       [ 3519.39990234,  3889.79980469],\n",
       "       [ 3889.79980469,  4267.39990234],\n",
       "       [ 4267.39990234,  4650.59960938],\n",
       "       [ 4650.59960938,  5038.        ],\n",
       "       [ 5038.        ,  5428.59960938]])"
      ]
     },
     "execution_count": 48,
     "metadata": {},
     "output_type": "execute_result"
    }
   ],
   "source": [
    "data_cube.coord('depth').bounds"
   ]
  },
  {
   "cell_type": "code",
   "execution_count": 50,
   "metadata": {
    "collapsed": false
   },
   "outputs": [
    {
     "data": {
      "text/plain": [
       "masked_array(data =\n",
       " [[-- -- -- ..., -- -- --]\n",
       " [-- -- -- ..., -- -- --]\n",
       " [-- -- -- ..., -- -- --]\n",
       " ..., \n",
       " [-- -- -- ..., -- -- --]\n",
       " [-- -- -- ..., -- -- --]\n",
       " [-- -- -- ..., -- -- --]],\n",
       "             mask =\n",
       " [[ True  True  True ...,  True  True  True]\n",
       " [ True  True  True ...,  True  True  True]\n",
       " [ True  True  True ...,  True  True  True]\n",
       " ..., \n",
       " [ True  True  True ...,  True  True  True]\n",
       " [ True  True  True ...,  True  True  True]\n",
       " [ True  True  True ...,  True  True  True]],\n",
       "       fill_value = 1e+20)"
      ]
     },
     "execution_count": 50,
     "metadata": {},
     "output_type": "execute_result"
    }
   ],
   "source": [
    "data_cube[0, -1, ::].data"
   ]
  },
  {
   "cell_type": "code",
   "execution_count": 51,
   "metadata": {
    "collapsed": false,
    "scrolled": true
   },
   "outputs": [
    {
     "data": {
      "text/plain": [
       "array([  5.00000000e+00,   1.50000000e+01,   2.50999985e+01,\n",
       "         3.52999992e+01,   4.55999985e+01,   5.60999985e+01,\n",
       "         6.67999954e+01,   7.76999969e+01,   8.88999939e+01,\n",
       "         1.00500000e+02,   1.12599998e+02,   1.25500000e+02,\n",
       "         1.39500000e+02,   1.54899994e+02,   1.72199997e+02,\n",
       "         1.92099991e+02,   2.15399994e+02,   2.43099991e+02,\n",
       "         2.76599976e+02,   3.17699982e+02,   3.68599976e+02,\n",
       "         4.31899994e+02,   5.10500000e+02,   6.07699951e+02,\n",
       "         7.26799988e+02,   8.70799988e+02,   1.04209998e+03,\n",
       "         1.24209998e+03,   1.47109998e+03,   1.72809998e+03,\n",
       "         2.01089990e+03,   2.31659985e+03,   2.64200000e+03,\n",
       "         2.98379980e+03,   3.33889990e+03,   3.70459985e+03,\n",
       "         4.07859985e+03,   4.45900000e+03,   4.84429980e+03,\n",
       "         5.23329980e+03])"
      ]
     },
     "execution_count": 51,
     "metadata": {},
     "output_type": "execute_result"
    }
   ],
   "source": [
    "volume_cube[::-1, ::].coord('depth').points"
   ]
  },
  {
   "cell_type": "code",
   "execution_count": 53,
   "metadata": {
    "collapsed": false
   },
   "outputs": [
    {
     "data": {
      "text/plain": [
       "True"
      ]
     },
     "execution_count": 53,
     "metadata": {},
     "output_type": "execute_result"
    }
   ],
   "source": [
    "numpy.array_equal(volume_cube[::-1, ::].coord('depth').points, data_cube.coord('depth').points)"
   ]
  },
  {
   "cell_type": "code",
   "execution_count": 58,
   "metadata": {
    "collapsed": false
   },
   "outputs": [
    {
     "data": {
      "text/plain": [
       "masked_array(data = [102463385600.0 102463385600.0 104512641585.9961 104512641585.9961\n",
       " 106561936658.67188 108611173101.32812 110660448630.66406 112709724160.0\n",
       " 116808275218.67188 120906748103.98438 127054613778.67188\n",
       " 137300952338.67188 149596449167.96875 165990809749.375 188532566965.3125\n",
       " 219271582645.3125 258207856789.375 309439236895.9375 377065446624.0625\n",
       " 465183708085.3125 577893432245.3125 719292779295.9375 891431767413.4375\n",
       " 1100456386111.875 1340220958570.625 1610724546709.375 1899670793791.875\n",
       " 2198864004821.25 2493959055658.75 2772658964181.25 3022669875200.0\n",
       " 3241940519765.0 3426377115392.5 3578020924842.5 3698928220160.0\n",
       " 3795242802005.0 3869018440875.0 3926393934335.0 3969435560620.0\n",
       " 4002215839060.0],\n",
       "             mask = [False False False False False False False False False False False False\n",
       " False False False False False False False False False False False False\n",
       " False False False False False False False False False False False False\n",
       " False False False False],\n",
       "       fill_value = 1e+20)"
      ]
     },
     "execution_count": 58,
     "metadata": {},
     "output_type": "execute_result"
    }
   ],
   "source": [
    "calc_volume_data[0, :, 150, 150]"
   ]
  },
  {
   "cell_type": "code",
   "execution_count": 59,
   "metadata": {
    "collapsed": false
   },
   "outputs": [
    {
     "data": {
      "text/plain": [
       "masked_array(data = [102463389696.0 102463389696.0 104512659456.0 104512659456.0 106561929216.0\n",
       " 108611190784.0 110660460544.0 112709730304.0 116808261632.0 120906801152.0\n",
       " 127054602240.0 137300942848.0 149596553216.0 165990694912.0 188532637696.0\n",
       " 219271659520.0 258207744000.0 309439430656.0 377065275392.0 465183801344.0\n",
       " 577893498880.0 719292989440.0 891431485440.0 1100456787968.0\n",
       " 1340221161472.0 1610724540416.0 1899671191552.0 2198864396288.0\n",
       " 2493958848512.0 2772659339264.0 3022670004224.0 3241941663744.0\n",
       " 3426375696384.0 3578021543936.0 3698928386048.0 3795244023808.0\n",
       " 3869017636864.0 3926397026304.0 -- --],\n",
       "             mask = [False False False False False False False False False False False False\n",
       " False False False False False False False False False False False False\n",
       " False False False False False False False False False False False False\n",
       " False False  True  True],\n",
       "       fill_value = 1e+20)"
      ]
     },
     "execution_count": 59,
     "metadata": {},
     "output_type": "execute_result"
    }
   ],
   "source": [
    "volume_cube[::-1, ::].data[:, 150, 150]"
   ]
  },
  {
   "cell_type": "code",
   "execution_count": 60,
   "metadata": {
    "collapsed": true
   },
   "outputs": [],
   "source": [
    "calc_volume_data.mask = data_cube.data.mask"
   ]
  },
  {
   "cell_type": "code",
   "execution_count": 61,
   "metadata": {
    "collapsed": false
   },
   "outputs": [
    {
     "data": {
      "text/plain": [
       "masked_array(data = [102463385600.0 102463385600.0 104512641585.9961 104512641585.9961\n",
       " 106561936658.67188 108611173101.32812 110660448630.66406 112709724160.0\n",
       " 116808275218.67188 120906748103.98438 127054613778.67188\n",
       " 137300952338.67188 149596449167.96875 165990809749.375 188532566965.3125\n",
       " 219271582645.3125 258207856789.375 309439236895.9375 377065446624.0625\n",
       " 465183708085.3125 577893432245.3125 719292779295.9375 891431767413.4375\n",
       " 1100456386111.875 1340220958570.625 1610724546709.375 1899670793791.875\n",
       " 2198864004821.25 2493959055658.75 2772658964181.25 3022669875200.0\n",
       " 3241940519765.0 3426377115392.5 3578020924842.5 3698928220160.0\n",
       " 3795242802005.0 3869018440875.0 3926393934335.0 -- --],\n",
       "             mask = [False False False False False False False False False False False False\n",
       " False False False False False False False False False False False False\n",
       " False False False False False False False False False False False False\n",
       " False False  True  True],\n",
       "       fill_value = 1e+20)"
      ]
     },
     "execution_count": 61,
     "metadata": {},
     "output_type": "execute_result"
    }
   ],
   "source": [
    "calc_volume_data[0, :, 150, 150]"
   ]
  },
  {
   "cell_type": "code",
   "execution_count": null,
   "metadata": {
    "collapsed": true
   },
   "outputs": [],
   "source": []
  }
 ],
 "metadata": {
  "kernelspec": {
   "display_name": "Python 3",
   "language": "python",
   "name": "python3"
  },
  "language_info": {
   "codemirror_mode": {
    "name": "ipython",
    "version": 3
   },
   "file_extension": ".py",
   "mimetype": "text/x-python",
   "name": "python",
   "nbconvert_exporter": "python",
   "pygments_lexer": "ipython3",
   "version": "3.6.0"
  }
 },
 "nbformat": 4,
 "nbformat_minor": 2
}
