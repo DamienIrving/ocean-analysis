{
 "cells": [
  {
   "cell_type": "markdown",
   "metadata": {},
   "source": [
    "Summary: Using area and depth information to create a volume array works for regular lat/lon grids and rotated pole grids, but not curvilinear grids."
   ]
  },
  {
   "cell_type": "code",
   "execution_count": 1,
   "metadata": {
    "collapsed": false,
    "deletable": true,
    "editable": true
   },
   "outputs": [],
   "source": [
    "import os, sys\n",
    "import numpy\n",
    "import iris\n",
    "\n",
    "import matplotlib.pyplot as plt\n",
    "\n",
    "import warnings\n",
    "warnings.filterwarnings('ignore')\n",
    "\n",
    "cwd = os.getcwd()\n",
    "repo_dir = '/'\n",
    "for directory in cwd.split('/')[1:]:\n",
    "    repo_dir = os.path.join(repo_dir, directory)\n",
    "    if directory == 'ocean-analysis':\n",
    "        break\n",
    "\n",
    "modules_dir = os.path.join(repo_dir, 'modules')\n",
    "sys.path.append(modules_dir)\n",
    "\n",
    "import general_io as gio\n",
    "import timeseries\n",
    "import grids\n",
    "import convenient_universal as uconv\n",
    "import spatial_weights"
   ]
  },
  {
   "cell_type": "code",
   "execution_count": 2,
   "metadata": {
    "collapsed": true,
    "deletable": true,
    "editable": true
   },
   "outputs": [],
   "source": [
    "%matplotlib inline"
   ]
  },
  {
   "cell_type": "code",
   "execution_count": 47,
   "metadata": {
    "collapsed": true,
    "deletable": true,
    "editable": true
   },
   "outputs": [],
   "source": [
    "volume_file = '/g/data/ua6/DRSv2/CMIP5/IPSL-CM5A-LR/historical/fx/ocean/r0i0p0/volcello/latest/volcello_fx_IPSL-CM5A-LR_historical_r0i0p0.nc'\n",
    "area_file = '/g/data/ua6/DRSv2/CMIP5/IPSL-CM5A-LR/historical/fx/ocean/r0i0p0/areacello/latest/areacello_fx_IPSL-CM5A-LR_historical_r0i0p0.nc'\n",
    "data_file = '/g/data/ua6/DRSv2/CMIP5/IPSL-CM5A-LR/historical/mon/ocean/r1i1p1/thetao/latest/thetao_Omon_IPSL-CM5A-LR_historical_r1i1p1_185001-189912.nc'"
   ]
  },
  {
   "cell_type": "code",
   "execution_count": 48,
   "metadata": {
    "collapsed": false,
    "deletable": true,
    "editable": true
   },
   "outputs": [
    {
     "data": {
      "text/plain": [
       "<iris 'Cube' of cell_area / (m2) (cell index along second dimension: 149; cell index along first dimension: 182)>"
      ]
     },
     "execution_count": 48,
     "metadata": {},
     "output_type": "execute_result"
    }
   ],
   "source": [
    "area_cube = iris.load_cube(area_file)\n",
    "area_cube"
   ]
  },
  {
   "cell_type": "code",
   "execution_count": 49,
   "metadata": {
    "collapsed": false,
    "deletable": true,
    "editable": true
   },
   "outputs": [
    {
     "data": {
      "text/plain": [
       "<iris 'Cube' of ocean_volume / (m3) (depth: 31; cell index along second dimension: 149; cell index along first dimension: 182)>"
      ]
     },
     "execution_count": 49,
     "metadata": {},
     "output_type": "execute_result"
    }
   ],
   "source": [
    "volume_cube = iris.load_cube(volume_file)\n",
    "volume_cube "
   ]
  },
  {
   "cell_type": "code",
   "execution_count": 50,
   "metadata": {
    "collapsed": false,
    "deletable": true,
    "editable": true
   },
   "outputs": [
    {
     "data": {
      "text/plain": [
       "<iris 'Cube' of sea_water_potential_temperature / (K) (time: 600; depth: 31; cell index along second dimension: 149; cell index along first dimension: 182)>"
      ]
     },
     "execution_count": 50,
     "metadata": {},
     "output_type": "execute_result"
    }
   ],
   "source": [
    "data_cube = iris.load_cube(data_file, 'sea_water_potential_temperature')\n",
    "data_cube"
   ]
  },
  {
   "cell_type": "code",
   "execution_count": 51,
   "metadata": {
    "collapsed": false,
    "deletable": true,
    "editable": true
   },
   "outputs": [],
   "source": [
    "area_file_broadcast_data = uconv.broadcast_array(area_cube.data, [2, 3], data_cube.shape)"
   ]
  },
  {
   "cell_type": "code",
   "execution_count": 52,
   "metadata": {
    "collapsed": false,
    "deletable": true,
    "editable": true
   },
   "outputs": [
    {
     "name": "stdout",
     "output_type": "stream",
     "text": [
      "(600, 31, 149, 182)\n"
     ]
    }
   ],
   "source": [
    "print(area_file_broadcast_data.shape)"
   ]
  },
  {
   "cell_type": "code",
   "execution_count": 53,
   "metadata": {
    "collapsed": true,
    "deletable": true,
    "editable": true
   },
   "outputs": [],
   "source": [
    "def get_depth_data(target_cube):\n",
    "    \"\"\"Get the depth data array\"\"\"\n",
    "\n",
    "    depth_axis = target_cube.coord('depth')\n",
    "    coord_names = [coord.name() for coord in target_cube.dim_coords]\n",
    "    \n",
    "    assert depth_axis.units in ['m', 'dbar'], \"Unrecognised depth axis units\"\n",
    "    if depth_axis.units == 'm':\n",
    "        vertical_weights = spatial_weights.calc_vertical_weights_1D(depth_axis, coord_names, target_cube.shape)\n",
    "    elif depth_axis.units == 'dbar':\n",
    "        assert coord_names == ['depth', 'latitude', 'longitude'], \"2D weights will not work for curvilinear grid\"\n",
    "        vertical_weights = spatial_weights.calc_vertical_weights_2D(depth_axis, target_cube.coord('latitude'), coord_names, target_cube.shape)\n",
    "\n",
    "    return vertical_weights"
   ]
  },
  {
   "cell_type": "code",
   "execution_count": 54,
   "metadata": {
    "collapsed": true,
    "deletable": true,
    "editable": true
   },
   "outputs": [],
   "source": [
    "depth_data = get_depth_data(data_cube)"
   ]
  },
  {
   "cell_type": "code",
   "execution_count": 55,
   "metadata": {
    "collapsed": false,
    "deletable": true,
    "editable": true
   },
   "outputs": [
    {
     "name": "stdout",
     "output_type": "stream",
     "text": [
      "(600, 31, 149, 182)\n",
      "10.0000152588\n",
      "500.453125\n"
     ]
    }
   ],
   "source": [
    "print(depth_data.shape)\n",
    "print(depth_data.min())\n",
    "print(depth_data.max())"
   ]
  },
  {
   "cell_type": "code",
   "execution_count": 56,
   "metadata": {
    "collapsed": false,
    "deletable": true,
    "editable": true
   },
   "outputs": [],
   "source": [
    "calc_volume_data = depth_data * area_file_broadcast_data"
   ]
  },
  {
   "cell_type": "code",
   "execution_count": 57,
   "metadata": {
    "collapsed": false,
    "deletable": true,
    "editable": true
   },
   "outputs": [
    {
     "data": {
      "text/plain": [
       "(600, 31, 149, 182)"
      ]
     },
     "execution_count": 57,
     "metadata": {},
     "output_type": "execute_result"
    }
   ],
   "source": [
    "calc_volume_data.shape"
   ]
  },
  {
   "cell_type": "code",
   "execution_count": 58,
   "metadata": {
    "collapsed": false,
    "deletable": true,
    "editable": true
   },
   "outputs": [
    {
     "data": {
      "text/plain": [
       "(31, 149, 182)"
      ]
     },
     "execution_count": 58,
     "metadata": {},
     "output_type": "execute_result"
    }
   ],
   "source": [
    "volume_cube.data.shape"
   ]
  },
  {
   "cell_type": "code",
   "execution_count": 59,
   "metadata": {
    "collapsed": false,
    "deletable": true,
    "editable": true
   },
   "outputs": [
    {
     "data": {
      "image/png": "[encoded data removed]",
      "text/plain": [
       "<matplotlib.figure.Figure at 0x7ff3577ed080>"
      ]
     },
     "metadata": {},
     "output_type": "display_data"
    }
   ],
   "source": [
    "plt.imshow(volume_cube.data[-5, ::])\n",
    "plt.colorbar()\n",
    "plt.show()"
   ]
  },
  {
   "cell_type": "code",
   "execution_count": 60,
   "metadata": {
    "collapsed": false,
    "deletable": true,
    "editable": true
   },
   "outputs": [
    {
     "data": {
      "image/png": "[encoded data removed]",
      "text/plain": [
       "<matplotlib.figure.Figure at 0x7ff3578f5358>"
      ]
     },
     "metadata": {},
     "output_type": "display_data"
    }
   ],
   "source": [
    "plt.imshow(calc_volume_data[0, -5, ::])\n",
    "plt.colorbar()\n",
    "plt.show()"
   ]
  },
  {
   "cell_type": "code",
   "execution_count": 62,
   "metadata": {
    "collapsed": false,
    "deletable": true,
    "editable": true
   },
   "outputs": [
    {
     "data": {
      "text/plain": [
       "array([  1.57332244e+13,   1.57154772e+13,   1.56810284e+13,\n",
       "         1.56143704e+13,   1.54861862e+13,   1.52425831e+13,\n",
       "         1.47898856e+13,   1.39825722e+13,   1.26433142e+13,\n",
       "         1.06674677e+13,   8.20456718e+12,   5.70624154e+12,\n",
       "         3.64941096e+12,   2.22773772e+12,   1.35973529e+12,\n",
       "         8.69325865e+11,   6.04325806e+11,   4.64570057e+11,\n",
       "         3.91810384e+11,   3.54184593e+11,   3.34795145e+11,\n",
       "         3.24821287e+11,   3.19695553e+11,   3.17062578e+11,\n",
       "         3.15710407e+11,   3.15016086e+11,   3.14659602e+11,\n",
       "         3.14476528e+11,   3.14382582e+11,   3.14334314e+11,\n",
       "         3.14309542e+11], dtype=float32)"
      ]
     },
     "execution_count": 62,
     "metadata": {},
     "output_type": "execute_result"
    }
   ],
   "source": [
    "volume_cube.data[:, 100, 100]"
   ]
  },
  {
   "cell_type": "code",
   "execution_count": 63,
   "metadata": {
    "collapsed": false,
    "deletable": true,
    "editable": true
   },
   "outputs": [
    {
     "data": {
      "text/plain": [
       "array([  3.14310030e+11,   3.14335269e+11,   3.14384427e+11,\n",
       "         3.14480167e+11,   3.14666611e+11,   3.15029667e+11,\n",
       "         3.15737074e+11,   3.17114241e+11,   3.19796155e+11,\n",
       "         3.25017062e+11,   3.35175674e+11,   3.54921695e+11,\n",
       "         3.93231769e+11,   4.67286065e+11,   6.09419821e+11,\n",
       "         8.78552169e+11,   1.37536039e+12,   2.25104504e+12,\n",
       "         3.67675222e+12,   5.72564321e+12,   8.20299774e+12,\n",
       "         1.06461118e+13,   1.26159986e+13,   1.39602359e+13,\n",
       "         1.47752346e+13,   1.52340375e+13,   1.54814949e+13,\n",
       "         1.56118766e+13,   1.56797263e+13,   1.57148022e+13,\n",
       "         1.57297197e+13])"
      ]
     },
     "execution_count": 63,
     "metadata": {},
     "output_type": "execute_result"
    }
   ],
   "source": [
    "calc_volume_data[0, :, 100, 100]"
   ]
  },
  {
   "cell_type": "code",
   "execution_count": 64,
   "metadata": {
    "collapsed": false,
    "deletable": true,
    "editable": true
   },
   "outputs": [
    {
     "name": "stdout",
     "output_type": "stream",
     "text": [
      "volume: 1.57332e+13\n",
      "area: 3.1431e+10\n",
      "depth: 10.0000152588\n"
     ]
    }
   ],
   "source": [
    "print('volume:', volume_cube.data[0, 100, 100])\n",
    "print('area:', area_cube.data[100, 100])\n",
    "print('depth:', depth_data[0, 0, 100, 100])"
   ]
  },
  {
   "cell_type": "code",
   "execution_count": 20,
   "metadata": {
    "collapsed": false,
    "deletable": true,
    "editable": true
   },
   "outputs": [
    {
     "data": {
      "text/plain": [
       "DimCoord(array([  5.00000000e+00,   1.50000000e+01,   2.50000000e+01,\n",
       "         3.50000000e+01,   4.50000000e+01,   5.50000000e+01,\n",
       "         6.50000000e+01,   7.50000000e+01,   8.50000000e+01,\n",
       "         9.50000000e+01,   1.05000000e+02,   1.15000000e+02,\n",
       "         1.25000000e+02,   1.35000000e+02,   1.45000000e+02,\n",
       "         1.55000000e+02,   1.65098389e+02,   1.75479004e+02,\n",
       "         1.86291306e+02,   1.97660294e+02,   2.09711395e+02,\n",
       "         2.22578293e+02,   2.36408798e+02,   2.51370193e+02,\n",
       "         2.67654205e+02,   2.85483673e+02,   3.05119202e+02,\n",
       "         3.26868011e+02,   3.51093506e+02,   3.78227600e+02,\n",
       "         4.08784607e+02,   4.43377686e+02,   4.82736694e+02,\n",
       "         5.27727966e+02,   5.79372864e+02,   6.38862610e+02,\n",
       "         7.07563293e+02,   7.87002502e+02,   8.78825195e+02,\n",
       "         9.84705933e+02,   1.10620398e+03,   1.24456702e+03,\n",
       "         1.40049695e+03,   1.57394592e+03,   1.76400293e+03,\n",
       "         1.96894397e+03,   2.18645703e+03,   2.41397192e+03,\n",
       "         2.64900098e+03,   2.88938501e+03,   3.13340503e+03,\n",
       "         3.37979297e+03,   3.62766992e+03,   3.87645190e+03,\n",
       "         4.12576807e+03,   4.37539160e+03,   4.62518994e+03,\n",
       "         4.87508301e+03,   5.12502783e+03,   5.37500000e+03]), bounds=array([[    0.        ,    10.        ],\n",
       "       [   10.        ,    20.        ],\n",
       "       [   20.        ,    30.        ],\n",
       "       [   30.        ,    40.        ],\n",
       "       [   40.        ,    50.        ],\n",
       "       [   50.        ,    60.        ],\n",
       "       [   60.        ,    70.        ],\n",
       "       [   70.        ,    80.        ],\n",
       "       [   80.        ,    90.        ],\n",
       "       [   90.        ,   100.        ],\n",
       "       [  100.        ,   110.        ],\n",
       "       [  110.        ,   120.        ],\n",
       "       [  120.        ,   130.        ],\n",
       "       [  130.        ,   140.        ],\n",
       "       [  140.        ,   150.        ],\n",
       "       [  150.        ,   160.04919434],\n",
       "       [  160.04919434,   170.28871155],\n",
       "       [  170.28871155,   180.88514709],\n",
       "       [  180.88514709,   191.97579956],\n",
       "       [  191.97579956,   203.68585205],\n",
       "       [  203.68585205,   216.14483643],\n",
       "       [  216.14483643,   229.49354553],\n",
       "       [  229.49354553,   243.88948059],\n",
       "       [  243.88948059,   259.51217651],\n",
       "       [  259.51217651,   276.56893921],\n",
       "       [  276.56893921,   295.30145264],\n",
       "       [  295.30145264,   315.99359131],\n",
       "       [  315.99359131,   338.98077393],\n",
       "       [  338.98077393,   364.66055298],\n",
       "       [  364.66055298,   393.506073  ],\n",
       "       [  393.506073  ,   426.08117676],\n",
       "       [  426.08117676,   463.05718994],\n",
       "       [  463.05718994,   505.23233032],\n",
       "       [  505.23233032,   553.55047607],\n",
       "       [  553.55047607,   609.11773682],\n",
       "       [  609.11773682,   673.21295166],\n",
       "       [  673.21295166,   747.28289795],\n",
       "       [  747.28289795,   832.91387939],\n",
       "       [  832.91387939,   931.765625  ],\n",
       "       [  931.765625  ,  1045.45495605],\n",
       "       [ 1045.45495605,  1175.38549805],\n",
       "       [ 1175.38549805,  1322.53198242],\n",
       "       [ 1322.53198242,  1487.22155762],\n",
       "       [ 1487.22155762,  1668.97436523],\n",
       "       [ 1668.97436523,  1866.47338867],\n",
       "       [ 1866.47338867,  2077.70068359],\n",
       "       [ 2077.70068359,  2300.21459961],\n",
       "       [ 2300.21459961,  2531.48657227],\n",
       "       [ 2531.48657227,  2769.19311523],\n",
       "       [ 2769.19311523,  3011.39501953],\n",
       "       [ 3011.39501953,  3256.59887695],\n",
       "       [ 3256.59887695,  3503.73144531],\n",
       "       [ 3503.73144531,  3752.06079102],\n",
       "       [ 3752.06079102,  4001.10986328],\n",
       "       [ 4001.10986328,  4250.58007812],\n",
       "       [ 4250.58007812,  4500.29101562],\n",
       "       [ 4500.29101562,  4750.13623047],\n",
       "       [ 4750.13623047,  5000.05566406],\n",
       "       [ 5000.05566406,  5250.01367188],\n",
       "       [ 5250.01367188,  5499.98632812]]), standard_name='depth', units=Unit('m'), long_name='ocean depth coordinate', var_name='lev', attributes={'positive': 'down'})"
      ]
     },
     "execution_count": 20,
     "metadata": {},
     "output_type": "execute_result"
    }
   ],
   "source": [
    "volume_cube.coord('depth')"
   ]
  },
  {
   "cell_type": "code",
   "execution_count": 21,
   "metadata": {
    "collapsed": false,
    "deletable": true,
    "editable": true
   },
   "outputs": [
    {
     "data": {
      "text/plain": [
       "DimCoord(array([  5.00000000e+00,   1.50000000e+01,   2.50000000e+01,\n",
       "         3.50000000e+01,   4.50000000e+01,   5.50000000e+01,\n",
       "         6.50000000e+01,   7.50000000e+01,   8.50000000e+01,\n",
       "         9.50000000e+01,   1.05000000e+02,   1.15000000e+02,\n",
       "         1.25000000e+02,   1.35000000e+02,   1.45000000e+02,\n",
       "         1.55000000e+02,   1.65098389e+02,   1.75479004e+02,\n",
       "         1.86291306e+02,   1.97660294e+02,   2.09711395e+02,\n",
       "         2.22578293e+02,   2.36408798e+02,   2.51370193e+02,\n",
       "         2.67654205e+02,   2.85483673e+02,   3.05119202e+02,\n",
       "         3.26868011e+02,   3.51093506e+02,   3.78227600e+02,\n",
       "         4.08784607e+02,   4.43377686e+02,   4.82736694e+02,\n",
       "         5.27727966e+02,   5.79372864e+02,   6.38862610e+02,\n",
       "         7.07563293e+02,   7.87002502e+02,   8.78825195e+02,\n",
       "         9.84705933e+02,   1.10620398e+03,   1.24456702e+03,\n",
       "         1.40049695e+03,   1.57394592e+03,   1.76400293e+03,\n",
       "         1.96894397e+03,   2.18645703e+03,   2.41397192e+03,\n",
       "         2.64900098e+03,   2.88938501e+03,   3.13340503e+03,\n",
       "         3.37979297e+03,   3.62766992e+03,   3.87645190e+03,\n",
       "         4.12576807e+03,   4.37539160e+03,   4.62518994e+03,\n",
       "         4.87508301e+03,   5.12502783e+03,   5.37500000e+03]), bounds=array([[    0.        ,    10.        ],\n",
       "       [   10.        ,    20.        ],\n",
       "       [   20.        ,    30.        ],\n",
       "       [   30.        ,    40.        ],\n",
       "       [   40.        ,    50.        ],\n",
       "       [   50.        ,    60.        ],\n",
       "       [   60.        ,    70.        ],\n",
       "       [   70.        ,    80.        ],\n",
       "       [   80.        ,    90.        ],\n",
       "       [   90.        ,   100.        ],\n",
       "       [  100.        ,   110.        ],\n",
       "       [  110.        ,   120.        ],\n",
       "       [  120.        ,   130.        ],\n",
       "       [  130.        ,   140.        ],\n",
       "       [  140.        ,   150.        ],\n",
       "       [  150.        ,   160.04919434],\n",
       "       [  160.04919434,   170.28871155],\n",
       "       [  170.28871155,   180.88514709],\n",
       "       [  180.88514709,   191.97579956],\n",
       "       [  191.97579956,   203.68585205],\n",
       "       [  203.68585205,   216.14483643],\n",
       "       [  216.14483643,   229.49354553],\n",
       "       [  229.49354553,   243.88948059],\n",
       "       [  243.88948059,   259.51217651],\n",
       "       [  259.51217651,   276.56893921],\n",
       "       [  276.56893921,   295.30145264],\n",
       "       [  295.30145264,   315.99359131],\n",
       "       [  315.99359131,   338.98077393],\n",
       "       [  338.98077393,   364.66055298],\n",
       "       [  364.66055298,   393.506073  ],\n",
       "       [  393.506073  ,   426.08117676],\n",
       "       [  426.08117676,   463.05718994],\n",
       "       [  463.05718994,   505.23233032],\n",
       "       [  505.23233032,   553.55047607],\n",
       "       [  553.55047607,   609.11773682],\n",
       "       [  609.11773682,   673.21295166],\n",
       "       [  673.21295166,   747.28289795],\n",
       "       [  747.28289795,   832.91387939],\n",
       "       [  832.91387939,   931.765625  ],\n",
       "       [  931.765625  ,  1045.45495605],\n",
       "       [ 1045.45495605,  1175.38549805],\n",
       "       [ 1175.38549805,  1322.53198242],\n",
       "       [ 1322.53198242,  1487.22155762],\n",
       "       [ 1487.22155762,  1668.97436523],\n",
       "       [ 1668.97436523,  1866.47338867],\n",
       "       [ 1866.47338867,  2077.70068359],\n",
       "       [ 2077.70068359,  2300.21459961],\n",
       "       [ 2300.21459961,  2531.48657227],\n",
       "       [ 2531.48657227,  2769.19311523],\n",
       "       [ 2769.19311523,  3011.39501953],\n",
       "       [ 3011.39501953,  3256.59887695],\n",
       "       [ 3256.59887695,  3503.73144531],\n",
       "       [ 3503.73144531,  3752.06079102],\n",
       "       [ 3752.06079102,  4001.10986328],\n",
       "       [ 4001.10986328,  4250.58007812],\n",
       "       [ 4250.58007812,  4500.29101562],\n",
       "       [ 4500.29101562,  4750.13623047],\n",
       "       [ 4750.13623047,  5000.05566406],\n",
       "       [ 5000.05566406,  5250.01367188],\n",
       "       [ 5250.01367188,  5499.98632812]]), standard_name='depth', units=Unit('m'), long_name='ocean depth coordinate', var_name='lev', attributes={'positive': 'down'})"
      ]
     },
     "execution_count": 21,
     "metadata": {},
     "output_type": "execute_result"
    }
   ],
   "source": [
    "data_cube.coord('depth')"
   ]
  },
  {
   "cell_type": "code",
   "execution_count": 43,
   "metadata": {
    "collapsed": false,
    "deletable": true,
    "editable": true
   },
   "outputs": [
    {
     "ename": "ValueError",
     "evalue": "This operation cannot be performed as there are differing coordinates (depth) remaining which cannot be ignored.",
     "output_type": "error",
     "traceback": [
      "\u001b[0;31m---------------------------------------------------------------------------\u001b[0m",
      "\u001b[0;31mValueError\u001b[0m                                Traceback (most recent call last)",
      "\u001b[0;32m<ipython-input-43-2eae4b1053ab>\u001b[0m in \u001b[0;36m<module>\u001b[0;34m()\u001b[0m\n\u001b[0;32m----> 1\u001b[0;31m \u001b[0mdata_cube\u001b[0m\u001b[0;34m[\u001b[0m\u001b[0;36m0\u001b[0m\u001b[0;34m,\u001b[0m \u001b[0;34m:\u001b[0m\u001b[0;34m:\u001b[0m\u001b[0;34m]\u001b[0m \u001b[0;34m*\u001b[0m \u001b[0mvolume_cube\u001b[0m\u001b[0;34m[\u001b[0m\u001b[0;34m:\u001b[0m\u001b[0;34m:\u001b[0m\u001b[0;34m-\u001b[0m\u001b[0;36m1\u001b[0m\u001b[0;34m,\u001b[0m \u001b[0;34m:\u001b[0m\u001b[0;34m:\u001b[0m\u001b[0;34m]\u001b[0m\u001b[0;34m\u001b[0m\u001b[0m\n\u001b[0m",
      "\u001b[0;32m/g/data/r87/dbi599/miniconda3/envs/ocean/lib/python3.6/site-packages/iris/analysis/maths.py\u001b[0m in \u001b[0;36mmultiply\u001b[0;34m(cube, other, dim, in_place)\u001b[0m\n\u001b[1;32m    409\u001b[0m                              \u001b[0;34m'which cannot be ignored.'\u001b[0m\u001b[0;34m\u001b[0m\u001b[0m\n\u001b[1;32m    410\u001b[0m                              % ', '.join({coord_grp.name() for coord_grp\n\u001b[0;32m--> 411\u001b[0;31m                                           in bad_coord_grps}))\n\u001b[0m\u001b[1;32m    412\u001b[0m     \u001b[0;32melse\u001b[0m\u001b[0;34m:\u001b[0m\u001b[0;34m\u001b[0m\u001b[0m\n\u001b[1;32m    413\u001b[0m         \u001b[0mcoord_comp\u001b[0m \u001b[0;34m=\u001b[0m \u001b[0;32mNone\u001b[0m\u001b[0;34m\u001b[0m\u001b[0m\n",
      "\u001b[0;31mValueError\u001b[0m: This operation cannot be performed as there are differing coordinates (depth) remaining which cannot be ignored."
     ]
    }
   ],
   "source": [
    "data_cube[0, ::] * volume_cube[::-1, ::]"
   ]
  },
  {
   "cell_type": "code",
   "execution_count": 47,
   "metadata": {
    "collapsed": false,
    "deletable": true,
    "editable": true
   },
   "outputs": [
    {
     "data": {
      "text/plain": [
       "array([[   10.        ,     0.        ],\n",
       "       [   20.        ,    10.        ],\n",
       "       [   30.19999886,    20.        ],\n",
       "       [   40.39999771,    30.19999886],\n",
       "       [   50.79999924,    40.39999771],\n",
       "       [   61.39999771,    50.79999924],\n",
       "       [   72.19999695,    61.39999771],\n",
       "       [   83.19999695,    72.19999695],\n",
       "       [   94.59999847,    83.19999695],\n",
       "       [  106.3999939 ,    94.59999847],\n",
       "       [  118.79999542,   106.3999939 ],\n",
       "       [  132.19999695,   118.79999542],\n",
       "       [  146.79998779,   132.19999695],\n",
       "       [  163.        ,   146.79998779],\n",
       "       [  181.3999939 ,   163.        ],\n",
       "       [  202.79998779,   181.3999939 ],\n",
       "       [  228.        ,   202.79998779],\n",
       "       [  258.19998169,   228.        ],\n",
       "       [  295.        ,   258.19998169],\n",
       "       [  340.3999939 ,   295.        ],\n",
       "       [  396.79998779,   340.3999939 ],\n",
       "       [  466.99996948,   396.79998779],\n",
       "       [  554.        ,   466.99996948],\n",
       "       [  661.39996338,   554.        ],\n",
       "       [  792.19995117,   661.39996338],\n",
       "       [  949.39996338,   792.19995117],\n",
       "       [ 1134.79992676,   949.39996338],\n",
       "       [ 1349.39990234,  1134.79992676],\n",
       "       [ 1592.79992676,  1349.39990234],\n",
       "       [ 1863.39990234,  1592.79992676],\n",
       "       [ 2158.39990234,  1863.39990234],\n",
       "       [ 2474.79980469,  2158.39990234],\n",
       "       [ 2809.19995117,  2474.79980469],\n",
       "       [ 3158.39990234,  2809.19995117],\n",
       "       [ 3519.39990234,  3158.39990234],\n",
       "       [ 3889.79980469,  3519.39990234],\n",
       "       [ 4267.39990234,  3889.79980469],\n",
       "       [ 4650.59960938,  4267.39990234],\n",
       "       [ 5038.        ,  4650.59960938],\n",
       "       [ 5428.59960938,  5038.        ]])"
      ]
     },
     "execution_count": 47,
     "metadata": {},
     "output_type": "execute_result"
    }
   ],
   "source": [
    "volume_cube[::-1, ::].coord('depth').bounds"
   ]
  },
  {
   "cell_type": "code",
   "execution_count": 48,
   "metadata": {
    "collapsed": false,
    "deletable": true,
    "editable": true
   },
   "outputs": [
    {
     "data": {
      "text/plain": [
       "array([[    0.        ,    10.        ],\n",
       "       [   10.        ,    20.        ],\n",
       "       [   20.        ,    30.19999886],\n",
       "       [   30.19999886,    40.39999771],\n",
       "       [   40.39999771,    50.79999924],\n",
       "       [   50.79999924,    61.39999771],\n",
       "       [   61.39999771,    72.19999695],\n",
       "       [   72.19999695,    83.19999695],\n",
       "       [   83.19999695,    94.59999847],\n",
       "       [   94.59999847,   106.3999939 ],\n",
       "       [  106.3999939 ,   118.79999542],\n",
       "       [  118.79999542,   132.19999695],\n",
       "       [  132.19999695,   146.79998779],\n",
       "       [  146.79998779,   163.        ],\n",
       "       [  163.        ,   181.3999939 ],\n",
       "       [  181.3999939 ,   202.79998779],\n",
       "       [  202.79998779,   228.        ],\n",
       "       [  228.        ,   258.19998169],\n",
       "       [  258.19998169,   295.        ],\n",
       "       [  295.        ,   340.3999939 ],\n",
       "       [  340.3999939 ,   396.79998779],\n",
       "       [  396.79998779,   466.99996948],\n",
       "       [  466.99996948,   554.        ],\n",
       "       [  554.        ,   661.39996338],\n",
       "       [  661.39996338,   792.19995117],\n",
       "       [  792.19995117,   949.39996338],\n",
       "       [  949.39996338,  1134.79992676],\n",
       "       [ 1134.79992676,  1349.39990234],\n",
       "       [ 1349.39990234,  1592.79992676],\n",
       "       [ 1592.79992676,  1863.39990234],\n",
       "       [ 1863.39990234,  2158.39990234],\n",
       "       [ 2158.39990234,  2474.79980469],\n",
       "       [ 2474.79980469,  2809.19995117],\n",
       "       [ 2809.19995117,  3158.39990234],\n",
       "       [ 3158.39990234,  3519.39990234],\n",
       "       [ 3519.39990234,  3889.79980469],\n",
       "       [ 3889.79980469,  4267.39990234],\n",
       "       [ 4267.39990234,  4650.59960938],\n",
       "       [ 4650.59960938,  5038.        ],\n",
       "       [ 5038.        ,  5428.59960938]])"
      ]
     },
     "execution_count": 48,
     "metadata": {},
     "output_type": "execute_result"
    }
   ],
   "source": [
    "data_cube.coord('depth').bounds"
   ]
  },
  {
   "cell_type": "code",
   "execution_count": 50,
   "metadata": {
    "collapsed": false,
    "deletable": true,
    "editable": true
   },
   "outputs": [
    {
     "data": {
      "text/plain": [
       "masked_array(data =\n",
       " [[-- -- -- ..., -- -- --]\n",
       " [-- -- -- ..., -- -- --]\n",
       " [-- -- -- ..., -- -- --]\n",
       " ..., \n",
       " [-- -- -- ..., -- -- --]\n",
       " [-- -- -- ..., -- -- --]\n",
       " [-- -- -- ..., -- -- --]],\n",
       "             mask =\n",
       " [[ True  True  True ...,  True  True  True]\n",
       " [ True  True  True ...,  True  True  True]\n",
       " [ True  True  True ...,  True  True  True]\n",
       " ..., \n",
       " [ True  True  True ...,  True  True  True]\n",
       " [ True  True  True ...,  True  True  True]\n",
       " [ True  True  True ...,  True  True  True]],\n",
       "       fill_value = 1e+20)"
      ]
     },
     "execution_count": 50,
     "metadata": {},
     "output_type": "execute_result"
    }
   ],
   "source": [
    "data_cube[0, -1, ::].data"
   ]
  },
  {
   "cell_type": "code",
   "execution_count": 51,
   "metadata": {
    "collapsed": false,
    "deletable": true,
    "editable": true,
    "scrolled": true
   },
   "outputs": [
    {
     "data": {
      "text/plain": [
       "array([  5.00000000e+00,   1.50000000e+01,   2.50999985e+01,\n",
       "         3.52999992e+01,   4.55999985e+01,   5.60999985e+01,\n",
       "         6.67999954e+01,   7.76999969e+01,   8.88999939e+01,\n",
       "         1.00500000e+02,   1.12599998e+02,   1.25500000e+02,\n",
       "         1.39500000e+02,   1.54899994e+02,   1.72199997e+02,\n",
       "         1.92099991e+02,   2.15399994e+02,   2.43099991e+02,\n",
       "         2.76599976e+02,   3.17699982e+02,   3.68599976e+02,\n",
       "         4.31899994e+02,   5.10500000e+02,   6.07699951e+02,\n",
       "         7.26799988e+02,   8.70799988e+02,   1.04209998e+03,\n",
       "         1.24209998e+03,   1.47109998e+03,   1.72809998e+03,\n",
       "         2.01089990e+03,   2.31659985e+03,   2.64200000e+03,\n",
       "         2.98379980e+03,   3.33889990e+03,   3.70459985e+03,\n",
       "         4.07859985e+03,   4.45900000e+03,   4.84429980e+03,\n",
       "         5.23329980e+03])"
      ]
     },
     "execution_count": 51,
     "metadata": {},
     "output_type": "execute_result"
    }
   ],
   "source": [
    "volume_cube[::-1, ::].coord('depth').points"
   ]
  },
  {
   "cell_type": "code",
   "execution_count": 53,
   "metadata": {
    "collapsed": false,
    "deletable": true,
    "editable": true
   },
   "outputs": [
    {
     "data": {
      "text/plain": [
       "True"
      ]
     },
     "execution_count": 53,
     "metadata": {},
     "output_type": "execute_result"
    }
   ],
   "source": [
    "numpy.array_equal(volume_cube[::-1, ::].coord('depth').points, data_cube.coord('depth').points)"
   ]
  },
  {
   "cell_type": "code",
   "execution_count": 58,
   "metadata": {
    "collapsed": false,
    "deletable": true,
    "editable": true
   },
   "outputs": [
    {
     "data": {
      "text/plain": [
       "masked_array(data = [102463385600.0 102463385600.0 104512641585.9961 104512641585.9961\n",
       " 106561936658.67188 108611173101.32812 110660448630.66406 112709724160.0\n",
       " 116808275218.67188 120906748103.98438 127054613778.67188\n",
       " 137300952338.67188 149596449167.96875 165990809749.375 188532566965.3125\n",
       " 219271582645.3125 258207856789.375 309439236895.9375 377065446624.0625\n",
       " 465183708085.3125 577893432245.3125 719292779295.9375 891431767413.4375\n",
       " 1100456386111.875 1340220958570.625 1610724546709.375 1899670793791.875\n",
       " 2198864004821.25 2493959055658.75 2772658964181.25 3022669875200.0\n",
       " 3241940519765.0 3426377115392.5 3578020924842.5 3698928220160.0\n",
       " 3795242802005.0 3869018440875.0 3926393934335.0 3969435560620.0\n",
       " 4002215839060.0],\n",
       "             mask = [False False False False False False False False False False False False\n",
       " False False False False False False False False False False False False\n",
       " False False False False False False False False False False False False\n",
       " False False False False],\n",
       "       fill_value = 1e+20)"
      ]
     },
     "execution_count": 58,
     "metadata": {},
     "output_type": "execute_result"
    }
   ],
   "source": [
    "calc_volume_data[0, :, 150, 150]"
   ]
  },
  {
   "cell_type": "code",
   "execution_count": 59,
   "metadata": {
    "collapsed": false,
    "deletable": true,
    "editable": true
   },
   "outputs": [
    {
     "data": {
      "text/plain": [
       "masked_array(data = [102463389696.0 102463389696.0 104512659456.0 104512659456.0 106561929216.0\n",
       " 108611190784.0 110660460544.0 112709730304.0 116808261632.0 120906801152.0\n",
       " 127054602240.0 137300942848.0 149596553216.0 165990694912.0 188532637696.0\n",
       " 219271659520.0 258207744000.0 309439430656.0 377065275392.0 465183801344.0\n",
       " 577893498880.0 719292989440.0 891431485440.0 1100456787968.0\n",
       " 1340221161472.0 1610724540416.0 1899671191552.0 2198864396288.0\n",
       " 2493958848512.0 2772659339264.0 3022670004224.0 3241941663744.0\n",
       " 3426375696384.0 3578021543936.0 3698928386048.0 3795244023808.0\n",
       " 3869017636864.0 3926397026304.0 -- --],\n",
       "             mask = [False False False False False False False False False False False False\n",
       " False False False False False False False False False False False False\n",
       " False False False False False False False False False False False False\n",
       " False False  True  True],\n",
       "       fill_value = 1e+20)"
      ]
     },
     "execution_count": 59,
     "metadata": {},
     "output_type": "execute_result"
    }
   ],
   "source": [
    "volume_cube[::-1, ::].data[:, 150, 150]"
   ]
  },
  {
   "cell_type": "code",
   "execution_count": 60,
   "metadata": {
    "collapsed": true,
    "deletable": true,
    "editable": true
   },
   "outputs": [],
   "source": [
    "calc_volume_data.mask = data_cube.data.mask"
   ]
  },
  {
   "cell_type": "code",
   "execution_count": 61,
   "metadata": {
    "collapsed": false,
    "deletable": true,
    "editable": true,
    "scrolled": true
   },
   "outputs": [
    {
     "data": {
      "text/plain": [
       "masked_array(data = [102463385600.0 102463385600.0 104512641585.9961 104512641585.9961\n",
       " 106561936658.67188 108611173101.32812 110660448630.66406 112709724160.0\n",
       " 116808275218.67188 120906748103.98438 127054613778.67188\n",
       " 137300952338.67188 149596449167.96875 165990809749.375 188532566965.3125\n",
       " 219271582645.3125 258207856789.375 309439236895.9375 377065446624.0625\n",
       " 465183708085.3125 577893432245.3125 719292779295.9375 891431767413.4375\n",
       " 1100456386111.875 1340220958570.625 1610724546709.375 1899670793791.875\n",
       " 2198864004821.25 2493959055658.75 2772658964181.25 3022669875200.0\n",
       " 3241940519765.0 3426377115392.5 3578020924842.5 3698928220160.0\n",
       " 3795242802005.0 3869018440875.0 3926393934335.0 -- --],\n",
       "             mask = [False False False False False False False False False False False False\n",
       " False False False False False False False False False False False False\n",
       " False False False False False False False False False False False False\n",
       " False False  True  True],\n",
       "       fill_value = 1e+20)"
      ]
     },
     "execution_count": 61,
     "metadata": {},
     "output_type": "execute_result"
    }
   ],
   "source": [
    "calc_volume_data[0, :, 150, 150]"
   ]
  },
  {
   "cell_type": "markdown",
   "metadata": {
    "collapsed": true,
    "deletable": true,
    "editable": true
   },
   "source": [
    "## Check NorESM-1"
   ]
  },
  {
   "cell_type": "code",
   "execution_count": 67,
   "metadata": {
    "collapsed": true,
    "deletable": true,
    "editable": true
   },
   "outputs": [],
   "source": [
    "hist_volume = iris.load_cube('/g/data/ua6/DRSv2/CMIP5/NorESM1-M/historical/fx/ocean/r0i0p0/volcello/latest/volcello_fx_NorESM1-M_historical_r0i0p0.nc')\n",
    "control_volume = iris.load_cube('/g/data/ua6/DRSv2/CMIP5/NorESM1-M/piControl/fx/ocean/r0i0p0/volcello/latest/volcello_fx_NorESM1-M_piControl_r0i0p0.nc')"
   ]
  },
  {
   "cell_type": "code",
   "execution_count": 68,
   "metadata": {
    "collapsed": false,
    "deletable": true,
    "editable": true
   },
   "outputs": [
    {
     "data": {
      "text/plain": [
       "<iris 'Cube' of ocean_volume / (m3) (depth: 70; cell index along second dimension: 384; cell index along first dimension: 320)>"
      ]
     },
     "execution_count": 68,
     "metadata": {},
     "output_type": "execute_result"
    }
   ],
   "source": [
    "hist_volume"
   ]
  },
  {
   "cell_type": "code",
   "execution_count": 69,
   "metadata": {
    "collapsed": false,
    "deletable": true,
    "editable": true
   },
   "outputs": [
    {
     "data": {
      "text/plain": [
       "<iris 'Cube' of ocean_volume / (m3) (depth: 70; cell index along second dimension: 384; cell index along first dimension: 320)>"
      ]
     },
     "execution_count": 69,
     "metadata": {},
     "output_type": "execute_result"
    }
   ],
   "source": [
    "control_volume"
   ]
  },
  {
   "cell_type": "code",
   "execution_count": 70,
   "metadata": {
    "collapsed": false,
    "deletable": true,
    "editable": true
   },
   "outputs": [
    {
     "data": {
      "image/png": "[encoded data removed]",
      "text/plain": [
       "<matplotlib.figure.Figure at 0x7ff35bcb1be0>"
      ]
     },
     "metadata": {},
     "output_type": "display_data"
    }
   ],
   "source": [
    "plt.imshow(hist_volume.data[-5, ::])\n",
    "plt.colorbar()\n",
    "plt.show()"
   ]
  },
  {
   "cell_type": "code",
   "execution_count": 71,
   "metadata": {
    "collapsed": false,
    "deletable": true,
    "editable": true
   },
   "outputs": [
    {
     "data": {
      "image/png": "[encoded data removed]",
      "text/plain": [
       "<matplotlib.figure.Figure at 0x7ff20df39588>"
      ]
     },
     "metadata": {},
     "output_type": "display_data"
    }
   ],
   "source": [
    "plt.imshow(control_volume.data[-5, ::])\n",
    "plt.colorbar()\n",
    "plt.show()"
   ]
  },
  {
   "cell_type": "code",
   "execution_count": 72,
   "metadata": {
    "collapsed": true,
    "deletable": true,
    "editable": true
   },
   "outputs": [],
   "source": [
    "hist_depth = iris.load_cube('/g/data/ua6/DRSv2/CMIP5/NorESM1-M/historical/fx/ocean/r0i0p0/deptho/latest/deptho_fx_NorESM1-M_historical_r0i0p0.nc')\n",
    "control_depth = iris.load_cube('/g/data/ua6/DRSv2/CMIP5/NorESM1-M/piControl/fx/ocean/r0i0p0/deptho/latest/deptho_fx_NorESM1-M_piControl_r0i0p0.nc')"
   ]
  },
  {
   "cell_type": "code",
   "execution_count": 73,
   "metadata": {
    "collapsed": false,
    "deletable": true,
    "editable": true
   },
   "outputs": [
    {
     "data": {
      "text/plain": [
       "<iris 'Cube' of sea_floor_depth_below_geoid / (m) (cell index along second dimension: 384; cell index along first dimension: 320)>"
      ]
     },
     "execution_count": 73,
     "metadata": {},
     "output_type": "execute_result"
    }
   ],
   "source": [
    "hist_depth"
   ]
  },
  {
   "cell_type": "code",
   "execution_count": 74,
   "metadata": {
    "collapsed": false,
    "deletable": true,
    "editable": true
   },
   "outputs": [
    {
     "data": {
      "text/plain": [
       "DimCoord(array([  0.00000000e+00,   5.00000000e+00,   1.00000000e+01,\n",
       "         1.50000000e+01,   2.00000000e+01,   2.50000000e+01,\n",
       "         3.00000000e+01,   4.00000000e+01,   5.00000000e+01,\n",
       "         6.25000000e+01,   7.50000000e+01,   8.75000000e+01,\n",
       "         1.00000000e+02,   1.12500000e+02,   1.25000000e+02,\n",
       "         1.37500000e+02,   1.50000000e+02,   1.75000000e+02,\n",
       "         2.00000000e+02,   2.25000000e+02,   2.50000000e+02,\n",
       "         2.75000000e+02,   3.00000000e+02,   3.50000000e+02,\n",
       "         4.00000000e+02,   4.50000000e+02,   5.00000000e+02,\n",
       "         5.50000000e+02,   6.00000000e+02,   6.50000000e+02,\n",
       "         7.00000000e+02,   7.50000000e+02,   8.00000000e+02,\n",
       "         8.50000000e+02,   9.00000000e+02,   9.50000000e+02,\n",
       "         1.00000000e+03,   1.05000000e+03,   1.10000000e+03,\n",
       "         1.15000000e+03,   1.20000000e+03,   1.25000000e+03,\n",
       "         1.30000000e+03,   1.35000000e+03,   1.40000000e+03,\n",
       "         1.45000000e+03,   1.50000000e+03,   1.62500000e+03,\n",
       "         1.75000000e+03,   1.87500000e+03,   2.00000000e+03,\n",
       "         2.25000000e+03,   2.50000000e+03,   2.75000000e+03,\n",
       "         3.00000000e+03,   3.25000000e+03,   3.50000000e+03,\n",
       "         3.75000000e+03,   4.00000000e+03,   4.25000000e+03,\n",
       "         4.50000000e+03,   4.75000000e+03,   5.00000000e+03,\n",
       "         5.25000000e+03,   5.50000000e+03,   5.75000000e+03,\n",
       "         6.00000000e+03,   6.25000000e+03,   6.50000000e+03,\n",
       "         6.75000000e+03]), bounds=array([[  0.00000000e+00,   2.50000000e+00],\n",
       "       [  2.50000000e+00,   7.50000000e+00],\n",
       "       [  7.50000000e+00,   1.25000000e+01],\n",
       "       [  1.25000000e+01,   1.75000000e+01],\n",
       "       [  1.75000000e+01,   2.25000000e+01],\n",
       "       [  2.25000000e+01,   2.75000000e+01],\n",
       "       [  2.75000000e+01,   3.50000000e+01],\n",
       "       [  3.50000000e+01,   4.50000000e+01],\n",
       "       [  4.50000000e+01,   5.62000000e+01],\n",
       "       [  5.62000000e+01,   6.88000000e+01],\n",
       "       [  6.88000000e+01,   8.12000000e+01],\n",
       "       [  8.12000000e+01,   9.38000000e+01],\n",
       "       [  9.38000000e+01,   1.06200000e+02],\n",
       "       [  1.06200000e+02,   1.18800000e+02],\n",
       "       [  1.18800000e+02,   1.31200000e+02],\n",
       "       [  1.31200000e+02,   1.43800000e+02],\n",
       "       [  1.43800000e+02,   1.62500000e+02],\n",
       "       [  1.62500000e+02,   1.87500000e+02],\n",
       "       [  1.87500000e+02,   2.12500000e+02],\n",
       "       [  2.12500000e+02,   2.37500000e+02],\n",
       "       [  2.37500000e+02,   2.62500000e+02],\n",
       "       [  2.62500000e+02,   2.87500000e+02],\n",
       "       [  2.87500000e+02,   3.25000000e+02],\n",
       "       [  3.25000000e+02,   3.75000000e+02],\n",
       "       [  3.75000000e+02,   4.25000000e+02],\n",
       "       [  4.25000000e+02,   4.75000000e+02],\n",
       "       [  4.75000000e+02,   5.25000000e+02],\n",
       "       [  5.25000000e+02,   5.75000000e+02],\n",
       "       [  5.75000000e+02,   6.25000000e+02],\n",
       "       [  6.25000000e+02,   6.75000000e+02],\n",
       "       [  6.75000000e+02,   7.25000000e+02],\n",
       "       [  7.25000000e+02,   7.75000000e+02],\n",
       "       [  7.75000000e+02,   8.25000000e+02],\n",
       "       [  8.25000000e+02,   8.75000000e+02],\n",
       "       [  8.75000000e+02,   9.25000000e+02],\n",
       "       [  9.25000000e+02,   9.75000000e+02],\n",
       "       [  9.75000000e+02,   1.02500000e+03],\n",
       "       [  1.02500000e+03,   1.07500000e+03],\n",
       "       [  1.07500000e+03,   1.12500000e+03],\n",
       "       [  1.12500000e+03,   1.17500000e+03],\n",
       "       [  1.17500000e+03,   1.22500000e+03],\n",
       "       [  1.22500000e+03,   1.27500000e+03],\n",
       "       [  1.27500000e+03,   1.32500000e+03],\n",
       "       [  1.32500000e+03,   1.37500000e+03],\n",
       "       [  1.37500000e+03,   1.42500000e+03],\n",
       "       [  1.42500000e+03,   1.47500000e+03],\n",
       "       [  1.47500000e+03,   1.56250000e+03],\n",
       "       [  1.56250000e+03,   1.68750000e+03],\n",
       "       [  1.68750000e+03,   1.81250000e+03],\n",
       "       [  1.81250000e+03,   1.93750000e+03],\n",
       "       [  1.93750000e+03,   2.12500000e+03],\n",
       "       [  2.12500000e+03,   2.37500000e+03],\n",
       "       [  2.37500000e+03,   2.62500000e+03],\n",
       "       [  2.62500000e+03,   2.87500000e+03],\n",
       "       [  2.87500000e+03,   3.12500000e+03],\n",
       "       [  3.12500000e+03,   3.37500000e+03],\n",
       "       [  3.37500000e+03,   3.62500000e+03],\n",
       "       [  3.62500000e+03,   3.87500000e+03],\n",
       "       [  3.87500000e+03,   4.12500000e+03],\n",
       "       [  4.12500000e+03,   4.37500000e+03],\n",
       "       [  4.37500000e+03,   4.62500000e+03],\n",
       "       [  4.62500000e+03,   4.87500000e+03],\n",
       "       [  4.87500000e+03,   5.12500000e+03],\n",
       "       [  5.12500000e+03,   5.37500000e+03],\n",
       "       [  5.37500000e+03,   5.62500000e+03],\n",
       "       [  5.62500000e+03,   5.87500000e+03],\n",
       "       [  5.87500000e+03,   6.12500000e+03],\n",
       "       [  6.12500000e+03,   6.37500000e+03],\n",
       "       [  6.37500000e+03,   6.62500000e+03],\n",
       "       [  6.62500000e+03,   8.00000000e+03]]), standard_name='depth', units=Unit('m'), long_name='ocean depth coordinate', var_name='lev', attributes={'positive': 'down'})"
      ]
     },
     "execution_count": 74,
     "metadata": {},
     "output_type": "execute_result"
    }
   ],
   "source": [
    "hist_volume.coord('depth')"
   ]
  },
  {
   "cell_type": "code",
   "execution_count": null,
   "metadata": {
    "collapsed": true,
    "deletable": true,
    "editable": true
   },
   "outputs": [],
   "source": []
  }
 ],
 "metadata": {
  "kernelspec": {
   "display_name": "Python 3",
   "language": "python",
   "name": "python3"
  },
  "language_info": {
   "codemirror_mode": {
    "name": "ipython",
    "version": 3
   },
   "file_extension": ".py",
   "mimetype": "text/x-python",
   "name": "python",
   "nbconvert_exporter": "python",
   "pygments_lexer": "ipython3",
   "version": "3.6.0"
  }
 },
 "nbformat": 4,
 "nbformat_minor": 2
}
