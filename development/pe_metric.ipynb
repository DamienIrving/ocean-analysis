{
 "cells": [
  {
   "cell_type": "code",
   "execution_count": 24,
   "metadata": {
    "collapsed": true,
    "deletable": true,
    "editable": true
   },
   "outputs": [],
   "source": [
    "import sys, os\n",
    "import numpy\n",
    "from scipy.interpolate import interp1d\n",
    "import iris\n",
    "import iris.plot as iplt\n",
    "import matplotlib.pyplot as plt\n",
    "\n",
    "cwd = os.getcwd()\n",
    "repo_dir = '/'\n",
    "for directory in cwd.split('/')[1:]:\n",
    "    repo_dir = os.path.join(repo_dir, directory)\n",
    "    if directory == 'ocean-analysis':\n",
    "        break\n",
    "\n",
    "modules_dir = os.path.join(repo_dir, 'modules')\n",
    "sys.path.append(modules_dir)\n",
    "try:\n",
    "    import general_io as gio\n",
    "    import convenient_universal as uconv\n",
    "    import timeseries\n",
    "except ImportError:\n",
    "    raise ImportError('Must run this script from anywhere within the ocean-analysis git repo')"
   ]
  },
  {
   "cell_type": "code",
   "execution_count": 21,
   "metadata": {
    "collapsed": true
   },
   "outputs": [],
   "source": [
    "% matplotlib inline"
   ]
  },
  {
   "cell_type": "code",
   "execution_count": 2,
   "metadata": {
    "collapsed": true,
    "deletable": true,
    "editable": true
   },
   "outputs": [],
   "source": [
    "infile = '/g/data/r87/dbi599/DRSv2/CMIP5/CSIRO-Mk3-6-0/historicalGHG/mon/atmos/r1i1p1/pe/latest/pe-ocean_Amon_CSIRO-Mk3-6-0_historicalGHG_r1i1p1_185001-201212.nc'"
   ]
  },
  {
   "cell_type": "code",
   "execution_count": 3,
   "metadata": {
    "collapsed": false,
    "deletable": true,
    "editable": true
   },
   "outputs": [
    {
     "name": "stderr",
     "output_type": "stream",
     "text": [
      "/g/data/r87/dbi599/miniconda3/envs/ocean/lib/python3.6/site-packages/iris/fileformats/cf.py:1143: IrisDeprecation: NetCDF default loading behaviour currently does not expose variables which define reference surfaces for dimensionless vertical coordinates as independent Cubes. This behaviour is deprecated in favour of automatic promotion to Cubes. To switch to the new behaviour, set iris.FUTURE.netcdf_promote to True.\n",
      "  warn_deprecated(msg)\n"
     ]
    }
   ],
   "source": [
    "cube = iris.load_cube(infile, 'precipitation minus evaporation flux')"
   ]
  },
  {
   "cell_type": "code",
   "execution_count": 4,
   "metadata": {
    "collapsed": false,
    "deletable": true,
    "editable": true
   },
   "outputs": [
    {
     "name": "stdout",
     "output_type": "stream",
     "text": [
      "precipitation minus evaporation flux / (kg m-2 s-1) (time: 1956; latitude: 96; longitude: 192)\n",
      "     Dimension coordinates:\n",
      "          time                                           x               -              -\n",
      "          latitude                                       -               x              -\n",
      "          longitude                                      -               -              x\n",
      "     Attributes:\n",
      "          Conventions: CF-1.5\n",
      "          associated_files: baseURL: http://cmip-pcmdi.llnl.gov/CMIP5/dataLocation gridspecFile: gridspec_atmos_fx_CSIRO-Mk3-6-0_historicalGHG_r0i0p0.nc...\n",
      "          branch_time: 29200.0\n",
      "          cmor_version: 2.6.0\n",
      "          comment: at surface; includes both liquid and solid phases from all types of clouds...\n",
      "          contact: Project leaders: Stephen Jeffrey (Stephen.Jeffrey@qld.gov.au) & Leon Rotstayn...\n",
      "          creation_date: 2011-10-07T03:57:06Z\n",
      "          experiment: GHG-only\n",
      "          experiment_id: historicalGHG\n",
      "          forcing: GHG\n",
      "          frequency: mon\n",
      "          history: Tue Dec 05 15:42:05 2017: /g/data/r87/dbi599/miniconda3/envs/ocean/bin/python...\n",
      "          initialization_method: 1\n",
      "          institute_id: CSIRO-QCCCE\n",
      "          institution: Australian Commonwealth Scientific and Industrial Research Organization...\n",
      "          invalid_standard_name: precipitation_minus_evaporation_flux\n",
      "          model_id: CSIRO-Mk3-6-0\n",
      "          modeling_realm: atmos\n",
      "          original_name: rnd\n",
      "          parent_experiment: piControl\n",
      "          parent_experiment_id: piControl\n",
      "          parent_experiment_rip: r1i1p1\n",
      "          physics_version: 1\n",
      "          product: output\n",
      "          project_id: CMIP5\n",
      "          realization: 1\n",
      "          references: a) Rotstayn, L., Collier, M., Dix, M., Feng, Y., Gordon, H., O\\'Farrell,...\n",
      "          source: CSIRO-Mk3-6-0 2010 atmosphere: AGCM v7.3.5 (T63 spectral, 1.875 degrees...\n",
      "          table_id: Table Amon (27 April 2011) 36bda60a55c2e1a01b1b1782daf91fea\n",
      "          title: CSIRO-Mk3-6-0 model output prepared for CMIP5 GHG-only\n",
      "          tracking_id: 2ce8f953-49e6-4668-8afa-32409362c224\n",
      "          version_number: v20110518\n",
      "     Cell methods:\n",
      "          mean: time\n"
     ]
    }
   ],
   "source": [
    "print(cube)"
   ]
  },
  {
   "cell_type": "code",
   "execution_count": 5,
   "metadata": {
    "collapsed": true,
    "deletable": true,
    "editable": true
   },
   "outputs": [],
   "source": [
    "cube = timeseries.convert_to_annual(cube)"
   ]
  },
  {
   "cell_type": "code",
   "execution_count": 6,
   "metadata": {
    "collapsed": true,
    "deletable": true,
    "editable": true
   },
   "outputs": [],
   "source": [
    "zonal_mean_cube = cube.collapsed('longitude', iris.analysis.MEAN)"
   ]
  },
  {
   "cell_type": "code",
   "execution_count": 7,
   "metadata": {
    "collapsed": false,
    "deletable": true,
    "editable": true
   },
   "outputs": [
    {
     "name": "stdout",
     "output_type": "stream",
     "text": [
      "precipitation minus evaporation flux / (kg m-2 s-1) (time: 163; latitude: 96)\n",
      "     Dimension coordinates:\n",
      "          time                                           x              -\n",
      "          latitude                                       -              x\n",
      "     Scalar coordinates:\n",
      "          longitude: 179.0625 degrees, bound=(-0.9375, 359.0625) degrees\n",
      "     Attributes:\n",
      "          Conventions: CF-1.5\n",
      "          associated_files: baseURL: http://cmip-pcmdi.llnl.gov/CMIP5/dataLocation gridspecFile: gridspec_atmos_fx_CSIRO-Mk3-6-0_historicalGHG_r0i0p0.nc...\n",
      "          branch_time: 29200.0\n",
      "          cmor_version: 2.6.0\n",
      "          comment: at surface; includes both liquid and solid phases from all types of clouds...\n",
      "          contact: Project leaders: Stephen Jeffrey (Stephen.Jeffrey@qld.gov.au) & Leon Rotstayn...\n",
      "          creation_date: 2011-10-07T03:57:06Z\n",
      "          experiment: GHG-only\n",
      "          experiment_id: historicalGHG\n",
      "          forcing: GHG\n",
      "          frequency: mon\n",
      "          history: Tue Dec 05 15:42:05 2017: /g/data/r87/dbi599/miniconda3/envs/ocean/bin/python...\n",
      "          initialization_method: 1\n",
      "          institute_id: CSIRO-QCCCE\n",
      "          institution: Australian Commonwealth Scientific and Industrial Research Organization...\n",
      "          invalid_standard_name: precipitation_minus_evaporation_flux\n",
      "          model_id: CSIRO-Mk3-6-0\n",
      "          modeling_realm: atmos\n",
      "          original_name: rnd\n",
      "          parent_experiment: piControl\n",
      "          parent_experiment_id: piControl\n",
      "          parent_experiment_rip: r1i1p1\n",
      "          physics_version: 1\n",
      "          product: output\n",
      "          project_id: CMIP5\n",
      "          realization: 1\n",
      "          references: a) Rotstayn, L., Collier, M., Dix, M., Feng, Y., Gordon, H., O\\'Farrell,...\n",
      "          source: CSIRO-Mk3-6-0 2010 atmosphere: AGCM v7.3.5 (T63 spectral, 1.875 degrees...\n",
      "          table_id: Table Amon (27 April 2011) 36bda60a55c2e1a01b1b1782daf91fea\n",
      "          title: CSIRO-Mk3-6-0 model output prepared for CMIP5 GHG-only\n",
      "          tracking_id: 2ce8f953-49e6-4668-8afa-32409362c224\n",
      "          version_number: v20110518\n",
      "     Cell methods:\n",
      "          mean: time\n",
      "          mean: year\n",
      "          mean: longitude\n"
     ]
    }
   ],
   "source": [
    "print(zonal_mean_cube)"
   ]
  },
  {
   "cell_type": "code",
   "execution_count": 8,
   "metadata": {
    "collapsed": true,
    "deletable": true,
    "editable": true
   },
   "outputs": [],
   "source": [
    "def pe_amplitude(xdata, ydata, hemisphere):\n",
    "    \"\"\"Calculate the amplitude of the zonal mean P-E\"\"\"\n",
    "\n",
    "    if (hemisphere == 'sh'):\n",
    "        selection = (xdata < 0)\n",
    "        y_filtered = numpy.where(selection, ydata, 0)\n",
    "    elif (hemisphere == 'nh'):\n",
    "        selection = (xdata > 0)\n",
    "        y_filtered = numpy.where(selection, ydata, 0)\n",
    "    else:\n",
    "        y_filtered = ydata.copy() \n",
    "    \n",
    "    amplitude = numpy.sum(numpy.abs(y_filtered))\n",
    "    \n",
    "    return amplitude"
   ]
  },
  {
   "cell_type": "code",
   "execution_count": 11,
   "metadata": {
    "collapsed": false,
    "deletable": true,
    "editable": true
   },
   "outputs": [],
   "source": [
    "xdata = cube.coord('latitude').points\n",
    "xnew = numpy.linspace(xdata[0], xdata[-1], num=1000, endpoint=True)\n",
    "\n",
    "metric_dict = {'nh': [], 'sh': [], 'globe': []}\n",
    "for ycube in zonal_mean_cube.slices(['latitude']):\n",
    "    func = interp1d(xdata, ycube.data, kind='cubic')\n",
    "    ynew = func(xnew)\n",
    "    for hemisphere in ['nh', 'sh', 'globe']:\n",
    "        amp = pe_amplitude(xnew, ynew, hemisphere)\n",
    "        metric_dict[hemisphere].append(amp)"
   ]
  },
  {
   "cell_type": "code",
   "execution_count": 17,
   "metadata": {
    "collapsed": true,
    "deletable": true,
    "editable": true
   },
   "outputs": [],
   "source": [
    "def create_outcubes(metric_dict, units, time_coord):\n",
    "    \"\"\"Create an iris cube for each metric.\"\"\"\n",
    "   \n",
    "    cube_list = []\n",
    "    for hemisphere, data in metric_dict.items():\n",
    "        standard_name = 'pe_amplitude_%s' %(hemisphere)\n",
    "        long_name = 'pe amplitude %s' %(hemisphere)\n",
    "        var_name = 'pe_amp_%s' %(hemisphere)\n",
    "        iris.std_names.STD_NAMES[standard_name] = {'canonical_units': units}\n",
    "        metric_cube = iris.cube.Cube(data,\n",
    "                                     standard_name=standard_name,\n",
    "                                     long_name=long_name,\n",
    "                                     var_name=var_name,\n",
    "                                     units=units,\n",
    "                                     dim_coords_and_dims=[(time_coord, 0)],\n",
    "                                     )\n",
    "        cube_list.append(metric_cube)        \n",
    "\n",
    "    cube_list = iris.cube.CubeList(cube_list)\n",
    "    cube_list = cube_list.concatenate()\n",
    "\n",
    "    return cube_list"
   ]
  },
  {
   "cell_type": "code",
   "execution_count": 18,
   "metadata": {
    "collapsed": false
   },
   "outputs": [],
   "source": [
    "out_cubes = create_outcubes(metric_dict, cube.units, cube.coord('time'))"
   ]
  },
  {
   "cell_type": "code",
   "execution_count": 19,
   "metadata": {
    "collapsed": false
   },
   "outputs": [
    {
     "data": {
      "text/plain": [
       "[<iris 'Cube' of pe_amplitude_globe / (kg m-2 s-1) (time: 163)>,\n",
       "<iris 'Cube' of pe_amplitude_nh / (kg m-2 s-1) (time: 163)>,\n",
       "<iris 'Cube' of pe_amplitude_sh / (kg m-2 s-1) (time: 163)>]"
      ]
     },
     "execution_count": 19,
     "metadata": {},
     "output_type": "execute_result"
    }
   ],
   "source": [
    "out_cubes"
   ]
  },
  {
   "cell_type": "code",
   "execution_count": 27,
   "metadata": {
    "collapsed": false
   },
   "outputs": [
    {
     "data": {
      "image/png": "[encoded data removed]",
      "text/plain": [
       "<matplotlib.figure.Figure at 0x7fa6c7d180f0>"
      ]
     },
     "metadata": {},
     "output_type": "display_data"
    }
   ],
   "source": [
    "#iplt.plot(out_cubes[0], label='globe')\n",
    "iplt.plot(out_cubes[1], label='nh')\n",
    "iplt.plot(out_cubes[2], label='sh')\n",
    "plt.legend()\n",
    "plt.show()"
   ]
  },
  {
   "cell_type": "code",
   "execution_count": null,
   "metadata": {
    "collapsed": true
   },
   "outputs": [],
   "source": []
  }
 ],
 "metadata": {
  "kernelspec": {
   "display_name": "Python 3",
   "language": "python",
   "name": "python3"
  },
  "language_info": {
   "codemirror_mode": {
    "name": "ipython",
    "version": 3
   },
   "file_extension": ".py",
   "mimetype": "text/x-python",
   "name": "python",
   "nbconvert_exporter": "python",
   "pygments_lexer": "ipython3",
   "version": "3.6.0"
  }
 },
 "nbformat": 4,
 "nbformat_minor": 2
}
