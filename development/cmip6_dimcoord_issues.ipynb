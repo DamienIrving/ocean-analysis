{
 "cells": [
  {
   "cell_type": "markdown",
   "metadata": {},
   "source": [
    "# CMIP6 dimension coordinate problems\n",
    "\n",
    "Most CMIP6 ocean models use a curvilinear grid, which means an ocean variable (e.g. `wfo`) will be defined as follows:\n",
    "```\n",
    "netcdf wfo_Omon_HadGEM3-GC31-LL_piControl_r1i1p1f1_gn_225001-234912 {\n",
    "dimensions:\n",
    "\ttime = UNLIMITED ; // (1200 currently)\n",
    "\tbnds = 2 ;\n",
    "\tj = 330 ;\n",
    "\ti = 360 ;\n",
    "\tvertices = 4 ;\n",
    "variables:\n",
    "\tdouble time(time) ;\n",
    "\t\ttime:bounds = \"time_bnds\" ;\n",
    "\t\ttime:units = \"days since 1850-01-01\" ;\n",
    "\t\ttime:calendar = \"360_day\" ;\n",
    "\t\ttime:axis = \"T\" ;\n",
    "\t\ttime:long_name = \"time\" ;\n",
    "\t\ttime:standard_name = \"time\" ;\n",
    "\tdouble time_bnds(time, bnds) ;\n",
    "\tint j(j) ;\n",
    "\t\tj:units = \"1\" ;\n",
    "\t\tj:long_name = \"cell index along second dimension\" ;\n",
    "\tint i(i) ;\n",
    "\t\ti:units = \"1\" ;\n",
    "\t\ti:long_name = \"cell index along first dimension\" ;\n",
    "\tfloat latitude(j, i) ;\n",
    "\t\tlatitude:standard_name = \"latitude\" ;\n",
    "\t\tlatitude:long_name = \"latitude\" ;\n",
    "\t\tlatitude:units = \"degrees_north\" ;\n",
    "\t\tlatitude:missing_value = 1.e+20f ;\n",
    "\t\tlatitude:_FillValue = 1.e+20f ;\n",
    "\t\tlatitude:bounds = \"vertices_latitude\" ;\n",
    "\tfloat longitude(j, i) ;\n",
    "\t\tlongitude:standard_name = \"longitude\" ;\n",
    "\t\tlongitude:long_name = \"longitude\" ;\n",
    "\t\tlongitude:units = \"degrees_east\" ;\n",
    "\t\tlongitude:missing_value = 1.e+20f ;\n",
    "\t\tlongitude:_FillValue = 1.e+20f ;\n",
    "\t\tlongitude:bounds = \"vertices_longitude\" ;\n",
    "\tfloat wfo(time, j, i) ;\n",
    "    ...\n",
    "```\n",
    "\n",
    "You'll notice that `wfo(time, j, i)` where `j` is defined as the `cell index along second dimension` and `i` the `cell index along first dimension`.\n",
    "\n",
    "You can go ahead and use these dimension names to collapse coordinates (or to do whatever other calculations you are doing along an axis):"
   ]
  },
  {
   "cell_type": "code",
   "execution_count": null,
   "metadata": {},
   "outputs": [],
   "source": [
    "import warnings\n",
    "warnings.filterwarnings('ignore')\n",
    "\n",
    "import iris"
   ]
  },
  {
   "cell_type": "code",
   "execution_count": 21,
   "metadata": {},
   "outputs": [],
   "source": [
    "good_file = '/g/data1b/oi10/replicas/CMIP6/CMIP/MOHC/HadGEM3-GC31-LL/piControl/r1i1p1f1/Omon/wfo/gn/v20190628/wfo_Omon_HadGEM3-GC31-LL_piControl_r1i1p1f1_gn_225001-234912.nc'\n",
    "good_cube = iris.load_cube(good_file, 'water_flux_into_sea_water')"
   ]
  },
  {
   "cell_type": "code",
   "execution_count": 22,
   "metadata": {},
   "outputs": [
    {
     "name": "stdout",
     "output_type": "stream",
     "text": [
      "water_flux_into_sea_water / (kg m-2 s-1) (time: 1200; cell index along second dimension: 330; cell index along first dimension: 360)\n"
     ]
    }
   ],
   "source": [
    "print(good_cube.summary(shorten=True))"
   ]
  },
  {
   "cell_type": "code",
   "execution_count": 24,
   "metadata": {},
   "outputs": [],
   "source": [
    "spatial_mean = good_cube.collapsed(['cell index along second dimension', 'cell index along first dimension'], iris.analysis.MEAN)"
   ]
  },
  {
   "cell_type": "code",
   "execution_count": 26,
   "metadata": {},
   "outputs": [
    {
     "name": "stdout",
     "output_type": "stream",
     "text": [
      "water_flux_into_sea_water / (kg m-2 s-1) (time: 1200)\n"
     ]
    }
   ],
   "source": [
    "print(spatial_mean.summary(shorten=True))"
   ]
  },
  {
   "cell_type": "markdown",
   "metadata": {},
   "source": [
    "In CMIP6, however, some groups have not defined the `j` and `i` dimensions (I didn't notice this in CMIP5). e.g:\n",
    "```\n",
    "netcdf wfo_Omon_CNRM-CM6-1_piControl_r1i1p1f2_gn_185001-234912 {\n",
    "dimensions:\n",
    "\taxis_nbounds = 2 ;\n",
    "\tx = 362 ;\n",
    "\ty = 294 ;\n",
    "\tnvertex = 4 ;\n",
    "\ttime = UNLIMITED ; // (6000 currently)\n",
    "variables:\n",
    "\tdouble lat(y, x) ;\n",
    "\t\tlat:standard_name = \"latitude\" ;\n",
    "\t\tlat:long_name = \"Latitude\" ;\n",
    "\t\tlat:units = \"degrees_north\" ;\n",
    "\t\tlat:bounds = \"bounds_lat\" ;\n",
    "\tdouble lon(y, x) ;\n",
    "\t\tlon:standard_name = \"longitude\" ;\n",
    "\t\tlon:long_name = \"Longitude\" ;\n",
    "\t\tlon:units = \"degrees_east\" ;\n",
    "\t\tlon:bounds = \"bounds_lon\" ;\n",
    "\tdouble bounds_lon(y, x, nvertex) ;\n",
    "\tdouble bounds_lat(y, x, nvertex) ;\n",
    "\tdouble time(time) ;\n",
    "\t\ttime:axis = \"T\" ;\n",
    "\t\ttime:standard_name = \"time\" ;\n",
    "\t\ttime:long_name = \"Time axis\" ;\n",
    "\t\ttime:calendar = \"gregorian\" ;\n",
    "\t\ttime:units = \"days since 1850-01-01 00:00:00\" ;\n",
    "\t\ttime:time_origin = \"1850-01-01 00:00:00\" ;\n",
    "\t\ttime:bounds = \"time_bounds\" ;\n",
    "\tdouble time_bounds(time, axis_nbounds) ;\n",
    "\tfloat wfo(time, y, x) ;\n",
    "...\n",
    "```\n",
    "This means you can't refer to the spatial dimensions by name, which is *very* annoying."
   ]
  },
  {
   "cell_type": "code",
   "execution_count": 29,
   "metadata": {},
   "outputs": [],
   "source": [
    "bad_file = '/g/data1b/oi10/replicas/CMIP6/CMIP/CNRM-CERFACS/CNRM-CM6-1/piControl/r1i1p1f2/Omon/wfo/gn/v20180814/wfo_Omon_CNRM-CM6-1_piControl_r1i1p1f2_gn_185001-234912.nc'\n",
    "bad_cube = iris.load_cube(bad_file, 'water_flux_into_sea_water')"
   ]
  },
  {
   "cell_type": "code",
   "execution_count": 30,
   "metadata": {},
   "outputs": [
    {
     "name": "stdout",
     "output_type": "stream",
     "text": [
      "water_flux_into_sea_water / (kg m-2 s-1) (time: 6000; -- : 294; -- : 362)\n"
     ]
    }
   ],
   "source": [
    "print(bad_cube.summary(shorten=True))"
   ]
  }
 ],
 "metadata": {
  "kernelspec": {
   "display_name": "Python 3",
   "language": "python",
   "name": "python3"
  },
  "language_info": {
   "codemirror_mode": {
    "name": "ipython",
    "version": 3
   },
   "file_extension": ".py",
   "mimetype": "text/x-python",
   "name": "python",
   "nbconvert_exporter": "python",
   "pygments_lexer": "ipython3",
   "version": "3.6.7"
  }
 },
 "nbformat": 4,
 "nbformat_minor": 2
}
