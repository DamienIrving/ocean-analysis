{
 "cells": [
  {
   "cell_type": "code",
   "execution_count": 38,
   "metadata": {},
   "outputs": [],
   "source": [
    "import iris\n",
    "import numpy as np\n",
    "import pandas as pd\n",
    "import seaborn as sns\n",
    "import matplotlib.pyplot as plt"
   ]
  },
  {
   "cell_type": "markdown",
   "metadata": {},
   "source": [
    "\\begin{equation}\n",
    "\\int_{0}^{t} FA \\; dt = \\bar{F} \\int_{0}^{t} A' \\; dt \\; + \\; \\bar{A} \\int_{0}^{t} F' \\; dt \n",
    "\\end{equation}"
   ]
  },
  {
   "cell_type": "code",
   "execution_count": 16,
   "metadata": {},
   "outputs": [],
   "source": [
    "evap_area_file = '/g/data/r87/dbi599/CMIP6/DAMIP/CSIRO/ACCESS-ESM1-5/hist-GHG/r1i1p1f1/Ayr/evspsbl/gn/v20200615/evspsbl-pe-region-sum-anomaly_Ayr_ACCESS-ESM1-5_hist-GHG_r1i1p1f1_gn_185001-202012-cumsum.nc'\n",
    "evap_bar_file = '/g/data/r87/dbi599/CMIP6/CMIP/CSIRO/ACCESS-ESM1-5/piControl/r1i1p1f1/Ayr/evspsbl/gn/v20191214/evspsbl-pe-region-mean_Ayr_ACCESS-ESM1-5_piControl_r1i1p1f1_gn_010101-100012.nc'\n",
    "evap_dashed_file = '/g/data/r87/dbi599/CMIP6/DAMIP/CSIRO/ACCESS-ESM1-5/hist-GHG/r1i1p1f1/Ayr/evspsbl/gn/v20200615/evspsbl-pe-region-mean-anomaly_Ayr_ACCESS-ESM1-5_hist-GHG_r1i1p1f1_gn_185001-202012-cumsum.nc'\n",
    "area_bar_file = '/g/data/r87/dbi599/CMIP6/CMIP/CSIRO/ACCESS-ESM1-5/piControl/r1i1p1f1/Ayr/areacella/gn/v20191214/areacella-pe-region-sum_Ayr_ACCESS-ESM1-5_piControl_r1i1p1f1_gn_010101-100012.nc'\n",
    "area_dashed_file = '/g/data/r87/dbi599/CMIP6/DAMIP/CSIRO/ACCESS-ESM1-5/hist-GHG/r1i1p1f1/Ayr/areacella/gn/v20200615/areacella-pe-region-sum-anomaly_Ayr_ACCESS-ESM1-5_hist-GHG_r1i1p1f1_gn_185001-202012-cumsum.nc'"
   ]
  },
  {
   "cell_type": "code",
   "execution_count": 17,
   "metadata": {},
   "outputs": [],
   "source": [
    "evap_area_cube = iris.load_cube(evap_area_file, 'water_evapotranspiration_flux')\n",
    "evap_bar_cube = iris.load_cube(evap_bar_file, 'water_evapotranspiration_flux')\n",
    "evap_dashed_cube = iris.load_cube(evap_dashed_file, 'water_evapotranspiration_flux')\n",
    "area_bar_cube = iris.load_cube(area_bar_file, 'cell_area')\n",
    "area_dashed_cube = iris.load_cube(area_dashed_file, 'cell_area')"
   ]
  },
  {
   "cell_type": "code",
   "execution_count": 18,
   "metadata": {},
   "outputs": [],
   "source": [
    "def get_time_integral(cube, variable):\n",
    "    \"\"\"Get time integral\"\"\"\n",
    "\n",
    "    start = cube[0, 0:5, -1].data\n",
    "    value = cube[-1, 0:5, -1].data - start\n",
    "    \n",
    "    return value\n",
    "\n",
    "\n",
    "def get_average(cube, variable, ntime):\n",
    "    \"\"\"Get average\"\"\"\n",
    "    \n",
    "    data = cube.data[0:ntime, 0:5, -1]\n",
    "    average = np.mean(data, axis=0)\n",
    "    \n",
    "    return average"
   ]
  },
  {
   "cell_type": "code",
   "execution_count": 19,
   "metadata": {},
   "outputs": [],
   "source": [
    "evap_area_integral = get_time_integral(evap_area_cube, 'water_evapotranspiration_flux')\n",
    "evap_dashed_integral = get_time_integral(evap_dashed_cube, 'water_evapotranspiration_flux')\n",
    "area_dashed_integral = get_time_integral(area_dashed_cube, 'cell_area')"
   ]
  },
  {
   "cell_type": "code",
   "execution_count": 20,
   "metadata": {},
   "outputs": [],
   "source": [
    "evap_bar = get_average(evap_bar_cube, 'water_evapotranspiration_flux', evap_area_cube.shape[0])\n",
    "area_bar = get_average(area_bar_cube, 'cell_area', evap_area_cube.shape[0])"
   ]
  },
  {
   "cell_type": "code",
   "execution_count": 21,
   "metadata": {},
   "outputs": [
    {
     "data": {
      "text/plain": [
       "array([-8.97865292e+16,  4.66662497e+17,  1.17329324e+17,  2.89853212e+17,\n",
       "        6.27760929e+16])"
      ]
     },
     "execution_count": 21,
     "metadata": {},
     "output_type": "execute_result"
    }
   ],
   "source": [
    "evap_area_integral.data"
   ]
  },
  {
   "cell_type": "code",
   "execution_count": 22,
   "metadata": {},
   "outputs": [
    {
     "data": {
      "text/plain": [
       "masked_array(data=[-8.95757164e+16,  4.64583727e+17,  1.19091390e+17,\n",
       "                    2.91554073e+17,  6.29280691e+16],\n",
       "             mask=False,\n",
       "       fill_value=1e+20)"
      ]
     },
     "execution_count": 22,
     "metadata": {},
     "output_type": "execute_result"
    }
   ],
   "source": [
    "(evap_bar * area_dashed_integral) + (area_bar * evap_dashed_integral) "
   ]
  },
  {
   "cell_type": "code",
   "execution_count": 25,
   "metadata": {},
   "outputs": [],
   "source": [
    "area_component = evap_bar * area_dashed_integral\n",
    "intensity_component = area_bar * evap_dashed_integral"
   ]
  },
  {
   "cell_type": "code",
   "execution_count": 32,
   "metadata": {},
   "outputs": [],
   "source": [
    "data = [['total', 'SH precip', evap_area_integral[0]],\n",
    "        ['total', 'SH evap', evap_area_integral[1]],\n",
    "        ['total', 'tropical precip', evap_area_integral[2]],\n",
    "        ['total', 'NH evap', evap_area_integral[3]],\n",
    "        ['total', 'NH precip', evap_area_integral[4]],\n",
    "        ['area', 'SH precip', area_component[0]],\n",
    "        ['area', 'SH evap', area_component[1]],\n",
    "        ['area', 'tropical precip', area_component[2]],\n",
    "        ['area', 'NH evap', area_component[3]],\n",
    "        ['area', 'NH precip', area_component[4]],\n",
    "        ['intensity', 'SH precip', intensity_component[0]],\n",
    "        ['intensity', 'SH evap', intensity_component[1]],\n",
    "        ['intensity', 'tropical precip', intensity_component[2]],\n",
    "        ['intensity', 'NH evap', intensity_component[3]],\n",
    "        ['intensity', 'NH precip', intensity_component[4]],\n",
    "       ]"
   ]
  },
  {
   "cell_type": "code",
   "execution_count": 35,
   "metadata": {},
   "outputs": [],
   "source": [
    "df = pd.DataFrame(data, columns = ['component', 'P-E region', 'time-integrated anomaly (kg)']) "
   ]
  },
  {
   "cell_type": "code",
   "execution_count": 36,
   "metadata": {},
   "outputs": [
    {
     "data": {
      "text/html": [
       "<div>\n",
       "<style scoped>\n",
       "    .dataframe tbody tr th:only-of-type {\n",
       "        vertical-align: middle;\n",
       "    }\n",
       "\n",
       "    .dataframe tbody tr th {\n",
       "        vertical-align: top;\n",
       "    }\n",
       "\n",
       "    .dataframe thead th {\n",
       "        text-align: right;\n",
       "    }\n",
       "</style>\n",
       "<table border=\"1\" class=\"dataframe\">\n",
       "  <thead>\n",
       "    <tr style=\"text-align: right;\">\n",
       "      <th></th>\n",
       "      <th>component</th>\n",
       "      <th>P-E region</th>\n",
       "      <th>time-integrated anomaly (kg)</th>\n",
       "    </tr>\n",
       "  </thead>\n",
       "  <tbody>\n",
       "    <tr>\n",
       "      <th>0</th>\n",
       "      <td>total</td>\n",
       "      <td>SH precip</td>\n",
       "      <td>-8.978653e+16</td>\n",
       "    </tr>\n",
       "    <tr>\n",
       "      <th>1</th>\n",
       "      <td>total</td>\n",
       "      <td>SH evap</td>\n",
       "      <td>4.666625e+17</td>\n",
       "    </tr>\n",
       "    <tr>\n",
       "      <th>2</th>\n",
       "      <td>total</td>\n",
       "      <td>tropical precip</td>\n",
       "      <td>1.173293e+17</td>\n",
       "    </tr>\n",
       "    <tr>\n",
       "      <th>3</th>\n",
       "      <td>total</td>\n",
       "      <td>NH evap</td>\n",
       "      <td>2.898532e+17</td>\n",
       "    </tr>\n",
       "    <tr>\n",
       "      <th>4</th>\n",
       "      <td>total</td>\n",
       "      <td>NH precip</td>\n",
       "      <td>6.277609e+16</td>\n",
       "    </tr>\n",
       "    <tr>\n",
       "      <th>5</th>\n",
       "      <td>area</td>\n",
       "      <td>SH precip</td>\n",
       "      <td>-6.177479e+16</td>\n",
       "    </tr>\n",
       "    <tr>\n",
       "      <th>6</th>\n",
       "      <td>area</td>\n",
       "      <td>SH evap</td>\n",
       "      <td>2.475651e+17</td>\n",
       "    </tr>\n",
       "    <tr>\n",
       "      <th>7</th>\n",
       "      <td>area</td>\n",
       "      <td>tropical precip</td>\n",
       "      <td>-6.613969e+16</td>\n",
       "    </tr>\n",
       "    <tr>\n",
       "      <th>8</th>\n",
       "      <td>area</td>\n",
       "      <td>NH evap</td>\n",
       "      <td>6.413645e+16</td>\n",
       "    </tr>\n",
       "    <tr>\n",
       "      <th>9</th>\n",
       "      <td>area</td>\n",
       "      <td>NH precip</td>\n",
       "      <td>-3.762233e+16</td>\n",
       "    </tr>\n",
       "    <tr>\n",
       "      <th>10</th>\n",
       "      <td>intensity</td>\n",
       "      <td>SH precip</td>\n",
       "      <td>-2.780093e+16</td>\n",
       "    </tr>\n",
       "    <tr>\n",
       "      <th>11</th>\n",
       "      <td>intensity</td>\n",
       "      <td>SH evap</td>\n",
       "      <td>2.170186e+17</td>\n",
       "    </tr>\n",
       "    <tr>\n",
       "      <th>12</th>\n",
       "      <td>intensity</td>\n",
       "      <td>tropical precip</td>\n",
       "      <td>1.852311e+17</td>\n",
       "    </tr>\n",
       "    <tr>\n",
       "      <th>13</th>\n",
       "      <td>intensity</td>\n",
       "      <td>NH evap</td>\n",
       "      <td>2.274176e+17</td>\n",
       "    </tr>\n",
       "    <tr>\n",
       "      <th>14</th>\n",
       "      <td>intensity</td>\n",
       "      <td>NH precip</td>\n",
       "      <td>1.005504e+17</td>\n",
       "    </tr>\n",
       "  </tbody>\n",
       "</table>\n",
       "</div>"
      ],
      "text/plain": [
       "    component       P-E region  time-integrated anomaly (kg)\n",
       "0       total        SH precip                 -8.978653e+16\n",
       "1       total          SH evap                  4.666625e+17\n",
       "2       total  tropical precip                  1.173293e+17\n",
       "3       total          NH evap                  2.898532e+17\n",
       "4       total        NH precip                  6.277609e+16\n",
       "5        area        SH precip                 -6.177479e+16\n",
       "6        area          SH evap                  2.475651e+17\n",
       "7        area  tropical precip                 -6.613969e+16\n",
       "8        area          NH evap                  6.413645e+16\n",
       "9        area        NH precip                 -3.762233e+16\n",
       "10  intensity        SH precip                 -2.780093e+16\n",
       "11  intensity          SH evap                  2.170186e+17\n",
       "12  intensity  tropical precip                  1.852311e+17\n",
       "13  intensity          NH evap                  2.274176e+17\n",
       "14  intensity        NH precip                  1.005504e+17"
      ]
     },
     "execution_count": 36,
     "metadata": {},
     "output_type": "execute_result"
    }
   ],
   "source": [
    "df"
   ]
  },
  {
   "cell_type": "code",
   "execution_count": 48,
   "metadata": {
    "scrolled": true
   },
   "outputs": [
    {
     "data": {
      "text/plain": [
       "<seaborn.axisgrid.FacetGrid at 0x7f5425cfc850>"
      ]
     },
     "execution_count": 48,
     "metadata": {},
     "output_type": "execute_result"
    },
    {
     "data": {
      "image/png": "[encoded data removed]",
      "text/plain": [
       "<Figure size 439.5x360 with 1 Axes>"
      ]
     },
     "metadata": {
      "needs_background": "light"
     },
     "output_type": "display_data"
    }
   ],
   "source": [
    "#plt.figure(figsize=[12, 12])\n",
    "sns.catplot(data=df, kind=\"bar\", x=\"P-E region\", y=\"time-integrated anomaly (kg)\", hue=\"component\")"
   ]
  },
  {
   "cell_type": "code",
   "execution_count": null,
   "metadata": {},
   "outputs": [],
   "source": []
  }
 ],
 "metadata": {
  "kernelspec": {
   "display_name": "Python 3",
   "language": "python",
   "name": "python3"
  },
  "language_info": {
   "codemirror_mode": {
    "name": "ipython",
    "version": 3
   },
   "file_extension": ".py",
   "mimetype": "text/x-python",
   "name": "python",
   "nbconvert_exporter": "python",
   "pygments_lexer": "ipython3",
   "version": "3.7.6"
  }
 },
 "nbformat": 4,
 "nbformat_minor": 4
}
