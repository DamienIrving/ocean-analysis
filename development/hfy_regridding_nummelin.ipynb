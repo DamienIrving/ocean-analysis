{
 "cells": [
  {
   "cell_type": "markdown",
   "metadata": {},
   "source": [
    "## Regirdding meridional ocean heat transport data"
   ]
  },
  {
   "cell_type": "markdown",
   "metadata": {},
   "source": [
    "### Explanation from Alexis Nummelin\n",
    "\n",
    "The idea for this one is that one has to find a connected path of indices around the globe, across which one can then calculate the heat transport. The attached file includes three functions, the first one finds that path, and the two others are for calculating the heat transport. There are two versions of the heat transport calculations: `calc_heat_trasport1` is what I originally wrote with a lot of if clauses and `calc_heat_trasport2` is modification by Stephen Outten from Nansen Center (the same in vector form, so much shorter). If you wish to use sub-basins then masking the input hfx, hfy should work (for my code with `numpy.ma` and with Stephens code with NaNs, I think, see also the note in Stephens code. One has to take care when doing summations with possible nans in the arrays)\n",
    "\n",
    "The main issue with the code is that while it should work with C-grid and cartesian grid, I am not entirely sure how it behaves with other type of grids (I am 100% sure that it works with NorESM but not about the others, although for most models seems to give reasonable output). This is because one has to know which way the grid is oriented to pick up the correct hfx, hfy and to give hfx the correct sign. I've also found that with models using NEMO in the ocean one should do `jinds=jinds-1` and `iinds=iinds-1` after calculating the latitude line. I think this is because they have c-grid with a different rotation from NorESM."
   ]
  },
  {
   "cell_type": "code",
   "execution_count": 8,
   "metadata": {
    "collapsed": true
   },
   "outputs": [],
   "source": [
    "import numpy as np\n",
    "import numpy.ma as ma\n",
    "\n",
    "import iris"
   ]
  },
  {
   "cell_type": "code",
   "execution_count": 3,
   "metadata": {
    "collapsed": true
   },
   "outputs": [],
   "source": [
    "def latitude_line(lat0, lat):\n",
    "    \"\"\" \n",
    "    Define the indices which mark a latitude. \n",
    "    @author: Aleksi Nummelin\n",
    "    \"\"\"\n",
    "    iind=[]\n",
    "    jind=[]\n",
    "    sum=0\n",
    "    i=0 #keeps track of the model i index\n",
    "    i2=0 #keeps track of the length of the jind and iind\n",
    "    i3=0 #helper index for looping backwards\n",
    "    maxy=lat.shape[0]\n",
    "    maxx=lat.shape[1]-1\n",
    "    keep_looping=True\n",
    "    backwards=False\n",
    "    bipolar=False\n",
    "    if len(np.where(np.diff(lat[-1,:])==0)[0])==1:\n",
    "        bipolar=True\n",
    "    while keep_looping:\n",
    "        if not backwards and (lat0<max(lat[:,i]) and lat0>=min(lat[:,i])):\n",
    "            #if the latitude is available append the index, this is the normal situation\n",
    "            ind=np.where(lat0<=lat[:,i])[0][0] #(np.logical_and((lat-l)>=(-.5*dlat), (lat-l)<(.5*dlat)))\n",
    "            jind.append(ind)\n",
    "            iind.append(i)\n",
    "            i=i+1; i2=i2+1; i3=i3+1\n",
    "        elif len(jind)>0 and bipolar: #not (lat0<ma.max(lat[:,i:]) and lat0>=ma.min(lat[:,i:])):\n",
    "            #if the latitude doesn't exist and some indices are already there (situation close to north pole in in bipolar grid)\n",
    "            #Also check that the latitude doesn't exist in the rest of the matrix (which can be the case for the tripolar setup)\n",
    "            #Then loop backwards\n",
    "            if (lat0<max(lat[:,i-1]) and lat0>=min(lat[:,i-1])):\n",
    "                #ind=np.round(np.interp(lat0, lat[jind[i3-1]:,i-1], np.arange(jind[i3-1],maxy)))\n",
    "                ind=np.where(lat0<=lat[:,i-1])[0][-1]\n",
    "                jind.append(ind)\n",
    "                iind.append(i-1)\n",
    "                i2=i2+1; i3=i3-1\n",
    "            else:\n",
    "                keep_looping=False\n",
    "                #fill in the the list if needed\n",
    "                if jind[-1]-jind[0]>1:\n",
    "                    kk=jind[-1]-jind[0]\n",
    "                for k in range(kk):\n",
    "                    jind.append(jind[-1]-1)\n",
    "                    iind.append(iind[-1])\n",
    "            i=i-1;\n",
    "            backwards=True\n",
    "        else:\n",
    "            i=i+1;\n",
    "        if i>maxx or i<0:\n",
    "            keep_looping=False\n",
    "    #\n",
    "    return iind, jind"
   ]
  },
  {
   "cell_type": "code",
   "execution_count": 4,
   "metadata": {
    "collapsed": true
   },
   "outputs": [],
   "source": [
    "def calc_heat_trasport1(iind,jind,xtransport,ytransport):\n",
    "    \"\"\" \n",
    "    calculate the heat transport accross a given line.\n",
    "    calculate first iind and jiind. Note that this will work\n",
    "    in a cartesian grid and on a NorESM type of C grid.\n",
    "    #\n",
    "    author: Aleksi Nummelin    \n",
    "    \"\"\"\n",
    "    #looks already pretty good some things should be still figured out\n",
    "    #First cell\n",
    "    sumtot=ytransport[:,jind[0],iind[0]]\n",
    "    if jind[1]>jind[0]:\n",
    "        #if the next step is up right then add the transport from the cell to the right\n",
    "        sumtot=ma.sum([sumtot,-1*xtransport[:,jj,ii+1]],0)\n",
    "    #Last cell\n",
    "    if iind[-1]==xtransport.shape[-1]-1:\n",
    "        #if normal case with increasing indices\n",
    "        if jind[-1]==jind[0]:\n",
    "            sumtot=ma.sum([sumtot, ytransport[:,jind[-1],iind[-1]]],0)\n",
    "        elif jind[-1]>jind[0]:\n",
    "            sumtot=ma.sum([sumtot, ytransport[:,jind[-1],iind[-1]]+xtransport[:,jind[0],iind[0]]],0)\n",
    "        elif jind[-1]<jind[0]:\n",
    "            sumtot=ma.sum([sumtot, ytransport[:,jind[-1],iind[-1]]-xtransport[:,jind[0],iind[0]]],0)\n",
    "    #if a tripolar grid\n",
    "    elif iind[-1]>iind[-2] and jind[-1]>jind[-2]:\n",
    "        sumtot=ma.sum([sumtot, ytransport[:,jind[-1],iind[-1]]-xtransport[:,jind[-1],iind[-1]]],0)\n",
    "    ##########################\n",
    "    # - LOOP OVER THE REST - #\n",
    "    ##########################\n",
    "    for j in range(1,len(jind)-1):\n",
    "        #note that the last point is the copy of the first in case of bibolar\n",
    "        jj=jind[j]; ii=iind[j]\n",
    "        ##################################\n",
    "        #Straight Line in X\n",
    "        if jind[j-1]==jj and iind[j-1]<ii:\n",
    "            #add the transport from the cell below\n",
    "            sumtot=ma.sum([sumtot, ytransport[:,jj,ii]],0)\n",
    "            if jind[j+1]>jj:\n",
    "                #if the cell is last one in a strike of a cells before a step upwardright\n",
    "                sumtot=ma.sum([sumtot, -1*xtransport[:,jj,ii+1]],0)\n",
    "        ###################################\n",
    "        #Straight backward line in x\n",
    "        elif jind[j-1]==jj and iind[j-1]>ii and jj+1<ytransport.shape[1]:\n",
    "            #add the transport from the cell above\n",
    "            sumtot=ma.sum([sumtot, -1*ytransport[:,jj+1,ii]],0)\n",
    "            if jind[j+1]<jj and iind[j+1]<ii:\n",
    "                #if the cell is last one in a strike of a cells before a step downleft add the positive of xtransport\n",
    "                sumtot=ma.sum([sumtot, xtransport[:,jj,ii-1]],0)\n",
    "        ###################################\n",
    "        #Straight line in y downwards\n",
    "        if jind[j-1]>jj and iind[j-1]==ii:\n",
    "            sumtot=ma.sum([sumtot, xtransport[:,jj,ii]],0)\n",
    "            if iind[j+1]>ii:\n",
    "                #if the cell is last one in a strike of a cells before a step right add the ytransport from below\n",
    "                sumtot=ma.sum([sumtot, ytransport[:,jj,ii]],0)\n",
    "        ###################################\n",
    "        #Straight line in y upwards\n",
    "        if jind[j-1]<jj and iind[j-1]==ii:\n",
    "           sumtot=ma.sum([sumtot, -1*xtransport[:,jj,ii+1]],0)\n",
    "           if iind[j+1]<ii and jj+1<xtransport.shape[-2]:\n",
    "               #if the cell is last one in a strike of a cells before a step left add the ytransport from above\n",
    "               sumtot=ma.sum([sumtot, -1*ytransport[:,jj+1,ii]],0)\n",
    "        ###################################\n",
    "        #Step down-right\n",
    "        elif jind[j-1]>jj and iind[j-1]<ii:\n",
    "            #add transport from the cell to the left\n",
    "            sumtot=ma.sum([sumtot,xtransport[:,jj,ii]],0)\n",
    "            if iind[j+1]!=ii:\n",
    "                #and if the next move is away from this point ie the next cell is not the cell below\n",
    "                #then add also the transport from below\n",
    "                sumtot=ma.sum([sumtot,ytransport[:,jj,ii]],0)\n",
    "        ####################################\n",
    "        #Step upright\n",
    "        elif jind[j-1]<jj and iind[j-1]<ii:\n",
    "            #Add the ytransport from cell below\n",
    "            sumtot=ma.sum([sumtot,ytransport[:,jj,ii]],0)\n",
    "            if jind[j+1]!=jj:\n",
    "                #and if the next step is not next to it then negative of the x transport from the cell to the right\n",
    "                sumtot=ma.sum([sumtot,-1*xtransport[:,jj,ii+1]],0)\n",
    "                if iind[j+1]<ii:\n",
    "                #if the next step is step up-left (ie you're in the turning point to backward stepping)\n",
    "                    sumtot=ma.sum([sumtot,-1*ytransport[:,jj+1,ii]],0)\n",
    "        #####################################\n",
    "        #Step up-left (backwards up)\n",
    "        elif jind[j-1]<jj and iind[j-1]>ii:\n",
    "            #add x transport from the cell to the right\n",
    "            sumtot=ma.sum([sumtot,-1*xtransport[:,jj,ii+1]],0)\n",
    "            if iind[j+1]<ii and jj+1<ytransport.shape[1]:\n",
    "            #if the next step is not directly above add the transport from the cell above\n",
    "                sumtot=ma.sum([sumtot,-1*ytransport[:,jj+1,ii]],0)\n",
    "                if jind[j+1]<jj:\n",
    "                #and if the next step is down left then add transport from the cell to the left\n",
    "                    sumtot=ma.sum([sumtot,xtransport[:,jj,ii]],0)\n",
    "        ######################################\n",
    "        #Step down-left (backwards down)\n",
    "        elif jind[j-1]>jj and iind[j-1]>ii:\n",
    "            #add y transport from above\n",
    "            sumtot=ma.sum([sumtot,-1*ytransport[:,jj+1,ii]],0)\n",
    "            if jind[j+1]<jj:\n",
    "                #and if the next cell is not the cell to the left add x transport from the cell to the left\n",
    "                sumtot=ma.sum([sumtot,xtransport[:,jj,ii]],0)\n",
    "    #\n",
    "    return sumtot"
   ]
  },
  {
   "cell_type": "code",
   "execution_count": 6,
   "metadata": {
    "collapsed": false
   },
   "outputs": [],
   "source": [
    "def calc_heat_transport2(lon,lat,hfx,hfy):\n",
    "    \"\"\"\n",
    "    Code is a snippet of the working code to calculate heat transport in NorESM.\n",
    "    It requires hfy and hfx and the latitudes (hfy, hfx are timeseries of 2D fields). \n",
    "    #\n",
    "    Created on Fri Sep  9 09:26:08 2016\n",
    "    #\n",
    "    @author: Stephen Outten\n",
    "    \"\"\"\n",
    "    #\n",
    "    dlat = 1 #this can be anything, but should probably be model resolution or coarser\n",
    "    lati = np.arange(-90,90+dlat,dlat)\n",
    "    htro = np.zeros((hfy.shape[0], len(lati)))\n",
    "    iinds=[]; jinds=[]\n",
    "    countind = []\n",
    "    for j,lat0 in enumerate(lati):\n",
    "        iind,jind = latitude_line(lat0, plat)\n",
    "        iinds.append(iind)\n",
    "        jinds.append(jind)\n",
    "        countind.append(len(iind))\n",
    "        if len(iind)>0:\n",
    "        # hfx comes from next cell thus 2 hfxs needed, one shifted by a cell for -1 values\n",
    "            iind = np.array(iind);  jind = np.array(jind)    # Arrays are so much more useful\n",
    "            jdiff = np.ones(len(jind)) * np.nan      # ***** HTRO with compelte line\n",
    "            jdiff[0:-1] = jind[1:] - jind[0:-1]     #  ***** All these lines\n",
    "            jdiff[-1] = jind[0] - jind[-1]\n",
    "            hfx_line = hfx[:,jind,iind]\n",
    "            hfx_shift = np.zeros(hfx_line.shape)\n",
    "            hfx_shift[:,0:-1] = hfx[:,jind[0:-1],iind[0:-1]+1]  # create a shifted line with same jind but +1 iind\n",
    "            hfx_shift[:,-1] = hfx[:,jind[-1],iind[0]]        # last value is jind of last box but iind of first box\n",
    "            hfxflag1 = np.zeros(len(jdiff))\n",
    "            hfxflag2 = np.zeros(len(jdiff))\n",
    "            hfxflag1_array = np.where(jdiff<0)[0]+1   # account for last element being different and change the first element instead\n",
    "            hfxflag1_array[np.where(hfxflag1_array==len(hfxflag1))] = 0\n",
    "            hfxflag1[hfxflag1_array] = 1\n",
    "            hfxflag2[np.where(jdiff>0)[0]] = -1\n",
    "            hfyflag = np.ones(len(jind))\n",
    "            #comment by Aleksi: I think you might want to modify the line below so that all the additons are done with nansum\n",
    "            #this is because np.nan+number gives np.nan which is not desired\n",
    "            total_lat = np.nansum(hfyflag*hfy[:,jind,iind] + hfxflag1*hfx_line + hfxflag2*hfx_shift,1)\n",
    "            #so this might be more correct\n",
    "            #total_lat = np.nansum(np.nansum([hfyflag*hfy[:,jind,iind], hfxflag1*hfx_line, hfxflag2*hfx_shift],0),1)\n",
    "            htro[:,j] = total_lat      \n",
    "        else:\n",
    "            htro[:,j] = 0\n",
    "    return htro"
   ]
  },
  {
   "cell_type": "code",
   "execution_count": 7,
   "metadata": {
    "collapsed": true
   },
   "outputs": [],
   "source": [
    "hfx_file = '/g/data/ua6/DRSv2_legacy/CMIP5/NorESM1-M/historical/mon/ocean/r1i1p1/hfx/latest/hfx_Omon_NorESM1-M_historical_r1i1p1_185001-200512.nc'\n",
    "hfy_file = '/g/data/ua6/DRSv2_legacy/CMIP5/NorESM1-M/historical/mon/ocean/r1i1p1/hfy/latest/hfy_Omon_NorESM1-M_historical_r1i1p1_185001-200512.nc'"
   ]
  },
  {
   "cell_type": "code",
   "execution_count": 9,
   "metadata": {
    "collapsed": false
   },
   "outputs": [
    {
     "name": "stderr",
     "output_type": "stream",
     "text": [
      "/g/data/r87/dbi599/miniconda3/envs/ocean/lib/python3.6/site-packages/iris/fileformats/cf.py:1143: IrisDeprecation: NetCDF default loading behaviour currently does not expose variables which define reference surfaces for dimensionless vertical coordinates as independent Cubes. This behaviour is deprecated in favour of automatic promotion to Cubes. To switch to the new behaviour, set iris.FUTURE.netcdf_promote to True.\n",
      "  warn_deprecated(msg)\n",
      "/g/data/r87/dbi599/miniconda3/envs/ocean/lib/python3.6/site-packages/iris/fileformats/cf.py:1143: IrisDeprecation: NetCDF default loading behaviour currently does not expose variables which define reference surfaces for dimensionless vertical coordinates as independent Cubes. This behaviour is deprecated in favour of automatic promotion to Cubes. To switch to the new behaviour, set iris.FUTURE.netcdf_promote to True.\n",
      "  warn_deprecated(msg)\n"
     ]
    }
   ],
   "source": [
    "hfx_cube = iris.load_cube(hfx_file, 'ocean_heat_x_transport')\n",
    "hfy_cube = iris.load_cube(hfy_file, 'ocean_heat_y_transport')"
   ]
  },
  {
   "cell_type": "code",
   "execution_count": 10,
   "metadata": {
    "collapsed": false
   },
   "outputs": [
    {
     "name": "stdout",
     "output_type": "stream",
     "text": [
      "ocean_heat_x_transport                     (time: 1872; cell index along second dimension: 384; cell index along first dimension: 320)\n",
      "     Dimension coordinates:\n",
      "          time                                  x                                        -                                      -\n",
      "          cell index along second dimension     -                                        x                                      -\n",
      "          cell index along first dimension      -                                        -                                      x\n",
      "     Auxiliary coordinates:\n",
      "          latitude                              -                                        x                                      x\n",
      "          longitude                             -                                        x                                      x\n",
      "     Attributes:\n",
      "          Conventions: CF-1.4\n",
      "          associated_files: baseURL: http://cmip-pcmdi.llnl.gov/CMIP5/dataLocation gridspecFile: g...\n",
      "          branch_time: 255135.0\n",
      "          cmor_version: 2.5.9\n",
      "          contact: Please send any requests or bug reports to noresm-ncc@met.no.\n",
      "          creation_date: 2011-05-18T14:55:34Z\n",
      "          experiment: historical\n",
      "          experiment_id: historical\n",
      "          forcing: GHG, SA, Oz, Sl, Vl, BC, OC\n",
      "          frequency: mon\n",
      "          history: 2011-05-18T14:55:33Z altered by CMOR: replaced missing value flag (1e+20)...\n",
      "          initialization_method: 1\n",
      "          institute_id: NCC\n",
      "          institution: Norwegian Climate Centre\n",
      "          model_id: NorESM1-M\n",
      "          modeling_realm: ocean\n",
      "          original_name: uhflx\n",
      "          parent_experiment: pre-industrial control\n",
      "          parent_experiment_id: piControl\n",
      "          parent_experiment_rip: r1i1p1\n",
      "          physics_version: 1\n",
      "          product: output\n",
      "          project_id: CMIP5\n",
      "          realization: 1\n",
      "          source: NorESM1-M 2011  atmosphere: CAM-Oslo (CAM4-Oslo-noresm-ver1_cmip5-r112,...\n",
      "          table_id: Table Omon (27 April 2011) 340eddd4fd838d90fa9ffe1345ecbd73\n",
      "          title: NorESM1-M model output prepared for CMIP5 historical\n",
      "          tracking_id: d3e5f8a5-3c2d-4d62-ae3b-eab6c39ef3a1\n",
      "     Cell methods:\n",
      "          mean: time\n"
     ]
    }
   ],
   "source": [
    "print(hfx_cube)"
   ]
  },
  {
   "cell_type": "code",
   "execution_count": 11,
   "metadata": {
    "collapsed": false
   },
   "outputs": [
    {
     "data": {
      "text/plain": [
       "array([[ 320.5625    ,  321.6875    ,  322.8125    , ...,  317.1875    ,\n",
       "         318.3125    ,  319.4375    ],\n",
       "       [ 320.5625    ,  321.6875    ,  322.8125    , ...,  317.1875    ,\n",
       "         318.3125    ,  319.4375    ],\n",
       "       [ 320.5625    ,  321.6875    ,  322.8125    , ...,  317.1875    ,\n",
       "         318.3125    ,  319.4375    ],\n",
       "       ..., \n",
       "       [ 320.25930786,  320.77767944,  321.29559326, ...,  318.70440674,\n",
       "         319.22232056,  319.74072266],\n",
       "       [ 320.24319458,  320.72937012,  321.21502686, ...,  318.78500366,\n",
       "         319.2706604 ,  319.75683594],\n",
       "       [ 320.22579956,  320.67721558,  321.12808228, ...,  318.87191772,\n",
       "         319.32281494,  319.77423096]], dtype=float32)"
      ]
     },
     "execution_count": 11,
     "metadata": {},
     "output_type": "execute_result"
    }
   ],
   "source": [
    "hfy_cube.coord('longitude').points"
   ]
  },
  {
   "cell_type": "code",
   "execution_count": 12,
   "metadata": {
    "collapsed": false
   },
   "outputs": [
    {
     "data": {
      "text/plain": [
       "array([[ 320.        ,  321.125     ,  322.25      , ...,  316.625     ,\n",
       "         317.75      ,  318.875     ],\n",
       "       [ 320.        ,  321.125     ,  322.25      , ...,  316.625     ,\n",
       "         317.75      ,  318.875     ],\n",
       "       [ 320.        ,  321.125     ,  322.25      , ...,  316.625     ,\n",
       "         317.75      ,  318.875     ],\n",
       "       ..., \n",
       "       [ 320.        ,  320.50268555,  321.00500488, ...,  318.49334717,\n",
       "         318.99502563,  319.49734497],\n",
       "       [ 320.        ,  320.46920776,  320.93804932, ...,  318.59381104,\n",
       "         319.0619812 ,  319.53082275],\n",
       "       [ 320.        ,  320.43301392,  320.86569214, ...,  318.70233154,\n",
       "         319.13430786,  319.56698608]], dtype=float32)"
      ]
     },
     "execution_count": 12,
     "metadata": {},
     "output_type": "execute_result"
    }
   ],
   "source": [
    "hfx_cube.coord('longitude').points"
   ]
  },
  {
   "cell_type": "code",
   "execution_count": null,
   "metadata": {
    "collapsed": true
   },
   "outputs": [],
   "source": []
  }
 ],
 "metadata": {
  "kernelspec": {
   "display_name": "Python 3",
   "language": "python",
   "name": "python3"
  },
  "language_info": {
   "codemirror_mode": {
    "name": "ipython",
    "version": 3
   },
   "file_extension": ".py",
   "mimetype": "text/x-python",
   "name": "python",
   "nbconvert_exporter": "python",
   "pygments_lexer": "ipython3",
   "version": "3.6.0"
  }
 },
 "nbformat": 4,
 "nbformat_minor": 2
}
