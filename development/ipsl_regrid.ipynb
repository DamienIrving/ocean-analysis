{
 "cells": [
  {
   "cell_type": "code",
   "execution_count": 18,
   "metadata": {},
   "outputs": [],
   "source": [
    "import warnings\n",
    "warnings.filterwarnings('ignore')\n",
    "\n",
    "import numpy\n",
    "import iris\n",
    "import iris.plot as iplt\n",
    "from iris.experimental.regrid import regrid_weighted_curvilinear_to_rectilinear\n",
    "\n",
    "import matplotlib.pyplot as plt"
   ]
  },
  {
   "cell_type": "code",
   "execution_count": 1,
   "metadata": {},
   "outputs": [
    {
     "name": "stderr",
     "output_type": "stream",
     "text": [
      "/g/data/r87/dbi599/miniconda3/envs/ocean/lib/python3.6/importlib/_bootstrap.py:219: RuntimeWarning: numpy.dtype size changed, may indicate binary incompatibility. Expected 96, got 88\n",
      "  return f(*args, **kwds)\n",
      "/g/data/r87/dbi599/miniconda3/envs/ocean/lib/python3.6/importlib/_bootstrap.py:219: RuntimeWarning: numpy.dtype size changed, may indicate binary incompatibility. Expected 96, got 88\n",
      "  return f(*args, **kwds)\n"
     ]
    }
   ],
   "source": [
    "import sys, os\n",
    "\n",
    "cwd = os.getcwd()\n",
    "repo_dir = '/'\n",
    "for directory in cwd.split('/')[1:]:\n",
    "    repo_dir = os.path.join(repo_dir, directory)\n",
    "    if directory == 'ocean-analysis':\n",
    "        break\n",
    "\n",
    "modules_dir = os.path.join(repo_dir, 'modules')\n",
    "sys.path.append(modules_dir)\n",
    "\n",
    "import grids"
   ]
  },
  {
   "cell_type": "code",
   "execution_count": 14,
   "metadata": {},
   "outputs": [],
   "source": [
    "%matplotlib inline"
   ]
  },
  {
   "cell_type": "code",
   "execution_count": 23,
   "metadata": {},
   "outputs": [],
   "source": [
    "orig_ipsl_file = '/g/data/ua6/DRSv3/CMIP5/IPSL-CM5A-LR/historicalGHG/mon/ocean/r1i1p1/thetao/latest/thetao_Omon_IPSL-CM5A-LR_historicalGHG_r1i1p1_195001-199912.nc'\n",
    "orig_noresm_file = '/g/data/ua6/DRSv3/CMIP5/NorESM1-M/historicalGHG/mon/ocean/r1i1p1/thetao/latest/thetao_Omon_NorESM1-M_historicalGHG_r1i1p1_185001-185312.nc'"
   ]
  },
  {
   "cell_type": "code",
   "execution_count": 25,
   "metadata": {},
   "outputs": [
    {
     "name": "stdout",
     "output_type": "stream",
     "text": [
      "sea_water_potential_temperature / (K) (cell index along second dimension: 149; cell index along first dimension: 182)\n",
      "     Dimension coordinates:\n",
      "          cell index along second dimension                             x                                      -\n",
      "          cell index along first dimension                              -                                      x\n",
      "     Auxiliary coordinates:\n",
      "          latitude                                                      x                                      x\n",
      "          longitude                                                     x                                      x\n",
      "     Scalar coordinates:\n",
      "          depth: 4.999938011169434 m, bound=(0.0, 10.000015258789062) m\n",
      "          time: 1950-01-16 12:00:00, bound=(1950-01-01 00:00:00, 1950-02-01 00:00:00)\n",
      "     Attributes:\n",
      "          Conventions: CF-1.4\n",
      "          associated_files: baseURL: http://cmip-pcmdi.llnl.gov/CMIP5/dataLocation gridspecFile: gridspec_ocean_fx_IPSL-CM5A-LR_historicalGHG_r0i0p0.nc...\n",
      "          branch_time: 1850.0\n",
      "          cmor_version: 2.7.1\n",
      "          comment: This 20th century simulation include GHG forcings only.\n",
      "          contact: ipsl-cmip5 _at_ ipsl.jussieu.fr Data manager : Sebastien Denvil\n",
      "          creation_date: 2012-05-17T23:28:38Z\n",
      "          experiment: GHG-only\n",
      "          experiment_id: historicalGHG\n",
      "          forcing: GHG\n",
      "          frequency: mon\n",
      "          history: 2012-05-17T23:28:22Z altered by CMOR: Converted units from 'degC' to 'K'....\n",
      "          initialization_method: 1\n",
      "          institute_id: IPSL\n",
      "          institution: IPSL (Institut Pierre Simon Laplace, Paris, France)\n",
      "          model_id: IPSL-CM5A-LR\n",
      "          modeling_realm: ocean\n",
      "          original_name: votemper\n",
      "          original_units: degC\n",
      "          parent_experiment: pre-industrial control\n",
      "          parent_experiment_id: piControl\n",
      "          parent_experiment_rip: r1i1p1\n",
      "          physics_version: 1\n",
      "          product: output\n",
      "          project_id: CMIP5\n",
      "          realization: 1\n",
      "          references: Model documentation and further reference available here : http://icmc...\n",
      "          source: IPSL-CM5A-LR (2010) : atmos : LMDZ4 (LMDZ4_v5, 96x95x39); ocean : ORCA2...\n",
      "          table_id: Table Omon (31 January 2011) d2d6beec2b8fea5bbed33920a6e08bbe\n",
      "          title: IPSL-CM5A-LR model output prepared for CMIP5 GHG-only\n",
      "          tracking_id: f24e16dd-ab61-4f29-bf7c-ed186ad0109c\n",
      "     Cell methods:\n",
      "          mean: time (30 minutes)\n"
     ]
    }
   ],
   "source": [
    "orig_ipsl_cube = iris.load_cube(orig_ipsl_file)[0, 0 , ::]\n",
    "print(orig_ipsl_cube)"
   ]
  },
  {
   "cell_type": "code",
   "execution_count": 26,
   "metadata": {},
   "outputs": [
    {
     "name": "stdout",
     "output_type": "stream",
     "text": [
      "sea_water_potential_temperature / (K) (cell index along second dimension: 384; cell index along first dimension: 320)\n",
      "     Dimension coordinates:\n",
      "          cell index along second dimension                             x                                      -\n",
      "          cell index along first dimension                              -                                      x\n",
      "     Auxiliary coordinates:\n",
      "          latitude                                                      x                                      x\n",
      "          longitude                                                     x                                      x\n",
      "     Scalar coordinates:\n",
      "          depth: 0.0 m, bound=(0.0, 2.5) m\n",
      "          time: 1850-01-16 12:00:00, bound=(1850-01-01 00:00:00, 1850-02-01 00:00:00)\n",
      "     Attributes:\n",
      "          Conventions: CF-1.4\n",
      "          associated_files: baseURL: http://cmip-pcmdi.llnl.gov/CMIP5/dataLocation gridspecFile: gridspec_ocean_fx_NorESM1-M_historicalGHG_r0i0p0.nc...\n",
      "          branch_time: 255135.0\n",
      "          cmor_version: 2.6.0\n",
      "          contact: Please send any requests or bug reports to noresm-ncc@met.no.\n",
      "          creation_date: 2011-06-12T16:27:58Z\n",
      "          experiment: GHG-only\n",
      "          experiment_id: historicalGHG\n",
      "          forcing: GHG,Oz\n",
      "          frequency: mon\n",
      "          history: 2011-06-12T16:27:57Z altered by CMOR: Converted units from 'degC' to 'K'....\n",
      "          initialization_method: 1\n",
      "          institute_id: NCC\n",
      "          institution: Norwegian Climate Centre\n",
      "          model_id: NorESM1-M\n",
      "          modeling_realm: ocean\n",
      "          original_name: templvl\n",
      "          original_units: degC\n",
      "          parent_experiment: pre-industrial control\n",
      "          parent_experiment_id: piControl\n",
      "          parent_experiment_rip: r1i1p1\n",
      "          physics_version: 1\n",
      "          product: output\n",
      "          project_id: CMIP5\n",
      "          realization: 1\n",
      "          source: NorESM1-M 2011  atmosphere: CAM-Oslo (CAM4-Oslo-noresm-ver1_cmip5-r112,...\n",
      "          table_id: Table Omon (27 April 2011) 340eddd4fd838d90fa9ffe1345ecbd73\n",
      "          title: NorESM1-M model output prepared for CMIP5 GHG-only\n",
      "          tracking_id: b2955125-1a09-4f86-a807-e47ec386dfbb\n",
      "     Cell methods:\n",
      "          mean: time\n"
     ]
    }
   ],
   "source": [
    "orig_noresm_cube = iris.load_cube(orig_noresm_file)[0, 0 , ::]\n",
    "print(orig_noresm_cube)"
   ]
  },
  {
   "cell_type": "code",
   "execution_count": 27,
   "metadata": {},
   "outputs": [],
   "source": [
    "def get_dim_vals(user_input, bounds=False):\n",
    "    \"\"\"Get the list of values for a data dimension/axis.\n",
    "    Args:\n",
    "      bounds (bool): input represents the bounds, not centre points\n",
    "    \"\"\"\n",
    "\n",
    "    vals = user_input\n",
    "    if user_input:\n",
    "        if len(user_input) == 3:\n",
    "            start, stop, step = user_input\n",
    "            vals = list(numpy.arange(start, stop + step, step))\n",
    "        if bounds:\n",
    "            vals = numpy.array(vals)\n",
    "            vals = (vals[1:] + vals[:-1]) / 2\n",
    "    \n",
    "    return list(vals)"
   ]
  },
  {
   "cell_type": "code",
   "execution_count": 28,
   "metadata": {},
   "outputs": [],
   "source": [
    "lats = get_dim_vals([-80, 80, 1.0]) \n",
    "lons = get_dim_vals([2, 360, 2])\n",
    "horizontal_grid = grids.make_grid(lats, lons)"
   ]
  },
  {
   "cell_type": "code",
   "execution_count": 29,
   "metadata": {},
   "outputs": [
    {
     "data": {
      "text/plain": [
       "<matplotlib.contour.QuadContourSet at 0x7f7d095eb978>"
      ]
     },
     "execution_count": 29,
     "metadata": {},
     "output_type": "execute_result"
    },
    {
     "data": {
      "image/png": "[encoded data removed]",
      "text/plain": [
       "<Figure size 432x288 with 1 Axes>"
      ]
     },
     "metadata": {
      "needs_background": "light"
     },
     "output_type": "display_data"
    }
   ],
   "source": [
    "new_noresm_cube, coord_names, regrid_status = grids.curvilinear_to_rectilinear(orig_noresm_cube, target_grid_cube=horizontal_grid)\n",
    "iplt.contourf(new_noresm_cube)"
   ]
  },
  {
   "cell_type": "code",
   "execution_count": 32,
   "metadata": {},
   "outputs": [
    {
     "data": {
      "text/html": [
       "\n",
       "<style>\n",
       "  a.iris {\n",
       "      text-decoration: none !important;\n",
       "  }\n",
       "  table.iris {\n",
       "      white-space: pre;\n",
       "      border: 1px solid;\n",
       "      border-color: #9c9c9c;\n",
       "      font-family: monaco, monospace;\n",
       "  }\n",
       "  th.iris {\n",
       "      background: #303f3f;\n",
       "      color: #e0e0e0;\n",
       "      border-left: 1px solid;\n",
       "      border-color: #9c9c9c;\n",
       "      font-size: 1.05em;\n",
       "      min-width: 50px;\n",
       "      max-width: 125px;\n",
       "  }\n",
       "  tr.iris :first-child {\n",
       "      border-right: 1px solid #9c9c9c !important;\n",
       "  }\n",
       "  td.iris-title {\n",
       "      background: #d5dcdf;\n",
       "      border-top: 1px solid #9c9c9c;\n",
       "      font-weight: bold;\n",
       "  }\n",
       "  .iris-word-cell {\n",
       "      text-align: left !important;\n",
       "      white-space: pre;\n",
       "  }\n",
       "  .iris-subheading-cell {\n",
       "      padding-left: 2em !important;\n",
       "  }\n",
       "  .iris-inclusion-cell {\n",
       "      padding-right: 1em !important;\n",
       "  }\n",
       "  .iris-panel-body {\n",
       "      padding-top: 0px;\n",
       "  }\n",
       "  .iris-panel-title {\n",
       "      padding-left: 3em;\n",
       "  }\n",
       "  .iris-panel-title {\n",
       "      margin-top: 7px;\n",
       "  }\n",
       "</style>\n",
       "<table class=\"iris\" id=\"140175003949544\">\n",
       "    <tr class=\"iris\">\n",
       "<th class=\"iris iris-word-cell\">Cell Area (m2)</th>\n",
       "<th class=\"iris iris-word-cell\">cell index along second dimension</th>\n",
       "<th class=\"iris iris-word-cell\">cell index along first dimension</th>\n",
       "</tr>\n",
       "    <tr class=\"iris\">\n",
       "<td class=\"iris-word-cell iris-subheading-cell\">Shape</td>\n",
       "<td class=\"iris iris-inclusion-cell\">149</td>\n",
       "<td class=\"iris iris-inclusion-cell\">182</td>\n",
       "</td>\n",
       "    <tr class=\"iris\">\n",
       "    <td class=\"iris-title iris-word-cell\">Dimension coordinates</td>\n",
       "    <td class=\"iris-title\"></td>\n",
       "    <td class=\"iris-title\"></td>\n",
       "</tr>\n",
       "<tr class=\"iris\">\n",
       "    <td class=\"iris-word-cell iris-subheading-cell\">\tcell</td>\n",
       "    <td class=\"iris-inclusion-cell\">index</td>\n",
       "    <td class=\"iris-inclusion-cell\">along</td>\n",
       "    <td class=\"iris-inclusion-cell\">second</td>\n",
       "    <td class=\"iris-inclusion-cell\">dimension</td>\n",
       "    <td class=\"iris-inclusion-cell\">x</td>\n",
       "    <td class=\"iris-inclusion-cell\">-</td>\n",
       "</tr>\n",
       "<tr class=\"iris\">\n",
       "    <td class=\"iris-word-cell iris-subheading-cell\">\tcell</td>\n",
       "    <td class=\"iris-inclusion-cell\">index</td>\n",
       "    <td class=\"iris-inclusion-cell\">along</td>\n",
       "    <td class=\"iris-inclusion-cell\">first</td>\n",
       "    <td class=\"iris-inclusion-cell\">dimension</td>\n",
       "    <td class=\"iris-inclusion-cell\">-</td>\n",
       "    <td class=\"iris-inclusion-cell\">x</td>\n",
       "</tr>\n",
       "<tr class=\"iris\">\n",
       "    <td class=\"iris-title iris-word-cell\">Auxiliary coordinates</td>\n",
       "    <td class=\"iris-title\"></td>\n",
       "    <td class=\"iris-title\"></td>\n",
       "</tr>\n",
       "<tr class=\"iris\">\n",
       "    <td class=\"iris-word-cell iris-subheading-cell\">\tlatitude</td>\n",
       "    <td class=\"iris-inclusion-cell\">x</td>\n",
       "    <td class=\"iris-inclusion-cell\">x</td>\n",
       "</tr>\n",
       "<tr class=\"iris\">\n",
       "    <td class=\"iris-word-cell iris-subheading-cell\">\tlongitude</td>\n",
       "    <td class=\"iris-inclusion-cell\">x</td>\n",
       "    <td class=\"iris-inclusion-cell\">x</td>\n",
       "</tr>\n",
       "<tr class=\"iris\">\n",
       "    <td class=\"iris-title iris-word-cell\">Attributes</td>\n",
       "    <td class=\"iris-title\"></td>\n",
       "    <td class=\"iris-title\"></td>\n",
       "</tr>\n",
       "<tr class=\"iris\">\n",
       "    <td class=\"iris-word-cell iris-subheading-cell\">\tConventions</td>\n",
       "    <td class=\"iris-word-cell\" colspan=\"2\">CF-1.4</td>\n",
       "</tr>\n",
       "<tr class=\"iris\">\n",
       "    <td class=\"iris-word-cell iris-subheading-cell\">\tassociated_files</td>\n",
       "    <td class=\"iris-word-cell\" colspan=\"2\">baseURL: http://cmip-pcmdi.llnl.gov/CMIP5/dataLocation gridspecFile: g...</td>\n",
       "</tr>\n",
       "<tr class=\"iris\">\n",
       "    <td class=\"iris-word-cell iris-subheading-cell\">\tbranch_time</td>\n",
       "    <td class=\"iris-word-cell\" colspan=\"2\">2000.0</td>\n",
       "</tr>\n",
       "<tr class=\"iris\">\n",
       "    <td class=\"iris-word-cell iris-subheading-cell\">\tcmor_version</td>\n",
       "    <td class=\"iris-word-cell\" colspan=\"2\">2.7.1</td>\n",
       "</tr>\n",
       "<tr class=\"iris\">\n",
       "    <td class=\"iris-word-cell iris-subheading-cell\">\tcomment</td>\n",
       "    <td class=\"iris-word-cell\" colspan=\"2\">This 20th century simulation include natural and anthropogenic forcing...</td>\n",
       "</tr>\n",
       "<tr class=\"iris\">\n",
       "    <td class=\"iris-word-cell iris-subheading-cell\">\tcontact</td>\n",
       "    <td class=\"iris-word-cell\" colspan=\"2\">ipsl-cmip5 _at_ ipsl.jussieu.fr Data manager : Sebastien Denvil</td>\n",
       "</tr>\n",
       "<tr class=\"iris\">\n",
       "    <td class=\"iris-word-cell iris-subheading-cell\">\tcreation_date</td>\n",
       "    <td class=\"iris-word-cell\" colspan=\"2\">2011-10-30T19:10:58Z</td>\n",
       "</tr>\n",
       "<tr class=\"iris\">\n",
       "    <td class=\"iris-word-cell iris-subheading-cell\">\texperiment</td>\n",
       "    <td class=\"iris-word-cell\" colspan=\"2\">historical</td>\n",
       "</tr>\n",
       "<tr class=\"iris\">\n",
       "    <td class=\"iris-word-cell iris-subheading-cell\">\texperiment_id</td>\n",
       "    <td class=\"iris-word-cell\" colspan=\"2\">historical</td>\n",
       "</tr>\n",
       "<tr class=\"iris\">\n",
       "    <td class=\"iris-word-cell iris-subheading-cell\">\tforcing</td>\n",
       "    <td class=\"iris-word-cell\" colspan=\"2\">Nat,Ant,GHG,SA,Oz,LU,SS,Ds,BC,MD,OC,AA</td>\n",
       "</tr>\n",
       "<tr class=\"iris\">\n",
       "    <td class=\"iris-word-cell iris-subheading-cell\">\tfrequency</td>\n",
       "    <td class=\"iris-word-cell\" colspan=\"2\">fx</td>\n",
       "</tr>\n",
       "<tr class=\"iris\">\n",
       "    <td class=\"iris-word-cell iris-subheading-cell\">\thistory</td>\n",
       "    <td class=\"iris-word-cell\" colspan=\"2\">2011-10-30T19:10:58Z altered by CMOR: replaced missing value flag (-1e+34)...</td>\n",
       "</tr>\n",
       "<tr class=\"iris\">\n",
       "    <td class=\"iris-word-cell iris-subheading-cell\">\tinitialization_method</td>\n",
       "    <td class=\"iris-word-cell\" colspan=\"2\">0</td>\n",
       "</tr>\n",
       "<tr class=\"iris\">\n",
       "    <td class=\"iris-word-cell iris-subheading-cell\">\tinstitute_id</td>\n",
       "    <td class=\"iris-word-cell\" colspan=\"2\">IPSL</td>\n",
       "</tr>\n",
       "<tr class=\"iris\">\n",
       "    <td class=\"iris-word-cell iris-subheading-cell\">\tinstitution</td>\n",
       "    <td class=\"iris-word-cell\" colspan=\"2\">IPSL (Institut Pierre Simon Laplace, Paris, France)</td>\n",
       "</tr>\n",
       "<tr class=\"iris\">\n",
       "    <td class=\"iris-word-cell iris-subheading-cell\">\tmodel_id</td>\n",
       "    <td class=\"iris-word-cell\" colspan=\"2\">IPSL-CM5A-LR</td>\n",
       "</tr>\n",
       "<tr class=\"iris\">\n",
       "    <td class=\"iris-word-cell iris-subheading-cell\">\tmodeling_realm</td>\n",
       "    <td class=\"iris-word-cell\" colspan=\"2\">ocean</td>\n",
       "</tr>\n",
       "<tr class=\"iris\">\n",
       "    <td class=\"iris-word-cell iris-subheading-cell\">\toriginal_name</td>\n",
       "    <td class=\"iris-word-cell\" colspan=\"2\">AREA</td>\n",
       "</tr>\n",
       "<tr class=\"iris\">\n",
       "    <td class=\"iris-word-cell iris-subheading-cell\">\tparent_experiment</td>\n",
       "    <td class=\"iris-word-cell\" colspan=\"2\">pre-industrial control</td>\n",
       "</tr>\n",
       "<tr class=\"iris\">\n",
       "    <td class=\"iris-word-cell iris-subheading-cell\">\tparent_experiment_id</td>\n",
       "    <td class=\"iris-word-cell\" colspan=\"2\">piControl</td>\n",
       "</tr>\n",
       "<tr class=\"iris\">\n",
       "    <td class=\"iris-word-cell iris-subheading-cell\">\tparent_experiment_rip</td>\n",
       "    <td class=\"iris-word-cell\" colspan=\"2\">r1i1p1</td>\n",
       "</tr>\n",
       "<tr class=\"iris\">\n",
       "    <td class=\"iris-word-cell iris-subheading-cell\">\tphysics_version</td>\n",
       "    <td class=\"iris-word-cell\" colspan=\"2\">0</td>\n",
       "</tr>\n",
       "<tr class=\"iris\">\n",
       "    <td class=\"iris-word-cell iris-subheading-cell\">\tproduct</td>\n",
       "    <td class=\"iris-word-cell\" colspan=\"2\">output</td>\n",
       "</tr>\n",
       "<tr class=\"iris\">\n",
       "    <td class=\"iris-word-cell iris-subheading-cell\">\tproject_id</td>\n",
       "    <td class=\"iris-word-cell\" colspan=\"2\">CMIP5</td>\n",
       "</tr>\n",
       "<tr class=\"iris\">\n",
       "    <td class=\"iris-word-cell iris-subheading-cell\">\trealization</td>\n",
       "    <td class=\"iris-word-cell\" colspan=\"2\">0</td>\n",
       "</tr>\n",
       "<tr class=\"iris\">\n",
       "    <td class=\"iris-word-cell iris-subheading-cell\">\treferences</td>\n",
       "    <td class=\"iris-word-cell\" colspan=\"2\">Model documentation and further reference available here : http://icmc...</td>\n",
       "</tr>\n",
       "<tr class=\"iris\">\n",
       "    <td class=\"iris-word-cell iris-subheading-cell\">\tsource</td>\n",
       "    <td class=\"iris-word-cell\" colspan=\"2\">IPSL-CM5A-LR (2010) : atmos : LMDZ4 (LMDZ4_v5, 96x95x39); ocean : ORCA2...</td>\n",
       "</tr>\n",
       "<tr class=\"iris\">\n",
       "    <td class=\"iris-word-cell iris-subheading-cell\">\ttable_id</td>\n",
       "    <td class=\"iris-word-cell\" colspan=\"2\">Table fx (31 January 2011) dd5903eb1b6f5aa24d6d6dd1679cef9d</td>\n",
       "</tr>\n",
       "<tr class=\"iris\">\n",
       "    <td class=\"iris-word-cell iris-subheading-cell\">\ttitle</td>\n",
       "    <td class=\"iris-word-cell\" colspan=\"2\">IPSL-CM5A-LR model output prepared for CMIP5 historical</td>\n",
       "</tr>\n",
       "<tr class=\"iris\">\n",
       "    <td class=\"iris-word-cell iris-subheading-cell\">\ttracking_id</td>\n",
       "    <td class=\"iris-word-cell\" colspan=\"2\">2e9222b4-cb0e-43f2-936a-ac0512702c58</td>\n",
       "</tr>\n",
       "</table>\n",
       "        "
      ],
      "text/plain": [
       "<iris 'Cube' of cell_area / (m2) (cell index along second dimension: 149; cell index along first dimension: 182)>"
      ]
     },
     "execution_count": 32,
     "metadata": {},
     "output_type": "execute_result"
    }
   ],
   "source": [
    "ipsl_area_cube = iris.load_cube('/g/data/ua6/DRSv3/CMIP5/IPSL-CM5A-LR/historical/fx/ocean/r0i0p0/areacello/latest/areacello_fx_IPSL-CM5A-LR_historical_r0i0p0.nc')\n",
    "ipsl_area_cube"
   ]
  },
  {
   "cell_type": "code",
   "execution_count": 33,
   "metadata": {},
   "outputs": [
    {
     "data": {
      "text/plain": [
       "<matplotlib.contour.QuadContourSet at 0x7f7d093e63c8>"
      ]
     },
     "execution_count": 33,
     "metadata": {},
     "output_type": "execute_result"
    },
    {
     "data": {
      "image/png": "[encoded data removed]",
      "text/plain": [
       "<Figure size 432x288 with 1 Axes>"
      ]
     },
     "metadata": {
      "needs_background": "light"
     },
     "output_type": "display_data"
    }
   ],
   "source": [
    "new_ipsl_cube, coord_names, regrid_status = grids.curvilinear_to_rectilinear(orig_ipsl_cube, \n",
    "                                                                             weights=ipsl_area_cube.data,\n",
    "                                                                             target_grid_cube=horizontal_grid)\n",
    "iplt.contourf(new_ipsl_cube)"
   ]
  },
  {
   "cell_type": "code",
   "execution_count": null,
   "metadata": {},
   "outputs": [],
   "source": []
  }
 ],
 "metadata": {
  "kernelspec": {
   "display_name": "Python 3",
   "language": "python",
   "name": "python3"
  },
  "language_info": {
   "codemirror_mode": {
    "name": "ipython",
    "version": 3
   },
   "file_extension": ".py",
   "mimetype": "text/x-python",
   "name": "python",
   "nbconvert_exporter": "python",
   "pygments_lexer": "ipython3",
   "version": "3.6.6"
  }
 },
 "nbformat": 4,
 "nbformat_minor": 2
}
