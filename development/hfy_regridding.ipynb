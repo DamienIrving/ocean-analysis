{
 "cells": [
  {
   "cell_type": "code",
   "execution_count": 47,
   "metadata": {
    "collapsed": true
   },
   "outputs": [],
   "source": [
    "import iris\n",
    "import matplotlib.pyplot as plt\n",
    "\n",
    "import iris.plot as iplt\n",
    "import iris.quickplot as qplt\n",
    "\n",
    "import numpy\n",
    "from iris.experimental.regrid import regrid_weighted_curvilinear_to_rectilinear"
   ]
  },
  {
   "cell_type": "code",
   "execution_count": 45,
   "metadata": {
    "collapsed": true
   },
   "outputs": [],
   "source": [
    "%matplotlib inline"
   ]
  },
  {
   "cell_type": "code",
   "execution_count": 18,
   "metadata": {
    "collapsed": true
   },
   "outputs": [],
   "source": [
    "hfx_file = '/g/data/ua6/DRSv2/CMIP5/NorESM1-M/historical/mon/ocean/r1i1p1/hfx/latest/hfx_Omon_NorESM1-M_historical_r1i1p1_185001-200512.nc'\n",
    "hfy_file = '/g/data/ua6/DRSv2/CMIP5/NorESM1-M/historical/mon/ocean/r1i1p1/hfy/latest/hfy_Omon_NorESM1-M_historical_r1i1p1_185001-200512.nc'"
   ]
  },
  {
   "cell_type": "code",
   "execution_count": 24,
   "metadata": {
    "collapsed": false
   },
   "outputs": [
    {
     "name": "stderr",
     "output_type": "stream",
     "text": [
      "/g/data/r87/dbi599/miniconda3/envs/ocean/lib/python3.6/site-packages/iris/fileformats/cf.py:1143: IrisDeprecation: NetCDF default loading behaviour currently does not expose variables which define reference surfaces for dimensionless vertical coordinates as independent Cubes. This behaviour is deprecated in favour of automatic promotion to Cubes. To switch to the new behaviour, set iris.FUTURE.netcdf_promote to True.\n",
      "  warn_deprecated(msg)\n",
      "/g/data/r87/dbi599/miniconda3/envs/ocean/lib/python3.6/site-packages/iris/fileformats/cf.py:1143: IrisDeprecation: NetCDF default loading behaviour currently does not expose variables which define reference surfaces for dimensionless vertical coordinates as independent Cubes. This behaviour is deprecated in favour of automatic promotion to Cubes. To switch to the new behaviour, set iris.FUTURE.netcdf_promote to True.\n",
      "  warn_deprecated(msg)\n"
     ]
    }
   ],
   "source": [
    "hfx_cube = iris.load_cube(hfx_file, 'ocean_heat_x_transport')\n",
    "hfy_cube = iris.load_cube(hfy_file, 'ocean_heat_y_transport')"
   ]
  },
  {
   "cell_type": "code",
   "execution_count": 25,
   "metadata": {
    "collapsed": false,
    "scrolled": true
   },
   "outputs": [
    {
     "name": "stdout",
     "output_type": "stream",
     "text": [
      "ocean_heat_x_transport                     (time: 1872; cell index along second dimension: 384; cell index along first dimension: 320)\n",
      "     Dimension coordinates:\n",
      "          time                                  x                                        -                                      -\n",
      "          cell index along second dimension     -                                        x                                      -\n",
      "          cell index along first dimension      -                                        -                                      x\n",
      "     Auxiliary coordinates:\n",
      "          latitude                              -                                        x                                      x\n",
      "          longitude                             -                                        x                                      x\n",
      "     Attributes:\n",
      "          Conventions: CF-1.4\n",
      "          associated_files: baseURL: http://cmip-pcmdi.llnl.gov/CMIP5/dataLocation gridspecFile: g...\n",
      "          branch_time: 255135.0\n",
      "          cmor_version: 2.5.9\n",
      "          contact: Please send any requests or bug reports to noresm-ncc@met.no.\n",
      "          creation_date: 2011-05-18T14:55:34Z\n",
      "          experiment: historical\n",
      "          experiment_id: historical\n",
      "          forcing: GHG, SA, Oz, Sl, Vl, BC, OC\n",
      "          frequency: mon\n",
      "          history: 2011-05-18T14:55:33Z altered by CMOR: replaced missing value flag (1e+20)...\n",
      "          initialization_method: 1\n",
      "          institute_id: NCC\n",
      "          institution: Norwegian Climate Centre\n",
      "          model_id: NorESM1-M\n",
      "          modeling_realm: ocean\n",
      "          original_name: uhflx\n",
      "          parent_experiment: pre-industrial control\n",
      "          parent_experiment_id: piControl\n",
      "          parent_experiment_rip: r1i1p1\n",
      "          physics_version: 1\n",
      "          product: output\n",
      "          project_id: CMIP5\n",
      "          realization: 1\n",
      "          source: NorESM1-M 2011  atmosphere: CAM-Oslo (CAM4-Oslo-noresm-ver1_cmip5-r112,...\n",
      "          table_id: Table Omon (27 April 2011) 340eddd4fd838d90fa9ffe1345ecbd73\n",
      "          title: NorESM1-M model output prepared for CMIP5 historical\n",
      "          tracking_id: d3e5f8a5-3c2d-4d62-ae3b-eab6c39ef3a1\n",
      "     Cell methods:\n",
      "          mean: time\n"
     ]
    }
   ],
   "source": [
    "print(hfx_cube)"
   ]
  },
  {
   "cell_type": "code",
   "execution_count": 41,
   "metadata": {
    "collapsed": false
   },
   "outputs": [
    {
     "name": "stdout",
     "output_type": "stream",
     "text": [
      "ocean_heat_y_transport                     (time: 1872; cell index along second dimension: 384; cell index along first dimension: 320)\n",
      "     Dimension coordinates:\n",
      "          time                                  x                                        -                                      -\n",
      "          cell index along second dimension     -                                        x                                      -\n",
      "          cell index along first dimension      -                                        -                                      x\n",
      "     Auxiliary coordinates:\n",
      "          latitude                              -                                        x                                      x\n",
      "          longitude                             -                                        x                                      x\n",
      "     Attributes:\n",
      "          Conventions: CF-1.4\n",
      "          associated_files: baseURL: http://cmip-pcmdi.llnl.gov/CMIP5/dataLocation gridspecFile: g...\n",
      "          branch_time: 255135.0\n",
      "          cmor_version: 2.5.9\n",
      "          contact: Please send any requests or bug reports to noresm-ncc@met.no.\n",
      "          creation_date: 2011-05-18T15:17:15Z\n",
      "          experiment: historical\n",
      "          experiment_id: historical\n",
      "          forcing: GHG, SA, Oz, Sl, Vl, BC, OC\n",
      "          frequency: mon\n",
      "          history: 2011-05-18T15:17:15Z altered by CMOR: replaced missing value flag (1e+20)...\n",
      "          initialization_method: 1\n",
      "          institute_id: NCC\n",
      "          institution: Norwegian Climate Centre\n",
      "          model_id: NorESM1-M\n",
      "          modeling_realm: ocean\n",
      "          original_name: vhflx\n",
      "          parent_experiment: pre-industrial control\n",
      "          parent_experiment_id: piControl\n",
      "          parent_experiment_rip: r1i1p1\n",
      "          physics_version: 1\n",
      "          product: output\n",
      "          project_id: CMIP5\n",
      "          realization: 1\n",
      "          source: NorESM1-M 2011  atmosphere: CAM-Oslo (CAM4-Oslo-noresm-ver1_cmip5-r112,...\n",
      "          table_id: Table Omon (27 April 2011) 340eddd4fd838d90fa9ffe1345ecbd73\n",
      "          title: NorESM1-M model output prepared for CMIP5 historical\n",
      "          tracking_id: d0342317-8320-4699-90a3-80f9baf4c85a\n",
      "     Cell methods:\n",
      "          mean: time\n"
     ]
    }
   ],
   "source": [
    "print(hfy_cube)"
   ]
  },
  {
   "cell_type": "code",
   "execution_count": 26,
   "metadata": {
    "collapsed": false
   },
   "outputs": [
    {
     "data": {
      "text/plain": [
       "DimCoord(array([  1,   2,   3,   4,   5,   6,   7,   8,   9,  10,  11,  12,  13,\n",
       "        14,  15,  16,  17,  18,  19,  20,  21,  22,  23,  24,  25,  26,\n",
       "        27,  28,  29,  30,  31,  32,  33,  34,  35,  36,  37,  38,  39,\n",
       "        40,  41,  42,  43,  44,  45,  46,  47,  48,  49,  50,  51,  52,\n",
       "        53,  54,  55,  56,  57,  58,  59,  60,  61,  62,  63,  64,  65,\n",
       "        66,  67,  68,  69,  70,  71,  72,  73,  74,  75,  76,  77,  78,\n",
       "        79,  80,  81,  82,  83,  84,  85,  86,  87,  88,  89,  90,  91,\n",
       "        92,  93,  94,  95,  96,  97,  98,  99, 100, 101, 102, 103, 104,\n",
       "       105, 106, 107, 108, 109, 110, 111, 112, 113, 114, 115, 116, 117,\n",
       "       118, 119, 120, 121, 122, 123, 124, 125, 126, 127, 128, 129, 130,\n",
       "       131, 132, 133, 134, 135, 136, 137, 138, 139, 140, 141, 142, 143,\n",
       "       144, 145, 146, 147, 148, 149, 150, 151, 152, 153, 154, 155, 156,\n",
       "       157, 158, 159, 160, 161, 162, 163, 164, 165, 166, 167, 168, 169,\n",
       "       170, 171, 172, 173, 174, 175, 176, 177, 178, 179, 180, 181, 182,\n",
       "       183, 184, 185, 186, 187, 188, 189, 190, 191, 192, 193, 194, 195,\n",
       "       196, 197, 198, 199, 200, 201, 202, 203, 204, 205, 206, 207, 208,\n",
       "       209, 210, 211, 212, 213, 214, 215, 216, 217, 218, 219, 220, 221,\n",
       "       222, 223, 224, 225, 226, 227, 228, 229, 230, 231, 232, 233, 234,\n",
       "       235, 236, 237, 238, 239, 240, 241, 242, 243, 244, 245, 246, 247,\n",
       "       248, 249, 250, 251, 252, 253, 254, 255, 256, 257, 258, 259, 260,\n",
       "       261, 262, 263, 264, 265, 266, 267, 268, 269, 270, 271, 272, 273,\n",
       "       274, 275, 276, 277, 278, 279, 280, 281, 282, 283, 284, 285, 286,\n",
       "       287, 288, 289, 290, 291, 292, 293, 294, 295, 296, 297, 298, 299,\n",
       "       300, 301, 302, 303, 304, 305, 306, 307, 308, 309, 310, 311, 312,\n",
       "       313, 314, 315, 316, 317, 318, 319, 320, 321, 322, 323, 324, 325,\n",
       "       326, 327, 328, 329, 330, 331, 332, 333, 334, 335, 336, 337, 338,\n",
       "       339, 340, 341, 342, 343, 344, 345, 346, 347, 348, 349, 350, 351,\n",
       "       352, 353, 354, 355, 356, 357, 358, 359, 360, 361, 362, 363, 364,\n",
       "       365, 366, 367, 368, 369, 370, 371, 372, 373, 374, 375, 376, 377,\n",
       "       378, 379, 380, 381, 382, 383, 384], dtype=int32), standard_name=None, units=Unit('1'), long_name='cell index along second dimension', var_name='j')"
      ]
     },
     "execution_count": 26,
     "metadata": {},
     "output_type": "execute_result"
    }
   ],
   "source": [
    "hfx_cube.coord('cell index along second dimension')"
   ]
  },
  {
   "cell_type": "code",
   "execution_count": 36,
   "metadata": {
    "collapsed": false
   },
   "outputs": [
    {
     "data": {
      "text/plain": [
       "DimCoord(array([  1,   2,   3,   4,   5,   6,   7,   8,   9,  10,  11,  12,  13,\n",
       "        14,  15,  16,  17,  18,  19,  20,  21,  22,  23,  24,  25,  26,\n",
       "        27,  28,  29,  30,  31,  32,  33,  34,  35,  36,  37,  38,  39,\n",
       "        40,  41,  42,  43,  44,  45,  46,  47,  48,  49,  50,  51,  52,\n",
       "        53,  54,  55,  56,  57,  58,  59,  60,  61,  62,  63,  64,  65,\n",
       "        66,  67,  68,  69,  70,  71,  72,  73,  74,  75,  76,  77,  78,\n",
       "        79,  80,  81,  82,  83,  84,  85,  86,  87,  88,  89,  90,  91,\n",
       "        92,  93,  94,  95,  96,  97,  98,  99, 100, 101, 102, 103, 104,\n",
       "       105, 106, 107, 108, 109, 110, 111, 112, 113, 114, 115, 116, 117,\n",
       "       118, 119, 120, 121, 122, 123, 124, 125, 126, 127, 128, 129, 130,\n",
       "       131, 132, 133, 134, 135, 136, 137, 138, 139, 140, 141, 142, 143,\n",
       "       144, 145, 146, 147, 148, 149, 150, 151, 152, 153, 154, 155, 156,\n",
       "       157, 158, 159, 160, 161, 162, 163, 164, 165, 166, 167, 168, 169,\n",
       "       170, 171, 172, 173, 174, 175, 176, 177, 178, 179, 180, 181, 182,\n",
       "       183, 184, 185, 186, 187, 188, 189, 190, 191, 192, 193, 194, 195,\n",
       "       196, 197, 198, 199, 200, 201, 202, 203, 204, 205, 206, 207, 208,\n",
       "       209, 210, 211, 212, 213, 214, 215, 216, 217, 218, 219, 220, 221,\n",
       "       222, 223, 224, 225, 226, 227, 228, 229, 230, 231, 232, 233, 234,\n",
       "       235, 236, 237, 238, 239, 240, 241, 242, 243, 244, 245, 246, 247,\n",
       "       248, 249, 250, 251, 252, 253, 254, 255, 256, 257, 258, 259, 260,\n",
       "       261, 262, 263, 264, 265, 266, 267, 268, 269, 270, 271, 272, 273,\n",
       "       274, 275, 276, 277, 278, 279, 280, 281, 282, 283, 284, 285, 286,\n",
       "       287, 288, 289, 290, 291, 292, 293, 294, 295, 296, 297, 298, 299,\n",
       "       300, 301, 302, 303, 304, 305, 306, 307, 308, 309, 310, 311, 312,\n",
       "       313, 314, 315, 316, 317, 318, 319, 320, 321, 322, 323, 324, 325,\n",
       "       326, 327, 328, 329, 330, 331, 332, 333, 334, 335, 336, 337, 338,\n",
       "       339, 340, 341, 342, 343, 344, 345, 346, 347, 348, 349, 350, 351,\n",
       "       352, 353, 354, 355, 356, 357, 358, 359, 360, 361, 362, 363, 364,\n",
       "       365, 366, 367, 368, 369, 370, 371, 372, 373, 374, 375, 376, 377,\n",
       "       378, 379, 380, 381, 382, 383, 384], dtype=int32), standard_name=None, units=Unit('1'), long_name='cell index along second dimension', var_name='j')"
      ]
     },
     "execution_count": 36,
     "metadata": {},
     "output_type": "execute_result"
    }
   ],
   "source": [
    "hfy_cube.coord('cell index along second dimension')"
   ]
  },
  {
   "cell_type": "code",
   "execution_count": 27,
   "metadata": {
    "collapsed": false
   },
   "outputs": [
    {
     "name": "stdout",
     "output_type": "stream",
     "text": [
      "None\n"
     ]
    }
   ],
   "source": [
    "print(hfx_cube.coord_system())"
   ]
  },
  {
   "cell_type": "code",
   "execution_count": 28,
   "metadata": {
    "collapsed": true
   },
   "outputs": [],
   "source": [
    "target_grid = iris.coord_systems.GeogCS(iris.fileformats.pp.EARTH_RADIUS)"
   ]
  },
  {
   "cell_type": "code",
   "execution_count": 29,
   "metadata": {
    "collapsed": false
   },
   "outputs": [
    {
     "ename": "ValueError",
     "evalue": "Coordinates differ between u and v cubes. Coordinate 'longitude' from u cube does not equal coordinate 'longitude' from v cube.",
     "output_type": "error",
     "traceback": [
      "\u001b[0;31m---------------------------------------------------------------------------\u001b[0m",
      "\u001b[0;31mValueError\u001b[0m                                Traceback (most recent call last)",
      "\u001b[0;32m<ipython-input-29-8b56b788deec>\u001b[0m in \u001b[0;36m<module>\u001b[0;34m()\u001b[0m\n\u001b[0;32m----> 1\u001b[0;31m \u001b[0mnew_hfx_cube\u001b[0m\u001b[0;34m,\u001b[0m \u001b[0mnew_hfy_cube\u001b[0m \u001b[0;34m=\u001b[0m \u001b[0miris\u001b[0m\u001b[0;34m.\u001b[0m\u001b[0manalysis\u001b[0m\u001b[0;34m.\u001b[0m\u001b[0mcartography\u001b[0m\u001b[0;34m.\u001b[0m\u001b[0mrotate_winds\u001b[0m\u001b[0;34m(\u001b[0m\u001b[0mhfx_cube\u001b[0m\u001b[0;34m,\u001b[0m \u001b[0mhfy_cube\u001b[0m\u001b[0;34m,\u001b[0m \u001b[0mtarget_grid\u001b[0m\u001b[0;34m)\u001b[0m\u001b[0;34m\u001b[0m\u001b[0m\n\u001b[0m",
      "\u001b[0;32m/g/data/r87/dbi599/miniconda3/envs/ocean/lib/python3.6/site-packages/iris/analysis/cartography.py\u001b[0m in \u001b[0;36mrotate_winds\u001b[0;34m(u_cube, v_cube, target_cs)\u001b[0m\n\u001b[1;32m   1014\u001b[0m     \u001b[0;32mif\u001b[0m \u001b[0mu_cube\u001b[0m\u001b[0;34m.\u001b[0m\u001b[0mcoord\u001b[0m\u001b[0;34m(\u001b[0m\u001b[0maxis\u001b[0m\u001b[0;34m=\u001b[0m\u001b[0;34m'x'\u001b[0m\u001b[0;34m)\u001b[0m \u001b[0;34m!=\u001b[0m \u001b[0mv_cube\u001b[0m\u001b[0;34m.\u001b[0m\u001b[0mcoord\u001b[0m\u001b[0;34m(\u001b[0m\u001b[0maxis\u001b[0m\u001b[0;34m=\u001b[0m\u001b[0;34m'x'\u001b[0m\u001b[0;34m)\u001b[0m\u001b[0;34m:\u001b[0m\u001b[0;34m\u001b[0m\u001b[0m\n\u001b[1;32m   1015\u001b[0m         raise ValueError(msg.format(u_cube.coord(axis='x').name(),\n\u001b[0;32m-> 1016\u001b[0;31m                                     v_cube.coord(axis='x').name()))\n\u001b[0m\u001b[1;32m   1017\u001b[0m     \u001b[0;32mif\u001b[0m \u001b[0mu_cube\u001b[0m\u001b[0;34m.\u001b[0m\u001b[0mcoord\u001b[0m\u001b[0;34m(\u001b[0m\u001b[0maxis\u001b[0m\u001b[0;34m=\u001b[0m\u001b[0;34m'y'\u001b[0m\u001b[0;34m)\u001b[0m \u001b[0;34m!=\u001b[0m \u001b[0mv_cube\u001b[0m\u001b[0;34m.\u001b[0m\u001b[0mcoord\u001b[0m\u001b[0;34m(\u001b[0m\u001b[0maxis\u001b[0m\u001b[0;34m=\u001b[0m\u001b[0;34m'y'\u001b[0m\u001b[0;34m)\u001b[0m\u001b[0;34m:\u001b[0m\u001b[0;34m\u001b[0m\u001b[0m\n\u001b[1;32m   1018\u001b[0m         raise ValueError(msg.format(u_cube.coord(axis='y').name(),\n",
      "\u001b[0;31mValueError\u001b[0m: Coordinates differ between u and v cubes. Coordinate 'longitude' from u cube does not equal coordinate 'longitude' from v cube."
     ]
    }
   ],
   "source": [
    "new_hfx_cube, new_hfy_cube = iris.analysis.cartography.rotate_winds(hfx_cube, hfy_cube, target_grid)"
   ]
  },
  {
   "cell_type": "code",
   "execution_count": 32,
   "metadata": {
    "collapsed": false
   },
   "outputs": [
    {
     "data": {
      "text/plain": [
       "array([[ 320.        ,  321.125     ,  322.25      , ...,  316.625     ,\n",
       "         317.75      ,  318.875     ],\n",
       "       [ 320.        ,  321.125     ,  322.25      , ...,  316.625     ,\n",
       "         317.75      ,  318.875     ],\n",
       "       [ 320.        ,  321.125     ,  322.25      , ...,  316.625     ,\n",
       "         317.75      ,  318.875     ],\n",
       "       ..., \n",
       "       [ 320.        ,  320.50268555,  321.00500488, ...,  318.49334717,\n",
       "         318.99502563,  319.49734497],\n",
       "       [ 320.        ,  320.46920776,  320.93804932, ...,  318.59381104,\n",
       "         319.0619812 ,  319.53082275],\n",
       "       [ 320.        ,  320.43301392,  320.86569214, ...,  318.70233154,\n",
       "         319.13430786,  319.56698608]], dtype=float32)"
      ]
     },
     "execution_count": 32,
     "metadata": {},
     "output_type": "execute_result"
    }
   ],
   "source": [
    "hfx_cube.coord('longitude').points"
   ]
  },
  {
   "cell_type": "code",
   "execution_count": 33,
   "metadata": {
    "collapsed": false
   },
   "outputs": [
    {
     "data": {
      "text/plain": [
       "array([[ 320.5625    ,  321.6875    ,  322.8125    , ...,  317.1875    ,\n",
       "         318.3125    ,  319.4375    ],\n",
       "       [ 320.5625    ,  321.6875    ,  322.8125    , ...,  317.1875    ,\n",
       "         318.3125    ,  319.4375    ],\n",
       "       [ 320.5625    ,  321.6875    ,  322.8125    , ...,  317.1875    ,\n",
       "         318.3125    ,  319.4375    ],\n",
       "       ..., \n",
       "       [ 320.25930786,  320.77767944,  321.29559326, ...,  318.70440674,\n",
       "         319.22232056,  319.74072266],\n",
       "       [ 320.24319458,  320.72937012,  321.21502686, ...,  318.78500366,\n",
       "         319.2706604 ,  319.75683594],\n",
       "       [ 320.22579956,  320.67721558,  321.12808228, ...,  318.87191772,\n",
       "         319.32281494,  319.77423096]], dtype=float32)"
      ]
     },
     "execution_count": 33,
     "metadata": {},
     "output_type": "execute_result"
    }
   ],
   "source": [
    "hfy_cube.coord('longitude').points"
   ]
  },
  {
   "cell_type": "code",
   "execution_count": 34,
   "metadata": {
    "collapsed": false
   },
   "outputs": [
    {
     "data": {
      "text/plain": [
       "array([[-79.22001648, -79.22001648, -79.22001648, ..., -79.22001648,\n",
       "        -79.22001648, -79.22001648],\n",
       "       [-78.68577576, -78.68577576, -78.68577576, ..., -78.68577576,\n",
       "        -78.68577576, -78.68577576],\n",
       "       [-78.15153503, -78.15153503, -78.15153503, ..., -78.15153503,\n",
       "        -78.15153503, -78.15153503],\n",
       "       ..., \n",
       "       [ 71.28920746,  71.29109192,  71.29673767, ...,  71.30614471,\n",
       "         71.29673767,  71.29109192],\n",
       "       [ 71.73420715,  71.73599243,  71.7413559 , ...,  71.75028229,\n",
       "         71.7413559 ,  71.73599243],\n",
       "       [ 72.18502045,  72.18669891,  72.19173431, ...,  72.20011139,\n",
       "         72.19173431,  72.18669891]], dtype=float32)"
      ]
     },
     "execution_count": 34,
     "metadata": {},
     "output_type": "execute_result"
    }
   ],
   "source": [
    "hfx_cube.coord('latitude').points"
   ]
  },
  {
   "cell_type": "code",
   "execution_count": 35,
   "metadata": {
    "collapsed": false
   },
   "outputs": [
    {
     "data": {
      "text/plain": [
       "array([[-79.48763275, -79.48763275, -79.48763275, ..., -79.48763275,\n",
       "        -79.48763275, -79.48763275],\n",
       "       [-78.95341492, -78.95341492, -78.95341492, ..., -78.95341492,\n",
       "        -78.95341492, -78.95341492],\n",
       "       [-78.41919708, -78.41919708, -78.41919708, ..., -78.41919708,\n",
       "        -78.41919708, -78.41919708],\n",
       "       ..., \n",
       "       [ 71.06924438,  71.07309723,  71.08079529, ...,  71.08079529,\n",
       "         71.07309723,  71.06924438],\n",
       "       [ 71.51139069,  71.51506042,  71.52240753, ...,  71.52240753,\n",
       "         71.51506042,  71.51139069],\n",
       "       [ 71.95909882,  71.96257019,  71.96950531, ...,  71.96950531,\n",
       "         71.96257019,  71.95909882]], dtype=float32)"
      ]
     },
     "execution_count": 35,
     "metadata": {},
     "output_type": "execute_result"
    }
   ],
   "source": [
    "hfy_cube.coord('latitude').points"
   ]
  },
  {
   "cell_type": "code",
   "execution_count": 37,
   "metadata": {
    "collapsed": true
   },
   "outputs": [],
   "source": [
    "new_hfx_cube, new_hfy_cube = iris.analysis.cartography.rotate_winds(hfx_cube, hfx_cube, target_grid)"
   ]
  },
  {
   "cell_type": "code",
   "execution_count": 38,
   "metadata": {
    "collapsed": false,
    "scrolled": true
   },
   "outputs": [
    {
     "name": "stdout",
     "output_type": "stream",
     "text": [
      "transformed_ocean_heat_x_transport / (W) (time: 1872; cell index along second dimension: 384; cell index along first dimension: 320)\n",
      "     Dimension coordinates:\n",
      "          time                                x                                        -                                      -\n",
      "          cell index along second dimension   -                                        x                                      -\n",
      "          cell index along first dimension    -                                        -                                      x\n",
      "     Auxiliary coordinates:\n",
      "          latitude                            -                                        x                                      x\n",
      "          longitude                           -                                        x                                      x\n",
      "          projection_x_coordinate             -                                        x                                      x\n",
      "          projection_y_coordinate             -                                        x                                      x\n",
      "     Attributes:\n",
      "          Conventions: CF-1.4\n",
      "          associated_files: baseURL: http://cmip-pcmdi.llnl.gov/CMIP5/dataLocation gridspecFile: g...\n",
      "          branch_time: 255135.0\n",
      "          cmor_version: 2.5.9\n",
      "          contact: Please send any requests or bug reports to noresm-ncc@met.no.\n",
      "          creation_date: 2011-05-18T14:55:34Z\n",
      "          experiment: historical\n",
      "          experiment_id: historical\n",
      "          forcing: GHG, SA, Oz, Sl, Vl, BC, OC\n",
      "          frequency: mon\n",
      "          history: 2011-05-18T14:55:33Z altered by CMOR: replaced missing value flag (1e+20)...\n",
      "          initialization_method: 1\n",
      "          institute_id: NCC\n",
      "          institution: Norwegian Climate Centre\n",
      "          model_id: NorESM1-M\n",
      "          modeling_realm: ocean\n",
      "          original_name: uhflx\n",
      "          parent_experiment: pre-industrial control\n",
      "          parent_experiment_id: piControl\n",
      "          parent_experiment_rip: r1i1p1\n",
      "          physics_version: 1\n",
      "          product: output\n",
      "          project_id: CMIP5\n",
      "          realization: 1\n",
      "          source: NorESM1-M 2011  atmosphere: CAM-Oslo (CAM4-Oslo-noresm-ver1_cmip5-r112,...\n",
      "          table_id: Table Omon (27 April 2011) 340eddd4fd838d90fa9ffe1345ecbd73\n",
      "          title: NorESM1-M model output prepared for CMIP5 historical\n",
      "          tracking_id: d3e5f8a5-3c2d-4d62-ae3b-eab6c39ef3a1\n",
      "     Cell methods:\n",
      "          mean: time\n"
     ]
    }
   ],
   "source": [
    "print(new_hfx_cube)"
   ]
  },
  {
   "cell_type": "code",
   "execution_count": 59,
   "metadata": {
    "collapsed": false
   },
   "outputs": [],
   "source": [
    "new_hfx_cube.remove_coord('projection_x_coordinate')\n",
    "new_hfx_cube.remove_coord('projection_y_coordinate')"
   ]
  },
  {
   "cell_type": "code",
   "execution_count": 60,
   "metadata": {
    "collapsed": false
   },
   "outputs": [
    {
     "name": "stdout",
     "output_type": "stream",
     "text": [
      "transformed_ocean_heat_x_transport / (W) (time: 1872; cell index along second dimension: 384; cell index along first dimension: 320)\n",
      "     Dimension coordinates:\n",
      "          time                                x                                        -                                      -\n",
      "          cell index along second dimension   -                                        x                                      -\n",
      "          cell index along first dimension    -                                        -                                      x\n",
      "     Auxiliary coordinates:\n",
      "          latitude                            -                                        x                                      x\n",
      "          longitude                           -                                        x                                      x\n",
      "     Attributes:\n",
      "          Conventions: CF-1.4\n",
      "          associated_files: baseURL: http://cmip-pcmdi.llnl.gov/CMIP5/dataLocation gridspecFile: g...\n",
      "          branch_time: 255135.0\n",
      "          cmor_version: 2.5.9\n",
      "          contact: Please send any requests or bug reports to noresm-ncc@met.no.\n",
      "          creation_date: 2011-05-18T14:55:34Z\n",
      "          experiment: historical\n",
      "          experiment_id: historical\n",
      "          forcing: GHG, SA, Oz, Sl, Vl, BC, OC\n",
      "          frequency: mon\n",
      "          history: 2011-05-18T14:55:33Z altered by CMOR: replaced missing value flag (1e+20)...\n",
      "          initialization_method: 1\n",
      "          institute_id: NCC\n",
      "          institution: Norwegian Climate Centre\n",
      "          model_id: NorESM1-M\n",
      "          modeling_realm: ocean\n",
      "          original_name: uhflx\n",
      "          parent_experiment: pre-industrial control\n",
      "          parent_experiment_id: piControl\n",
      "          parent_experiment_rip: r1i1p1\n",
      "          physics_version: 1\n",
      "          product: output\n",
      "          project_id: CMIP5\n",
      "          realization: 1\n",
      "          source: NorESM1-M 2011  atmosphere: CAM-Oslo (CAM4-Oslo-noresm-ver1_cmip5-r112,...\n",
      "          table_id: Table Omon (27 April 2011) 340eddd4fd838d90fa9ffe1345ecbd73\n",
      "          title: NorESM1-M model output prepared for CMIP5 historical\n",
      "          tracking_id: d3e5f8a5-3c2d-4d62-ae3b-eab6c39ef3a1\n",
      "     Cell methods:\n",
      "          mean: time\n"
     ]
    }
   ],
   "source": [
    "print(new_hfx_cube)"
   ]
  },
  {
   "cell_type": "code",
   "execution_count": 40,
   "metadata": {
    "collapsed": false
   },
   "outputs": [
    {
     "data": {
      "text/plain": [
       "(384, 320)"
      ]
     },
     "execution_count": 40,
     "metadata": {},
     "output_type": "execute_result"
    }
   ],
   "source": [
    "new_hfx_cube.coord('latitude').shape"
   ]
  },
  {
   "cell_type": "code",
   "execution_count": 46,
   "metadata": {
    "collapsed": false,
    "scrolled": true
   },
   "outputs": [
    {
     "data": {
      "text/plain": [
       "<matplotlib.contour.QuadContourSet at 0x7f816ad95fd0>"
      ]
     },
     "execution_count": 46,
     "metadata": {},
     "output_type": "execute_result"
    },
    {
     "data": {
      "image/png": "[encoded data removed]",
      "text/plain": [
       "<matplotlib.figure.Figure at 0x7f816adc92e8>"
      ]
     },
     "metadata": {},
     "output_type": "display_data"
    }
   ],
   "source": [
    "qplt.contourf(hfy_cube[0, ::])"
   ]
  },
  {
   "cell_type": "code",
   "execution_count": 48,
   "metadata": {
    "collapsed": true
   },
   "outputs": [],
   "source": [
    "def _check_coord_names(cube, coord_names):\n",
    "    \"\"\"Remove specified coordinate name.\n",
    "    The iris standard names for lat/lon coordinates are:\n",
    "      latitude, grid_latitude, longitude, grid_longitude\n",
    "    If a cube uses one for the dimension coordinate and the \n",
    "      other for the auxillary coordinate, the \n",
    "      regrid_weighted_curvilinear_to_rectilinear method won't work\n",
    "    Args:\n",
    "      cube (iris.cube.Cube)\n",
    "      coord_names(list)\n",
    "    \"\"\"\n",
    "\n",
    "    if 'grid_latitude' in coord_names:\n",
    "        cube.coord('grid_latitude').standard_name = None\n",
    "        coord_names = [coord.name() for coord in cube.dim_coords]\n",
    "    if 'grid_longitude' in coord_names:\n",
    "        cube.coord('grid_longitude').standard_name = None\n",
    "        coord_names = [coord.name() for coord in cube.dim_coords]\n",
    "\n",
    "    return cube, coord_names\n",
    "\n",
    "\n",
    "def _make_grid(lat_values, lon_values):\n",
    "    \"\"\"Make a dummy cube with desired grid.\"\"\"\n",
    "       \n",
    "    latitude = iris.coords.DimCoord(lat_values,\n",
    "                                    standard_name='latitude',\n",
    "                                    units='degrees_north',\n",
    "                                    coord_system=iris.coord_systems.GeogCS(iris.fileformats.pp.EARTH_RADIUS))\n",
    "    longitude = iris.coords.DimCoord(lon_values,                    \n",
    "                                     standard_name='longitude',\n",
    "                                     units='degrees_east',\n",
    "                                     coord_system=iris.coord_systems.GeogCS(iris.fileformats.pp.EARTH_RADIUS))\n",
    "\n",
    "    dummy_data = numpy.zeros((len(lat_values), len(lon_values)))\n",
    "    new_cube = iris.cube.Cube(dummy_data, dim_coords_and_dims=[(latitude, 0), (longitude, 1)])\n",
    "\n",
    "    new_cube.coord('longitude').guess_bounds()\n",
    "    new_cube.coord('latitude').guess_bounds()\n",
    "\n",
    "    return new_cube\n",
    "\n",
    "\n",
    "def get_grid_res(horiz_shape):\n",
    "    \"\"\"Define horizontal resolution of new grid. \n",
    "    Calculation makes sure new grid is similar resolution to old grid\n",
    "    (erring on side of slightly more coarse)\n",
    "    \"\"\"\n",
    "\n",
    "    assert len(horiz_shape) == 2\n",
    "    orig_npoints = horiz_shape[0] * horiz_shape[1]\n",
    "\n",
    "    res_options = numpy.array([1.0, 1.5, 2.0, 2.5])\n",
    "    npoints_ref = numpy.array([181 * 360, 121 * 240, 91 * 180, 73 * 144])\n",
    "\n",
    "    idx = (numpy.abs(npoints_ref - orig_npoints)).argmin()\n",
    "    \n",
    "    new_res = res_options[idx]\n",
    "    if orig_npoints < npoints_ref[idx]:\n",
    "        new_res = new_res + 0.5\n",
    "\n",
    "    new_res = new_res + 0.5  # safety buffer\n",
    "\n",
    "    print(\"new horizontal grid resolution =\", new_res)\n",
    "\n",
    "    return new_res\n",
    "\n",
    "\n",
    "def curvilinear_to_rectilinear(cube):\n",
    "    \"\"\"Regrid curvilinear data to a rectilinear grid if necessary.\"\"\"\n",
    "\n",
    "    coord_names = [coord.name() for coord in cube.dim_coords]\n",
    "    aux_coord_names = [coord.name() for coord in cube.aux_coords]\n",
    "    \n",
    "    if 'time' in aux_coord_names:\n",
    "        aux_coord_names.remove('time')\n",
    "\n",
    "    if aux_coord_names == ['latitude', 'longitude']:\n",
    "\n",
    "        grid_res = get_grid_res(cube.coord('latitude').shape)\n",
    "\n",
    "        # Create target grid\n",
    "        lats = numpy.arange(-90, 90.01, grid_res)\n",
    "        lons = numpy.arange(0, 360, grid_res)\n",
    "        target_grid_cube = _make_grid(lats, lons)\n",
    "\n",
    "        # Interate over slices (experimental regridder only works on 2D slices)\n",
    "        cube, coord_names = _check_coord_names(cube, coord_names)\n",
    "        slice_dims = coord_names\n",
    "\n",
    "        if 'time' in slice_dims:\n",
    "            slice_dims.remove('time')\n",
    "        if 'depth' in slice_dims:\n",
    "            slice_dims.remove('depth')\n",
    "    \n",
    "        cube_list = []\n",
    "        for i, cube_slice in enumerate(cube.slices(slice_dims)):\n",
    "            weights = numpy.ones(cube_slice.shape)\n",
    "            cube_slice.coord(axis='x').coord_system = iris.coord_systems.GeogCS(iris.fileformats.pp.EARTH_RADIUS)\n",
    "            cube_slice.coord(axis='y').coord_system = iris.coord_systems.GeogCS(iris.fileformats.pp.EARTH_RADIUS)\n",
    "            regridded_cube = regrid_weighted_curvilinear_to_rectilinear(cube_slice, weights, target_grid_cube)\n",
    "            cube_list.append(regridded_cube)\n",
    "\n",
    "        new_cube = iris.cube.CubeList(cube_list)\n",
    "        new_cube = new_cube.merge_cube()\n",
    "        coord_names = [coord.name() for coord in new_cube.dim_coords]\n",
    "\n",
    "        regrid_status = True\n",
    "\n",
    "    else:\n",
    "\n",
    "        new_cube = cube\n",
    "        regrid_status = False\n",
    "    \n",
    "    return new_cube, coord_names, regrid_status"
   ]
  },
  {
   "cell_type": "code",
   "execution_count": 63,
   "metadata": {
    "collapsed": false
   },
   "outputs": [
    {
     "name": "stdout",
     "output_type": "stream",
     "text": [
      "new horizontal grid resolution = 1.5\n"
     ]
    }
   ],
   "source": [
    "new_hfx_cube_regrid, coord_names, regrid_status = curvilinear_to_rectilinear(new_hfx_cube)"
   ]
  },
  {
   "cell_type": "code",
   "execution_count": 64,
   "metadata": {
    "collapsed": false
   },
   "outputs": [
    {
     "name": "stdout",
     "output_type": "stream",
     "text": [
      "transformed_ocean_heat_x_transport / (W) (time: 1872; latitude: 121; longitude: 240)\n",
      "     Dimension coordinates:\n",
      "          time                                x               -               -\n",
      "          latitude                            -               x               -\n",
      "          longitude                           -               -               x\n",
      "     Attributes:\n",
      "          Conventions: CF-1.4\n",
      "          associated_files: baseURL: http://cmip-pcmdi.llnl.gov/CMIP5/dataLocation gridspecFile: g...\n",
      "          branch_time: 255135.0\n",
      "          cmor_version: 2.5.9\n",
      "          contact: Please send any requests or bug reports to noresm-ncc@met.no.\n",
      "          creation_date: 2011-05-18T14:55:34Z\n",
      "          experiment: historical\n",
      "          experiment_id: historical\n",
      "          forcing: GHG, SA, Oz, Sl, Vl, BC, OC\n",
      "          frequency: mon\n",
      "          history: 2011-05-18T14:55:33Z altered by CMOR: replaced missing value flag (1e+20)...\n",
      "          initialization_method: 1\n",
      "          institute_id: NCC\n",
      "          institution: Norwegian Climate Centre\n",
      "          model_id: NorESM1-M\n",
      "          modeling_realm: ocean\n",
      "          original_name: uhflx\n",
      "          parent_experiment: pre-industrial control\n",
      "          parent_experiment_id: piControl\n",
      "          parent_experiment_rip: r1i1p1\n",
      "          physics_version: 1\n",
      "          product: output\n",
      "          project_id: CMIP5\n",
      "          realization: 1\n",
      "          source: NorESM1-M 2011  atmosphere: CAM-Oslo (CAM4-Oslo-noresm-ver1_cmip5-r112,...\n",
      "          table_id: Table Omon (27 April 2011) 340eddd4fd838d90fa9ffe1345ecbd73\n",
      "          title: NorESM1-M model output prepared for CMIP5 historical\n",
      "          tracking_id: d3e5f8a5-3c2d-4d62-ae3b-eab6c39ef3a1\n",
      "     Cell methods:\n",
      "          mean: time\n"
     ]
    }
   ],
   "source": [
    "print(new_hfx_cube_regrid)"
   ]
  },
  {
   "cell_type": "code",
   "execution_count": null,
   "metadata": {
    "collapsed": true
   },
   "outputs": [],
   "source": []
  }
 ],
 "metadata": {
  "kernelspec": {
   "display_name": "Python 3",
   "language": "python",
   "name": "python3"
  },
  "language_info": {
   "codemirror_mode": {
    "name": "ipython",
    "version": 3
   },
   "file_extension": ".py",
   "mimetype": "text/x-python",
   "name": "python",
   "nbconvert_exporter": "python",
   "pygments_lexer": "ipython3",
   "version": "3.6.0"
  }
 },
 "nbformat": 4,
 "nbformat_minor": 2
}
