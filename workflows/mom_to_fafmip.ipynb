{
 "cells": [
  {
   "cell_type": "code",
   "execution_count": 1,
   "metadata": {},
   "outputs": [],
   "source": [
    "import glob\n",
    "import os"
   ]
  },
  {
   "cell_type": "code",
   "execution_count": 2,
   "metadata": {},
   "outputs": [],
   "source": [
    "python = '/g/data/r87/dbi599/miniconda3/envs/ocean3/bin/python'\n",
    "script = '/home/599/dbi599/ocean-analysis/data_processing/mom_to_cmip.py'\n",
    "variables = [('temp', 'bigthetao', 'sea_water_conservative_temperature'),\n",
    "             ('salt', 'so', 'sea_water_salinity')]\n",
    "experiments = ['faf-heat', 'faf-water']"
   ]
  },
  {
   "cell_type": "code",
   "execution_count": 3,
   "metadata": {},
   "outputs": [
    {
     "name": "stdout",
     "output_type": "stream",
     "text": [
      "/g/data/r87/dbi599/miniconda3/envs/ocean3/bin/python /home/599/dbi599/ocean-analysis/data_processing/mom_to_cmip.py /g/data3/hh5/tmp/as7904/access-om2/Kewei_fafmip_output/071-077-rstflux-no-frazil-density-fafheat/output071/ocean/ocean_3d.nc temp /g/data/fs38/publications/CMIP6/FAFMIP/CSIRO-ARCCSS/ACCESS-CM2/faf-heat/r1i1p1f1/Omon/bigthetao/gn/v20191210/bigthetao_Omon_ACCESS-CM2_faf-heat_r1i1p1f1_gn_095001-095912.nc sea_water_conservative_temperature /g/data/r87/dbi599/CMIP6/FAFMIP/KEWEI-LYU/ACCESS-OM2/faf-heat/r1i1p1f1/Omon/bigthetao/gn/v20191210/bigthetao_Omon_ACCESS-OM2_faf-heat_r1i1p1f1_gn_095001-095912.nc --ref_names --ref_time\n",
      "/g/data/r87/dbi599/miniconda3/envs/ocean3/bin/python /home/599/dbi599/ocean-analysis/data_processing/mom_to_cmip.py /g/data3/hh5/tmp/as7904/access-om2/Kewei_fafmip_output/071-077-rstflux-no-frazil-density-fafheat/output072/ocean/ocean_3d.nc temp /g/data/fs38/publications/CMIP6/FAFMIP/CSIRO-ARCCSS/ACCESS-CM2/faf-heat/r1i1p1f1/Omon/bigthetao/gn/v20191210/bigthetao_Omon_ACCESS-CM2_faf-heat_r1i1p1f1_gn_096001-096912.nc sea_water_conservative_temperature /g/data/r87/dbi599/CMIP6/FAFMIP/KEWEI-LYU/ACCESS-OM2/faf-heat/r1i1p1f1/Omon/bigthetao/gn/v20191210/bigthetao_Omon_ACCESS-OM2_faf-heat_r1i1p1f1_gn_096001-096912.nc --ref_names --ref_time\n",
      "/g/data/r87/dbi599/miniconda3/envs/ocean3/bin/python /home/599/dbi599/ocean-analysis/data_processing/mom_to_cmip.py /g/data3/hh5/tmp/as7904/access-om2/Kewei_fafmip_output/071-077-rstflux-no-frazil-density-fafheat/output073/ocean/ocean_3d.nc temp /g/data/fs38/publications/CMIP6/FAFMIP/CSIRO-ARCCSS/ACCESS-CM2/faf-heat/r1i1p1f1/Omon/bigthetao/gn/v20191210/bigthetao_Omon_ACCESS-CM2_faf-heat_r1i1p1f1_gn_097001-097912.nc sea_water_conservative_temperature /g/data/r87/dbi599/CMIP6/FAFMIP/KEWEI-LYU/ACCESS-OM2/faf-heat/r1i1p1f1/Omon/bigthetao/gn/v20191210/bigthetao_Omon_ACCESS-OM2_faf-heat_r1i1p1f1_gn_097001-097912.nc --ref_names --ref_time\n",
      "/g/data/r87/dbi599/miniconda3/envs/ocean3/bin/python /home/599/dbi599/ocean-analysis/data_processing/mom_to_cmip.py /g/data3/hh5/tmp/as7904/access-om2/Kewei_fafmip_output/071-077-rstflux-no-frazil-density-fafheat/output074/ocean/ocean_3d.nc temp /g/data/fs38/publications/CMIP6/FAFMIP/CSIRO-ARCCSS/ACCESS-CM2/faf-heat/r1i1p1f1/Omon/bigthetao/gn/v20191210/bigthetao_Omon_ACCESS-CM2_faf-heat_r1i1p1f1_gn_098001-098912.nc sea_water_conservative_temperature /g/data/r87/dbi599/CMIP6/FAFMIP/KEWEI-LYU/ACCESS-OM2/faf-heat/r1i1p1f1/Omon/bigthetao/gn/v20191210/bigthetao_Omon_ACCESS-OM2_faf-heat_r1i1p1f1_gn_098001-098912.nc --ref_names --ref_time\n",
      "/g/data/r87/dbi599/miniconda3/envs/ocean3/bin/python /home/599/dbi599/ocean-analysis/data_processing/mom_to_cmip.py /g/data3/hh5/tmp/as7904/access-om2/Kewei_fafmip_output/071-077-rstflux-no-frazil-density-fafheat/output075/ocean/ocean_3d.nc temp /g/data/fs38/publications/CMIP6/FAFMIP/CSIRO-ARCCSS/ACCESS-CM2/faf-heat/r1i1p1f1/Omon/bigthetao/gn/v20191210/bigthetao_Omon_ACCESS-CM2_faf-heat_r1i1p1f1_gn_099001-099912.nc sea_water_conservative_temperature /g/data/r87/dbi599/CMIP6/FAFMIP/KEWEI-LYU/ACCESS-OM2/faf-heat/r1i1p1f1/Omon/bigthetao/gn/v20191210/bigthetao_Omon_ACCESS-OM2_faf-heat_r1i1p1f1_gn_099001-099912.nc --ref_names --ref_time\n",
      "/g/data/r87/dbi599/miniconda3/envs/ocean3/bin/python /home/599/dbi599/ocean-analysis/data_processing/mom_to_cmip.py /g/data3/hh5/tmp/as7904/access-om2/Kewei_fafmip_output/071-077-rstflux-no-frazil-density-fafheat/output076/ocean/ocean_3d.nc temp /g/data/fs38/publications/CMIP6/FAFMIP/CSIRO-ARCCSS/ACCESS-CM2/faf-heat/r1i1p1f1/Omon/bigthetao/gn/v20191210/bigthetao_Omon_ACCESS-CM2_faf-heat_r1i1p1f1_gn_100001-100912.nc sea_water_conservative_temperature /g/data/r87/dbi599/CMIP6/FAFMIP/KEWEI-LYU/ACCESS-OM2/faf-heat/r1i1p1f1/Omon/bigthetao/gn/v20191210/bigthetao_Omon_ACCESS-OM2_faf-heat_r1i1p1f1_gn_100001-100912.nc --ref_names --ref_time\n",
      "/g/data/r87/dbi599/miniconda3/envs/ocean3/bin/python /home/599/dbi599/ocean-analysis/data_processing/mom_to_cmip.py /g/data3/hh5/tmp/as7904/access-om2/Kewei_fafmip_output/071-077-rstflux-no-frazil-density-fafheat/output077/ocean/ocean_3d.nc temp /g/data/fs38/publications/CMIP6/FAFMIP/CSIRO-ARCCSS/ACCESS-CM2/faf-heat/r1i1p1f1/Omon/bigthetao/gn/v20191210/bigthetao_Omon_ACCESS-CM2_faf-heat_r1i1p1f1_gn_101001-101912.nc sea_water_conservative_temperature /g/data/r87/dbi599/CMIP6/FAFMIP/KEWEI-LYU/ACCESS-OM2/faf-heat/r1i1p1f1/Omon/bigthetao/gn/v20191210/bigthetao_Omon_ACCESS-OM2_faf-heat_r1i1p1f1_gn_101001-101912.nc --ref_names --ref_time\n",
      "/g/data/r87/dbi599/miniconda3/envs/ocean3/bin/python /home/599/dbi599/ocean-analysis/data_processing/mom_to_cmip.py /g/data3/hh5/tmp/as7904/access-om2/Kewei_fafmip_output/071-077-rstflux-no-frazil-density-fafwater/output071/ocean/ocean_3d.nc temp /g/data/fs38/publications/CMIP6/FAFMIP/CSIRO-ARCCSS/ACCESS-CM2/faf-water/r1i1p1f1/Omon/bigthetao/gn/v20191210/bigthetao_Omon_ACCESS-CM2_faf-water_r1i1p1f1_gn_095001-095912.nc sea_water_conservative_temperature /g/data/r87/dbi599/CMIP6/FAFMIP/KEWEI-LYU/ACCESS-OM2/faf-water/r1i1p1f1/Omon/bigthetao/gn/v20191210/bigthetao_Omon_ACCESS-OM2_faf-water_r1i1p1f1_gn_095001-095912.nc --ref_names --ref_time\n",
      "/g/data/r87/dbi599/miniconda3/envs/ocean3/bin/python /home/599/dbi599/ocean-analysis/data_processing/mom_to_cmip.py /g/data3/hh5/tmp/as7904/access-om2/Kewei_fafmip_output/071-077-rstflux-no-frazil-density-fafwater/output072/ocean/ocean_3d.nc temp /g/data/fs38/publications/CMIP6/FAFMIP/CSIRO-ARCCSS/ACCESS-CM2/faf-water/r1i1p1f1/Omon/bigthetao/gn/v20191210/bigthetao_Omon_ACCESS-CM2_faf-water_r1i1p1f1_gn_096001-096912.nc sea_water_conservative_temperature /g/data/r87/dbi599/CMIP6/FAFMIP/KEWEI-LYU/ACCESS-OM2/faf-water/r1i1p1f1/Omon/bigthetao/gn/v20191210/bigthetao_Omon_ACCESS-OM2_faf-water_r1i1p1f1_gn_096001-096912.nc --ref_names --ref_time\n",
      "/g/data/r87/dbi599/miniconda3/envs/ocean3/bin/python /home/599/dbi599/ocean-analysis/data_processing/mom_to_cmip.py /g/data3/hh5/tmp/as7904/access-om2/Kewei_fafmip_output/071-077-rstflux-no-frazil-density-fafwater/output073/ocean/ocean_3d.nc temp /g/data/fs38/publications/CMIP6/FAFMIP/CSIRO-ARCCSS/ACCESS-CM2/faf-water/r1i1p1f1/Omon/bigthetao/gn/v20191210/bigthetao_Omon_ACCESS-CM2_faf-water_r1i1p1f1_gn_097001-097912.nc sea_water_conservative_temperature /g/data/r87/dbi599/CMIP6/FAFMIP/KEWEI-LYU/ACCESS-OM2/faf-water/r1i1p1f1/Omon/bigthetao/gn/v20191210/bigthetao_Omon_ACCESS-OM2_faf-water_r1i1p1f1_gn_097001-097912.nc --ref_names --ref_time\n",
      "/g/data/r87/dbi599/miniconda3/envs/ocean3/bin/python /home/599/dbi599/ocean-analysis/data_processing/mom_to_cmip.py /g/data3/hh5/tmp/as7904/access-om2/Kewei_fafmip_output/071-077-rstflux-no-frazil-density-fafwater/output074/ocean/ocean_3d.nc temp /g/data/fs38/publications/CMIP6/FAFMIP/CSIRO-ARCCSS/ACCESS-CM2/faf-water/r1i1p1f1/Omon/bigthetao/gn/v20191210/bigthetao_Omon_ACCESS-CM2_faf-water_r1i1p1f1_gn_098001-098912.nc sea_water_conservative_temperature /g/data/r87/dbi599/CMIP6/FAFMIP/KEWEI-LYU/ACCESS-OM2/faf-water/r1i1p1f1/Omon/bigthetao/gn/v20191210/bigthetao_Omon_ACCESS-OM2_faf-water_r1i1p1f1_gn_098001-098912.nc --ref_names --ref_time\n",
      "/g/data/r87/dbi599/miniconda3/envs/ocean3/bin/python /home/599/dbi599/ocean-analysis/data_processing/mom_to_cmip.py /g/data3/hh5/tmp/as7904/access-om2/Kewei_fafmip_output/071-077-rstflux-no-frazil-density-fafwater/output075/ocean/ocean_3d.nc temp /g/data/fs38/publications/CMIP6/FAFMIP/CSIRO-ARCCSS/ACCESS-CM2/faf-water/r1i1p1f1/Omon/bigthetao/gn/v20191210/bigthetao_Omon_ACCESS-CM2_faf-water_r1i1p1f1_gn_099001-099912.nc sea_water_conservative_temperature /g/data/r87/dbi599/CMIP6/FAFMIP/KEWEI-LYU/ACCESS-OM2/faf-water/r1i1p1f1/Omon/bigthetao/gn/v20191210/bigthetao_Omon_ACCESS-OM2_faf-water_r1i1p1f1_gn_099001-099912.nc --ref_names --ref_time\n",
      "/g/data/r87/dbi599/miniconda3/envs/ocean3/bin/python /home/599/dbi599/ocean-analysis/data_processing/mom_to_cmip.py /g/data3/hh5/tmp/as7904/access-om2/Kewei_fafmip_output/071-077-rstflux-no-frazil-density-fafwater/output076/ocean/ocean_3d.nc temp /g/data/fs38/publications/CMIP6/FAFMIP/CSIRO-ARCCSS/ACCESS-CM2/faf-water/r1i1p1f1/Omon/bigthetao/gn/v20191210/bigthetao_Omon_ACCESS-CM2_faf-water_r1i1p1f1_gn_100001-100912.nc sea_water_conservative_temperature /g/data/r87/dbi599/CMIP6/FAFMIP/KEWEI-LYU/ACCESS-OM2/faf-water/r1i1p1f1/Omon/bigthetao/gn/v20191210/bigthetao_Omon_ACCESS-OM2_faf-water_r1i1p1f1_gn_100001-100912.nc --ref_names --ref_time\n"
     ]
    },
    {
     "name": "stdout",
     "output_type": "stream",
     "text": [
      "/g/data/r87/dbi599/miniconda3/envs/ocean3/bin/python /home/599/dbi599/ocean-analysis/data_processing/mom_to_cmip.py /g/data3/hh5/tmp/as7904/access-om2/Kewei_fafmip_output/071-077-rstflux-no-frazil-density-fafwater/output077/ocean/ocean_3d.nc temp /g/data/fs38/publications/CMIP6/FAFMIP/CSIRO-ARCCSS/ACCESS-CM2/faf-water/r1i1p1f1/Omon/bigthetao/gn/v20191210/bigthetao_Omon_ACCESS-CM2_faf-water_r1i1p1f1_gn_101001-101912.nc sea_water_conservative_temperature /g/data/r87/dbi599/CMIP6/FAFMIP/KEWEI-LYU/ACCESS-OM2/faf-water/r1i1p1f1/Omon/bigthetao/gn/v20191210/bigthetao_Omon_ACCESS-OM2_faf-water_r1i1p1f1_gn_101001-101912.nc --ref_names --ref_time\n",
      "/g/data/r87/dbi599/miniconda3/envs/ocean3/bin/python /home/599/dbi599/ocean-analysis/data_processing/mom_to_cmip.py /g/data3/hh5/tmp/as7904/access-om2/Kewei_fafmip_output/071-077-rstflux-no-frazil-density-fafheat/output071/ocean/ocean_3d.nc salt /g/data/fs38/publications/CMIP6/FAFMIP/CSIRO-ARCCSS/ACCESS-CM2/faf-heat/r1i1p1f1/Omon/so/gn/v20191210/so_Omon_ACCESS-CM2_faf-heat_r1i1p1f1_gn_095001-095912.nc sea_water_salinity /g/data/r87/dbi599/CMIP6/FAFMIP/KEWEI-LYU/ACCESS-OM2/faf-heat/r1i1p1f1/Omon/so/gn/v20191210/so_Omon_ACCESS-OM2_faf-heat_r1i1p1f1_gn_095001-095912.nc --ref_names --ref_time\n",
      "/g/data/r87/dbi599/miniconda3/envs/ocean3/bin/python /home/599/dbi599/ocean-analysis/data_processing/mom_to_cmip.py /g/data3/hh5/tmp/as7904/access-om2/Kewei_fafmip_output/071-077-rstflux-no-frazil-density-fafheat/output072/ocean/ocean_3d.nc salt /g/data/fs38/publications/CMIP6/FAFMIP/CSIRO-ARCCSS/ACCESS-CM2/faf-heat/r1i1p1f1/Omon/so/gn/v20191210/so_Omon_ACCESS-CM2_faf-heat_r1i1p1f1_gn_096001-096912.nc sea_water_salinity /g/data/r87/dbi599/CMIP6/FAFMIP/KEWEI-LYU/ACCESS-OM2/faf-heat/r1i1p1f1/Omon/so/gn/v20191210/so_Omon_ACCESS-OM2_faf-heat_r1i1p1f1_gn_096001-096912.nc --ref_names --ref_time\n",
      "/g/data/r87/dbi599/miniconda3/envs/ocean3/bin/python /home/599/dbi599/ocean-analysis/data_processing/mom_to_cmip.py /g/data3/hh5/tmp/as7904/access-om2/Kewei_fafmip_output/071-077-rstflux-no-frazil-density-fafheat/output073/ocean/ocean_3d.nc salt /g/data/fs38/publications/CMIP6/FAFMIP/CSIRO-ARCCSS/ACCESS-CM2/faf-heat/r1i1p1f1/Omon/so/gn/v20191210/so_Omon_ACCESS-CM2_faf-heat_r1i1p1f1_gn_097001-097912.nc sea_water_salinity /g/data/r87/dbi599/CMIP6/FAFMIP/KEWEI-LYU/ACCESS-OM2/faf-heat/r1i1p1f1/Omon/so/gn/v20191210/so_Omon_ACCESS-OM2_faf-heat_r1i1p1f1_gn_097001-097912.nc --ref_names --ref_time\n",
      "/g/data/r87/dbi599/miniconda3/envs/ocean3/bin/python /home/599/dbi599/ocean-analysis/data_processing/mom_to_cmip.py /g/data3/hh5/tmp/as7904/access-om2/Kewei_fafmip_output/071-077-rstflux-no-frazil-density-fafheat/output074/ocean/ocean_3d.nc salt /g/data/fs38/publications/CMIP6/FAFMIP/CSIRO-ARCCSS/ACCESS-CM2/faf-heat/r1i1p1f1/Omon/so/gn/v20191210/so_Omon_ACCESS-CM2_faf-heat_r1i1p1f1_gn_098001-098912.nc sea_water_salinity /g/data/r87/dbi599/CMIP6/FAFMIP/KEWEI-LYU/ACCESS-OM2/faf-heat/r1i1p1f1/Omon/so/gn/v20191210/so_Omon_ACCESS-OM2_faf-heat_r1i1p1f1_gn_098001-098912.nc --ref_names --ref_time\n",
      "/g/data/r87/dbi599/miniconda3/envs/ocean3/bin/python /home/599/dbi599/ocean-analysis/data_processing/mom_to_cmip.py /g/data3/hh5/tmp/as7904/access-om2/Kewei_fafmip_output/071-077-rstflux-no-frazil-density-fafheat/output075/ocean/ocean_3d.nc salt /g/data/fs38/publications/CMIP6/FAFMIP/CSIRO-ARCCSS/ACCESS-CM2/faf-heat/r1i1p1f1/Omon/so/gn/v20191210/so_Omon_ACCESS-CM2_faf-heat_r1i1p1f1_gn_099001-099912.nc sea_water_salinity /g/data/r87/dbi599/CMIP6/FAFMIP/KEWEI-LYU/ACCESS-OM2/faf-heat/r1i1p1f1/Omon/so/gn/v20191210/so_Omon_ACCESS-OM2_faf-heat_r1i1p1f1_gn_099001-099912.nc --ref_names --ref_time\n",
      "/g/data/r87/dbi599/miniconda3/envs/ocean3/bin/python /home/599/dbi599/ocean-analysis/data_processing/mom_to_cmip.py /g/data3/hh5/tmp/as7904/access-om2/Kewei_fafmip_output/071-077-rstflux-no-frazil-density-fafheat/output076/ocean/ocean_3d.nc salt /g/data/fs38/publications/CMIP6/FAFMIP/CSIRO-ARCCSS/ACCESS-CM2/faf-heat/r1i1p1f1/Omon/so/gn/v20191210/so_Omon_ACCESS-CM2_faf-heat_r1i1p1f1_gn_100001-100912.nc sea_water_salinity /g/data/r87/dbi599/CMIP6/FAFMIP/KEWEI-LYU/ACCESS-OM2/faf-heat/r1i1p1f1/Omon/so/gn/v20191210/so_Omon_ACCESS-OM2_faf-heat_r1i1p1f1_gn_100001-100912.nc --ref_names --ref_time\n",
      "/g/data/r87/dbi599/miniconda3/envs/ocean3/bin/python /home/599/dbi599/ocean-analysis/data_processing/mom_to_cmip.py /g/data3/hh5/tmp/as7904/access-om2/Kewei_fafmip_output/071-077-rstflux-no-frazil-density-fafheat/output077/ocean/ocean_3d.nc salt /g/data/fs38/publications/CMIP6/FAFMIP/CSIRO-ARCCSS/ACCESS-CM2/faf-heat/r1i1p1f1/Omon/so/gn/v20191210/so_Omon_ACCESS-CM2_faf-heat_r1i1p1f1_gn_101001-101912.nc sea_water_salinity /g/data/r87/dbi599/CMIP6/FAFMIP/KEWEI-LYU/ACCESS-OM2/faf-heat/r1i1p1f1/Omon/so/gn/v20191210/so_Omon_ACCESS-OM2_faf-heat_r1i1p1f1_gn_101001-101912.nc --ref_names --ref_time\n",
      "/g/data/r87/dbi599/miniconda3/envs/ocean3/bin/python /home/599/dbi599/ocean-analysis/data_processing/mom_to_cmip.py /g/data3/hh5/tmp/as7904/access-om2/Kewei_fafmip_output/071-077-rstflux-no-frazil-density-fafwater/output071/ocean/ocean_3d.nc salt /g/data/fs38/publications/CMIP6/FAFMIP/CSIRO-ARCCSS/ACCESS-CM2/faf-water/r1i1p1f1/Omon/so/gn/v20191210/so_Omon_ACCESS-CM2_faf-water_r1i1p1f1_gn_095001-095912.nc sea_water_salinity /g/data/r87/dbi599/CMIP6/FAFMIP/KEWEI-LYU/ACCESS-OM2/faf-water/r1i1p1f1/Omon/so/gn/v20191210/so_Omon_ACCESS-OM2_faf-water_r1i1p1f1_gn_095001-095912.nc --ref_names --ref_time\n",
      "/g/data/r87/dbi599/miniconda3/envs/ocean3/bin/python /home/599/dbi599/ocean-analysis/data_processing/mom_to_cmip.py /g/data3/hh5/tmp/as7904/access-om2/Kewei_fafmip_output/071-077-rstflux-no-frazil-density-fafwater/output072/ocean/ocean_3d.nc salt /g/data/fs38/publications/CMIP6/FAFMIP/CSIRO-ARCCSS/ACCESS-CM2/faf-water/r1i1p1f1/Omon/so/gn/v20191210/so_Omon_ACCESS-CM2_faf-water_r1i1p1f1_gn_096001-096912.nc sea_water_salinity /g/data/r87/dbi599/CMIP6/FAFMIP/KEWEI-LYU/ACCESS-OM2/faf-water/r1i1p1f1/Omon/so/gn/v20191210/so_Omon_ACCESS-OM2_faf-water_r1i1p1f1_gn_096001-096912.nc --ref_names --ref_time\n",
      "/g/data/r87/dbi599/miniconda3/envs/ocean3/bin/python /home/599/dbi599/ocean-analysis/data_processing/mom_to_cmip.py /g/data3/hh5/tmp/as7904/access-om2/Kewei_fafmip_output/071-077-rstflux-no-frazil-density-fafwater/output073/ocean/ocean_3d.nc salt /g/data/fs38/publications/CMIP6/FAFMIP/CSIRO-ARCCSS/ACCESS-CM2/faf-water/r1i1p1f1/Omon/so/gn/v20191210/so_Omon_ACCESS-CM2_faf-water_r1i1p1f1_gn_097001-097912.nc sea_water_salinity /g/data/r87/dbi599/CMIP6/FAFMIP/KEWEI-LYU/ACCESS-OM2/faf-water/r1i1p1f1/Omon/so/gn/v20191210/so_Omon_ACCESS-OM2_faf-water_r1i1p1f1_gn_097001-097912.nc --ref_names --ref_time\n",
      "/g/data/r87/dbi599/miniconda3/envs/ocean3/bin/python /home/599/dbi599/ocean-analysis/data_processing/mom_to_cmip.py /g/data3/hh5/tmp/as7904/access-om2/Kewei_fafmip_output/071-077-rstflux-no-frazil-density-fafwater/output074/ocean/ocean_3d.nc salt /g/data/fs38/publications/CMIP6/FAFMIP/CSIRO-ARCCSS/ACCESS-CM2/faf-water/r1i1p1f1/Omon/so/gn/v20191210/so_Omon_ACCESS-CM2_faf-water_r1i1p1f1_gn_098001-098912.nc sea_water_salinity /g/data/r87/dbi599/CMIP6/FAFMIP/KEWEI-LYU/ACCESS-OM2/faf-water/r1i1p1f1/Omon/so/gn/v20191210/so_Omon_ACCESS-OM2_faf-water_r1i1p1f1_gn_098001-098912.nc --ref_names --ref_time\n",
      "/g/data/r87/dbi599/miniconda3/envs/ocean3/bin/python /home/599/dbi599/ocean-analysis/data_processing/mom_to_cmip.py /g/data3/hh5/tmp/as7904/access-om2/Kewei_fafmip_output/071-077-rstflux-no-frazil-density-fafwater/output075/ocean/ocean_3d.nc salt /g/data/fs38/publications/CMIP6/FAFMIP/CSIRO-ARCCSS/ACCESS-CM2/faf-water/r1i1p1f1/Omon/so/gn/v20191210/so_Omon_ACCESS-CM2_faf-water_r1i1p1f1_gn_099001-099912.nc sea_water_salinity /g/data/r87/dbi599/CMIP6/FAFMIP/KEWEI-LYU/ACCESS-OM2/faf-water/r1i1p1f1/Omon/so/gn/v20191210/so_Omon_ACCESS-OM2_faf-water_r1i1p1f1_gn_099001-099912.nc --ref_names --ref_time\n",
      "/g/data/r87/dbi599/miniconda3/envs/ocean3/bin/python /home/599/dbi599/ocean-analysis/data_processing/mom_to_cmip.py /g/data3/hh5/tmp/as7904/access-om2/Kewei_fafmip_output/071-077-rstflux-no-frazil-density-fafwater/output076/ocean/ocean_3d.nc salt /g/data/fs38/publications/CMIP6/FAFMIP/CSIRO-ARCCSS/ACCESS-CM2/faf-water/r1i1p1f1/Omon/so/gn/v20191210/so_Omon_ACCESS-CM2_faf-water_r1i1p1f1_gn_100001-100912.nc sea_water_salinity /g/data/r87/dbi599/CMIP6/FAFMIP/KEWEI-LYU/ACCESS-OM2/faf-water/r1i1p1f1/Omon/so/gn/v20191210/so_Omon_ACCESS-OM2_faf-water_r1i1p1f1_gn_100001-100912.nc --ref_names --ref_time\n"
     ]
    },
    {
     "name": "stdout",
     "output_type": "stream",
     "text": [
      "/g/data/r87/dbi599/miniconda3/envs/ocean3/bin/python /home/599/dbi599/ocean-analysis/data_processing/mom_to_cmip.py /g/data3/hh5/tmp/as7904/access-om2/Kewei_fafmip_output/071-077-rstflux-no-frazil-density-fafwater/output077/ocean/ocean_3d.nc salt /g/data/fs38/publications/CMIP6/FAFMIP/CSIRO-ARCCSS/ACCESS-CM2/faf-water/r1i1p1f1/Omon/so/gn/v20191210/so_Omon_ACCESS-CM2_faf-water_r1i1p1f1_gn_101001-101912.nc sea_water_salinity /g/data/r87/dbi599/CMIP6/FAFMIP/KEWEI-LYU/ACCESS-OM2/faf-water/r1i1p1f1/Omon/so/gn/v20191210/so_Omon_ACCESS-OM2_faf-water_r1i1p1f1_gn_101001-101912.nc --ref_names --ref_time\n"
     ]
    }
   ],
   "source": [
    "for mom_name, var_name, standard_name in variables:\n",
    "    for experiment in experiments:\n",
    "        mom_exp = experiment.replace('-', '')\n",
    "        cmip_files = glob.glob(f'/g/data/fs38/publications/CMIP6/FAFMIP/CSIRO-ARCCSS/ACCESS-CM2/{experiment}/r1i1p1f1/Omon/{var_name}/gn/v20191210/*.nc')\n",
    "        cmip_files.sort()\n",
    "        mom_files = glob.glob(f'/g/data3/hh5/tmp/as7904/access-om2/Kewei_fafmip_output/071-077-rstflux-no-frazil-density-{mom_exp}/output07*/ocean/ocean_3d.nc')\n",
    "        mom_files.sort()\n",
    "        for cmip_file, mom_file in zip(cmip_files, mom_files):\n",
    "            date_range = cmip_file.split('.')[0].split('_')[-1]\n",
    "            outdir = f'/g/data/r87/dbi599/CMIP6/FAFMIP/KEWEI-LYU/ACCESS-OM2/{experiment}/r1i1p1f1/Omon/{var_name}/gn/v20191210/'\n",
    "            outfile = f'{var_name}_Omon_ACCESS-OM2_{experiment}_r1i1p1f1_gn_{date_range}.nc' \n",
    "            os.system(f'mkdir -p {outdir}')\n",
    "            cmd = f'{python} {script} {mom_file} {mom_name} {cmip_file} {standard_name} {outdir}{outfile} --ref_names --ref_time'\n",
    "            print(cmd)\n",
    "            os.system(cmd)\n",
    "            "
   ]
  },
  {
   "cell_type": "code",
   "execution_count": 9,
   "metadata": {},
   "outputs": [
    {
     "name": "stdout",
     "output_type": "stream",
     "text": [
      "/g/data/r87/dbi599/miniconda3/envs/ocean3/bin/python /home/599/dbi599/ocean-analysis/data_processing/mom_to_cmip.py /g/data3/hh5/tmp/as7904/access-om2/Kewei_fafmip_output/071-077-rstflux-no-frazil/output071/ocean/ocean_3d.nc temp /g/data/fs38/publications/CMIP6/FAFMIP/CSIRO-ARCCSS/ACCESS-CM2/faf-passiveheat/r1i1p1f1/Omon/bigthetao/gn/v20191210/bigthetao_Omon_ACCESS-CM2_faf-passiveheat_r1i1p1f1_gn_095001-095912.nc sea_water_conservative_temperature /g/data/r87/dbi599/CMIP6/FAFMIP/KEWEI-LYU/ACCESS-OM2/faf-passiveheat/r1i1p1f1/Omon/bigthetao/gn/v20191210/bigthetao_Omon_ACCESS-OM2_faf-passiveheat_r1i1p1f1_gn_095001-095912.nc --ref_names --ref_time\n",
      "/g/data/r87/dbi599/miniconda3/envs/ocean3/bin/python /home/599/dbi599/ocean-analysis/data_processing/mom_to_cmip.py /g/data3/hh5/tmp/as7904/access-om2/Kewei_fafmip_output/071-077-rstflux-no-frazil/output072/ocean/ocean_3d.nc temp /g/data/fs38/publications/CMIP6/FAFMIP/CSIRO-ARCCSS/ACCESS-CM2/faf-passiveheat/r1i1p1f1/Omon/bigthetao/gn/v20191210/bigthetao_Omon_ACCESS-CM2_faf-passiveheat_r1i1p1f1_gn_096001-096912.nc sea_water_conservative_temperature /g/data/r87/dbi599/CMIP6/FAFMIP/KEWEI-LYU/ACCESS-OM2/faf-passiveheat/r1i1p1f1/Omon/bigthetao/gn/v20191210/bigthetao_Omon_ACCESS-OM2_faf-passiveheat_r1i1p1f1_gn_096001-096912.nc --ref_names --ref_time\n",
      "/g/data/r87/dbi599/miniconda3/envs/ocean3/bin/python /home/599/dbi599/ocean-analysis/data_processing/mom_to_cmip.py /g/data3/hh5/tmp/as7904/access-om2/Kewei_fafmip_output/071-077-rstflux-no-frazil/output073/ocean/ocean_3d.nc temp /g/data/fs38/publications/CMIP6/FAFMIP/CSIRO-ARCCSS/ACCESS-CM2/faf-passiveheat/r1i1p1f1/Omon/bigthetao/gn/v20191210/bigthetao_Omon_ACCESS-CM2_faf-passiveheat_r1i1p1f1_gn_097001-097912.nc sea_water_conservative_temperature /g/data/r87/dbi599/CMIP6/FAFMIP/KEWEI-LYU/ACCESS-OM2/faf-passiveheat/r1i1p1f1/Omon/bigthetao/gn/v20191210/bigthetao_Omon_ACCESS-OM2_faf-passiveheat_r1i1p1f1_gn_097001-097912.nc --ref_names --ref_time\n",
      "/g/data/r87/dbi599/miniconda3/envs/ocean3/bin/python /home/599/dbi599/ocean-analysis/data_processing/mom_to_cmip.py /g/data3/hh5/tmp/as7904/access-om2/Kewei_fafmip_output/071-077-rstflux-no-frazil/output074/ocean/ocean_3d.nc temp /g/data/fs38/publications/CMIP6/FAFMIP/CSIRO-ARCCSS/ACCESS-CM2/faf-passiveheat/r1i1p1f1/Omon/bigthetao/gn/v20191210/bigthetao_Omon_ACCESS-CM2_faf-passiveheat_r1i1p1f1_gn_098001-098912.nc sea_water_conservative_temperature /g/data/r87/dbi599/CMIP6/FAFMIP/KEWEI-LYU/ACCESS-OM2/faf-passiveheat/r1i1p1f1/Omon/bigthetao/gn/v20191210/bigthetao_Omon_ACCESS-OM2_faf-passiveheat_r1i1p1f1_gn_098001-098912.nc --ref_names --ref_time\n",
      "/g/data/r87/dbi599/miniconda3/envs/ocean3/bin/python /home/599/dbi599/ocean-analysis/data_processing/mom_to_cmip.py /g/data3/hh5/tmp/as7904/access-om2/Kewei_fafmip_output/071-077-rstflux-no-frazil/output075/ocean/ocean_3d.nc temp /g/data/fs38/publications/CMIP6/FAFMIP/CSIRO-ARCCSS/ACCESS-CM2/faf-passiveheat/r1i1p1f1/Omon/bigthetao/gn/v20191210/bigthetao_Omon_ACCESS-CM2_faf-passiveheat_r1i1p1f1_gn_099001-099912.nc sea_water_conservative_temperature /g/data/r87/dbi599/CMIP6/FAFMIP/KEWEI-LYU/ACCESS-OM2/faf-passiveheat/r1i1p1f1/Omon/bigthetao/gn/v20191210/bigthetao_Omon_ACCESS-OM2_faf-passiveheat_r1i1p1f1_gn_099001-099912.nc --ref_names --ref_time\n",
      "/g/data/r87/dbi599/miniconda3/envs/ocean3/bin/python /home/599/dbi599/ocean-analysis/data_processing/mom_to_cmip.py /g/data3/hh5/tmp/as7904/access-om2/Kewei_fafmip_output/071-077-rstflux-no-frazil/output076/ocean/ocean_3d.nc temp /g/data/fs38/publications/CMIP6/FAFMIP/CSIRO-ARCCSS/ACCESS-CM2/faf-passiveheat/r1i1p1f1/Omon/bigthetao/gn/v20191210/bigthetao_Omon_ACCESS-CM2_faf-passiveheat_r1i1p1f1_gn_100001-100912.nc sea_water_conservative_temperature /g/data/r87/dbi599/CMIP6/FAFMIP/KEWEI-LYU/ACCESS-OM2/faf-passiveheat/r1i1p1f1/Omon/bigthetao/gn/v20191210/bigthetao_Omon_ACCESS-OM2_faf-passiveheat_r1i1p1f1_gn_100001-100912.nc --ref_names --ref_time\n",
      "/g/data/r87/dbi599/miniconda3/envs/ocean3/bin/python /home/599/dbi599/ocean-analysis/data_processing/mom_to_cmip.py /g/data3/hh5/tmp/as7904/access-om2/Kewei_fafmip_output/071-077-rstflux-no-frazil/output077/ocean/ocean_3d.nc temp /g/data/fs38/publications/CMIP6/FAFMIP/CSIRO-ARCCSS/ACCESS-CM2/faf-passiveheat/r1i1p1f1/Omon/bigthetao/gn/v20191210/bigthetao_Omon_ACCESS-CM2_faf-passiveheat_r1i1p1f1_gn_101001-101912.nc sea_water_conservative_temperature /g/data/r87/dbi599/CMIP6/FAFMIP/KEWEI-LYU/ACCESS-OM2/faf-passiveheat/r1i1p1f1/Omon/bigthetao/gn/v20191210/bigthetao_Omon_ACCESS-OM2_faf-passiveheat_r1i1p1f1_gn_101001-101912.nc --ref_names --ref_time\n",
      "/g/data/r87/dbi599/miniconda3/envs/ocean3/bin/python /home/599/dbi599/ocean-analysis/data_processing/mom_to_cmip.py /g/data3/hh5/tmp/as7904/access-om2/Kewei_fafmip_output/071-077-rstflux-no-frazil/output071/ocean/ocean_3d.nc salt /g/data/fs38/publications/CMIP6/FAFMIP/CSIRO-ARCCSS/ACCESS-CM2/faf-passiveheat/r1i1p1f1/Omon/so/gn/v20191210/so_Omon_ACCESS-CM2_faf-passiveheat_r1i1p1f1_gn_095001-095912.nc sea_water_salinity /g/data/r87/dbi599/CMIP6/FAFMIP/KEWEI-LYU/ACCESS-OM2/faf-passiveheat/r1i1p1f1/Omon/so/gn/v20191210/so_Omon_ACCESS-OM2_faf-passiveheat_r1i1p1f1_gn_095001-095912.nc --ref_names --ref_time\n",
      "/g/data/r87/dbi599/miniconda3/envs/ocean3/bin/python /home/599/dbi599/ocean-analysis/data_processing/mom_to_cmip.py /g/data3/hh5/tmp/as7904/access-om2/Kewei_fafmip_output/071-077-rstflux-no-frazil/output072/ocean/ocean_3d.nc salt /g/data/fs38/publications/CMIP6/FAFMIP/CSIRO-ARCCSS/ACCESS-CM2/faf-passiveheat/r1i1p1f1/Omon/so/gn/v20191210/so_Omon_ACCESS-CM2_faf-passiveheat_r1i1p1f1_gn_096001-096912.nc sea_water_salinity /g/data/r87/dbi599/CMIP6/FAFMIP/KEWEI-LYU/ACCESS-OM2/faf-passiveheat/r1i1p1f1/Omon/so/gn/v20191210/so_Omon_ACCESS-OM2_faf-passiveheat_r1i1p1f1_gn_096001-096912.nc --ref_names --ref_time\n",
      "/g/data/r87/dbi599/miniconda3/envs/ocean3/bin/python /home/599/dbi599/ocean-analysis/data_processing/mom_to_cmip.py /g/data3/hh5/tmp/as7904/access-om2/Kewei_fafmip_output/071-077-rstflux-no-frazil/output073/ocean/ocean_3d.nc salt /g/data/fs38/publications/CMIP6/FAFMIP/CSIRO-ARCCSS/ACCESS-CM2/faf-passiveheat/r1i1p1f1/Omon/so/gn/v20191210/so_Omon_ACCESS-CM2_faf-passiveheat_r1i1p1f1_gn_097001-097912.nc sea_water_salinity /g/data/r87/dbi599/CMIP6/FAFMIP/KEWEI-LYU/ACCESS-OM2/faf-passiveheat/r1i1p1f1/Omon/so/gn/v20191210/so_Omon_ACCESS-OM2_faf-passiveheat_r1i1p1f1_gn_097001-097912.nc --ref_names --ref_time\n",
      "/g/data/r87/dbi599/miniconda3/envs/ocean3/bin/python /home/599/dbi599/ocean-analysis/data_processing/mom_to_cmip.py /g/data3/hh5/tmp/as7904/access-om2/Kewei_fafmip_output/071-077-rstflux-no-frazil/output074/ocean/ocean_3d.nc salt /g/data/fs38/publications/CMIP6/FAFMIP/CSIRO-ARCCSS/ACCESS-CM2/faf-passiveheat/r1i1p1f1/Omon/so/gn/v20191210/so_Omon_ACCESS-CM2_faf-passiveheat_r1i1p1f1_gn_098001-098912.nc sea_water_salinity /g/data/r87/dbi599/CMIP6/FAFMIP/KEWEI-LYU/ACCESS-OM2/faf-passiveheat/r1i1p1f1/Omon/so/gn/v20191210/so_Omon_ACCESS-OM2_faf-passiveheat_r1i1p1f1_gn_098001-098912.nc --ref_names --ref_time\n",
      "/g/data/r87/dbi599/miniconda3/envs/ocean3/bin/python /home/599/dbi599/ocean-analysis/data_processing/mom_to_cmip.py /g/data3/hh5/tmp/as7904/access-om2/Kewei_fafmip_output/071-077-rstflux-no-frazil/output075/ocean/ocean_3d.nc salt /g/data/fs38/publications/CMIP6/FAFMIP/CSIRO-ARCCSS/ACCESS-CM2/faf-passiveheat/r1i1p1f1/Omon/so/gn/v20191210/so_Omon_ACCESS-CM2_faf-passiveheat_r1i1p1f1_gn_099001-099912.nc sea_water_salinity /g/data/r87/dbi599/CMIP6/FAFMIP/KEWEI-LYU/ACCESS-OM2/faf-passiveheat/r1i1p1f1/Omon/so/gn/v20191210/so_Omon_ACCESS-OM2_faf-passiveheat_r1i1p1f1_gn_099001-099912.nc --ref_names --ref_time\n",
      "/g/data/r87/dbi599/miniconda3/envs/ocean3/bin/python /home/599/dbi599/ocean-analysis/data_processing/mom_to_cmip.py /g/data3/hh5/tmp/as7904/access-om2/Kewei_fafmip_output/071-077-rstflux-no-frazil/output076/ocean/ocean_3d.nc salt /g/data/fs38/publications/CMIP6/FAFMIP/CSIRO-ARCCSS/ACCESS-CM2/faf-passiveheat/r1i1p1f1/Omon/so/gn/v20191210/so_Omon_ACCESS-CM2_faf-passiveheat_r1i1p1f1_gn_100001-100912.nc sea_water_salinity /g/data/r87/dbi599/CMIP6/FAFMIP/KEWEI-LYU/ACCESS-OM2/faf-passiveheat/r1i1p1f1/Omon/so/gn/v20191210/so_Omon_ACCESS-OM2_faf-passiveheat_r1i1p1f1_gn_100001-100912.nc --ref_names --ref_time\n"
     ]
    },
    {
     "name": "stdout",
     "output_type": "stream",
     "text": [
      "/g/data/r87/dbi599/miniconda3/envs/ocean3/bin/python /home/599/dbi599/ocean-analysis/data_processing/mom_to_cmip.py /g/data3/hh5/tmp/as7904/access-om2/Kewei_fafmip_output/071-077-rstflux-no-frazil/output077/ocean/ocean_3d.nc salt /g/data/fs38/publications/CMIP6/FAFMIP/CSIRO-ARCCSS/ACCESS-CM2/faf-passiveheat/r1i1p1f1/Omon/so/gn/v20191210/so_Omon_ACCESS-CM2_faf-passiveheat_r1i1p1f1_gn_101001-101912.nc sea_water_salinity /g/data/r87/dbi599/CMIP6/FAFMIP/KEWEI-LYU/ACCESS-OM2/faf-passiveheat/r1i1p1f1/Omon/so/gn/v20191210/so_Omon_ACCESS-OM2_faf-passiveheat_r1i1p1f1_gn_101001-101912.nc --ref_names --ref_time\n"
     ]
    }
   ],
   "source": [
    "for mom_name, var_name, standard_name in variables:\n",
    "    cmip_files = glob.glob(f'/g/data/fs38/publications/CMIP6/FAFMIP/CSIRO-ARCCSS/ACCESS-CM2/faf-passiveheat/r1i1p1f1/Omon/{var_name}/gn/v20191210/*.nc')\n",
    "    cmip_files.sort()\n",
    "    mom_files = glob.glob(f'/g/data3/hh5/tmp/as7904/access-om2/Kewei_fafmip_output/071-077-rstflux-no-frazil/output07*/ocean/ocean_3d.nc')\n",
    "    mom_files.sort()\n",
    "    for cmip_file, mom_file in zip(cmip_files, mom_files):\n",
    "        date_range = cmip_file.split('.')[0].split('_')[-1]\n",
    "        outdir = f'/g/data/r87/dbi599/CMIP6/FAFMIP/KEWEI-LYU/ACCESS-OM2/faf-passiveheat/r1i1p1f1/Omon/{var_name}/gn/v20191210/'\n",
    "        outfile = f'{var_name}_Omon_ACCESS-OM2_faf-passiveheat_r1i1p1f1_gn_{date_range}.nc' \n",
    "        os.system(f'mkdir -p {outdir}')\n",
    "        cmd = f'{python} {script} {mom_file} {mom_name} {cmip_file} {standard_name} {outdir}{outfile} --ref_names --ref_time'\n",
    "        print(cmd)\n",
    "        os.system(cmd)"
   ]
  },
  {
   "cell_type": "code",
   "execution_count": null,
   "metadata": {},
   "outputs": [],
   "source": []
  }
 ],
 "metadata": {
  "kernelspec": {
   "display_name": "Python 3",
   "language": "python",
   "name": "python3"
  },
  "language_info": {
   "codemirror_mode": {
    "name": "ipython",
    "version": 3
   },
   "file_extension": ".py",
   "mimetype": "text/x-python",
   "name": "python",
   "nbconvert_exporter": "python",
   "pygments_lexer": "ipython3",
   "version": "3.7.6"
  }
 },
 "nbformat": 4,
 "nbformat_minor": 4
}
