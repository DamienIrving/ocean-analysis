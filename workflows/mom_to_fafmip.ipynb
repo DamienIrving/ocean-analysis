{
 "cells": [
  {
   "cell_type": "code",
   "execution_count": 1,
   "metadata": {},
   "outputs": [],
   "source": [
    "import glob\n",
    "import os"
   ]
  },
  {
   "cell_type": "code",
   "execution_count": 2,
   "metadata": {},
   "outputs": [],
   "source": [
    "python = '/g/data/r87/dbi599/miniconda3/envs/ocean3/bin/python'\n",
    "mom_script = '/home/599/dbi599/ocean-analysis/data_processing/mom_to_cmip.py'\n",
    "arith_script = '/home/599/dbi599/ocean-analysis/data_processing/calc_arithmetic.py'"
   ]
  },
  {
   "cell_type": "code",
   "execution_count": 10,
   "metadata": {},
   "outputs": [],
   "source": [
    "# Control files, ocean 3D variables\n",
    "\n",
    "variables = [('temp', 'bigthetao', 'sea_water_conservative_temperature'),\n",
    "             ('salt', 'so', 'sea_water_salinity')]\n",
    "for mom_name, var_name, standard_name in variables:\n",
    "    cmip_files = glob.glob(f'/g/data/fs38/publications/CMIP6/FAFMIP/CSIRO-ARCCSS/ACCESS-CM2/faf-passiveheat/r1i1p1f1/Omon/{var_name}/gn/v20191210/*.nc')\n",
    "    cmip_files.sort()\n",
    "    mom_files = glob.glob(f'/g/data3/hh5/tmp/as7904/access-om2/Kewei_fafmip_output/071-077-rstflux-no-frazil/output07*/ocean/ocean_3d.nc')\n",
    "    mom_files.sort()\n",
    "    for cmip_file, mom_file in zip(cmip_files, mom_files):\n",
    "        date_range = cmip_file.split('.')[0].split('_')[-1]\n",
    "        outdir = f'/g/data/r87/dbi599/CMIP6/FAFMIP/KEWEI-LYU/ACCESS-OM2/faf-passiveheat/r1i1p1f1/Omon/{var_name}/gn/v20191210/'\n",
    "        outfile = f'{var_name}_Omon_ACCESS-OM2_faf-passiveheat_r1i1p1f1_gn_{date_range}.nc' \n",
    "        #os.system(f'mkdir -p {outdir}')\n",
    "        cmd = f'{python} {mom_script} {mom_file} {mom_name} {cmip_file} {standard_name} {outdir}{outfile} --ref_names --ref_time'\n",
    "        #print(cmd)\n",
    "        #os.system(cmd)"
   ]
  },
  {
   "cell_type": "code",
   "execution_count": 5,
   "metadata": {
    "scrolled": false
   },
   "outputs": [
    {
     "name": "stdout",
     "output_type": "stream",
     "text": [
      "/g/data/r87/dbi599/miniconda3/envs/ocean3/bin/python /home/599/dbi599/ocean-analysis/data_processing/mom_to_cmip.py /g/data3/hh5/tmp/as7904/access-om2/Kewei_fafmip_output/071-077-rstflux-no-frazil-density-fafwater/output071/ocean/ocean_3d.nc added_heat /g/data/fs38/publications/CMIP6/FAFMIP/CSIRO-ARCCSS/ACCESS-CM2/faf-water/r1i1p1f1/Emon/pabigthetao/gn/v20191210/pabigthetao_Emon_ACCESS-CM2_faf-water_r1i1p1f1_gn_095001-095912.nc sea_water_added_conservative_temperature /g/data/r87/dbi599/CMIP6/FAFMIP/KEWEI-LYU/ACCESS-OM2/faf-water/r1i1p1f1/Emon/pabigthetao/gn/v20191210/pabigthetao_Emon_ACCESS-OM2_faf-water_r1i1p1f1_gn_095001-095912.nc --ref_names --ref_time\n",
      "/g/data/r87/dbi599/miniconda3/envs/ocean3/bin/python /home/599/dbi599/ocean-analysis/data_processing/mom_to_cmip.py /g/data3/hh5/tmp/as7904/access-om2/Kewei_fafmip_output/071-077-rstflux-no-frazil-density-fafwater/output072/ocean/ocean_3d.nc added_heat /g/data/fs38/publications/CMIP6/FAFMIP/CSIRO-ARCCSS/ACCESS-CM2/faf-water/r1i1p1f1/Emon/pabigthetao/gn/v20191210/pabigthetao_Emon_ACCESS-CM2_faf-water_r1i1p1f1_gn_096001-096912.nc sea_water_added_conservative_temperature /g/data/r87/dbi599/CMIP6/FAFMIP/KEWEI-LYU/ACCESS-OM2/faf-water/r1i1p1f1/Emon/pabigthetao/gn/v20191210/pabigthetao_Emon_ACCESS-OM2_faf-water_r1i1p1f1_gn_096001-096912.nc --ref_names --ref_time\n",
      "/g/data/r87/dbi599/miniconda3/envs/ocean3/bin/python /home/599/dbi599/ocean-analysis/data_processing/mom_to_cmip.py /g/data3/hh5/tmp/as7904/access-om2/Kewei_fafmip_output/071-077-rstflux-no-frazil-density-fafwater/output073/ocean/ocean_3d.nc added_heat /g/data/fs38/publications/CMIP6/FAFMIP/CSIRO-ARCCSS/ACCESS-CM2/faf-water/r1i1p1f1/Emon/pabigthetao/gn/v20191210/pabigthetao_Emon_ACCESS-CM2_faf-water_r1i1p1f1_gn_097001-097912.nc sea_water_added_conservative_temperature /g/data/r87/dbi599/CMIP6/FAFMIP/KEWEI-LYU/ACCESS-OM2/faf-water/r1i1p1f1/Emon/pabigthetao/gn/v20191210/pabigthetao_Emon_ACCESS-OM2_faf-water_r1i1p1f1_gn_097001-097912.nc --ref_names --ref_time\n",
      "/g/data/r87/dbi599/miniconda3/envs/ocean3/bin/python /home/599/dbi599/ocean-analysis/data_processing/mom_to_cmip.py /g/data3/hh5/tmp/as7904/access-om2/Kewei_fafmip_output/071-077-rstflux-no-frazil-density-fafwater/output074/ocean/ocean_3d.nc added_heat /g/data/fs38/publications/CMIP6/FAFMIP/CSIRO-ARCCSS/ACCESS-CM2/faf-water/r1i1p1f1/Emon/pabigthetao/gn/v20191210/pabigthetao_Emon_ACCESS-CM2_faf-water_r1i1p1f1_gn_098001-098912.nc sea_water_added_conservative_temperature /g/data/r87/dbi599/CMIP6/FAFMIP/KEWEI-LYU/ACCESS-OM2/faf-water/r1i1p1f1/Emon/pabigthetao/gn/v20191210/pabigthetao_Emon_ACCESS-OM2_faf-water_r1i1p1f1_gn_098001-098912.nc --ref_names --ref_time\n",
      "/g/data/r87/dbi599/miniconda3/envs/ocean3/bin/python /home/599/dbi599/ocean-analysis/data_processing/mom_to_cmip.py /g/data3/hh5/tmp/as7904/access-om2/Kewei_fafmip_output/071-077-rstflux-no-frazil-density-fafwater/output075/ocean/ocean_3d.nc added_heat /g/data/fs38/publications/CMIP6/FAFMIP/CSIRO-ARCCSS/ACCESS-CM2/faf-water/r1i1p1f1/Emon/pabigthetao/gn/v20191210/pabigthetao_Emon_ACCESS-CM2_faf-water_r1i1p1f1_gn_099001-099912.nc sea_water_added_conservative_temperature /g/data/r87/dbi599/CMIP6/FAFMIP/KEWEI-LYU/ACCESS-OM2/faf-water/r1i1p1f1/Emon/pabigthetao/gn/v20191210/pabigthetao_Emon_ACCESS-OM2_faf-water_r1i1p1f1_gn_099001-099912.nc --ref_names --ref_time\n",
      "/g/data/r87/dbi599/miniconda3/envs/ocean3/bin/python /home/599/dbi599/ocean-analysis/data_processing/mom_to_cmip.py /g/data3/hh5/tmp/as7904/access-om2/Kewei_fafmip_output/071-077-rstflux-no-frazil-density-fafwater/output076/ocean/ocean_3d.nc added_heat /g/data/fs38/publications/CMIP6/FAFMIP/CSIRO-ARCCSS/ACCESS-CM2/faf-water/r1i1p1f1/Emon/pabigthetao/gn/v20191210/pabigthetao_Emon_ACCESS-CM2_faf-water_r1i1p1f1_gn_100001-100912.nc sea_water_added_conservative_temperature /g/data/r87/dbi599/CMIP6/FAFMIP/KEWEI-LYU/ACCESS-OM2/faf-water/r1i1p1f1/Emon/pabigthetao/gn/v20191210/pabigthetao_Emon_ACCESS-OM2_faf-water_r1i1p1f1_gn_100001-100912.nc --ref_names --ref_time\n",
      "/g/data/r87/dbi599/miniconda3/envs/ocean3/bin/python /home/599/dbi599/ocean-analysis/data_processing/mom_to_cmip.py /g/data3/hh5/tmp/as7904/access-om2/Kewei_fafmip_output/071-077-rstflux-no-frazil-density-fafwater/output077/ocean/ocean_3d.nc added_heat /g/data/fs38/publications/CMIP6/FAFMIP/CSIRO-ARCCSS/ACCESS-CM2/faf-water/r1i1p1f1/Emon/pabigthetao/gn/v20191210/pabigthetao_Emon_ACCESS-CM2_faf-water_r1i1p1f1_gn_101001-101912.nc sea_water_added_conservative_temperature /g/data/r87/dbi599/CMIP6/FAFMIP/KEWEI-LYU/ACCESS-OM2/faf-water/r1i1p1f1/Emon/pabigthetao/gn/v20191210/pabigthetao_Emon_ACCESS-OM2_faf-water_r1i1p1f1_gn_101001-101912.nc --ref_names --ref_time\n"
     ]
    }
   ],
   "source": [
    "# experiment files, ocean 3D variables\n",
    "\n",
    "variables = [('added_heat', 'pabigthetao', 'sea_water_added_conservative_temperature')]\n",
    "#variables = [('redist_heat', 'prbigthetao', 'sea_water_redistributed_conservative_temperature')]\n",
    "experiment = 'water'\n",
    "for mom_name, var_name, standard_name in variables:\n",
    "    cmip_files = glob.glob(f'/g/data/fs38/publications/CMIP6/FAFMIP/CSIRO-ARCCSS/ACCESS-CM2/faf-{experiment}/r1i1p1f1/Emon/{var_name}/gn/v20191210/*.nc')\n",
    "    cmip_files.sort()\n",
    "    mom_files = glob.glob(f'/g/data3/hh5/tmp/as7904/access-om2/Kewei_fafmip_output/071-077-rstflux-no-frazil-density-faf{experiment}/output07*/ocean/ocean_3d.nc')\n",
    "    mom_files.sort()\n",
    "    for cmip_file, mom_file in zip(cmip_files, mom_files):\n",
    "        date_range = cmip_file.split('.')[0].split('_')[-1]\n",
    "        outdir = f'/g/data/r87/dbi599/CMIP6/FAFMIP/KEWEI-LYU/ACCESS-OM2/faf-{experiment}/r1i1p1f1/Emon/{var_name}/gn/v20191210/'\n",
    "        outfile = f'{var_name}_Emon_ACCESS-OM2_faf-{experiment}_r1i1p1f1_gn_{date_range}.nc' \n",
    "        os.system(f'mkdir -p {outdir}')\n",
    "        cmd = f'{python} {mom_script} {mom_file} {mom_name} {cmip_file} {standard_name} {outdir}{outfile} --ref_names --ref_time'\n",
    "        print(cmd)\n",
    "        os.system(cmd)"
   ]
  },
  {
   "cell_type": "code",
   "execution_count": 19,
   "metadata": {
    "scrolled": true
   },
   "outputs": [
    {
     "name": "stdout",
     "output_type": "stream",
     "text": [
      "/g/data/r87/dbi599/miniconda3/envs/ocean3/bin/python /home/599/dbi599/ocean-analysis/data_processing/mom_to_cmip.py /g/data3/hh5/tmp/as7904/access-om2/Kewei_fafmip_output/071-077-rstflux-no-frazil-density-fafheat/output071/ocean/ocean_fluxes.nc /g/data3/hh5/tmp/as7904/access-om2/Kewei_fafmip_output/071-077-rstflux-no-frazil-density-fafheat/output072/ocean/ocean_fluxes.nc /g/data3/hh5/tmp/as7904/access-om2/Kewei_fafmip_output/071-077-rstflux-no-frazil-density-fafheat/output073/ocean/ocean_fluxes.nc /g/data3/hh5/tmp/as7904/access-om2/Kewei_fafmip_output/071-077-rstflux-no-frazil-density-fafheat/output074/ocean/ocean_fluxes.nc /g/data3/hh5/tmp/as7904/access-om2/Kewei_fafmip_output/071-077-rstflux-no-frazil-density-fafheat/output075/ocean/ocean_fluxes.nc /g/data3/hh5/tmp/as7904/access-om2/Kewei_fafmip_output/071-077-rstflux-no-frazil-density-fafheat/output076/ocean/ocean_fluxes.nc /g/data3/hh5/tmp/as7904/access-om2/Kewei_fafmip_output/071-077-rstflux-no-frazil-density-fafheat/output077/ocean/ocean_fluxes.nc pme_net /g/data/fs38/publications/CMIP6/FAFMIP/CSIRO-ARCCSS/ACCESS-CM2/faf-heat/r1i1p1f1/Omon/wfo/gn/v20191210/wfo_Omon_ACCESS-CM2_faf-heat_r1i1p1f1_gn_095001-101912.nc water_flux_into_sea_water /g/data/r87/dbi599/CMIP6/FAFMIP/KEWEI-LYU/ACCESS-OM2/faf-heat/r1i1p1f1/Omon/pme-net/gn/v20191210/pme-net_Omon_ACCESS-OM2_faf-heat_r1i1p1f1_gn_095001-101912.nc --ref_time\n",
      "/g/data/r87/dbi599/miniconda3/envs/ocean3/bin/python /home/599/dbi599/ocean-analysis/data_processing/mom_to_cmip.py /g/data3/hh5/tmp/as7904/access-om2/Kewei_fafmip_output/071-077-rstflux-no-frazil-density-fafheat/output071/ocean/ocean_fluxes.nc /g/data3/hh5/tmp/as7904/access-om2/Kewei_fafmip_output/071-077-rstflux-no-frazil-density-fafheat/output072/ocean/ocean_fluxes.nc /g/data3/hh5/tmp/as7904/access-om2/Kewei_fafmip_output/071-077-rstflux-no-frazil-density-fafheat/output073/ocean/ocean_fluxes.nc /g/data3/hh5/tmp/as7904/access-om2/Kewei_fafmip_output/071-077-rstflux-no-frazil-density-fafheat/output074/ocean/ocean_fluxes.nc /g/data3/hh5/tmp/as7904/access-om2/Kewei_fafmip_output/071-077-rstflux-no-frazil-density-fafheat/output075/ocean/ocean_fluxes.nc /g/data3/hh5/tmp/as7904/access-om2/Kewei_fafmip_output/071-077-rstflux-no-frazil-density-fafheat/output076/ocean/ocean_fluxes.nc /g/data3/hh5/tmp/as7904/access-om2/Kewei_fafmip_output/071-077-rstflux-no-frazil-density-fafheat/output077/ocean/ocean_fluxes.nc pme_sbc /g/data/fs38/publications/CMIP6/FAFMIP/CSIRO-ARCCSS/ACCESS-CM2/faf-heat/r1i1p1f1/Omon/wfo/gn/v20191210/wfo_Omon_ACCESS-CM2_faf-heat_r1i1p1f1_gn_095001-101912.nc water_flux_into_sea_water /g/data/r87/dbi599/CMIP6/FAFMIP/KEWEI-LYU/ACCESS-OM2/faf-heat/r1i1p1f1/Omon/pme-sbc/gn/v20191210/pme-sbc_Omon_ACCESS-OM2_faf-heat_r1i1p1f1_gn_095001-101912.nc --ref_time\n",
      "/g/data/r87/dbi599/miniconda3/envs/ocean3/bin/python /home/599/dbi599/ocean-analysis/data_processing/mom_to_cmip.py /g/data3/hh5/tmp/as7904/access-om2/Kewei_fafmip_output/071-077-rstflux-no-frazil-density-fafheat/output071/ocean/ocean_fluxes.nc /g/data3/hh5/tmp/as7904/access-om2/Kewei_fafmip_output/071-077-rstflux-no-frazil-density-fafheat/output072/ocean/ocean_fluxes.nc /g/data3/hh5/tmp/as7904/access-om2/Kewei_fafmip_output/071-077-rstflux-no-frazil-density-fafheat/output073/ocean/ocean_fluxes.nc /g/data3/hh5/tmp/as7904/access-om2/Kewei_fafmip_output/071-077-rstflux-no-frazil-density-fafheat/output074/ocean/ocean_fluxes.nc /g/data3/hh5/tmp/as7904/access-om2/Kewei_fafmip_output/071-077-rstflux-no-frazil-density-fafheat/output075/ocean/ocean_fluxes.nc /g/data3/hh5/tmp/as7904/access-om2/Kewei_fafmip_output/071-077-rstflux-no-frazil-density-fafheat/output076/ocean/ocean_fluxes.nc /g/data3/hh5/tmp/as7904/access-om2/Kewei_fafmip_output/071-077-rstflux-no-frazil-density-fafheat/output077/ocean/ocean_fluxes.nc pme_correct /g/data/fs38/publications/CMIP6/FAFMIP/CSIRO-ARCCSS/ACCESS-CM2/faf-heat/r1i1p1f1/Omon/wfo/gn/v20191210/wfo_Omon_ACCESS-CM2_faf-heat_r1i1p1f1_gn_095001-101912.nc water_flux_into_sea_water /g/data/r87/dbi599/CMIP6/FAFMIP/KEWEI-LYU/ACCESS-OM2/faf-heat/r1i1p1f1/Omon/pme-correct/gn/v20191210/pme-correct_Omon_ACCESS-OM2_faf-heat_r1i1p1f1_gn_095001-101912.nc --ref_time\n",
      "/g/data/r87/dbi599/miniconda3/envs/ocean3/bin/python /home/599/dbi599/ocean-analysis/data_processing/mom_to_cmip.py /g/data3/hh5/tmp/as7904/access-om2/Kewei_fafmip_output/071-077-rstflux-no-frazil-density-fafheat/output071/ocean/ocean_fluxes.nc /g/data3/hh5/tmp/as7904/access-om2/Kewei_fafmip_output/071-077-rstflux-no-frazil-density-fafheat/output072/ocean/ocean_fluxes.nc /g/data3/hh5/tmp/as7904/access-om2/Kewei_fafmip_output/071-077-rstflux-no-frazil-density-fafheat/output073/ocean/ocean_fluxes.nc /g/data3/hh5/tmp/as7904/access-om2/Kewei_fafmip_output/071-077-rstflux-no-frazil-density-fafheat/output074/ocean/ocean_fluxes.nc /g/data3/hh5/tmp/as7904/access-om2/Kewei_fafmip_output/071-077-rstflux-no-frazil-density-fafheat/output075/ocean/ocean_fluxes.nc /g/data3/hh5/tmp/as7904/access-om2/Kewei_fafmip_output/071-077-rstflux-no-frazil-density-fafheat/output076/ocean/ocean_fluxes.nc /g/data3/hh5/tmp/as7904/access-om2/Kewei_fafmip_output/071-077-rstflux-no-frazil-density-fafheat/output077/ocean/ocean_fluxes.nc runoff /g/data/fs38/publications/CMIP6/FAFMIP/CSIRO-ARCCSS/ACCESS-CM2/faf-heat/r1i1p1f1/Omon/wfo/gn/v20191210/wfo_Omon_ACCESS-CM2_faf-heat_r1i1p1f1_gn_095001-101912.nc water_flux_into_sea_water /g/data/r87/dbi599/CMIP6/FAFMIP/KEWEI-LYU/ACCESS-OM2/faf-heat/r1i1p1f1/Omon/runoff/gn/v20191210/runoff_Omon_ACCESS-OM2_faf-heat_r1i1p1f1_gn_095001-101912.nc --ref_time\n"
     ]
    }
   ],
   "source": [
    "# experiment files, ocean surface variables\n",
    "\n",
    "#variables = ['sfc_hflux_coupler', 'sfc_hflux_from_runoff', 'sfc_hflux_pme', 'net_sfc_heating']\n",
    "#ref_var = 'hfds'      \n",
    "#ref_name = 'surface_downward_heat_flux_in_sea_water'\n",
    "variables = ['pme_net', 'pme_sbc',  'pme_correct', 'runoff']\n",
    "ref_var = 'wfo'\n",
    "ref_name = 'water_flux_into_sea_water'\n",
    "\n",
    "experiment = 'heat'\n",
    "for var in variables:\n",
    "    cmip_files = glob.glob(f'/g/data/fs38/publications/CMIP6/FAFMIP/CSIRO-ARCCSS/ACCESS-CM2/faf-{experiment}/r1i1p1f1/Omon/{ref_var}/gn/v20191210/*.nc')\n",
    "    cmip_files.sort()\n",
    "    assert len(cmip_files) == 1\n",
    "    cmip_file = cmip_files[0]\n",
    "    mom_files = glob.glob(f'/g/data3/hh5/tmp/as7904/access-om2/Kewei_fafmip_output/071-077-rstflux-no-frazil-density-faf{experiment}/output07*/ocean/ocean_fluxes.nc')\n",
    "    mom_files.sort()\n",
    "    mom_file_var = var.replace('_', '-')\n",
    "    date_range = cmip_file.split('.')[0].split('_')[-1]\n",
    "    outdir = f'/g/data/r87/dbi599/CMIP6/FAFMIP/KEWEI-LYU/ACCESS-OM2/faf-{experiment}/r1i1p1f1/Omon/{mom_file_var}/gn/v20191210/'\n",
    "    outfile = f'{mom_file_var}_Omon_ACCESS-OM2_faf-{experiment}_r1i1p1f1_gn_{date_range}.nc' \n",
    "    os.system(f'mkdir -p {outdir}')\n",
    "    cmd = f\"{python} {mom_script} {' '.join(str(x) for x in mom_files)} {var} {cmip_file} {ref_name} {outdir}{outfile} --ref_time\"\n",
    "    print(cmd)\n",
    "    os.system(cmd)"
   ]
  },
  {
   "cell_type": "code",
   "execution_count": 5,
   "metadata": {},
   "outputs": [
    {
     "data": {
      "text/plain": [
       "['/g/data3/hh5/tmp/as7904/access-om2/Kewei_fafmip_output/071-077-rstflux-no-frazil-density-fafheat/output071/ocean/ocean_fluxes.nc',\n",
       " '/g/data3/hh5/tmp/as7904/access-om2/Kewei_fafmip_output/071-077-rstflux-no-frazil-density-fafheat/output072/ocean/ocean_fluxes.nc',\n",
       " '/g/data3/hh5/tmp/as7904/access-om2/Kewei_fafmip_output/071-077-rstflux-no-frazil-density-fafheat/output073/ocean/ocean_fluxes.nc',\n",
       " '/g/data3/hh5/tmp/as7904/access-om2/Kewei_fafmip_output/071-077-rstflux-no-frazil-density-fafheat/output074/ocean/ocean_fluxes.nc',\n",
       " '/g/data3/hh5/tmp/as7904/access-om2/Kewei_fafmip_output/071-077-rstflux-no-frazil-density-fafheat/output075/ocean/ocean_fluxes.nc',\n",
       " '/g/data3/hh5/tmp/as7904/access-om2/Kewei_fafmip_output/071-077-rstflux-no-frazil-density-fafheat/output076/ocean/ocean_fluxes.nc',\n",
       " '/g/data3/hh5/tmp/as7904/access-om2/Kewei_fafmip_output/071-077-rstflux-no-frazil-density-fafheat/output077/ocean/ocean_fluxes.nc']"
      ]
     },
     "execution_count": 5,
     "metadata": {},
     "output_type": "execute_result"
    }
   ],
   "source": [
    "mom_files"
   ]
  },
  {
   "cell_type": "code",
   "execution_count": 6,
   "metadata": {
    "scrolled": false
   },
   "outputs": [],
   "source": [
    "exp = 'water'\n",
    "var = 'abigthetao'\n",
    "heat_type = 'added'\n",
    "control_files = glob.glob('/g/data/r87/dbi599/CMIP6/FAFMIP/KEWEI-LYU/ACCESS-OM2/faf-passiveheat/r1i1p1f1/Omon/bigthetao/gn/v20191210/bigthetao_Omon_ACCESS-OM2_faf-passiveheat_r1i1p1f1_gn_*.nc')\n",
    "exp_files = glob.glob(f'/g/data/r87/dbi599/CMIP6/FAFMIP/KEWEI-LYU/ACCESS-OM2/faf-{exp}/r1i1p1f1/Emon/p{var}/gn/v20191210/p{var}_Emon_ACCESS-OM2_faf-{exp}_r1i1p1f1_gn_*.nc')\n",
    "control_files.sort()\n",
    "exp_files.sort()\n",
    "for control_file, exp_file in zip(control_files, exp_files):\n",
    "    date_range = control_file.split('.')[0].split('_')[-1]\n",
    "    outdir = f'/g/data/r87/dbi599/CMIP6/FAFMIP/KEWEI-LYU/ACCESS-OM2/faf-{exp}/r1i1p1f1/Emon/{var}/gn/v20191210/'\n",
    "    outfile = f'{var}_Emon_ACCESS-OM2_faf-{exp}_r1i1p1f1_gn_{date_range}.nc' \n",
    "    #os.system(f'mkdir -p {outdir}')\n",
    "    cmd = f'{python} {arith_script} {control_file} sea_water_conservative_temperature {exp_file} sea_water_{heat_type}_conservative_temperature addition {outdir}{outfile}'\n",
    "    print(cmd)\n",
    "    #os.system(cmd)"
   ]
  },
  {
   "cell_type": "code",
   "execution_count": 8,
   "metadata": {},
   "outputs": [
    {
     "data": {
      "text/plain": [
       "[]"
      ]
     },
     "execution_count": 8,
     "metadata": {},
     "output_type": "execute_result"
    }
   ],
   "source": [
    "exp_files"
   ]
  },
  {
   "cell_type": "code",
   "execution_count": null,
   "metadata": {},
   "outputs": [],
   "source": []
  }
 ],
 "metadata": {
  "kernelspec": {
   "display_name": "Python 3",
   "language": "python",
   "name": "python3"
  },
  "language_info": {
   "codemirror_mode": {
    "name": "ipython",
    "version": 3
   },
   "file_extension": ".py",
   "mimetype": "text/x-python",
   "name": "python",
   "nbconvert_exporter": "python",
   "pygments_lexer": "ipython3",
   "version": "3.7.6"
  }
 },
 "nbformat": 4,
 "nbformat_minor": 4
}
