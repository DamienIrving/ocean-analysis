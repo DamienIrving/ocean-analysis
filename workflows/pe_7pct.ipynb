{
 "cells": [
  {
   "cell_type": "markdown",
   "id": "usual-cabinet",
   "metadata": {},
   "source": [
    "## Water cycle percentage amplification analysis\n",
    "\n",
    "The workflow to execute this notebook for a specific model/experiment can be run like this:\n",
    "```\n",
    "make pct -f pe_analysis.mk MODEL=IPSL-CM6A-LR EXPERIMENT=hist-GHG\n",
    "```"
   ]
  },
  {
   "cell_type": "code",
   "execution_count": null,
   "id": "dramatic-stranger",
   "metadata": {},
   "outputs": [],
   "source": [
    "import os\n",
    "import sys\n",
    "\n",
    "import iris\n",
    "import matplotlib.pyplot as plt\n",
    "import numpy as np\n",
    "\n",
    "cwd = os.getcwd()\n",
    "repo_dir = '/'\n",
    "for directory in cwd.split('/')[1:]:\n",
    "    repo_dir = os.path.join(repo_dir, directory)\n",
    "    if directory == 'ocean-analysis':\n",
    "        break\n",
    "\n",
    "modules_dir = os.path.join(repo_dir, 'modules')\n",
    "sys.path.append(modules_dir)\n",
    "\n",
    "import general_io as gio"
   ]
  },
  {
   "cell_type": "code",
   "execution_count": 1,
   "id": "focused-practice",
   "metadata": {
    "tags": [
     "parameters"
    ]
   },
   "outputs": [],
   "source": [
    "# Input parameters"
   ]
  },
  {
   "cell_type": "code",
   "execution_count": null,
   "id": "helpful-vancouver",
   "metadata": {},
   "outputs": [],
   "source": [
    "# Required parameters\n",
    "assert 'model_name' in locals(), \"Must provide a model name\"\n",
    "assert 'experiment_name' in locals(), \"Must provide an experiment name\"\n",
    "assert os.path.isfile(tasga_exp_file), \"Must provide a global average surface temperature timeseries for the experiment (papermill option -p tasga_exp_file [filepath])\"\n",
    "assert os.path.isfile(tasga_cntrl_file), \"Must provide a control global average surface temperature timeseries (papermill option -p tasga_cntrl_file [filepath])\"\n",
    "assert os.path.isfile(pe_cntrl_file), \"Must provide a control P-E region sum timeseries (papermill option -p pe_cntrl_file [filepath])\"\n",
    "assert os.path.isfile(pe_exp_file), \"Must provide a P-E region sum anomaly cumulative sum timeseries for the experiment (papermill option -p pe_exp_file [filepath])\""
   ]
  },
  {
   "cell_type": "code",
   "execution_count": null,
   "id": "attempted-handbook",
   "metadata": {},
   "outputs": [],
   "source": [
    "tasga_exp_cube = iris.load_cube(tasga_exp_file, 'air_temperature')\n",
    "tasga_cntrl_cube = iris.load_cube(tasga_cntrl_file, 'air_temperature')\n",
    "pe_cntrl_cube = iris.load_cube(pe_cntrl_file, 'precipitation minus evaporation flux')\n",
    "pe_exp_cube = iris.load_cube(pe_exp_file, 'precipitation minus evaporation flux')"
   ]
  },
  {
   "cell_type": "code",
   "execution_count": null,
   "id": "loose-coordination",
   "metadata": {},
   "outputs": [],
   "source": [
    "tas_units = str(tasga_exp_cube.units)"
   ]
  },
  {
   "cell_type": "code",
   "execution_count": null,
   "id": "efficient-shaft",
   "metadata": {},
   "outputs": [],
   "source": [
    "pe_units = str(pe_cntrl_cube.units)"
   ]
  },
  {
   "cell_type": "code",
   "execution_count": null,
   "id": "short-touch",
   "metadata": {},
   "outputs": [],
   "source": [
    "years = np.arange(1861, 2006)"
   ]
  },
  {
   "cell_type": "code",
   "execution_count": null,
   "id": "contained-checklist",
   "metadata": {},
   "outputs": [],
   "source": [
    "time_constraint = gio.get_time_constraint(['1861-01-01', '2005-12-31'])"
   ]
  },
  {
   "cell_type": "code",
   "execution_count": null,
   "id": "intellectual-quarter",
   "metadata": {},
   "outputs": [],
   "source": [
    "tasga_exp_cube = tasga_exp_cube.extract(time_constraint)\n",
    "pe_exp_cube = pe_exp_cube.extract(time_constraint)"
   ]
  },
  {
   "cell_type": "code",
   "execution_count": null,
   "id": "proud-linux",
   "metadata": {},
   "outputs": [],
   "source": [
    "assert tasga_exp_cube.shape[0] == 145\n",
    "assert pe_exp_cube.shape[0] == 145"
   ]
  },
  {
   "cell_type": "markdown",
   "id": "handmade-corruption",
   "metadata": {},
   "source": [
    "## Global average temperature"
   ]
  },
  {
   "cell_type": "code",
   "execution_count": null,
   "id": "extended-reducing",
   "metadata": {},
   "outputs": [],
   "source": [
    "fig = plt.figure(figsize=(12, 4))\n",
    "plt.plot(tasga_exp_cube.data, label=experiment_name)\n",
    "plt.plot(tasga_cntrl_cube.data, label='piControl')\n",
    "plt.title(f'Global average temperature, {model_name}')\n",
    "plt.xlabel('Model year')\n",
    "plt.ylabel(f'Temperature ({tas_units})')\n",
    "plt.legend()\n",
    "plt.show()"
   ]
  },
  {
   "cell_type": "code",
   "execution_count": null,
   "id": "addressed-dispute",
   "metadata": {},
   "outputs": [],
   "source": [
    "baseline_tasga = tasga_cntrl_cube.data.mean()"
   ]
  },
  {
   "cell_type": "code",
   "execution_count": null,
   "id": "resistant-state",
   "metadata": {},
   "outputs": [],
   "source": [
    "plt.plot(years, tasga_exp_cube.data, label=experiment_name)\n",
    "plt.axhline(baseline_tasga, linestyle=':', label='piControl mean')\n",
    "plt.title(f'Global average temperature, {model_name}')\n",
    "plt.xlabel('Year')\n",
    "plt.ylabel(f'Temperature ({tas_units})')\n",
    "plt.legend()\n",
    "plt.show()"
   ]
  },
  {
   "cell_type": "code",
   "execution_count": null,
   "id": "august-prague",
   "metadata": {},
   "outputs": [],
   "source": [
    "tasga_exp_anomaly = tasga_exp_cube.data - baseline_tasga\n",
    "plt.plot(years, tasga_exp_anomaly)\n",
    "plt.title(f'Global average temperature anomaly: {model_name}, {experiment_name} experiment')\n",
    "plt.xlabel('Year')\n",
    "plt.ylabel(f'Temperature anomaly ({tas_units})')\n",
    "plt.show()"
   ]
  },
  {
   "cell_type": "markdown",
   "id": "loose-player",
   "metadata": {},
   "source": [
    "## 7% global P-E timeseries"
   ]
  },
  {
   "cell_type": "code",
   "execution_count": null,
   "id": "dutch-orange",
   "metadata": {},
   "outputs": [],
   "source": [
    "pe_cntrl_clim_cube = pe_cntrl_cube.collapsed('time', iris.analysis.MEAN)\n",
    "pe_cntrl_clim_cube.remove_coord('time')"
   ]
  },
  {
   "cell_type": "code",
   "execution_count": null,
   "id": "universal-purse",
   "metadata": {},
   "outputs": [],
   "source": [
    "# pereg: SH_precip SH_evap tropical_precip NH_evap NH_precip globe\n",
    "# basin: atlantic pacific indian arctic marginal_seas land ocean globe        \n",
    "ave_global_transport = pe_cntrl_clim_cube.data[0, -1] + pe_cntrl_clim_cube.data[2, -1] + pe_cntrl_clim_cube.data[4, -1]"
   ]
  },
  {
   "cell_type": "code",
   "execution_count": null,
   "id": "exclusive-liberty",
   "metadata": {},
   "outputs": [],
   "source": [
    "print(ave_global_transport)"
   ]
  },
  {
   "cell_type": "code",
   "execution_count": null,
   "id": "attended-station",
   "metadata": {},
   "outputs": [],
   "source": [
    "pe_cntrl_clim_cube.data[1, -1] + pe_cntrl_clim_cube.data[3, -1]"
   ]
  },
  {
   "cell_type": "code",
   "execution_count": null,
   "id": "senior-grace",
   "metadata": {},
   "outputs": [],
   "source": [
    "sevenpct_anomaly_data = tasga_exp_anomaly * 0.07 * ave_global_transport"
   ]
  },
  {
   "cell_type": "code",
   "execution_count": null,
   "id": "sweet-festival",
   "metadata": {},
   "outputs": [],
   "source": [
    "fig = plt.figure(figsize=(12, 4))\n",
    "plt.plot(years, sevenpct_anomaly_data)\n",
    "plt.title(f'Inferred global moisture transport anomaly (for 7%/C): {model_name}, {experiment_name} experiment')\n",
    "plt.xlabel('Year')\n",
    "plt.ylabel(f'Transport anomaly ({pe_units})')\n",
    "plt.show()"
   ]
  },
  {
   "cell_type": "markdown",
   "id": "incomplete-joseph",
   "metadata": {},
   "source": [
    "## Experiment versus 7%"
   ]
  },
  {
   "cell_type": "code",
   "execution_count": null,
   "id": "synthetic-cycling",
   "metadata": {},
   "outputs": [],
   "source": [
    "sevenpct_anomaly_cumsum_data = np.cumsum(sevenpct_anomaly_data) - sevenpct_anomaly_data[0]"
   ]
  },
  {
   "cell_type": "code",
   "execution_count": null,
   "id": "otherwise-launch",
   "metadata": {},
   "outputs": [],
   "source": [
    "exp_cumsum_data = pe_exp_cube.data[:, 0, -1] + pe_exp_cube.data[:, 2, -1] + pe_exp_cube.data[:, 4, -1]\n",
    "exp_anomaly_cumsum_data = exp_cumsum_data - exp_cumsum_data[0]"
   ]
  },
  {
   "cell_type": "code",
   "execution_count": null,
   "id": "communist-attention",
   "metadata": {},
   "outputs": [],
   "source": [
    "fig = plt.figure(figsize=(8, 4))\n",
    "plt.plot(years, sevenpct_anomaly_cumsum_data, label='7%')\n",
    "plt.plot(years, exp_anomaly_cumsum_data, label=experiment_name)\n",
    "plt.title(f'Cumulative global moisture transport anomaly, {model_name}')\n",
    "plt.xlabel('Year')\n",
    "plt.ylabel(f'cumulative anomaly ({pe_units})')\n",
    "plt.legend()\n",
    "plt.show()"
   ]
  },
  {
   "cell_type": "code",
   "execution_count": null,
   "id": "included-matthew",
   "metadata": {},
   "outputs": [],
   "source": [
    "fraction_of_7pct = exp_anomaly_cumsum_data[-1] / sevenpct_anomaly_cumsum_data[-1]\n",
    "fraction_of_7pct"
   ]
  },
  {
   "cell_type": "code",
   "execution_count": null,
   "id": "employed-laundry",
   "metadata": {},
   "outputs": [],
   "source": [
    "fraction_of_7pct * 7"
   ]
  },
  {
   "cell_type": "code",
   "execution_count": null,
   "id": "lesbian-stomach",
   "metadata": {},
   "outputs": [],
   "source": []
  }
 ],
 "metadata": {
  "celltoolbar": "Tags",
  "kernelspec": {
   "display_name": "Python 3",
   "language": "python",
   "name": "python3"
  },
  "language_info": {
   "codemirror_mode": {
    "name": "ipython",
    "version": 3
   },
   "file_extension": ".py",
   "mimetype": "text/x-python",
   "name": "python",
   "nbconvert_exporter": "python",
   "pygments_lexer": "ipython3",
   "version": "3.9.2"
  }
 },
 "nbformat": 4,
 "nbformat_minor": 5
}
