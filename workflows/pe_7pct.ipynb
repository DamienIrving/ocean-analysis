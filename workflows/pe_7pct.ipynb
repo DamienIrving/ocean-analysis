{
 "cells": [
  {
   "cell_type": "code",
   "execution_count": null,
   "id": "dramatic-stranger",
   "metadata": {
    "execution": {
     "iopub.execute_input": "2022-03-03T04:37:21.130418Z",
     "iopub.status.busy": "2022-03-03T04:37:21.128099Z",
     "iopub.status.idle": "2022-03-03T04:37:27.588671Z",
     "shell.execute_reply": "2022-03-03T04:37:27.587008Z"
    },
    "papermill": {
     "duration": 6.514532,
     "end_time": "2022-03-03T04:37:27.589149",
     "exception": false,
     "start_time": "2022-03-03T04:37:21.074617",
     "status": "completed"
    },
    "tags": []
   },
   "outputs": [],
   "source": [
    "import os\n",
    "import sys\n",
    "\n",
    "import iris\n",
    "import iris.coord_categorisation\n",
    "import matplotlib.pyplot as plt\n",
    "import numpy as np\n",
    "\n",
    "cwd = os.getcwd()\n",
    "repo_dir = '/'\n",
    "for directory in cwd.split('/')[1:]:\n",
    "    repo_dir = os.path.join(repo_dir, directory)\n",
    "    if directory == 'ocean-analysis':\n",
    "        break\n",
    "\n",
    "modules_dir = os.path.join(repo_dir, 'modules')\n",
    "sys.path.append(modules_dir)\n",
    "\n",
    "import general_io as gio"
   ]
  },
  {
   "cell_type": "code",
   "execution_count": null,
   "id": "focused-practice",
   "metadata": {
    "execution": {
     "iopub.execute_input": "2022-03-03T04:37:27.735395Z",
     "iopub.status.busy": "2022-03-03T04:37:27.733990Z",
     "iopub.status.idle": "2022-03-03T04:37:27.741033Z",
     "shell.execute_reply": "2022-03-03T04:37:27.739333Z"
    },
    "papermill": {
     "duration": 0.111745,
     "end_time": "2022-03-03T04:37:27.741488",
     "exception": false,
     "start_time": "2022-03-03T04:37:27.629743",
     "status": "completed"
    },
    "tags": [
     "parameters"
    ]
   },
   "outputs": [],
   "source": [
    "# Input parameters"
   ]
  },
  {
   "cell_type": "code",
   "execution_count": null,
   "id": "helpful-vancouver",
   "metadata": {
    "execution": {
     "iopub.execute_input": "2022-03-03T04:37:27.923659Z",
     "iopub.status.busy": "2022-03-03T04:37:27.922457Z",
     "iopub.status.idle": "2022-03-03T04:37:27.940585Z",
     "shell.execute_reply": "2022-03-03T04:37:27.938904Z"
    },
    "papermill": {
     "duration": 0.064513,
     "end_time": "2022-03-03T04:37:27.941067",
     "exception": false,
     "start_time": "2022-03-03T04:37:27.876554",
     "status": "completed"
    },
    "tags": []
   },
   "outputs": [],
   "source": [
    "# Required parameters\n",
    "assert 'model_name' in locals(), \"Must provide a model name\"\n",
    "assert 'experiment_name' in locals(), \"Must provide an experiment name\"\n",
    "assert os.path.isfile(tasga_exp_file), \"Must provide a global average surface temperature timeseries for the experiment (papermill option -p tasga_exp_file [filepath])\"\n",
    "assert os.path.isfile(tasga_cntrl_file), \"Must provide a control global average surface temperature timeseries (papermill option -p tasga_cntrl_file [filepath])\"\n",
    "assert os.path.isfile(pe_cntrl_file), \"Must provide a control P-E region sum timeseries (papermill option -p pe_cntrl_file [filepath])\"\n",
    "assert os.path.isfile(pe_exp_file), \"Must provide a P-E region sum anomaly cumulative sum timeseries for the experiment (papermill option -p pe_exp_file [filepath])\""
   ]
  },
  {
   "cell_type": "code",
   "execution_count": null,
   "id": "attempted-handbook",
   "metadata": {
    "execution": {
     "iopub.execute_input": "2022-03-03T04:37:28.015351Z",
     "iopub.status.busy": "2022-03-03T04:37:28.014424Z",
     "iopub.status.idle": "2022-03-03T04:37:28.307650Z",
     "shell.execute_reply": "2022-03-03T04:37:28.306338Z"
    },
    "papermill": {
     "duration": 0.333946,
     "end_time": "2022-03-03T04:37:28.308050",
     "exception": false,
     "start_time": "2022-03-03T04:37:27.974104",
     "status": "completed"
    },
    "tags": []
   },
   "outputs": [],
   "source": [
    "tasga_exp_cube = iris.load_cube(tasga_exp_file, 'air_temperature')\n",
    "tasga_cntrl_cube = iris.load_cube(tasga_cntrl_file, 'air_temperature')\n",
    "pe_cntrl_cube = iris.load_cube(pe_cntrl_file, 'precipitation minus evaporation flux')\n",
    "pe_exp_cube = iris.load_cube(pe_exp_file, 'precipitation minus evaporation flux')"
   ]
  },
  {
   "cell_type": "code",
   "execution_count": null,
   "id": "loose-coordination",
   "metadata": {
    "execution": {
     "iopub.execute_input": "2022-03-03T04:37:28.393905Z",
     "iopub.status.busy": "2022-03-03T04:37:28.391514Z",
     "iopub.status.idle": "2022-03-03T04:37:28.398220Z",
     "shell.execute_reply": "2022-03-03T04:37:28.396272Z"
    },
    "papermill": {
     "duration": 0.051203,
     "end_time": "2022-03-03T04:37:28.398824",
     "exception": false,
     "start_time": "2022-03-03T04:37:28.347621",
     "status": "completed"
    },
    "tags": []
   },
   "outputs": [],
   "source": [
    "tas_units = str(tasga_exp_cube.units)\n",
    "pe_units = str(pe_cntrl_cube.units)\n",
    "years = np.arange(1861, 2006)"
   ]
  },
  {
   "cell_type": "code",
   "execution_count": null,
   "id": "authentic-nomination",
   "metadata": {},
   "outputs": [],
   "source": [
    "def get_start_index(exp_cube, cntrl_cube):\n",
    "    \"\"\"Get control time index matching experiment start\"\"\"\n",
    "    \n",
    "    iris.coord_categorisation.add_year(exp_cube, 'time')\n",
    "    original_start_year = exp_cube.coord('year').points[0]\n",
    "    exp_time_adjustment = 1861 - original_start_year\n",
    "    print(f'original start year: {original_start_year}')\n",
    "    \n",
    "    try:\n",
    "        branch_time = float(exp_cube.attributes['branch_time_in_parent'])\n",
    "    except KeyError:\n",
    "        branch_time = float(exp_cube.attributes['branch_time'])                                  \n",
    "    control_times = cntrl_cube.coord('time').points\n",
    "    start_index = np.argmin(np.abs(control_times - branch_time)) \n",
    "    print(f'experiment start index: {start_index}')\n",
    "    start_index = start_index + exp_time_adjustment\n",
    "    \n",
    "    return start_index"
   ]
  },
  {
   "cell_type": "code",
   "execution_count": null,
   "id": "accomplished-atlantic",
   "metadata": {},
   "outputs": [],
   "source": [
    "start_index = get_start_index(tasga_exp_cube, tasga_cntrl_cube)\n",
    "start_index"
   ]
  },
  {
   "cell_type": "code",
   "execution_count": null,
   "id": "contained-checklist",
   "metadata": {
    "execution": {
     "iopub.execute_input": "2022-03-03T04:37:28.665983Z",
     "iopub.status.busy": "2022-03-03T04:37:28.663522Z",
     "iopub.status.idle": "2022-03-03T04:37:28.669581Z",
     "shell.execute_reply": "2022-03-03T04:37:28.667983Z"
    },
    "papermill": {
     "duration": 0.050866,
     "end_time": "2022-03-03T04:37:28.670094",
     "exception": false,
     "start_time": "2022-03-03T04:37:28.619228",
     "status": "completed"
    },
    "tags": []
   },
   "outputs": [],
   "source": [
    "time_constraint = gio.get_time_constraint(['1861-01-01', '2005-12-31'])"
   ]
  },
  {
   "cell_type": "code",
   "execution_count": null,
   "id": "intellectual-quarter",
   "metadata": {
    "execution": {
     "iopub.execute_input": "2022-03-03T04:37:28.776814Z",
     "iopub.status.busy": "2022-03-03T04:37:28.767503Z",
     "iopub.status.idle": "2022-03-03T04:37:29.446180Z",
     "shell.execute_reply": "2022-03-03T04:37:29.444558Z"
    },
    "papermill": {
     "duration": 0.741413,
     "end_time": "2022-03-03T04:37:29.446512",
     "exception": false,
     "start_time": "2022-03-03T04:37:28.705099",
     "status": "completed"
    },
    "tags": []
   },
   "outputs": [],
   "source": [
    "tasga_exp_cube = tasga_exp_cube.extract(time_constraint)\n",
    "pe_exp_cube = pe_exp_cube.extract(time_constraint)"
   ]
  },
  {
   "cell_type": "code",
   "execution_count": null,
   "id": "proud-linux",
   "metadata": {
    "execution": {
     "iopub.execute_input": "2022-03-03T04:37:29.532655Z",
     "iopub.status.busy": "2022-03-03T04:37:29.531321Z",
     "iopub.status.idle": "2022-03-03T04:37:29.536679Z",
     "shell.execute_reply": "2022-03-03T04:37:29.537498Z"
    },
    "papermill": {
     "duration": 0.051516,
     "end_time": "2022-03-03T04:37:29.537877",
     "exception": false,
     "start_time": "2022-03-03T04:37:29.486361",
     "status": "completed"
    },
    "tags": []
   },
   "outputs": [],
   "source": [
    "assert tasga_exp_cube.shape[0] == 145\n",
    "assert pe_exp_cube.shape[0] == 145\n",
    "assert end_index - start_index == 145"
   ]
  },
  {
   "cell_type": "code",
   "execution_count": null,
   "id": "precious-evans",
   "metadata": {},
   "outputs": [],
   "source": [
    "end_index = start_index + 145"
   ]
  },
  {
   "cell_type": "markdown",
   "id": "handmade-corruption",
   "metadata": {
    "papermill": {
     "duration": 0.034499,
     "end_time": "2022-03-03T04:37:29.604432",
     "exception": false,
     "start_time": "2022-03-03T04:37:29.569933",
     "status": "completed"
    },
    "tags": []
   },
   "source": [
    "## Global average temperature"
   ]
  },
  {
   "cell_type": "code",
   "execution_count": null,
   "id": "extended-reducing",
   "metadata": {
    "execution": {
     "iopub.execute_input": "2022-03-03T04:37:29.687509Z",
     "iopub.status.busy": "2022-03-03T04:37:29.685944Z",
     "iopub.status.idle": "2022-03-03T04:37:30.129542Z",
     "shell.execute_reply": "2022-03-03T04:37:30.130487Z"
    },
    "papermill": {
     "duration": 0.494992,
     "end_time": "2022-03-03T04:37:30.130941",
     "exception": false,
     "start_time": "2022-03-03T04:37:29.635949",
     "status": "completed"
    },
    "tags": []
   },
   "outputs": [],
   "source": [
    "fig = plt.figure(figsize=(12, 4))\n",
    "xvals = np.arange(0, tasga_cntrl_cube.shape[0])\n",
    "plt.plot(xvals[start_index: end_index], tasga_exp_cube.data, label=experiment_name)\n",
    "plt.plot(xvals, tasga_cntrl_cube.data, label='piControl')\n",
    "plt.title(f'Global average temperature, {model_name}')\n",
    "plt.xlabel('Model year')\n",
    "plt.ylabel(f'Temperature ({tas_units})')\n",
    "plt.legend()\n",
    "plt.show()"
   ]
  },
  {
   "cell_type": "code",
   "execution_count": null,
   "id": "addressed-dispute",
   "metadata": {
    "execution": {
     "iopub.execute_input": "2022-03-03T04:37:30.220853Z",
     "iopub.status.busy": "2022-03-03T04:37:30.219523Z",
     "iopub.status.idle": "2022-03-03T04:37:30.226249Z",
     "shell.execute_reply": "2022-03-03T04:37:30.225009Z"
    },
    "papermill": {
     "duration": 0.055375,
     "end_time": "2022-03-03T04:37:30.226554",
     "exception": false,
     "start_time": "2022-03-03T04:37:30.171179",
     "status": "completed"
    },
    "tags": []
   },
   "outputs": [],
   "source": [
    "baseline_tasga = tasga_cntrl_cube.data[start_index: end_index].mean()"
   ]
  },
  {
   "cell_type": "code",
   "execution_count": null,
   "id": "resistant-state",
   "metadata": {
    "execution": {
     "iopub.execute_input": "2022-03-03T04:37:30.348635Z",
     "iopub.status.busy": "2022-03-03T04:37:30.339249Z",
     "iopub.status.idle": "2022-03-03T04:37:30.695047Z",
     "shell.execute_reply": "2022-03-03T04:37:30.693660Z"
    },
    "papermill": {
     "duration": 0.425559,
     "end_time": "2022-03-03T04:37:30.695393",
     "exception": false,
     "start_time": "2022-03-03T04:37:30.269834",
     "status": "completed"
    },
    "tags": []
   },
   "outputs": [],
   "source": [
    "plt.plot(years, tasga_exp_cube.data, label=experiment_name)\n",
    "plt.plot(years, tasga_cntrl_cube.data[start_index: end_index], label='piControl')\n",
    "plt.axhline(baseline_tasga, linestyle=':', label='piControl mean')\n",
    "plt.title(f'Global average temperature, {model_name}')\n",
    "plt.xlabel('Year')\n",
    "plt.ylabel(f'Temperature ({tas_units})')\n",
    "plt.legend()\n",
    "plt.show()"
   ]
  },
  {
   "cell_type": "code",
   "execution_count": null,
   "id": "august-prague",
   "metadata": {
    "execution": {
     "iopub.execute_input": "2022-03-03T04:37:30.849336Z",
     "iopub.status.busy": "2022-03-03T04:37:30.834225Z",
     "iopub.status.idle": "2022-03-03T04:37:31.104673Z",
     "shell.execute_reply": "2022-03-03T04:37:31.103700Z"
    },
    "papermill": {
     "duration": 0.36695,
     "end_time": "2022-03-03T04:37:31.105047",
     "exception": false,
     "start_time": "2022-03-03T04:37:30.738097",
     "status": "completed"
    },
    "tags": []
   },
   "outputs": [],
   "source": [
    "tasga_exp_anomaly = tasga_exp_cube.data - baseline_tasga\n",
    "plt.plot(years, tasga_exp_anomaly)\n",
    "plt.title(f'Global average temperature anomaly: {model_name}, {experiment_name} experiment')\n",
    "plt.xlabel('Year')\n",
    "plt.ylabel(f'Temperature anomaly ({tas_units})')\n",
    "plt.show()"
   ]
  },
  {
   "cell_type": "markdown",
   "id": "loose-player",
   "metadata": {
    "papermill": {
     "duration": 0.04085,
     "end_time": "2022-03-03T04:37:31.187242",
     "exception": false,
     "start_time": "2022-03-03T04:37:31.146392",
     "status": "completed"
    },
    "tags": []
   },
   "source": [
    "## 7% global P-E timeseries"
   ]
  },
  {
   "cell_type": "code",
   "execution_count": null,
   "id": "dutch-orange",
   "metadata": {
    "execution": {
     "iopub.execute_input": "2022-03-03T04:37:31.297147Z",
     "iopub.status.busy": "2022-03-03T04:37:31.290828Z",
     "iopub.status.idle": "2022-03-03T04:37:31.303317Z",
     "shell.execute_reply": "2022-03-03T04:37:31.302002Z"
    },
    "papermill": {
     "duration": 0.07647,
     "end_time": "2022-03-03T04:37:31.303658",
     "exception": false,
     "start_time": "2022-03-03T04:37:31.227188",
     "status": "completed"
    },
    "tags": []
   },
   "outputs": [],
   "source": [
    "pe_cntrl_clim_cube = pe_cntrl_cube[start_index: end_index].collapsed('time', iris.analysis.MEAN)\n",
    "pe_cntrl_clim_cube.remove_coord('time')"
   ]
  },
  {
   "cell_type": "code",
   "execution_count": null,
   "id": "universal-purse",
   "metadata": {
    "execution": {
     "iopub.execute_input": "2022-03-03T04:37:31.417095Z",
     "iopub.status.busy": "2022-03-03T04:37:31.416000Z",
     "iopub.status.idle": "2022-03-03T04:37:31.439613Z",
     "shell.execute_reply": "2022-03-03T04:37:31.440914Z"
    },
    "papermill": {
     "duration": 0.092265,
     "end_time": "2022-03-03T04:37:31.441466",
     "exception": false,
     "start_time": "2022-03-03T04:37:31.349201",
     "status": "completed"
    },
    "tags": []
   },
   "outputs": [],
   "source": [
    "# pereg: SH_precip SH_evap tropical_precip NH_evap NH_precip globe\n",
    "# basin: atlantic pacific indian arctic marginal_seas land ocean globe        \n",
    "ave_global_transport = pe_cntrl_clim_cube.data[0, -1] + pe_cntrl_clim_cube.data[2, -1] + pe_cntrl_clim_cube.data[4, -1]"
   ]
  },
  {
   "cell_type": "code",
   "execution_count": null,
   "id": "exclusive-liberty",
   "metadata": {
    "execution": {
     "iopub.execute_input": "2022-03-03T04:37:31.539368Z",
     "iopub.status.busy": "2022-03-03T04:37:31.537881Z",
     "iopub.status.idle": "2022-03-03T04:37:31.547037Z",
     "shell.execute_reply": "2022-03-03T04:37:31.545523Z"
    },
    "papermill": {
     "duration": 0.059381,
     "end_time": "2022-03-03T04:37:31.547399",
     "exception": false,
     "start_time": "2022-03-03T04:37:31.488018",
     "status": "completed"
    },
    "tags": []
   },
   "outputs": [],
   "source": [
    "print(ave_global_transport)"
   ]
  },
  {
   "cell_type": "code",
   "execution_count": null,
   "id": "attended-station",
   "metadata": {
    "execution": {
     "iopub.execute_input": "2022-03-03T04:37:31.640124Z",
     "iopub.status.busy": "2022-03-03T04:37:31.639218Z",
     "iopub.status.idle": "2022-03-03T04:37:31.646087Z",
     "shell.execute_reply": "2022-03-03T04:37:31.645061Z"
    },
    "papermill": {
     "duration": 0.058272,
     "end_time": "2022-03-03T04:37:31.646317",
     "exception": false,
     "start_time": "2022-03-03T04:37:31.588045",
     "status": "completed"
    },
    "tags": []
   },
   "outputs": [],
   "source": [
    "pe_cntrl_clim_cube.data[1, -1] + pe_cntrl_clim_cube.data[3, -1]"
   ]
  },
  {
   "cell_type": "code",
   "execution_count": null,
   "id": "senior-grace",
   "metadata": {
    "execution": {
     "iopub.execute_input": "2022-03-03T04:37:31.737936Z",
     "iopub.status.busy": "2022-03-03T04:37:31.736780Z",
     "iopub.status.idle": "2022-03-03T04:37:31.743994Z",
     "shell.execute_reply": "2022-03-03T04:37:31.745078Z"
    },
    "papermill": {
     "duration": 0.058013,
     "end_time": "2022-03-03T04:37:31.745487",
     "exception": false,
     "start_time": "2022-03-03T04:37:31.687474",
     "status": "completed"
    },
    "tags": []
   },
   "outputs": [],
   "source": [
    "sevenpct_anomaly_data = tasga_exp_anomaly * 0.07 * ave_global_transport"
   ]
  },
  {
   "cell_type": "code",
   "execution_count": null,
   "id": "sweet-festival",
   "metadata": {
    "execution": {
     "iopub.execute_input": "2022-03-03T04:37:31.867804Z",
     "iopub.status.busy": "2022-03-03T04:37:31.851991Z",
     "iopub.status.idle": "2022-03-03T04:37:32.188862Z",
     "shell.execute_reply": "2022-03-03T04:37:32.187489Z"
    },
    "papermill": {
     "duration": 0.398211,
     "end_time": "2022-03-03T04:37:32.189207",
     "exception": false,
     "start_time": "2022-03-03T04:37:31.790996",
     "status": "completed"
    },
    "tags": []
   },
   "outputs": [],
   "source": [
    "fig = plt.figure(figsize=(12, 4))\n",
    "plt.plot(years, sevenpct_anomaly_data)\n",
    "plt.title(f'Inferred global moisture transport anomaly (for 7%/C): {model_name}, {experiment_name} experiment')\n",
    "plt.xlabel('Year')\n",
    "plt.ylabel(f'Transport anomaly ({pe_units})')\n",
    "plt.show()"
   ]
  },
  {
   "cell_type": "markdown",
   "id": "incomplete-joseph",
   "metadata": {
    "papermill": {
     "duration": 0.058444,
     "end_time": "2022-03-03T04:37:32.345908",
     "exception": false,
     "start_time": "2022-03-03T04:37:32.287464",
     "status": "completed"
    },
    "tags": []
   },
   "source": [
    "## Experiment versus 7%"
   ]
  },
  {
   "cell_type": "code",
   "execution_count": null,
   "id": "synthetic-cycling",
   "metadata": {
    "execution": {
     "iopub.execute_input": "2022-03-03T04:37:32.467272Z",
     "iopub.status.busy": "2022-03-03T04:37:32.465539Z",
     "iopub.status.idle": "2022-03-03T04:37:32.473663Z",
     "shell.execute_reply": "2022-03-03T04:37:32.471915Z"
    },
    "papermill": {
     "duration": 0.075959,
     "end_time": "2022-03-03T04:37:32.474162",
     "exception": false,
     "start_time": "2022-03-03T04:37:32.398203",
     "status": "completed"
    },
    "tags": []
   },
   "outputs": [],
   "source": [
    "sevenpct_anomaly_cumsum_data = np.cumsum(sevenpct_anomaly_data) - sevenpct_anomaly_data[0]"
   ]
  },
  {
   "cell_type": "code",
   "execution_count": null,
   "id": "otherwise-launch",
   "metadata": {
    "execution": {
     "iopub.execute_input": "2022-03-03T04:37:32.660676Z",
     "iopub.status.busy": "2022-03-03T04:37:32.658637Z",
     "iopub.status.idle": "2022-03-03T04:37:32.685697Z",
     "shell.execute_reply": "2022-03-03T04:37:32.687205Z"
    },
    "papermill": {
     "duration": 0.160211,
     "end_time": "2022-03-03T04:37:32.687855",
     "exception": false,
     "start_time": "2022-03-03T04:37:32.527644",
     "status": "completed"
    },
    "tags": []
   },
   "outputs": [],
   "source": [
    "exp_cumsum_data = pe_exp_cube.data[:, 0, -1] + pe_exp_cube.data[:, 2, -1] + pe_exp_cube.data[:, 4, -1]\n",
    "exp_anomaly_cumsum_data = exp_cumsum_data - exp_cumsum_data[0]"
   ]
  },
  {
   "cell_type": "code",
   "execution_count": null,
   "id": "communist-attention",
   "metadata": {
    "execution": {
     "iopub.execute_input": "2022-03-03T04:37:32.871867Z",
     "iopub.status.busy": "2022-03-03T04:37:32.869697Z",
     "iopub.status.idle": "2022-03-03T04:37:33.230322Z",
     "shell.execute_reply": "2022-03-03T04:37:33.229175Z"
    },
    "papermill": {
     "duration": 0.47427,
     "end_time": "2022-03-03T04:37:33.230593",
     "exception": false,
     "start_time": "2022-03-03T04:37:32.756323",
     "status": "completed"
    },
    "tags": []
   },
   "outputs": [],
   "source": [
    "fig = plt.figure(figsize=(8, 4))\n",
    "plt.plot(years, sevenpct_anomaly_cumsum_data, label='7%')\n",
    "plt.plot(years, exp_anomaly_cumsum_data, label=experiment_name)\n",
    "plt.title(f'Cumulative global moisture transport anomaly, {model_name}')\n",
    "plt.xlabel('Year')\n",
    "plt.ylabel(f'cumulative anomaly ({pe_units})')\n",
    "plt.legend()\n",
    "plt.savefig(f'/g/data/e14/dbi599/figures/water-cycle/pe_7pct_plot_{model_name}_{experiment_name}.png')"
   ]
  },
  {
   "cell_type": "code",
   "execution_count": null,
   "id": "included-matthew",
   "metadata": {
    "execution": {
     "iopub.execute_input": "2022-03-03T04:37:33.349786Z",
     "iopub.status.busy": "2022-03-03T04:37:33.348327Z",
     "iopub.status.idle": "2022-03-03T04:37:33.356519Z",
     "shell.execute_reply": "2022-03-03T04:37:33.357479Z"
    },
    "papermill": {
     "duration": 0.074623,
     "end_time": "2022-03-03T04:37:33.357818",
     "exception": false,
     "start_time": "2022-03-03T04:37:33.283195",
     "status": "completed"
    },
    "tags": []
   },
   "outputs": [],
   "source": [
    "fraction_of_7pct = exp_anomaly_cumsum_data[-1] / sevenpct_anomaly_cumsum_data[-1]\n",
    "fraction_of_7pct"
   ]
  },
  {
   "cell_type": "code",
   "execution_count": null,
   "id": "employed-laundry",
   "metadata": {
    "execution": {
     "iopub.execute_input": "2022-03-03T04:37:33.480672Z",
     "iopub.status.busy": "2022-03-03T04:37:33.479380Z",
     "iopub.status.idle": "2022-03-03T04:37:33.489422Z",
     "shell.execute_reply": "2022-03-03T04:37:33.488278Z"
    },
    "papermill": {
     "duration": 0.072699,
     "end_time": "2022-03-03T04:37:33.489664",
     "exception": false,
     "start_time": "2022-03-03T04:37:33.416965",
     "status": "completed"
    },
    "tags": []
   },
   "outputs": [],
   "source": [
    "fraction_of_7pct * 7"
   ]
  },
  {
   "cell_type": "code",
   "execution_count": null,
   "id": "lesbian-stomach",
   "metadata": {
    "papermill": {
     "duration": 0.051183,
     "end_time": "2022-03-03T04:37:33.590813",
     "exception": false,
     "start_time": "2022-03-03T04:37:33.539630",
     "status": "completed"
    },
    "tags": []
   },
   "outputs": [],
   "source": []
  }
 ],
 "metadata": {
  "celltoolbar": "Tags",
  "kernelspec": {
   "display_name": "Python 3",
   "language": "python",
   "name": "python3"
  },
  "language_info": {
   "codemirror_mode": {
    "name": "ipython",
    "version": 3
   },
   "file_extension": ".py",
   "mimetype": "text/x-python",
   "name": "python",
   "nbconvert_exporter": "python",
   "pygments_lexer": "ipython3",
   "version": "3.9.2"
  },
  "papermill": {
   "default_parameters": {},
   "duration": 16.137266,
   "end_time": "2022-03-03T04:37:34.355358",
   "environment_variables": {},
   "exception": null,
   "input_path": "pe_7pct.ipynb",
   "output_path": "/g/data/e14/dbi599/figures/water-cycle/pe_7pct_ACCESS-ESM1-5_hist-GHG.ipynb",
   "parameters": {
    "experiment_name": "hist-GHG",
    "model_name": "ACCESS-ESM1-5",
    "pe_cntrl_file": "/g/data/e14/dbi599/CMIP6/CMIP/CSIRO/ACCESS-ESM1-5/piControl/r1i1p1f1/Ayr/pe/gn/v20191214/pe-region-sum_Ayr_ACCESS-ESM1-5_piControl_r1i1p1f1_gn_010101-100012.nc",
    "pe_exp_file": "/g/data/e14/dbi599/CMIP6/DAMIP/CSIRO/ACCESS-ESM1-5/hist-GHG/r1i1p1f1/Ayr/pe/gn/v20200615/pe-region-sum-anomaly_Ayr_ACCESS-ESM1-5_hist-GHG_r1i1p1f1_gn_185001-202012-cumsum.nc",
    "tasga_cntrl_file": "/g/data/e14/dbi599/CMIP6/CMIP/CSIRO/ACCESS-ESM1-5/piControl/r1i1p1f1/Ayr/tas/gn/v20191214/tasga_Ayr_ACCESS-ESM1-5_piControl_r1i1p1f1_gn_010101-100012.nc",
    "tasga_exp_file": "/g/data/e14/dbi599/CMIP6/DAMIP/CSIRO/ACCESS-ESM1-5/hist-GHG/r1i1p1f1/Ayr/tas/gn/v20200615/tasga_Ayr_ACCESS-ESM1-5_hist-GHG_r1i1p1f1_gn_185001-202012.nc"
   },
   "start_time": "2022-03-03T04:37:18.218092",
   "version": "2.3.4"
  }
 },
 "nbformat": 4,
 "nbformat_minor": 5
}
